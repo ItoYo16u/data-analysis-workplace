{
 "cells": [
  {
   "cell_type": "markdown",
   "id": "2e60648d",
   "metadata": {},
   "source": [
    "zipper\n"
   ]
  },
  {
   "cell_type": "code",
   "execution_count": 1,
   "id": "20b587bd",
   "metadata": {},
   "outputs": [
    {
     "data": {
      "text/plain": [
       "defined \u001b[32mtype\u001b[39m \u001b[36mListZipper\u001b[39m"
      ]
     },
     "execution_count": 1,
     "metadata": {},
     "output_type": "execute_result"
    }
   ],
   "source": [
    "type ListZipper[T] = (List[T],List[T])"
   ]
  },
  {
   "cell_type": "code",
   "execution_count": 14,
   "id": "5459b2b4",
   "metadata": {},
   "outputs": [
    {
     "data": {
      "text/plain": [
       "defined \u001b[32mfunction\u001b[39m \u001b[36mnext\u001b[39m\n",
       "defined \u001b[32mfunction\u001b[39m \u001b[36mprev\u001b[39m\n",
       "defined \u001b[32mfunction\u001b[39m \u001b[36mupdate\u001b[39m\n",
       "defined \u001b[32mfunction\u001b[39m \u001b[36mlist2Zipper\u001b[39m\n",
       "defined \u001b[32mfunction\u001b[39m \u001b[36mzipper2List\u001b[39m"
      ]
     },
     "execution_count": 14,
     "metadata": {},
     "output_type": "execute_result"
    }
   ],
   "source": [
    "def next[T](current:ListZipper[T]):Option[ListZipper[T]] = {\n",
    "    current match {\n",
    "        case (head :: tail,focus) =>Some((tail,head :: focus))\n",
    "        case (Nil,_) => None\n",
    "    }\n",
    "}\n",
    "\n",
    "def prev[T](current:ListZipper[T]):Option[ListZipper[T]]={\n",
    "    current match {\n",
    "        case (history,head :: tail) => Some((head :: history, tail))\n",
    "        case (_,Nil) => None\n",
    "    }\n",
    "}\n",
    "def update[T](zipper: ListZipper[T])(f: T=>T): Option[ListZipper[T]] = {\n",
    "    zipper match {\n",
    "        case (history,focus :: tail) => Some(history,f(focus) :: tail)\n",
    "        case (history,Nil) => None\n",
    "    }\n",
    "}\n",
    "implicit def list2Zipper[T]:List[T]=> ListZipper[T] = (l)=>(l,Nil)\n",
    "implicit def zipper2List[T] :ListZipper[T] => List[T] = (z)=>  z match {\n",
    "    case (history,focus :: tail) => zipper2List((focus :: history, tail))\n",
    "    case (l,Nil) => l\n",
    "}"
   ]
  },
  {
   "cell_type": "code",
   "execution_count": 18,
   "id": "f43d3b21",
   "metadata": {},
   "outputs": [
    {
     "data": {
      "text/plain": [
       "\u001b[36ml\u001b[39m: \u001b[32mList\u001b[39m[\u001b[32mInt\u001b[39m] = \u001b[33mList\u001b[39m(\u001b[32m1\u001b[39m, \u001b[32m2\u001b[39m, \u001b[32m3\u001b[39m, \u001b[32m4\u001b[39m, \u001b[32m5\u001b[39m, \u001b[32m6\u001b[39m, \u001b[32m7\u001b[39m, \u001b[32m8\u001b[39m, \u001b[32m9\u001b[39m, \u001b[32m10\u001b[39m)\n",
       "\u001b[36mres17_1\u001b[39m: \u001b[32mOption\u001b[39m[\u001b[32mList\u001b[39m[\u001b[32mInt\u001b[39m]] = \u001b[33mSome\u001b[39m(value = \u001b[33mList\u001b[39m(\u001b[32m1\u001b[39m, \u001b[32m20\u001b[39m, \u001b[32m3\u001b[39m, \u001b[32m4\u001b[39m, \u001b[32m5\u001b[39m, \u001b[32m6\u001b[39m, \u001b[32m7\u001b[39m, \u001b[32m8\u001b[39m, \u001b[32m9\u001b[39m, \u001b[32m10\u001b[39m))"
      ]
     },
     "execution_count": 18,
     "metadata": {},
     "output_type": "execute_result"
    }
   ],
   "source": [
    "val l = (1 to 10).toList\n",
    "for {\n",
    "    focus_1 <- next(l)\n",
    "    focus_2 <- next(focus_1)\n",
    "    updated  <- update(focus_2)(_*10)\n",
    "} yield updated :List[Int]"
   ]
  },
  {
   "cell_type": "code",
   "execution_count": 8,
   "id": "9458858e",
   "metadata": {},
   "outputs": [
    {
     "data": {
      "text/plain": [
       "defined \u001b[32mtrait\u001b[39m \u001b[36mLocation\u001b[39m\n",
       "defined \u001b[32mobject\u001b[39m \u001b[36mHome\u001b[39m\n",
       "defined \u001b[32mobject\u001b[39m \u001b[36mOffice\u001b[39m\n",
       "defined \u001b[32mobject\u001b[39m \u001b[36mBar\u001b[39m\n",
       "defined \u001b[32mtrait\u001b[39m \u001b[36mActions\u001b[39m\n",
       "defined \u001b[32mobject\u001b[39m \u001b[36mStay\u001b[39m\n",
       "defined \u001b[32mclass\u001b[39m \u001b[36mMoveTo\u001b[39m\n",
       "defined \u001b[32mclass\u001b[39m \u001b[36mAgent\u001b[39m"
      ]
     },
     "execution_count": 8,
     "metadata": {},
     "output_type": "execute_result"
    }
   ],
   "source": []
  },
  {
   "cell_type": "code",
   "execution_count": null,
   "id": "2afa13a0",
   "metadata": {},
   "outputs": [],
   "source": []
  }
 ],
 "metadata": {
  "kernelspec": {
   "display_name": "Scala (2.13)",
   "language": "scala",
   "name": "scala"
  },
  "language_info": {
   "codemirror_mode": "text/x-scala",
   "file_extension": ".sc",
   "mimetype": "text/x-scala",
   "name": "scala",
   "nbconvert_exporter": "script",
   "version": "2.13.4"
  }
 },
 "nbformat": 4,
 "nbformat_minor": 5
}
