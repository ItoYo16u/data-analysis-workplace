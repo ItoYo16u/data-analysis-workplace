{
 "cells": [
  {
   "cell_type": "code",
   "execution_count": 1,
   "id": "a203671d",
   "metadata": {},
   "outputs": [],
   "source": [
    "class Person:\n",
    "    name: str\n",
    "    age: int\n",
    "\n",
    "    def __init__(self, name: str, age: int) -> None:\n",
    "        self.name = name\n",
    "        self.age = age\n",
    "\n",
    "    def greet(self) -> None:\n",
    "        print(\"hello! This is {}({}).\".format(self.name, self.age))"
   ]
  },
  {
   "cell_type": "code",
   "execution_count": 2,
   "id": "51bb8e61",
   "metadata": {},
   "outputs": [
    {
     "name": "stdout",
     "output_type": "stream",
     "text": [
      "hello! This is taro(11).\n"
     ]
    }
   ],
   "source": [
    "taro = Person(\"taro\", 11)\n",
    "taro.greet()"
   ]
  },
  {
   "cell_type": "code",
   "execution_count": 3,
   "id": "22d5c71b",
   "metadata": {},
   "outputs": [],
   "source": [
    "from typing import Callable\n",
    "f : Callable[int,int] = lambda n: n*2\n",
    "l :list[int] = list(map( f,[1,2,3,4,5]))"
   ]
  },
  {
   "cell_type": "code",
   "execution_count": 4,
   "id": "93efe33f",
   "metadata": {},
   "outputs": [],
   "source": [
    "people: list[Person] = [taro]"
   ]
  },
  {
   "cell_type": "code",
   "execution_count": 5,
   "id": "c8ad62a6",
   "metadata": {},
   "outputs": [
    {
     "name": "stdout",
     "output_type": "stream",
     "text": [
      "hello! This is taro(11).\n"
     ]
    }
   ],
   "source": [
    "g: Callable[Person,None] = lambda psn:psn.greet()\n",
    "for person in people:\n",
    "    g(person)\n",
    "# これは日本語出力のテストです."
   ]
  },
  {
   "cell_type": "markdown",
   "id": "1e5dfd61",
   "metadata": {},
   "source": [
    "以下の例のように GPU が常に高速とは限らない.\n",
    "\n",
    "\n",
    "https://stackoverflow.com/questions/53325418/pytorch-speed-comparison-gpu-slower-than-cpu/53327162"
   ]
  },
  {
   "cell_type": "code",
   "execution_count": 2,
   "id": "07b6c4de",
   "metadata": {},
   "outputs": [
    {
     "name": "stdout",
     "output_type": "stream",
     "text": [
      "CPU time =  1.2159929275512695\n",
      "GPU time =  33.16631722450256\n"
     ]
    }
   ],
   "source": [
    "import torch\n",
    "import time\n",
    "\n",
    "###CPU\n",
    "start_time = time.time()\n",
    "a = torch.ones(4,4)\n",
    "for _ in range(1000000):\n",
    "    a += a\n",
    "elapsed_time = time.time() - start_time\n",
    "\n",
    "print('CPU time = ',elapsed_time)\n",
    "\n",
    "###GPU\n",
    "start_time = time.time()\n",
    "b = torch.ones(4,4).cuda()\n",
    "for _ in range(1000000):\n",
    "    b += b\n",
    "elapsed_time = time.time() - start_time\n",
    "\n",
    "print('GPU time = ',elapsed_time)"
   ]
  },
  {
   "cell_type": "code",
   "execution_count": null,
   "id": "88b10f44",
   "metadata": {},
   "outputs": [],
   "source": []
  }
 ],
 "metadata": {
  "kernelspec": {
   "display_name": "Python 3",
   "language": "python",
   "name": "python3"
  },
  "language_info": {
   "codemirror_mode": {
    "name": "ipython",
    "version": 3
   },
   "file_extension": ".py",
   "mimetype": "text/x-python",
   "name": "python",
   "nbconvert_exporter": "python",
   "pygments_lexer": "ipython3",
   "version": "3.9.2"
  }
 },
 "nbformat": 4,
 "nbformat_minor": 5
}
