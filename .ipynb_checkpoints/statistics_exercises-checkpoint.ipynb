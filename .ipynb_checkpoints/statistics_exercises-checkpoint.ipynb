{
 "cells": [
  {
   "cell_type": "markdown",
   "id": "bfe2e746",
   "metadata": {},
   "source": [
    "# 統計学\n",
    "\n",
    "## 問題\n",
    "### 確率分布\n",
    "1.\n",
    "\n",
    "$X_1,X_2,\\dots,X_n$が平均$\\mu$分散$\\sigma^2$の分布に従い、$X_i$と$X_j$($i\\neq j$)が独立のとき、\n",
    "\n",
    "$\\bar{X} = \\frac{1}{n}\\sum_{i=1}^n X_i$ として、$\\frac{1}{n}\\sum_{i=1}^n (X_i-\\bar{X})^2$と$\\frac{1}{n-1}\\sum_{i=1}^n (X_i-\\bar{X})^2$の期待値をもとめよ.\n",
    "\n",
    "2.\n",
    "\n",
    "$m$人が物理の試験を受け、点数の標本平均が$\\bar{X}$,標本分散が$\\bar{S}^2_X$,$n$人が生物の試験をうけ、点数の標本平均が$\\bar{Y}$,標本分散が$\\bar{S}^2_Y$だった. 物理の点数と生物の点数の分散がともに$\\sigma^2$のとき、平均点に差がない、つまり母平均$\\mu_x=\\mu_y$のとき, $U=(\\frac{\\bar{X}-\\bar{Y}}{\\sqrt{\\frac{\\sigma^2}{m}+\\frac{\\sigma^2}{n}}})$と、$V=\\frac{(m\\bar{S}^2_X+n\\bar{S}^2_Y)}{\\sigma^2}$はどのような分布に従うか. また、$\\frac{U}{\\sqrt{\\frac{V}{(m+n-2)}}}$はどのような分布に従うか.\n",
    "\n",
    "3.\n",
    "\n",
    "誤差が正規分布に従うようなモデル$X=\\beta_0 + \\beta_1 x + u$のシミュレーションデータをサンプル数100,$\\beta_0=1,\\beta_1=0.1$として作成せよ. \n",
    "\n",
    "### エントロピーの計算\n",
    "wip"
   ]
  },
  {
   "cell_type": "markdown",
   "id": "6db498bb",
   "metadata": {},
   "source": [
    "## 解答\n",
    "### 確率分布\n",
    "1.\n",
    "\n",
    "$X_i(i=1,\\dots,n)$は平均$\\mu$,分散$\\sigma^2$の分布に従うので$E(X)=\\mu$,$V(X)=\\sigma^2$\n",
    "\n",
    "また、標本平均$\\bar{X}$の期待値は$E(\\bar{X})=\\mu$,分散は\n",
    "\n",
    "$V(\\frac{1}{n}\\sum_i^n X_i)=\\frac{1}{n^2}V(X_1+\\dots +X_n)$\n",
    "\n",
    "$X_i$と$X_j$($i\\neq j$)が独立だから$V(X_i+X_j)=V(X_i)+V(X_j)$が成り立つので,\n",
    "\n",
    "$\\frac{1}{n^2}V(X_1+\\dots +X_n)=\\frac{n}{n^2}V(X)=\\frac{\\sigma^2}{n}$\n",
    "\n",
    "$\\sum_1^n(X_i-\\bar{X})^2=\\sum_1^n(X_i^2-2\\bar{X}X_i+\\bar{X}^2)$\n",
    "\n",
    "分散の定義より\n",
    "\n",
    "- $X_i^2=(E(X_i))^2+V(X_i)=\\mu^2+\\sigma^2$\n",
    "- $\\bar{X}^2=(E(\\bar{X}))^2+V(\\bar{X})=\\mu^2+\\frac{\\sigma^2}{n}$\n",
    "\n",
    "よって\n",
    "\n",
    "$\\sum_1^n(X_i^2-2\\bar{X}X_i+\\bar{X}^2)=\\sum_1^n(\\mu^2+\\sigma^2-2\\bar{X}X_i+\\bar{X}^2))$\n",
    "\n",
    "$=n(\\mu^2+\\sigma^2)-2n\\bar{X}^2+n\\bar{X}^2=(n-1)\\sigma^2$\n",
    "\n",
    "よって\n",
    "- $\\frac{1}{n}\\sum_i^n(X_i-\\bar{X})^2=\\frac{n-1}{n}\\sigma^2$\n",
    "- $\\frac{1}{n-1}\\sum_i^n(X_i-\\bar{X})^2=\\sigma^2$\n",
    "\n",
    "#### note\n",
    "$\\sum_i^n(X_i-\\bar{X})^2=\\sum_i^n(X_i-\\mu-(\\bar{X}-\\mu))^2$として考えても良い.\n",
    "\n",
    "2.\n",
    "\n",
    "\n",
    "$E(U)=E(\\frac{\\bar{X}-\\bar{Y}}{\\sqrt{\\frac{\\sigma^2}{m}+\\frac{\\sigma^2}{n}}})=\\frac{1}{\\sqrt{\\frac{\\sigma^2}{m}+\\frac{\\sigma^2}{n}}}E(\\bar{X}-\\bar{Y})=\\frac{1}{\\sqrt{\\frac{\\sigma^2}{m}+\\frac{\\sigma^2}{n}}}E(\\mu_X-\\mu_Y)=0$\n",
    "\n",
    "$V(U)=V(\\frac{\\bar{X}-\\bar{Y}}{\\sqrt{\\frac{\\sigma^2}{m}+\\frac{\\sigma^2}{n}}})=\\frac{1}{\\frac{\\sigma^2}{m}+\\frac{\\sigma^2}{n}}V(\\bar{X}-\\bar{Y})=\\frac{\\frac{\\sigma^2}{m}+\\frac{\\sigma^2}{n}}{\\frac{\\sigma^2}{m}+\\frac{\\sigma^2}{n}}=1$\n",
    "\n",
    "より$U\\sim\\mathcal{N}(0,1)$\n",
    "\n",
    "$X_i$と$X_j$($i\\neq j$),$Y_i$と$Y_j$($i\\neq j$)が独立で$X\\sim\\mathcal{N}(\\mu_X,\\sigma^2),Y\\sim\\mathcal{N}(\\mu_Y,\\sigma^2)$なので、\n",
    "\n",
    "標本分散に標本数nをかけて(母)分散で割った値は自由度$n-1$のカイ二乗分布にしたがうので$\\frac{m\\bar{S_X}^2}{\\sigma^2}\\sim\\mathcal{X}^2_{m-1}$,$\\frac{n\\bar{S_Y}^2}{\\sigma^2}\\sim\\mathcal{X}^2_{n-1}$\n",
    "\n",
    "また、カイ二乗分布の再生性より$\\frac{m\\bar{S_X}^2}{\\sigma^2}+\\frac{n\\bar{S_Y}^2}{\\sigma^2}\\sim\\mathcal{X}^2_{m+n-2}$\n",
    "\n",
    "よって$V$は自由度$m+n-2$のカイ二乗分布に従う."
   ]
  },
  {
   "cell_type": "markdown",
   "id": "9558314b",
   "metadata": {},
   "source": [
    "3"
   ]
  },
  {
   "cell_type": "code",
   "execution_count": 47,
   "id": "2beecaf8",
   "metadata": {},
   "outputs": [
    {
     "data": {
      "text/plain": [
       "(array([ 5.,  3., 14., 27., 17., 13., 12.,  4.,  4.,  1.]),\n",
       " array([-2.30911661, -1.79787433, -1.28663205, -0.77538976, -0.26414748,\n",
       "         0.2470948 ,  0.75833708,  1.26957937,  1.78082165,  2.29206393,\n",
       "         2.80330622]),\n",
       " <BarContainer object of 10 artists>)"
      ]
     },
     "execution_count": 47,
     "metadata": {},
     "output_type": "execute_result"
    },
    {
     "data": {
      "image/png": "[encoded data removed]",
      "text/plain": [
       "<Figure size 576x432 with 2 Axes>"
      ]
     },
     "metadata": {
      "needs_background": "light"
     },
     "output_type": "display_data"
    }
   ],
   "source": [
    "import numpy as np\n",
    "import matplotlib.pyplot as plt\n",
    "N:int = 100\n",
    "x_axis = np.linspace(0,10,N)\n",
    "X = np.array([np.linspace(1,1,N),np.linspace(0,10,N)]).T\n",
    "beta = np.array([[1],[0.1]])\n",
    "u = np.array([np.random.normal(size=N)]).T\n",
    "y_with_error = np.dot(X,beta) + u\n",
    "y = np.dot(X,beta)\n",
    "fig, axes = plt.subplots(2,1,figsize=(8,6))\n",
    "axes[0].plot(x_axis, y_with_error, 'o', label=\"y with error\")\n",
    "axes[0].plot(x_axis, y, '-', label=\"y\")\n",
    "axes[1].hist(u,label=\"error\")"
   ]
  }
 ],
 "metadata": {
  "kernelspec": {
   "display_name": "Python 3",
   "language": "python",
   "name": "python3"
  },
  "language_info": {
   "codemirror_mode": {
    "name": "ipython",
    "version": 3
   },
   "file_extension": ".py",
   "mimetype": "text/x-python",
   "name": "python",
   "nbconvert_exporter": "python",
   "pygments_lexer": "ipython3",
   "version": "3.9.2"
  }
 },
 "nbformat": 4,
 "nbformat_minor": 5
}
