class Person:
    name: str
    age: int

    def __init__(self, name: str, age: int) -> None:
        self.name = name
        self.age = age

    def greet(self) -> None:
        print("hello! This is {}({}).".format(self.name, self.age))


taro = Person("taro", 11)
taro.greet()


from typing import Callable
f : Callable[int,int] = lambda n: n*2
l :list[int] = list(map( f,[1,2,3,4,5]))


people: list[Person] = [taro]


g: Callable[Person,None] = lambda psn:psn.greet()
for person in people:
    g(person)
# これは日本語出力のテストです.
