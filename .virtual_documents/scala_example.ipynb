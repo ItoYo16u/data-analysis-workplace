val x = 1
println(x)


case class Person(name:String,age:Int){
    
  def greet():Unit = println(s"Hi! This is $name")
}



val p = Person("taro",11)


p.greet()


p.name


import $ivy.`org.typelevel::cats-core:2.4.2`
import $ivy.`io.circe::circe-parser:0.12.3`


import cats.implicits._
"apple".some |+| " pineapple".some






