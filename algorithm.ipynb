{
 "cells": [
  {
   "cell_type": "markdown",
   "id": "b282ab88",
   "metadata": {},
   "source": [
    "# アルゴリズム\n",
    "\n",
    "アルゴリズムの解法と解説.\n",
    "\n",
    "Scalaの文法は適宜説明する.\n",
    "\n"
   ]
  },
  {
   "cell_type": "markdown",
   "id": "365a926b",
   "metadata": {},
   "source": [
    "整数\n",
    "\n",
    "約数の全列挙\n",
    "\n",
    "$N$の約数を全列挙するには、$N$を$k=1,2,\\dots,\\sqrt{N}$で割り、割れた場合は$k$と$N/k$を約数として記録すればいい.\n",
    "\n",
    "これは36を例にすると以下の作業をやっているのと同じ.\n",
    "\n",
    "1. <pre>1,               ,36</pre>\n",
    "2. <pre>1,2,           18,36</pre>\n",
    "3. <pre>1,2,3,      12,18,36</pre>\n",
    "4. <pre>1,2,3,4,6,9,12,18,36</pre>"
   ]
  },
  {
   "cell_type": "code",
   "execution_count": null,
   "id": "69075065",
   "metadata": {},
   "outputs": [],
   "source": [
    "def c(n:Int,d:Int=1,s:Set[Int]=Set()) :Set[Int] = {\n",
    "    if(d>math.sqrt(n)){\n",
    "        s\n",
    "    }else {\n",
    "        if(n%d==0){\n",
    "            c(n,d+1,s++Set(d,n/d))\n",
    "        }else {\n",
    "            c(n,d+1,s)\n",
    "        }\n",
    "    }\n",
    "}"
   ]
  },
  {
   "cell_type": "markdown",
   "id": "b891688c",
   "metadata": {},
   "source": [
    "RSA\n",
    "\n",
    "$N=pq$,$E$を$p-1,q-1$の最小公倍数$L$との最大公約数が1となる素数、$D$を$DE mod L=1$となる整数とすると$\\text{平文}^E mod N= \\text{暗号文},\\text{暗号文}^D mod N=\\text{平文}$とすれば,十分大きな素数$p,q$を使うことで暗号文から元の素数$p,q$を復元するのは困難なので暗号化と復号化が理論上一方通行になる.\n",
    "\n",
    "例えば、平文を$5$,$D=7,E=3,N=3\\cdot11$とすると$5^3=125=33\\cdot3+26,26^7=8031810176=243388187\\cdot 33+5$である.\n",
    "\n",
    "この場合、暗号文とD,Nがあれば暗号文から平文を得られる. また、Nを素因数分解することができれば平文,N,3から暗号文を生成することができる. \n",
    "\n",
    "今回は$N=33$なので簡単に$3,11$や$E,D$を得られるが、十分大きな素数$p,q$を使えば$N$から素因数$p,q$を得るのは現実的には困難になる."
   ]
  },
  {
   "cell_type": "code",
   "execution_count": null,
   "id": "b327aee7",
   "metadata": {},
   "outputs": [],
   "source": [
    "import scala.jdk.StreamConverters._\n",
    "def encrypt(text:String,e:Int,n:Int)={\n",
    "    text.codePoints.toScala(LazyList).map(i=>(BigInt(i).pow(e)%n).toInt).toList\n",
    "}\n",
    "\n",
    "def decrypt(encrypted:Seq[Int],d:Int,n:Int)={\n",
    "    encrypted.map(i=>{(BigInt(i).pow(d)%n).toInt})\n",
    "    \n",
    "} \n",
    "val p = 307\n",
    "val q = 109\n",
    "val n = p*q\n",
    "val l = (p-1)*(q-1)\n",
    "val e = 13\n",
    "val d= 15253\n",
    "val en1 = encrypt(\"hello, 世界\",e,n)\n",
    "val en2 = encrypt(\"hello,🌍\",e,n)\n",
    "println(decrypt(en1,d,n).map(_.toChar).mkString)\n",
    "println(decrypt(en2,d,n).map(_.toChar).mkString)"
   ]
  },
  {
   "cell_type": "markdown",
   "id": "0459eeae",
   "metadata": {},
   "source": [
    "Scalaの文法について\n",
    "\n",
    "Javaでは文字は16bitで表現する. 16bitに収まりきらない一部の文字はサロゲートペア(32bit)で一文字をあらわすので、`string.length`と実際の文字列の長さが一致しない場合がある. \n",
    "\n",
    "例えば🌍はサロゲートペア`\\uD83C\\uDF0D`であらわされる. `val s = 🌍;s.length //=>2`,`s.codepoints.toScala(LazyList).length//=>1`となる.\n",
    "\n",
    "サロゲートペアを含む文字列はiteratorもずれる(iteratorはchar単位)ので`map`や`foreach`を使う際も注意が必要である.\n",
    "\n",
    "```scala\n",
    "\"hello, 世界\".foreach(println)\n",
    "// h\n",
    "// e\n",
    "// l\n",
    "// l\n",
    "// o\n",
    "// ,\n",
    "// \n",
    "// 世\n",
    "// 界\n",
    "\n",
    "\"🌍\".foreach(println)\n",
    "// ?\n",
    "// ?\n",
    "```\n",
    "\n",
    "なお上の実装例では$n=p*q$までの整数しか扱えないので🌍$=127757_{(10)}=11111001100001101_{(2)}$を含む文字列は復号化に失敗し文字化けする.\n",
    "\n",
    "`text.codePoints`は`java.util.Stream`型なので、そのままではScalaの`map`,`foldLeft`等が使えない. `import scala.jdk.StreamConverters._`することで`toScala`メソッドを使ってScalaのコレクションに変換できる.\n",
    "\n",
    "文字列のコードポイントをべき乗するので`scala.math.pow`を`int`型に対して行うと桁数が足りず計算結果がおかしくなってしまうので、かわりに`BigInt.pow`を使う."
   ]
  },
  {
   "cell_type": "code",
   "execution_count": 67,
   "id": "a51e6f9b",
   "metadata": {},
   "outputs": [
    {
     "data": {
      "text/plain": [
       "defined \u001b[32mfunction\u001b[39m \u001b[36mgcd\u001b[39m\n",
       "\u001b[36mres66_1\u001b[39m: \u001b[32mInt\u001b[39m = \u001b[32m15\u001b[39m"
      ]
     },
     "execution_count": 67,
     "metadata": {},
     "output_type": "execute_result"
    }
   ],
   "source": [
    "def gcd(n:Int,m:Int):Int={\n",
    "    if(m==0) n\n",
    "    else gcd(m,(n%m))\n",
    "}"
   ]
  },
  {
   "cell_type": "markdown",
   "id": "f828382a",
   "metadata": {},
   "source": [
    "ugly number を 素因数に`2,3,5`以外を含む数とする.\n",
    "\n",
    "例:\n",
    "- isUgly(60 = 2 x 2 x 3 x 5) => false\n",
    "- isUgly(14 = 2 x 7) => true\n",
    "- isUgly(1) => false\n",
    "\n"
   ]
  },
  {
   "cell_type": "code",
   "execution_count": 74,
   "id": "a1565fdc",
   "metadata": {},
   "outputs": [
    {
     "data": {
      "text/plain": [
       "defined \u001b[32mfunction\u001b[39m \u001b[36misUgly\u001b[39m\n",
       "\u001b[36mres73_1\u001b[39m: \u001b[32mAnyVal\u001b[39m = true"
      ]
     },
     "execution_count": 74,
     "metadata": {},
     "output_type": "execute_result"
    }
   ],
   "source": [
    "def isUgly(n:Int)={\n",
    "    if(n==0){\n",
    "        n\n",
    "    }else{\n",
    "        val factors = Seq(2,3,5)\n",
    "        var _n = n\n",
    "        factors.foreach{f =>\n",
    "          while (_n%f==0){\n",
    "              _n = _n/f\n",
    "          }\n",
    "        }\n",
    "        _n==1\n",
    "    }\n",
    "}"
   ]
  },
  {
   "cell_type": "markdown",
   "id": "623e2fbe",
   "metadata": {},
   "source": [
    "線形代数\n",
    "\n",
    "行列式"
   ]
  },
  {
   "cell_type": "code",
   "execution_count": 3,
   "id": "8657ace0",
   "metadata": {},
   "outputs": [
    {
     "data": {
      "text/plain": [
       "defined \u001b[32mfunction\u001b[39m \u001b[36mdet3x3\u001b[39m\n",
       "\u001b[36mres2_1\u001b[39m: \u001b[32mDouble\u001b[39m = \u001b[32m62.0\u001b[39m"
      ]
     },
     "execution_count": 3,
     "metadata": {},
     "output_type": "execute_result"
    }
   ],
   "source": [
    "def det3x3(a:Array[Array[Double]]):Double= {\n",
    "    var tmp:Double = 0.0\n",
    "    for(i <- 0 to 2){\n",
    "        tmp = tmp+ a(i%3)(0)*a((i+1)%3)(1)*a((i+2)%3)(2)\n",
    "    }\n",
    "    for(i <- 0 to 2){\n",
    "        tmp = tmp - a((2-i)%3)(0)*a((4-i)%3)(1)*a((3-i)%3)(2)\n",
    "    }\n",
    "    tmp\n",
    "}"
   ]
  },
  {
   "cell_type": "code",
   "execution_count": 15,
   "id": "913a77ae",
   "metadata": {},
   "outputs": [
    {
     "data": {
      "text/plain": [
       "defined \u001b[32mfunction\u001b[39m \u001b[36mupperTriangleMatrix\u001b[39m\n",
       "defined \u001b[32mfunction\u001b[39m \u001b[36mdiagonal\u001b[39m\n",
       "defined \u001b[32mfunction\u001b[39m \u001b[36mdetNxN\u001b[39m\n",
       "\u001b[36mres14_3\u001b[39m: \u001b[32mDouble\u001b[39m = \u001b[32m120.0\u001b[39m"
      ]
     },
     "execution_count": 15,
     "metadata": {},
     "output_type": "execute_result"
    }
   ],
   "source": [
    "// a を 上三角行列に変形する. 破壊的変更\n",
    "// note: a(0)(0)==0 でエラー. pivotが必要\n",
    "// note: 非破壊的変更で出来ないか？\n",
    "def upperTriangleMatrix(a:Array[Array[Double]]):Array[Array[Double]] = {\n",
    "    val n = a.length\n",
    "    \n",
    "    for(i <- 0 to n-1){\n",
    "        for(j <- 0 to n-1){\n",
    "            if(i<j){\n",
    "                val v = a(j)(i)/a(i)(i)\n",
    "                for(k <- 0 to n-1){\n",
    "                    a(j)(k) = a(j)(k)-a(i)(k)*v\n",
    "                }\n",
    "            }\n",
    "        }\n",
    "    }\n",
    "    a  \n",
    "}\n",
    "// 対角成分の積\n",
    "def diagonal(a:Array[Array[Double]]):Double = {\n",
    "    var tmp = 1.0\n",
    "    for(i <- 0 to  a.length-1){\n",
    "        tmp=tmp*a(i)(i)\n",
    "    }\n",
    "    tmp\n",
    "}\n",
    "def detNxN(a:Array[Array[Double]]):Double = {\n",
    "   diagonal( upperTriangleMatrix(a))\n",
    "}\n",
    "detNxN(Array(Array(2,-2,4,2),Array(2,-1,6,3),Array(3,-2,12,12),Array(-1,3,-4,4)))"
   ]
  },
  {
   "cell_type": "markdown",
   "id": "69455b3a",
   "metadata": {},
   "source": [
    "ハンガリー法"
   ]
  },
  {
   "cell_type": "code",
   "execution_count": 1,
   "id": "45d77b94",
   "metadata": {},
   "outputs": [
    {
     "data": {
      "text/plain": [
       "\u001b[36mn\u001b[39m: \u001b[32mInt\u001b[39m = \u001b[32m4\u001b[39m\n",
       "\u001b[36mtestArray\u001b[39m: \u001b[32mArray\u001b[39m[\u001b[32mArray\u001b[39m[\u001b[32mDouble\u001b[39m]] = \u001b[33mArray\u001b[39m(\n",
       "  \u001b[33mArray\u001b[39m(\u001b[32m5.0\u001b[39m, \u001b[32m4.0\u001b[39m, \u001b[32m7.0\u001b[39m, \u001b[32m6.0\u001b[39m),\n",
       "  \u001b[33mArray\u001b[39m(\u001b[32m6.0\u001b[39m, \u001b[32m7.0\u001b[39m, \u001b[32m3.0\u001b[39m, \u001b[32m2.0\u001b[39m),\n",
       "  \u001b[33mArray\u001b[39m(\u001b[32m8.0\u001b[39m, \u001b[32m11.0\u001b[39m, \u001b[32m2.0\u001b[39m, \u001b[32m5.0\u001b[39m),\n",
       "  \u001b[33mArray\u001b[39m(\u001b[32m9.0\u001b[39m, \u001b[32m8.0\u001b[39m, \u001b[32m6.0\u001b[39m, \u001b[32m7.0\u001b[39m)\n",
       ")\n",
       "\u001b[36mrowMins\u001b[39m: \u001b[32mArray\u001b[39m[\u001b[32mDouble\u001b[39m] = \u001b[33mArray\u001b[39m(\u001b[32m4.0\u001b[39m, \u001b[32m2.0\u001b[39m, \u001b[32m2.0\u001b[39m, \u001b[32m6.0\u001b[39m)\n",
       "\u001b[36msubtractRowMins\u001b[39m: \u001b[32mArray\u001b[39m[\u001b[32mArray\u001b[39m[\u001b[32mDouble\u001b[39m]] = \u001b[33mArray\u001b[39m(\n",
       "  \u001b[33mArray\u001b[39m(\u001b[32m1.0\u001b[39m, \u001b[32m0.0\u001b[39m, \u001b[32m3.0\u001b[39m, \u001b[32m2.0\u001b[39m),\n",
       "  \u001b[33mArray\u001b[39m(\u001b[32m4.0\u001b[39m, \u001b[32m5.0\u001b[39m, \u001b[32m1.0\u001b[39m, \u001b[32m0.0\u001b[39m),\n",
       "  \u001b[33mArray\u001b[39m(\u001b[32m6.0\u001b[39m, \u001b[32m9.0\u001b[39m, \u001b[32m0.0\u001b[39m, \u001b[32m3.0\u001b[39m),\n",
       "  \u001b[33mArray\u001b[39m(\u001b[32m3.0\u001b[39m, \u001b[32m2.0\u001b[39m, \u001b[32m0.0\u001b[39m, \u001b[32m1.0\u001b[39m)\n",
       ")\n",
       "\u001b[36mcolMins\u001b[39m: \u001b[32mArray\u001b[39m[\u001b[32mDouble\u001b[39m] = \u001b[33mArray\u001b[39m(\u001b[32m1.0\u001b[39m, \u001b[32m0.0\u001b[39m, \u001b[32m0.0\u001b[39m, \u001b[32m0.0\u001b[39m)\n",
       "\u001b[36ma\u001b[39m: \u001b[32mArray\u001b[39m[\u001b[32mArray\u001b[39m[\u001b[32mDouble\u001b[39m]] = \u001b[33mArray\u001b[39m(\n",
       "  \u001b[33mArray\u001b[39m(\u001b[32m0.0\u001b[39m, \u001b[32m0.0\u001b[39m, \u001b[32m3.0\u001b[39m, \u001b[32m2.0\u001b[39m),\n",
       "  \u001b[33mArray\u001b[39m(\u001b[32m3.0\u001b[39m, \u001b[32m5.0\u001b[39m, \u001b[32m1.0\u001b[39m, \u001b[32m0.0\u001b[39m),\n",
       "  \u001b[33mArray\u001b[39m(\u001b[32m5.0\u001b[39m, \u001b[32m9.0\u001b[39m, \u001b[32m0.0\u001b[39m, \u001b[32m3.0\u001b[39m),\n",
       "  \u001b[33mArray\u001b[39m(\u001b[32m2.0\u001b[39m, \u001b[32m2.0\u001b[39m, \u001b[32m0.0\u001b[39m, \u001b[32m1.0\u001b[39m)\n",
       ")\n",
       "defined \u001b[32mfunction\u001b[39m \u001b[36mwhere\u001b[39m"
      ]
     },
     "execution_count": 1,
     "metadata": {},
     "output_type": "execute_result"
    }
   ],
   "source": [
    "\n",
    "val n = 4\n",
    "val testArray: Array[Array[Double]] = Array(\n",
    "  Array(5, 4, 7, 6),\n",
    "  Array(6, 7, 3, 2),\n",
    "  Array(8, 11, 2, 5),\n",
    "  Array(9, 8, 6, 7)\n",
    ")\n",
    "val rowMins = testArray.map(a => a.min)\n",
    "\n",
    "val subtractRowMins =\n",
    "  testArray.zip(rowMins).map { case (row, rowMin) => row.map(_ - rowMin) }\n",
    "val colMins = subtractRowMins.foldLeft(Array.fill[Double](testArray.length)(Double.MaxValue)){case (mins,row)=>\n",
    "  row.zip(mins).map{case (value,maybeMin)=> if(value < maybeMin) value else maybeMin}\n",
    "}\n",
    "val a = subtractRowMins.transpose.zip(colMins).map{case (col,colMin)=>col.map(_-colMin)}.transpose\n",
    "def where(mat:Seq[Seq[Double]]):Seq[(Int,Int)] = {\n",
    "\n",
    "  mat.zipWithIndex.flatMap{ case (row,rowIdx)=>\n",
    "    row.zipWithIndex.foldLeft(Seq():Seq[(Int,Int)]){case (acc,(v,colIdx))=>\n",
    "      if(v==0.0){\n",
    "        acc.appended((rowIdx,colIdx))\n",
    "      }else{\n",
    "        acc\n",
    "      }\n",
    "    }\n",
    "  }\n",
    "}"
   ]
  },
  {
   "cell_type": "code",
   "execution_count": 3,
   "id": "c7c1b573",
   "metadata": {},
   "outputs": [
    {
     "data": {
      "text/plain": [
       "\u001b[36mzeros\u001b[39m: \u001b[32mSeq\u001b[39m[(\u001b[32mInt\u001b[39m, \u001b[32mInt\u001b[39m)] = \u001b[33mArraySeq\u001b[39m((\u001b[32m0\u001b[39m, \u001b[32m0\u001b[39m), (\u001b[32m0\u001b[39m, \u001b[32m1\u001b[39m), (\u001b[32m1\u001b[39m, \u001b[32m3\u001b[39m), (\u001b[32m2\u001b[39m, \u001b[32m2\u001b[39m), (\u001b[32m3\u001b[39m, \u001b[32m2\u001b[39m))"
      ]
     },
     "execution_count": 3,
     "metadata": {},
     "output_type": "execute_result"
    }
   ],
   "source": [
    "val zeros = where(a.map(_.toSeq).toSeq)"
   ]
  },
  {
   "cell_type": "code",
   "execution_count": 12,
   "id": "7d92575d",
   "metadata": {},
   "outputs": [
    {
     "data": {
      "text/plain": [
       "\u001b[36mpositions\u001b[39m: (\u001b[32mSeq\u001b[39m[\u001b[32mInt\u001b[39m], \u001b[32mSeq\u001b[39m[\u001b[32mInt\u001b[39m]) = (\u001b[33mList\u001b[39m(\u001b[32m0\u001b[39m, \u001b[32m1\u001b[39m, \u001b[32m2\u001b[39m), \u001b[33mList\u001b[39m(\u001b[32m0\u001b[39m, \u001b[32m3\u001b[39m, \u001b[32m2\u001b[39m))\n",
       "\u001b[36mres11_1\u001b[39m: (\u001b[32mSeq\u001b[39m[(\u001b[32mInt\u001b[39m, \u001b[32mSeq\u001b[39m[(\u001b[32mInt\u001b[39m, \u001b[32mInt\u001b[39m)])], \u001b[32mSeq\u001b[39m[(\u001b[32mInt\u001b[39m, \u001b[32mSeq\u001b[39m[(\u001b[32mInt\u001b[39m, \u001b[32mInt\u001b[39m)])]) = (\n",
       "  \u001b[33mList\u001b[39m(\n",
       "    (\u001b[32m0\u001b[39m, \u001b[33mArraySeq\u001b[39m((\u001b[32m0\u001b[39m, \u001b[32m0\u001b[39m), (\u001b[32m0\u001b[39m, \u001b[32m1\u001b[39m))),\n",
       "    (\u001b[32m1\u001b[39m, \u001b[33mArraySeq\u001b[39m((\u001b[32m1\u001b[39m, \u001b[32m3\u001b[39m))),\n",
       "    (\u001b[32m2\u001b[39m, \u001b[33mArraySeq\u001b[39m((\u001b[32m2\u001b[39m, \u001b[32m2\u001b[39m))),\n",
       "    (\u001b[32m3\u001b[39m, \u001b[33mArraySeq\u001b[39m((\u001b[32m3\u001b[39m, \u001b[32m2\u001b[39m)))\n",
       "  ),\n",
       "  \u001b[33mList\u001b[39m(\n",
       "    (\u001b[32m0\u001b[39m, \u001b[33mArraySeq\u001b[39m((\u001b[32m0\u001b[39m, \u001b[32m0\u001b[39m))),\n",
       "    (\u001b[32m1\u001b[39m, \u001b[33mArraySeq\u001b[39m((\u001b[32m0\u001b[39m, \u001b[32m1\u001b[39m))),\n",
       "    (\u001b[32m2\u001b[39m, \u001b[33mArraySeq\u001b[39m((\u001b[32m2\u001b[39m, \u001b[32m2\u001b[39m), (\u001b[32m3\u001b[39m, \u001b[32m2\u001b[39m))),\n",
       "    (\u001b[32m3\u001b[39m, \u001b[33mArraySeq\u001b[39m((\u001b[32m1\u001b[39m, \u001b[32m3\u001b[39m)))\n",
       "  )\n",
       ")"
      ]
     },
     "execution_count": 12,
     "metadata": {},
     "output_type": "execute_result"
    }
   ],
   "source": [
    "// 1. res1から 0 を行として選ぶ\n",
    "// 選んだ0 以外から0を選ぶ\n",
    "val positions = zeros.foldLeft((Seq(),Seq()):(Seq[Int],Seq[Int])){case ((row,col),(x,y))=>\n",
    "  if(!row.contains(x) && !col.contains(y)){\n",
    "      (row.appended(x),col.appended(y))\n",
    "  }else{\n",
    "      (row,col)\n",
    "  }\n",
    "}\n",
    "// 最小positions._1.length || positions._2.length で 0 をすべて消せる\n",
    "(zeros.groupBy(_._1).toSeq,zeros.groupBy(_._2).toSeq) "
   ]
  },
  {
   "cell_type": "code",
   "execution_count": 10,
   "id": "6b71f9da",
   "metadata": {},
   "outputs": [
    {
     "ename": "",
     "evalue": "",
     "output_type": "error",
     "traceback": [
      "\u001b[31mscala.NotImplementedError: an implementation is missing\u001b[39m\n  scala.Predef$.$qmark$qmark$qmark(\u001b[32mPredef.scala\u001b[39m:\u001b[32m345\u001b[39m)\n  ammonite.$sess.cmd9$Helper.<init>(\u001b[32mcmd9.sc\u001b[39m:\u001b[32m3\u001b[39m)\n  ammonite.$sess.cmd9$.<clinit>(\u001b[32mcmd9.sc\u001b[39m:\u001b[32m7\u001b[39m)"
     ]
    }
   ],
   "source": [
    "// もっともゼロがおおい行または列から順に選んで消していく\n"
   ]
  },
  {
   "cell_type": "code",
   "execution_count": null,
   "id": "035b3675",
   "metadata": {},
   "outputs": [],
   "source": []
  },
  {
   "cell_type": "markdown",
   "id": "3bf9fb90",
   "metadata": {},
   "source": [
    "## ソート"
   ]
  },
  {
   "cell_type": "markdown",
   "id": "f0e00342",
   "metadata": {},
   "source": [
    "選択ソート\n",
    "1. i=0 とする\n",
    "2. i 番目から配列の最後尾まで全ての要素を確認し、最小の要素と i 番目の要素を入れ替える\n",
    "3. i を 1 増やして、i が配列の長さ以上だったら終了。そうでなければ 2. に戻る"
   ]
  },
  {
   "cell_type": "code",
   "execution_count": 14,
   "id": "9948e76d",
   "metadata": {},
   "outputs": [
    {
     "data": {
      "text/plain": [
       "defined \u001b[32mfunction\u001b[39m \u001b[36mmin\u001b[39m\n",
       "defined \u001b[32mfunction\u001b[39m \u001b[36mselectSort\u001b[39m\n",
       "\u001b[36mres13_2\u001b[39m: \u001b[32mArray\u001b[39m[\u001b[32mInt\u001b[39m] = \u001b[33mArray\u001b[39m(\u001b[32m2\u001b[39m, \u001b[32m3\u001b[39m, \u001b[32m4\u001b[39m, \u001b[32m5\u001b[39m, \u001b[32m6\u001b[39m)"
      ]
     },
     "execution_count": 14,
     "metadata": {},
     "output_type": "execute_result"
    }
   ],
   "source": [
    "// search minimum value from focus to the last element of array \n",
    "def min(arr:Array[Int],focus:Int=0,maybeMin:(Int,Int)=(-1,Int.MaxValue)): (Int,Int) = {\n",
    "    if(focus==arr.length){\n",
    "        maybeMin\n",
    "    }else {\n",
    "      if(arr(focus)< maybeMin._2) min(arr,focus+1,(focus,arr(focus)))\n",
    "      else min(arr,focus+1,maybeMin)\n",
    "    }\n",
    "}\n",
    "// select sort: repetitively exec  `min` while incrementing focus\n",
    "\n",
    "def selectSort(arr:Array[Int],focus:Int=0):Array[Int] = {\n",
    "    if(focus == arr.length){\n",
    "        arr\n",
    "    }else {\n",
    "       val (f,m) = min(arr,focus)\n",
    "        arr(f) =  arr(focus)\n",
    "        arr(focus) = m\n",
    "        selectSort(arr,focus+1)\n",
    "    }\n",
    "}\n",
    "\n",
    "selectSort(Array(5,4,3,2,6))"
   ]
  },
  {
   "cell_type": "markdown",
   "id": "faf304eb",
   "metadata": {},
   "source": [
    "#### バブルソート\n",
    "\n",
    "\n",
    "アイディアは次のようなものである.\n",
    "\n",
    "1. i番目の要素とi+1番目の要素を比較し、大きい方を右に動かす処理をリスト全体に対して行う. リスト全体を通過した時点で一番右の要素はリストの中で最大の要素になる.\n",
    "1. リストをソート済みの領域(一回目が終わった時点で一番右のひとつ)とソート前の領域に分けてソート前の領域に対して同様の処理を繰り返す.\n",
    "\n",
    "計算量は$O(N^2)$\n",
    "\n",
    "以下に`for`ループを使った実装`bubbleSort`と再帰を使った実装`bubbleSortRecursively`を書く.\n",
    "`bubbleSort`では内側のループの範囲を`arr.length-2`から`i`をひいて狭めることで、`bubbleSortRecursively`では配列のソート前の領域を再帰的に渡すことで実装している."
   ]
  },
  {
   "cell_type": "code",
   "execution_count": null,
   "id": "a6534912",
   "metadata": {},
   "outputs": [],
   "source": [
    "def bubbleSort[T](arr:Array[T])(implicit comparator:Ordering[T]):Seq[T]={\n",
    "    for(i <- 0 to arr.length-1){\n",
    "        for(j <- 0 to arr.length-2 -i){\n",
    "            if(comparator.compare(arr(j),arr(j+1))>0){\n",
    "                val tmp=arr(j)\n",
    "                arr(j)=arr(j+1)\n",
    "                arr(j+1)=tmp\n",
    "\n",
    "            }\n",
    "        }\n",
    "    }\n",
    "    return arr\n",
    "}"
   ]
  },
  {
   "cell_type": "markdown",
   "id": "74b255b9",
   "metadata": {},
   "source": [
    "Scalaの文法解説\n",
    "\n",
    "型パラメタ、暗黙の引数\n",
    "\n",
    "1行目の`bubbleSort[T]`の`[T]`は型パラメタと呼ばれる概念である.JavaやKotlinではジェネリクスとも呼ばれる機能で`T`に応じて`arr: Array[T]`の型が決まる. \n",
    "\n",
    "※なお、帰り値の型が`Seq[T]`になっているのは事情があるが、それは次のセクションで説明する. \n",
    "\n",
    "例えば、`bubbleSort(Array(5,4,2,4,1))`を呼び出した場合、型推論から`T=Int`になり、`arr`は`arr[Int]`として扱われる.\n",
    "\n",
    "型パラメタを使うことで`Int`,`Float`,`Double`など、さまざまな型についてそれぞれの実装を抽象化できる.\n",
    "\n",
    "`implicit comparator: Ordering[T]`は`implicit`が暗黙の引数, `Ordring`が型クラス`TypeClass`と呼ばれる機能である.  型クラス`Ordering[T]`を与えることで4行目の比較処理を様々な型について対応させることができる.\n",
    "\n",
    "Scalaのプリミティブ型については比較用の型クラスが既に定義されているのでいちいち`comparator`を渡さなくても必要な型クラスを`implicit`スコープから探してくれる.\n",
    "\n",
    "例えば、自作クラス`Student(no:Int,name:String)`があったとしよう. このとき`Student`の配列`Array[Student]`をソートすることを考える.\n",
    "\n",
    "よくあるオブジェクト指向のコードでは(`class Student extends Comparable`といった風に)`Student`で比較処理の機能を担うクラスを継承し比較演算子を`override`する方法が用いられる.\n",
    "\n",
    "これは比較すべきエンティティに比較機能を持たせる方針である.\n",
    "\n",
    "型クラスを利用する場合、比較すべきエンティティではなく比較処理に比較ルール(`Ordering[Student]`)を渡す方針をとる.\n",
    "\n",
    "```scala\n",
    "val studentOrdering = new Ordering[Student]{\n",
    "    override def compara(one:Student,another:Student):Int = {\n",
    "      // ここに比較処理を書く\n",
    "    }\n",
    "}\n",
    "\n",
    "bubbleSort(Array(Student(5,\"foo\"),Student(1,\"bar\"),Student(3,\"buzz\")))(studentOrdering)\n",
    "```\n",
    "\n",
    "注目すべきは、このとき`bubbleSort`も`Student`も一切コードに変更が加えられていないということである. このように型クラスを使う場合,責務をうまく分離してコードを書くことができる.\n",
    "\n",
    "さて、`bubbleSort`の第二引数`ordering`は`T`が決まれば決まるのだから`Array[Student]`をソートするたびに`studentOrdering`を渡すのは冗長である. ここで活躍するのが先に述べた`implicit`である.\n",
    "\n",
    "一行目を以下のように書き換えることで`implicit`の探索スコープに`studentOrdering`が入るのでいちいち`studentOrdering`を渡してやる必要がなくなる.\n",
    "\n",
    "```scala\n",
    "implicit val studentOrdering = new Ordering[Student]{\n",
    "// ... 中略\n",
    "bubbleSort(Array(Student(5,\"foo\"),Student(1,\"bar\"),Student(3,\"buzz\")))\n",
    "```\n",
    "\n",
    "続いて、再帰を使った実装をする.\n",
    "\n",
    "再帰を使ってコードを書くと`n=k`と`n=k+1`(`n=k`と`n=k-1`と考えても良い)の関係および終端条件を考えるだけで処理を記述できる.\n",
    "\n",
    "バブルソートを、$A(n) : \\text{整列前の長さnの配列}\\rightarrow A^*(n) : \\text{整列後の長さnの配列}$という関数$f$とみなすと、\n",
    "$A$の最大値を$M$として$f(A(n))=f(A(n-1))+M,f(A(1))=A(1)$と書ける.(ただし`+`は配列の末尾への要素の追加をあらわす)\n",
    "\n",
    "またすべての繰り返し処理は再帰で表現可能なので以下の実装では繰り返し処理に`for`文をつかわないで実装する. "
   ]
  },
  {
   "cell_type": "code",
   "execution_count": 1,
   "id": "82712ba6",
   "metadata": {},
   "outputs": [
    {
     "ename": "",
     "evalue": "",
     "output_type": "error",
     "traceback": [
      "\u001b[31mjava.lang.ArrayIndexOutOfBoundsException: Index 15 out of bounds for length 15\u001b[39m\n  scala.runtime.ScalaRunTime$.array_apply(\u001b[32mScalaRunTime.scala\u001b[39m:\u001b[32m59\u001b[39m)\n  ammonite.$sess.cmd0$Helper.$anonfun$bubbleSortRecursively$1(\u001b[32mcmd0.sc\u001b[39m:\u001b[32m7\u001b[39m)\n  scala.runtime.java8.JFunction1$mcVI$sp.apply(\u001b[32mJFunction1$mcVI$sp.scala\u001b[39m:\u001b[32m18\u001b[39m)\n  ammonite.$sess.cmd0$Helper.incrementally(\u001b[32mcmd0.sc\u001b[39m:\u001b[32m20\u001b[39m)\n  ammonite.$sess.cmd0$Helper.bubbleSortRecursively(\u001b[32mcmd0.sc\u001b[39m:\u001b[32m6\u001b[39m)\n  ammonite.$sess.cmd0$Helper.<init>(\u001b[32mcmd0.sc\u001b[39m:\u001b[32m27\u001b[39m)\n  ammonite.$sess.cmd0$.<clinit>(\u001b[32mcmd0.sc\u001b[39m:\u001b[32m7\u001b[39m)"
     ]
    }
   ],
   "source": [
    "import scala.reflect.ClassTag\n",
    "def bubbleSortRecursively[T: ClassTag : Ordering](arr:Array[T]):Array[T]= {\n",
    "     if(arr.length==1){\n",
    "         arr\n",
    "     }else{\n",
    "         incrementally(0,arr.length-1){i=>\n",
    "           if(implicitly[Ordering[T]].compare(arr(i),arr(i+1))>0){\n",
    "                 val tmp = arr(i)\n",
    "                 arr(i) = arr(i+1)\n",
    "                 arr(i+1)=tmp\n",
    "             }\n",
    "         }\n",
    "         bubbleSortRecursively(arr.slice(0,arr.length-1)) :+ arr.last\n",
    "     }\n",
    "}\n",
    "\n",
    "def incrementally[T](from:Int,until:Int)(f:Int=>T):Unit={\n",
    "    require(from<=until)\n",
    "    if(from==until){\n",
    "        return\n",
    "    }else{\n",
    "        f(from)\n",
    "        incrementally(from+1,until)(f)\n",
    "    }\n",
    "}\n",
    "bubbleSortRecursively(Array(6,5,1,2,7,3,1,7,9,1,6,3,5,1,61))"
   ]
  },
  {
   "cell_type": "markdown",
   "id": "00139365",
   "metadata": {},
   "source": [
    "\n",
    "#### マージソート\n",
    "\n",
    "> マージソートは、ソートのアルゴリズムで、既に整列してある複数個の列を1個の列にマージする際に、小さいものから先に新しい列に並べれば、新しい列も整列されている、というボトムアップの分割統治法による。 \n",
    "> [wikipedia: マージソート](https://www.google.com/search?q=%E3%83%9E%E3%83%BC%E3%82%B8%E3%82%BD%E3%83%BC%E3%83%88&oq=%E3%83%9E%E3%83%BC%E3%82%B8%E3%82%BD%E3%83%BC%E3%83%88&aqs=chrome..69i57j0l6j69i61.3319j0j7&sourceid=chrome&ie=UTF-8)\n",
    "\n",
    "\n",
    "\n",
    "実装は配列を分割フェーズと併合フェーズに分かれる. 分割フェーズでリストを長さ2になるまで分割し順序を整理したあとそれぞれのリストを結合する.\n",
    "\n",
    "結合する際は二つの配列の先頭同士を比較し、小さいほうから順に新しい配列につめる. 例えば分割された配列が`Array(1,3,9),Array(2,4,8)`なら`1`,`2`,`3`,`4`...の順で新しい配列に格納する."
   ]
  },
  {
   "cell_type": "code",
   "execution_count": 60,
   "id": "f9f1a116",
   "metadata": {},
   "outputs": [
    {
     "data": {
      "text/plain": [
       "\u001b[32mimport \u001b[39m\u001b[36mscala.collection.mutable.ArrayBuffer\n",
       "\u001b[39m\n",
       "defined \u001b[32mfunction\u001b[39m \u001b[36mmergeSort\u001b[39m\n",
       "defined \u001b[32mfunction\u001b[39m \u001b[36msplit\u001b[39m\n",
       "defined \u001b[32mfunction\u001b[39m \u001b[36mmerge\u001b[39m"
      ]
     },
     "execution_count": 60,
     "metadata": {},
     "output_type": "execute_result"
    }
   ],
   "source": [
    "import scala.collection.mutable.ArrayBuffer\n",
    "def mergeSort[T](seq:Seq[T])(implicit comparator:Ordering[T]):Seq[T]={\n",
    "    if(seq.length==2){\n",
    "        if(comparator.compare(seq(0),seq(1))>0){\n",
    "            seq.reverse\n",
    "        }else{\n",
    "            seq\n",
    "        }\n",
    "    }else if(seq.length==1){\n",
    "        seq\n",
    "    }else{\n",
    "        val (left,right) = split(seq)\n",
    "       val sorted1= mergeSort(left)\n",
    "        val sorted2=mergeSort(right)\n",
    "        merge(sorted1,sorted2).toSeq\n",
    "    }\n",
    "    \n",
    "}\n",
    "\n",
    "def split[T](seq:Seq[T]):(Seq[T],Seq[T])={\n",
    "    (seq.take(seq.length/2),seq.drop(seq.length/2))\n",
    "}\n",
    "\n",
    "def merge[T](seq1:Seq[T],seq2:Seq[T],tmp:ArrayBuffer[T]=ArrayBuffer[T]())(implicit comparator: Ordering[T]):ArrayBuffer[T]={\n",
    "    if(seq1.isEmpty && seq2.isEmpty){\n",
    "        return tmp\n",
    "\n",
    "    }else if(seq1.isEmpty & !seq2.isEmpty){\n",
    "        tmp.append(seq2(0))\n",
    "        merge(seq1,seq2.tail,tmp)\n",
    "    }else if(seq2.isEmpty & !seq1.isEmpty){\n",
    "        tmp.append(seq1(0))\n",
    "        merge(seq1.tail,seq2,tmp)\n",
    "    }else{\n",
    "    if(comparator.compare(seq1(0),seq2(0))>0){\n",
    "          tmp.append(seq2(0))\n",
    "          merge(seq1,seq2.tail,tmp)\n",
    "      }else{\n",
    "          tmp.append(seq1(0))\n",
    "          merge(seq1.tail,seq2,tmp)\n",
    "      } \n",
    "    }\n",
    "}"
   ]
  },
  {
   "cell_type": "markdown",
   "id": "370eec77",
   "metadata": {},
   "source": [
    "### ヒープソート\n",
    "wip\n",
    "### クイックソート\n",
    "wip"
   ]
  },
  {
   "cell_type": "markdown",
   "id": "be226021",
   "metadata": {},
   "source": [
    "greedy\n",
    "\n",
    "おつりの枚数の最小化\n",
    "\n",
    "複数の支払う金額が与えられる。それぞれに対して1000円を支払った時、お釣りに含まれる硬貨の枚数の最小値を求めよ。\n",
    "お釣りに使える硬貨は、500, 100, 50, 10, 5, 1円がそれぞれ十分な数ある。"
   ]
  },
  {
   "cell_type": "code",
   "execution_count": 22,
   "id": "43ce53ae",
   "metadata": {},
   "outputs": [
    {
     "data": {
      "text/plain": [
       "defined \u001b[32mfunction\u001b[39m \u001b[36mcalcChange\u001b[39m\n",
       "\u001b[36mres21_1\u001b[39m: \u001b[32mInt\u001b[39m = \u001b[32m5\u001b[39m"
      ]
     },
     "execution_count": 22,
     "metadata": {},
     "output_type": "execute_result"
    }
   ],
   "source": [
    "// おつりpが与えられたとき, p を越えない最大の硬貨cで支払う,  p-c に対して同様の処理を繰り返す\n",
    "// 持っている効果の種類を降順にしたリストを用意する\n",
    "def calcChange(p:Int,changes:Int=0,coins:List[Int]=List(500, 100, 50, 10, 5, 1)):Int = {\n",
    "   coins match {\n",
    "       case head :: tail if head > p  => calcChange(p,changes,tail)\n",
    "       case cs @ head :: tail if head < p  => calcChange(p-head,changes+1,cs)\n",
    "       case head :: tail if head == p => changes+1\n",
    "   }\n",
    "}\n"
   ]
  },
  {
   "cell_type": "markdown",
   "id": "0672ec25",
   "metadata": {},
   "source": [
    "## 動的計画法\n",
    "\n",
    "1. currencies=`{1, 2, 4, 8, 16, 32}`,が与えられ、`currencies[i]`を$a_i\\in \\mathbb{N}(0 \\in \\mathbb{N})$枚つかって$N$円を支払うときに支払う通貨の枚数の総和$S(N)=\\{ \\sum_{j=0}^{n-1}a_j \\}$を最小にするような$S(N)=S^*(N)$を求めよ.\n",
    "\n",
    "参考: N=63のとき$S^*(N)=6$"
   ]
  },
  {
   "cell_type": "code",
   "execution_count": 1,
   "id": "8cfd546d",
   "metadata": {
    "collapsed": true,
    "jupyter": {
     "outputs_hidden": true
    },
    "tags": []
   },
   "outputs": [
    {
     "data": {
      "text/plain": [
       "\u001b[32mimport \u001b[39m\u001b[36mscala.collection.mutable.ArraySeq\n",
       "\u001b[39m\n",
       "\u001b[36mN\u001b[39m: \u001b[32mInt\u001b[39m = \u001b[32m63\u001b[39m\n",
       "\u001b[36mcurrencies\u001b[39m: \u001b[32mSeq\u001b[39m[\u001b[32mInt\u001b[39m] = \u001b[33mList\u001b[39m(\u001b[32m1\u001b[39m, \u001b[32m2\u001b[39m, \u001b[32m4\u001b[39m, \u001b[32m8\u001b[39m, \u001b[32m16\u001b[39m, \u001b[32m32\u001b[39m)\n",
       "\u001b[36mSHistory\u001b[39m: \u001b[32mArraySeq\u001b[39m[\u001b[32mInt\u001b[39m] = \u001b[33mArraySeq\u001b[39m(\n",
       "  \u001b[32m0\u001b[39m,\n",
       "  \u001b[32m1\u001b[39m,\n",
       "  \u001b[32m1\u001b[39m,\n",
       "  \u001b[32m2147483647\u001b[39m,\n",
       "  \u001b[32m1\u001b[39m,\n",
       "  \u001b[32m2147483647\u001b[39m,\n",
       "  \u001b[32m2147483647\u001b[39m,\n",
       "  \u001b[32m2147483647\u001b[39m,\n",
       "  \u001b[32m1\u001b[39m,\n",
       "  \u001b[32m2147483647\u001b[39m,\n",
       "  \u001b[32m2147483647\u001b[39m,\n",
       "  \u001b[32m2147483647\u001b[39m,\n",
       "  \u001b[32m2147483647\u001b[39m,\n",
       "  \u001b[32m2147483647\u001b[39m,\n",
       "  \u001b[32m2147483647\u001b[39m,\n",
       "  \u001b[32m2147483647\u001b[39m,\n",
       "  \u001b[32m1\u001b[39m,\n",
       "  \u001b[32m2147483647\u001b[39m,\n",
       "  \u001b[32m2147483647\u001b[39m,\n",
       "  \u001b[32m2147483647\u001b[39m,\n",
       "  \u001b[32m2147483647\u001b[39m,\n",
       "  \u001b[32m2147483647\u001b[39m,\n",
       "  \u001b[32m2147483647\u001b[39m,\n",
       "  \u001b[32m2147483647\u001b[39m,\n",
       "  \u001b[32m2147483647\u001b[39m,\n",
       "  \u001b[32m2147483647\u001b[39m,\n",
       "  \u001b[32m2147483647\u001b[39m,\n",
       "  \u001b[32m2147483647\u001b[39m,\n",
       "  \u001b[32m2147483647\u001b[39m,\n",
       "  \u001b[32m2147483647\u001b[39m,\n",
       "  \u001b[32m2147483647\u001b[39m,\n",
       "  \u001b[32m2147483647\u001b[39m,\n",
       "  \u001b[32m1\u001b[39m,\n",
       "  \u001b[32m2147483647\u001b[39m,\n",
       "  \u001b[32m2147483647\u001b[39m,\n",
       "  \u001b[32m2147483647\u001b[39m,\n",
       "  \u001b[32m2147483647\u001b[39m,\n",
       "  \u001b[32m2147483647\u001b[39m,\n",
       "..."
      ]
     },
     "execution_count": 1,
     "metadata": {},
     "output_type": "execute_result"
    }
   ],
   "source": [
    "import scala.collection.mutable.ArraySeq\n",
    "val N:Int =63\n",
    "val currencies:Seq[Int] =Seq(1,2,4,8,16,32)\n",
    "/*S(i)*/\n",
    "val SHistory: ArraySeq[Int]= ArraySeq.fill(N+1)(Int.MaxValue)\n",
    "SHistory(0)=0\n",
    "currencies.foreach{c => SHistory(c)=1}"
   ]
  },
  {
   "cell_type": "markdown",
   "id": "4e8e2bd6",
   "metadata": {},
   "source": [
    "$N$円払うときの通貨の枚数の総和$S(N)$は$currency_k\\in currencies$として,$min(S(N-currency_k)+1,S(N))$と書ける.\n",
    "\n",
    "たとえば、$N=15$なら、\n",
    "- $S(15)=S(11)+1,S(11)=S(10)+1,S(10)=S(8)+1,S(8)=1$\n",
    "- $S(15)=S(13)+1,S(13)=S(11)+1,S(11)=S(10)+1,\\dots$\n",
    "- $S(15)=S(14)+1,S(14)=S(12)+2,S(12)=S(10)+1,\\dots$\n",
    "\n",
    "とさまざまな$S(15)$があり得るが、$S(N)$の初期値を十分大きな値に設定し$min(S(N-currency_k)+1,S(N))$で比較することで$S^*(N)$が得られる.(S(N)の値は過去に$S(N)$を訪れたことがあればその時の値が、最適な方法が見つからない場合は十分大きな値のままになる.)\n",
    "\n",
    "この問題のように$S(11)\\rightarrow S(15),S(13)\\rightarrow S(15),S(14)\\rightarrow S(15),\\dots$など、$S(N)$にいたる経路が複数ある場合、つまり異なる経路$\\alpha,\\beta,\\gamma,\\dots$をたどって目的地にたどり着いたときの結果(総コスト)同士を比較したいときにこの書き方ができる. (この書き方は$S(N)$へ至る経路を考えるので**貰うDP**と呼ばれることもある. 各$N$について$S(N)$から遷移可能な経路(この例の場合`S(n+currency)`)を更新する**配るDP**と呼ばれる書き方もできる.)"
   ]
  },
  {
   "cell_type": "code",
   "execution_count": 2,
   "id": "a87f5e53",
   "metadata": {},
   "outputs": [
    {
     "data": {
      "text/plain": [
       "\u001b[32mimport \u001b[39m\u001b[36mscala.{math => _Math}\n",
       "\u001b[39m\n",
       "defined \u001b[32mfunction\u001b[39m \u001b[36mS\u001b[39m\n",
       "\u001b[36mres1_2\u001b[39m: \u001b[32mInt\u001b[39m = \u001b[32m6\u001b[39m"
      ]
     },
     "execution_count": 2,
     "metadata": {},
     "output_type": "execute_result"
    }
   ],
   "source": [
    "import scala.{math => _Math}\n",
    "def S(N:Int):Int = {  \n",
    "      for(n <- 1 to N){\n",
    "           currencies.foreach{ currency =>\n",
    "             if(n >= currency){\n",
    "                  SHistory(n) = _Math.min( SHistory(n-currency)+1,SHistory(n))\n",
    "             }\n",
    "           }\n",
    "      }\n",
    "  SHistory(N)\n",
    "}\n",
    "\n",
    "S(63)"
   ]
  },
  {
   "cell_type": "markdown",
   "id": "53e40894",
   "metadata": {},
   "source": [
    "類題\n",
    "\n",
    "$h \\in \\mathbb{N}$をパラメタにもつN個のノードがある.ノード$i$は`nodes:List[Int]`の$i$番目の要素をパラメタ$h_i$として与えらえる. ノード$n_i$からノード$n_{i+1}$への移動コストは$|h_i- h_{i+1}|$、ノード$n_i$からノード$n_{i+2}$への移動コストは$|h_i - h_{i+2}|$である.\n",
    "\n",
    "ノード1からスタートするとき、ノード1からノードNへ移動する最小コストを求めよ.\n",
    "\n",
    "配るDPで実装する."
   ]
  },
  {
   "cell_type": "code",
   "execution_count": 34,
   "id": "d0d37edb",
   "metadata": {},
   "outputs": [
    {
     "data": {
      "text/plain": [
       "\u001b[32mimport \u001b[39m\u001b[36mscala.collection.mutable.ArrayBuffer\n",
       "\u001b[39m\n",
       "defined \u001b[32mfunction\u001b[39m \u001b[36mshortestPathDP\u001b[39m"
      ]
     },
     "execution_count": 34,
     "metadata": {},
     "output_type": "execute_result"
    }
   ],
   "source": [
    "import scala.collection.mutable.ArrayBuffer\n",
    "def shortestPathDP(nodes:Seq[Int]) = {\n",
    "    var history = ArrayBuffer.fill(nodes.length+2)(Int.MaxValue)\n",
    "    history(0)=0\n",
    "    history.toArray\n",
    "    \n",
    "    for(i <- 0 to nodes.length -1){\n",
    "        if(i==nodes.length-2){\n",
    "            history(i+1)= math.min(history(i+1),history(i)+(nodes(i)-nodes(i+1)).abs)\n",
    "\n",
    "        }else if(i<nodes.length -2){\n",
    "             history(i+1)= math.min(history(i+1),history(i)+(nodes(i)-nodes(i+1)).abs)\n",
    "            history(i+2)= math.min(history(i+2),history(i)+(nodes(i)-nodes(i+2)).abs)\n",
    "        }     \n",
    "    }\n",
    "    history(nodes.length-1)\n",
    "}"
   ]
  },
  {
   "cell_type": "code",
   "execution_count": 35,
   "id": "24c2d2ea",
   "metadata": {},
   "outputs": [
    {
     "data": {
      "text/plain": [
       "\u001b[36mres34\u001b[39m: \u001b[32mInt\u001b[39m = \u001b[32m8\u001b[39m"
      ]
     },
     "execution_count": 35,
     "metadata": {},
     "output_type": "execute_result"
    }
   ],
   "source": [
    "shortestPathDP(Seq(2,9,4,5,1,6,10))"
   ]
  },
  {
   "cell_type": "markdown",
   "id": "980f50e9",
   "metadata": {},
   "source": [
    "類題\n",
    "\n",
    "$n=k+1$で$n=k$のときの情報が必要な場合.\n",
    "\n",
    "$i$日目の予定をA: 効用$a_i$,B: 効用$b_i$,C: 効用$c_i$から選ぶとき$N$日間の効用の総和$S$を最大にするような予定を求める.\n",
    "\n",
    "ただし、$k$日目に予定$\\alpha$を選んだとき$k+1$日目には同じ予定を選べない.\n",
    "\n",
    "方針\n",
    "\n",
    "$N$日間までの効用の総和が$S_N'$かつ$N$日目に予定$\\alpha$を選んだことを二次元配列を使って表現する.\n",
    "\n",
    "つまり`history[N][0]`,`history[N][1]`,`history[N][2]`にそれぞれ$N$日目に予定$0=A,1=B,2=C$を選んだときの最大効用$S'$を記録する."
   ]
  },
  {
   "cell_type": "code",
   "execution_count": 15,
   "id": "c081d5b1",
   "metadata": {},
   "outputs": [
    {
     "data": {
      "text/plain": [
       "defined \u001b[32mfunction\u001b[39m \u001b[36msolution\u001b[39m"
      ]
     },
     "execution_count": 15,
     "metadata": {},
     "output_type": "execute_result"
    }
   ],
   "source": [
    "def solution(utilities:Seq[Array[Int]])={\n",
    "    // history: i日目までの和. ((0,0,0),(a_i,b_i,c_i),...)\n",
    "    var history :Array[Array[Int]]= Array.fill(100010)(Array.fill(3)(Int.MinValue))\n",
    "        // e.g. utilities = Seq((1,5,2),(3,5,4),(.,.,.),...)\n",
    "    history(0) =  Array.fill(3)(0)\n",
    "    \n",
    "    for(i <- 0 to utilities.length -1){\n",
    "            history(i).zipWithIndex.foreach{ case ( sum_of_utilities,action_of_the_day_before) =>\n",
    "                (Set(0,1,2) - action_of_the_day_before).foreach {action =>\n",
    "                   history(i+1)(action) = math.max(sum_of_utilities + utilities(i)(action),history(i+1)(action))\n",
    "                }\n",
    "\n",
    "            }\n",
    "        \n",
    "    }\n",
    "    \n",
    "}"
   ]
  },
  {
   "cell_type": "markdown",
   "id": "ab5b023e",
   "metadata": {},
   "source": [
    "## 探索\n"
   ]
  },
  {
   "cell_type": "markdown",
   "id": "a858a57b",
   "metadata": {},
   "source": [
    "### 全探索 + 枝刈\n",
    "Longest Substring Without Repeating Characters\n",
    "> 与えられた文字列に対して、それぞれの文字を繰り返さない最長の部分文字列の長さを求めなさい。\n",
    "> abcabcbb -> abc\n",
    "> bbbbbbb -> b\n",
    "> pwwkew wke -> 3\n",
    "\n",
    "$0 \\leq j < k \\leq length-1$を満たすすべての$j,k$について`Str.substring(j,k)`がユニークかどうか確かめる."
   ]
  },
  {
   "cell_type": "code",
   "execution_count": 2,
   "id": "917cc0f8",
   "metadata": {},
   "outputs": [
    {
     "data": {
      "text/html": [
       "<div class=\"jp-RenderedText\">\n",
       "<pre><code><span style=\"color: rgb(0, 187, 187)\"><span class=\"ansi-cyan-fg\">longest</span></span>: <span style=\"color: rgb(0, 187, 0)\"><span class=\"ansi-green-fg\">Set</span></span>[<span style=\"color: rgb(0, 187, 0)\"><span class=\"ansi-green-fg\">Char</span></span>] = <span style=\"color: yellow\"><span class=\"ansi-yellow-fg\">Set</span></span>(<span style=\"color: rgb(0, 187, 0)\"><span class=\"ansi-green-fg\">'w'</span></span>, <span style=\"color: rgb(0, 187, 0)\"><span class=\"ansi-green-fg\">'k'</span></span>, <span style=\"color: rgb(0, 187, 0)\"><span class=\"ansi-green-fg\">'e'</span></span>)\n",
       "defined <span style=\"color: rgb(0, 187, 0)\"><span class=\"ansi-green-fg\">function</span></span> <span style=\"color: rgb(0, 187, 187)\"><span class=\"ansi-cyan-fg\">lswrc</span></span></code></pre>\n",
       "</div>"
      ],
      "text/plain": [
       "\u001b[36mlongest\u001b[39m: \u001b[32mSet\u001b[39m[\u001b[32mChar\u001b[39m] = \u001b[33mSet\u001b[39m(\u001b[32m'w'\u001b[39m, \u001b[32m'k'\u001b[39m, \u001b[32m'e'\u001b[39m)\n",
       "defined \u001b[32mfunction\u001b[39m \u001b[36mlswrc\u001b[39m"
      ]
     },
     "metadata": {},
     "output_type": "display_data"
    }
   ],
   "source": [
    "var longest = Set[Char]()\n",
    "def lswrc(str:String) = {\n",
    "    for(j <- 0 to str.length-1){\n",
    "        for (k <- j+1 to str.length -1){\n",
    "            val s = str.substring(j,k)\n",
    "            val set = s.toSet\n",
    "            if(set.size == s.length){\n",
    "                if(longest.size < s.length) {\n",
    "                    longest = s.toSet\n",
    "                }\n",
    "            }            \n",
    "        }\n",
    "    }\n",
    "}\n",
    "lswrc(\"pwwkew\")"
   ]
  },
  {
   "cell_type": "markdown",
   "id": "3065d9db",
   "metadata": {},
   "source": [
    "尺取り法\n",
    "- 区間 [left, right) が「条件」を満たすなら、それに含まれる区間も「条件」を満たす\n",
    "- 区間 [left, right) が「条件」を満たすなら、それを含む区間も「条件」を満たす\n"
   ]
  },
  {
   "cell_type": "code",
   "execution_count": 21,
   "id": "49e8341e",
   "metadata": {},
   "outputs": [
    {
     "data": {
      "text/html": [
       "<div class=\"jp-RenderedText\">\n",
       "<pre><code><span style=\"color: rgb(0, 187, 187)\"><span class=\"ansi-cyan-fg\">pair</span></span>: (<span style=\"color: rgb(0, 187, 0)\"><span class=\"ansi-green-fg\">Int</span></span>, <span style=\"color: rgb(0, 187, 0)\"><span class=\"ansi-green-fg\">Set</span></span>[<span style=\"color: rgb(0, 187, 0)\"><span class=\"ansi-green-fg\">Char</span></span>]) = (<span style=\"color: rgb(0, 187, 0)\"><span class=\"ansi-green-fg\">6</span></span>, <span style=\"color: yellow\"><span class=\"ansi-yellow-fg\">HashSet</span></span>(<span style=\"color: rgb(0, 187, 0)\"><span class=\"ansi-green-fg\">'e'</span></span>, <span style=\"color: rgb(0, 187, 0)\"><span class=\"ansi-green-fg\">'a'</span></span>, <span style=\"color: rgb(0, 187, 0)\"><span class=\"ansi-green-fg\">'b'</span></span>, <span style=\"color: rgb(0, 187, 0)\"><span class=\"ansi-green-fg\">'c'</span></span>, <span style=\"color: rgb(0, 187, 0)\"><span class=\"ansi-green-fg\">'w'</span></span>, <span style=\"color: rgb(0, 187, 0)\"><span class=\"ansi-green-fg\">'k'</span></span>))\n",
       "defined <span style=\"color: rgb(0, 187, 0)\"><span class=\"ansi-green-fg\">function</span></span> <span style=\"color: rgb(0, 187, 187)\"><span class=\"ansi-cyan-fg\">lswrc2</span></span>\n",
       "<span style=\"color: rgb(0, 187, 187)\"><span class=\"ansi-cyan-fg\">res20_2</span></span>: <span style=\"color: rgb(0, 187, 0)\"><span class=\"ansi-green-fg\">Set</span></span>[<span style=\"color: rgb(0, 187, 0)\"><span class=\"ansi-green-fg\">Char</span></span>] = <span style=\"color: yellow\"><span class=\"ansi-yellow-fg\">HashSet</span></span>(<span style=\"color: rgb(0, 187, 0)\"><span class=\"ansi-green-fg\">'e'</span></span>, <span style=\"color: rgb(0, 187, 0)\"><span class=\"ansi-green-fg\">'s'</span></span>, <span style=\"color: rgb(0, 187, 0)\"><span class=\"ansi-green-fg\">'w'</span></span>, <span style=\"color: rgb(0, 187, 0)\"><span class=\"ansi-green-fg\">'k'</span></span>)\n",
       "<span style=\"color: rgb(0, 187, 187)\"><span class=\"ansi-cyan-fg\">res20_3</span></span>: (<span style=\"color: rgb(0, 187, 0)\"><span class=\"ansi-green-fg\">Int</span></span>, <span style=\"color: rgb(0, 187, 0)\"><span class=\"ansi-green-fg\">Set</span></span>[<span style=\"color: rgb(0, 187, 0)\"><span class=\"ansi-green-fg\">Char</span></span>]) = (<span style=\"color: rgb(0, 187, 0)\"><span class=\"ansi-green-fg\">6</span></span>, <span style=\"color: yellow\"><span class=\"ansi-yellow-fg\">HashSet</span></span>(<span style=\"color: rgb(0, 187, 0)\"><span class=\"ansi-green-fg\">'e'</span></span>, <span style=\"color: rgb(0, 187, 0)\"><span class=\"ansi-green-fg\">'a'</span></span>, <span style=\"color: rgb(0, 187, 0)\"><span class=\"ansi-green-fg\">'b'</span></span>, <span style=\"color: rgb(0, 187, 0)\"><span class=\"ansi-green-fg\">'c'</span></span>, <span style=\"color: rgb(0, 187, 0)\"><span class=\"ansi-green-fg\">'w'</span></span>, <span style=\"color: rgb(0, 187, 0)\"><span class=\"ansi-green-fg\">'k'</span></span>))</code></pre>\n",
       "</div>"
      ],
      "text/plain": [
       "\u001b[36mpair\u001b[39m: (\u001b[32mInt\u001b[39m, \u001b[32mSet\u001b[39m[\u001b[32mChar\u001b[39m]) = (\u001b[32m6\u001b[39m, \u001b[33mHashSet\u001b[39m(\u001b[32m'e'\u001b[39m, \u001b[32m'a'\u001b[39m, \u001b[32m'b'\u001b[39m, \u001b[32m'c'\u001b[39m, \u001b[32m'w'\u001b[39m, \u001b[32m'k'\u001b[39m))\n",
       "defined \u001b[32mfunction\u001b[39m \u001b[36mlswrc2\u001b[39m\n",
       "\u001b[36mres20_2\u001b[39m: \u001b[32mSet\u001b[39m[\u001b[32mChar\u001b[39m] = \u001b[33mHashSet\u001b[39m(\u001b[32m'e'\u001b[39m, \u001b[32m's'\u001b[39m, \u001b[32m'w'\u001b[39m, \u001b[32m'k'\u001b[39m)\n",
       "\u001b[36mres20_3\u001b[39m: (\u001b[32mInt\u001b[39m, \u001b[32mSet\u001b[39m[\u001b[32mChar\u001b[39m]) = (\u001b[32m6\u001b[39m, \u001b[33mHashSet\u001b[39m(\u001b[32m'e'\u001b[39m, \u001b[32m'a'\u001b[39m, \u001b[32m'b'\u001b[39m, \u001b[32m'c'\u001b[39m, \u001b[32m'w'\u001b[39m, \u001b[32m'k'\u001b[39m))"
      ]
     },
     "metadata": {},
     "output_type": "display_data"
    }
   ],
   "source": [
    "var pair = (0,Set[Char]())\n",
    "def lswrc2(str:String,left:Int=0,right:Int=0,longest:Set[Char]=Set()) :Set[Char]= {\n",
    "    if(right == str.length-1){\n",
    "        longest\n",
    "    }else if(longest.contains(str(right))){\n",
    "            lswrc2(str,left+1,right,longest - str(left))\n",
    "    }else {\n",
    "        if(pair._1 < longest.size + 1){\n",
    "            pair = (longest.size+1,longest + str(right))\n",
    "        }\n",
    "        lswrc2(str,left,right+1,longest+str(right))\n",
    "    }\n",
    "}\n",
    "lswrc2(\"pwabcwkewst\")\n",
    "pair"
   ]
  },
  {
   "cell_type": "markdown",
   "id": "3ef305a5",
   "metadata": {},
   "source": [
    "効率的なsliding window"
   ]
  },
  {
   "cell_type": "code",
   "execution_count": null,
   "id": "fa13be41",
   "metadata": {},
   "outputs": [],
   "source": [
    "def esw(s:Seq[Char],found:Map[Char,Int]=Map(),longest:(Int,Seq[Char])=(0,Seq()),left:Int=0,right:Int=0):(Int,Seq[Char])={\n",
    "    println(left,right)\n",
    "    if(right>=s.length){\n",
    "       return  longest\n",
    "    }else if(left >=s.length){\n",
    "         return longest\n",
    "    }else if(found.contains(s(right))){\n",
    "        esw(s,found.updated(s(right),right),longest,math.max(left,found(s(right))+1),math.max(right+1,found(s(right))+1))\n",
    "    }else {\n",
    "        esw(s,found.updated(s(right),right),{if(right-left+1>longest._1) (right-left+1,s.slice(left,right+1)) else longest},left,right+1)\n",
    "    }\n",
    "}\n",
    "//esw(\"pwabcwkewst\")\n"
   ]
  },
  {
   "cell_type": "markdown",
   "id": "622090c9",
   "metadata": {},
   "source": [
    "類題"
   ]
  },
  {
   "cell_type": "markdown",
   "id": "9bf220f3",
   "metadata": {},
   "source": [
    "> 長さ n の正の整数列$a_1,a_2,…,a_n$と整数$x$が与えられる。整数列の連続する部分列で、その総和が x 以下となるものを数え上げよ (実際の出題は Q 個のクエリがあって各クエリごとに xが与えられる)。\n",
    "- $1≤n≤10^5$\n",
    "- $1≤Q≤500$\n",
    "- $1≤a_i≤10^9$\n",
    "- $1≤x_j≤10^{14}$\n",
    "\n",
    "例 n= 6 、x=12, a=(5,3,8,6,1,4)ならば 11"
   ]
  },
  {
   "cell_type": "code",
   "execution_count": null,
   "id": "faff0e80",
   "metadata": {},
   "outputs": [],
   "source": [
    "// メモ 間違い. 区間の数を数えるだけならsetで記録する必要はない\n",
    "// 尺取り法でleft,rightをうごかしつつ sum += [left,right+1).len すれば区間の数を数え上げられる.\n",
    "def s(a:Seq[Int],x:Int,set:Set[Seq[Int]]=Set(),left:Int=0,right:Int=0):Set[Seq[Int]]= {\n",
    "    if(right >= a.length && left >= a.length){\n",
    "        set\n",
    "    }else if(a.slice(left,right+1).sum <= x){\n",
    "        if(right==a.length){\n",
    "            val _set = (left to a.length-1).foldLeft(set){case (acc,i)=>\n",
    "              acc+a.slice(left,i+1)\n",
    "            }.toSet\n",
    "            s(a,x,_set,if(right==a.length) left+1 else left,math.min(a.length,right+1))\n",
    "\n",
    "        }else {\n",
    "            val _set = extractSubset(a.slice(left,right+1))\n",
    "            \n",
    "            s(a,x,set++_set,if(right==a.length) left+1 else left,math.min(a.length,right+1))\n",
    "        }\n",
    "    }else {\n",
    "        s(a,x,set+a.slice(left+1,right),left+1,math.min(a.length,math.max(right,left+1)))\n",
    "    }\n",
    "}\n",
    "s(Seq(4,6,7,8,1,2,110,2,4,12,3,9),25).filterNot(_.isEmpty)\n",
    "def extractSubset(seq:Seq[Int]):Set[Seq[Int]]= {\n",
    "        (0 to seq.length-1).flatMap{i =>\n",
    "          (i to seq.length-1).foldLeft(Set[Seq[Int]]()){case (acc,j)=>\n",
    "          \n",
    "            acc+seq.slice(i,j+1)\n",
    "          }\n",
    "        }.toSet       \n",
    "}\n"
   ]
  },
  {
   "cell_type": "markdown",
   "id": "d0067316",
   "metadata": {},
   "source": [
    "長さ$N$ の数列$a_1,a_2,...,a_N$と整数$S$が与えられる.\n",
    "要素の総和が$S$以上となる連続する部分列のうち、最も短いものの長さ（smallest window length）を求めてください。ただし、そのような部分列が存在しない場合は 0 と報告してください。"
   ]
  },
  {
   "cell_type": "code",
   "execution_count": 146,
   "id": "35cc3fb7",
   "metadata": {},
   "outputs": [
    {
     "data": {
      "text/plain": [
       "\u001b[36ma\u001b[39m: \u001b[32mSeq\u001b[39m[\u001b[32mInt\u001b[39m] = \u001b[33mList\u001b[39m(\u001b[32m1\u001b[39m, \u001b[32m2\u001b[39m, \u001b[32m1\u001b[39m, \u001b[32m2\u001b[39m, \u001b[32m3\u001b[39m, \u001b[32m2\u001b[39m)\n",
       "\u001b[36ms\u001b[39m: \u001b[32mInt\u001b[39m = \u001b[32m4\u001b[39m\n",
       "defined \u001b[32mfunction\u001b[39m \u001b[36msol\u001b[39m\n",
       "\u001b[36mres145_3\u001b[39m: \u001b[32mInt\u001b[39m = \u001b[32m1\u001b[39m"
      ]
     },
     "execution_count": 146,
     "metadata": {},
     "output_type": "execute_result"
    }
   ],
   "source": [
    "val a = Seq(1,2,1,2,3,2)\n",
    "val s = 4\n",
    "// expect 2\n",
    "def sol(a:Seq[Int],s:Int,sum:Int=0,min:Int=Int.MaxValue,left:Int=0,right:Int=0):Int = {\n",
    "    if(right==a.length-1){\n",
    "        min\n",
    "    }else if(sum+a(right)>=s){\n",
    "        sol(a,s,sum-a(left),math.min(min,right-left+1),math.min(a.length-1,left+1),right)\n",
    "    }else{\n",
    "        sol(a,s,sum+a(right),min,left,math.min(a.length-1,right+1))\n",
    "    }\n",
    "}"
   ]
  },
  {
   "cell_type": "markdown",
   "id": "5d4fc024",
   "metadata": {},
   "source": [
    "bit全探索による順列の計算\n",
    "\n",
    "todo"
   ]
  },
  {
   "cell_type": "markdown",
   "id": "2b594e29",
   "metadata": {},
   "source": [
    "ハノイの塔は漸化式をたてれば解けるが、仮に漸化式を思いつかなくてもちょうど我々がパズルを解くうまいやり方が見つからないで手当たり次第に試行錯誤するように、探索を使えば解を求めることができる場合もある.\n",
    "### 幅優先探索\n",
    "\n",
    "初期状態$\\begin{vmatrix}2 & 3 & 4 \\\\ 7 & 1 & \\emptyset \\\\ 6 & 8 & 5 \\end{vmatrix}$からうまく$\\emptyset$をスライドさせて$\\begin{vmatrix}1 & 2 & 3 \\\\ 4 & 5 & 6 \\\\ 7 & 8 & \\emptyset \\end{vmatrix}$にするパズル(8パズルと呼ばれる)を幅優先探索を使って解いてみる.  幅優先探索はQueueを使って実装できる. これは木構造を横に倒してみると理解しやすい.\n",
    "\n",
    "\n",
    "直前の状態から次にとりうる操作が制限できるのでうまく枝刈りをしていこう.  例えば、$\\emptyset$を右に動かした直後に左に動かすと元の状態に戻ってしまうのでその操作は選択肢から除外したほうがいい."
   ]
  },
  {
   "cell_type": "code",
   "execution_count": 12,
   "id": "0ee8c241",
   "metadata": {},
   "outputs": [
    {
     "data": {
      "text/plain": [
       "\u001b[32mimport \u001b[39m\u001b[36mscala.collection.mutable.Queue\n",
       "\u001b[39m\n",
       "\u001b[36mEMPTY\u001b[39m: \u001b[32mInt\u001b[39m = \u001b[32m-2147483648\u001b[39m\n",
       "\u001b[36mtoBe\u001b[39m: \u001b[32mArraySeq\u001b[39m[\u001b[32mArraySeq\u001b[39m[\u001b[32mInt\u001b[39m]] = \u001b[33mArraySeq\u001b[39m(\n",
       "  \u001b[33mArraySeq\u001b[39m(\u001b[32m1\u001b[39m, \u001b[32m2\u001b[39m, \u001b[32m3\u001b[39m),\n",
       "  \u001b[33mArraySeq\u001b[39m(\u001b[32m4\u001b[39m, \u001b[32m5\u001b[39m, \u001b[32m6\u001b[39m),\n",
       "  \u001b[33mArraySeq\u001b[39m(\u001b[32m7\u001b[39m, \u001b[32m8\u001b[39m, \u001b[32m-2147483648\u001b[39m)\n",
       ")"
      ]
     },
     "execution_count": 12,
     "metadata": {},
     "output_type": "execute_result"
    }
   ],
   "source": [
    "import scala.collection.mutable.Queue\n",
    "val EMPTY = Int.MinValue\n",
    "val toBe:ArraySeq[ArraySeq[Int]]=ArraySeq(ArraySeq(1,2,3),ArraySeq(4,5,6),ArraySeq(7,8,EMPTY))"
   ]
  },
  {
   "cell_type": "code",
   "execution_count": null,
   "id": "8816b72d",
   "metadata": {
    "tags": []
   },
   "outputs": [],
   "source": [
    "CNT=0\n",
    "def solution(history:Queue[((Int,Int),ArraySeq[ArraySeq[Int]],Int)],toBe:ArraySeq[ArraySeq[Int]]):ArraySeq[ArraySeq[Int]]={\n",
    "    CNT=CNT+1\n",
    "    val h = history.dequeue\n",
    "    h match {\n",
    "        case (emptyAt,state,_) if state == toBe =>state\n",
    "        case (emptyAt,state,prevAction) =>\n",
    "          history.appendAll(nextCandidates(emptyAt,state,prevAction))\n",
    "          solution(history,toBe)\n",
    "    }\n",
    "}\n",
    "val upward = (emptyAt:(Int,Int),state:ArraySeq[ArraySeq[Int]])=>Queue(((emptyAt._1-1,emptyAt._2),state.updated(emptyAt._1,state(emptyAt._1).updated(emptyAt._2,state(emptyAt._1-1)(emptyAt._2))).updated(emptyAt._1-1,state(emptyAt._1-1).updated(emptyAt._2,EMPTY)),0)       )\n",
    "val rightward = (emptyAt:(Int,Int),state: ArraySeq[ArraySeq[Int]])=>Queue(((emptyAt._1,emptyAt._2+1),state.updated(emptyAt._1,state(emptyAt._1).updated(emptyAt._2+1,EMPTY).updated(emptyAt._2,state(emptyAt._1)(emptyAt._2+1))),1))\n",
    "val downward =  (emptyAt:(Int,Int),state:ArraySeq[ArraySeq[Int]])=>Queue(((emptyAt._1+1,emptyAt._2),state.updated(emptyAt._1,state(emptyAt._1).updated(emptyAt._2,state(emptyAt._1+1)(emptyAt._2))).updated(emptyAt._1+1,state(emptyAt._1+1).updated(emptyAt._2,EMPTY)),2)        )\n",
    "val leftward  = (emptyAt:(Int,Int),state:ArraySeq[ArraySeq[Int]])=> Queue(((emptyAt._1,emptyAt._2-1),state.updated(emptyAt._1,state(emptyAt._1).updated(emptyAt._2-1,EMPTY).updated(emptyAt._2,state(emptyAt._1)(emptyAt._2-1))),3))\n",
    "\n",
    "def nextCandidates(emptyAt:(Int,Int),state: ArraySeq[ArraySeq[Int]],prevAction:Int):Queue[((Int,Int),ArraySeq[ArraySeq[Int]],Int)]={\n",
    "    val rowEndAt = state.length -1\n",
    "    val colEndAt = state(0).length -1\n",
    "    // prevAction: ↑:0,→:1,↓:2,←:3\n",
    "    if(emptyAt._1==0){\n",
    "        if (emptyAt._2==0){\n",
    "            if(prevAction==0){\n",
    "                return rightward(emptyAt,state)\n",
    "            }else {\n",
    "                 return downward(emptyAt,state)\n",
    "            }\n",
    "        }else if (emptyAt._2==colEndAt){\n",
    "            if(prevAction==1){\n",
    "                return downward(emptyAt,state)\n",
    "            }else {\n",
    "             return leftward(emptyAt,state)\n",
    "            }\n",
    "        }else {\n",
    "            if(prevAction==1){\n",
    "                 return Queue(\n",
    "                ((emptyAt._1+1,emptyAt._2),state.updated(emptyAt._1,state(emptyAt._1).updated(emptyAt._2,state(emptyAt._1+1)(emptyAt._2))).updated(emptyAt._1+1,state(emptyAt._1+1).updated(emptyAt._2,EMPTY)),2),      \n",
    "                ((emptyAt._1,emptyAt._2+1),state.updated(emptyAt._1,state(emptyAt._1).updated(emptyAt._2+1,EMPTY).updated(emptyAt._2,state(emptyAt._1)(emptyAt._2+1))),1)\n",
    "            )\n",
    "            }else if(prevAction==3){\n",
    "                 return Queue(\n",
    "                ((emptyAt._1,emptyAt._2-1),state.updated(emptyAt._1,state(emptyAt._1).updated(emptyAt._2-1,EMPTY).updated(emptyAt._2,state(emptyAt._1)(emptyAt._2-1))),3),\n",
    "                ((emptyAt._1+1,emptyAt._2),state.updated(emptyAt._1,state(emptyAt._1).updated(emptyAt._2,state(emptyAt._1+1)(emptyAt._2))).updated(emptyAt._1+1,state(emptyAt._1+1).updated(emptyAt._2,EMPTY)),2),      \n",
    "            )\n",
    "            }else{\n",
    "                return Queue(\n",
    "                ((emptyAt._1,emptyAt._2-1),state.updated(emptyAt._1,state(emptyAt._1).updated(emptyAt._2-1,EMPTY).updated(emptyAt._2,state(emptyAt._1)(emptyAt._2-1))),3),\n",
    "                ((emptyAt._1,emptyAt._2+1),state.updated(emptyAt._1,state(emptyAt._1).updated(emptyAt._2+1,EMPTY).updated(emptyAt._2,state(emptyAt._1)(emptyAt._2+1))),1)\n",
    "            )\n",
    "            }\n",
    "        }\n",
    "    }else if(emptyAt._1==rowEndAt){ \n",
    "         if (emptyAt._2==0){\n",
    "             if(prevAction==2){\n",
    "                  return Queue(\n",
    "                ((emptyAt._1,emptyAt._2+1),state.updated(emptyAt._1,state(emptyAt._1).updated(emptyAt._2+1,EMPTY).updated(emptyAt._2,state(emptyAt._1)(emptyAt._2+1))),1),\n",
    "            )\n",
    "             }else{\n",
    "                 return upward(emptyAt,state)\n",
    "             } \n",
    " \n",
    "        }else if (emptyAt._2==colEndAt){\n",
    "             if(prevAction==1){\n",
    "                 return Queue(   \n",
    "                ((emptyAt._1-1,emptyAt._2),state.updated(emptyAt._1,state(emptyAt._1).updated(emptyAt._2,state(emptyAt._1-1)(emptyAt._2))).updated(emptyAt._1-1,state(emptyAt._1-1).updated(emptyAt._2,EMPTY)),1)\n",
    "            )\n",
    "             }else {\n",
    "                 return Queue(   \n",
    "                ((emptyAt._1,emptyAt._2-1),state.updated(emptyAt._1,state(emptyAt._1).updated(emptyAt._2-1,EMPTY).updated(emptyAt._2,state(emptyAt._1)(emptyAt._2-1))),3),\n",
    "            )\n",
    "             }\n",
    "        }else {\n",
    "             if(prevAction==1){\n",
    "                 return Queue(\n",
    "                ((emptyAt._1-1,emptyAt._2),state.updated(emptyAt._1,state(emptyAt._1).updated(emptyAt._2,state(emptyAt._1-1)(emptyAt._2))).updated(emptyAt._1-1,state(emptyAt._1-1).updated(emptyAt._2,EMPTY)),0),      \n",
    "                ((emptyAt._1,emptyAt._2+1),state.updated(emptyAt._1,state(emptyAt._1).updated(emptyAt._2+1,EMPTY).updated(emptyAt._2,state(emptyAt._1)(emptyAt._2+1))),1)\n",
    "            )\n",
    "             }else if(prevAction==3){\n",
    "                 return Queue(\n",
    "                ((emptyAt._1,emptyAt._2-1),state.updated(emptyAt._1,state(emptyAt._1).updated(emptyAt._2-1,EMPTY).updated(emptyAt._2,state(emptyAt._1)(emptyAt._2-1))),3),\n",
    "                ((emptyAt._1-1,emptyAt._2),state.updated(emptyAt._1,state(emptyAt._1).updated(emptyAt._2,state(emptyAt._1-1)(emptyAt._2))).updated(emptyAt._1-1,state(emptyAt._1-1).updated(emptyAt._2,EMPTY)),0),      \n",
    "            )\n",
    "             }else {\n",
    "                 return Queue(\n",
    "                ((emptyAt._1,emptyAt._2-1),state.updated(emptyAt._1,state(emptyAt._1).updated(emptyAt._2-1,EMPTY).updated(emptyAt._2,state(emptyAt._1)(emptyAt._2-1))),3),\n",
    "                ((emptyAt._1,emptyAt._2+1),state.updated(emptyAt._1,state(emptyAt._1).updated(emptyAt._2+1,EMPTY).updated(emptyAt._2,state(emptyAt._1)(emptyAt._2+1))),1)\n",
    "            )\n",
    "             }\n",
    "        }\n",
    "    }else{\n",
    "        if (emptyAt._2==0){\n",
    "            if(prevAction==3){\n",
    "                return Queue(\n",
    "                ((emptyAt._1+1,emptyAt._2),state.updated(emptyAt._1,state(emptyAt._1).updated(emptyAt._2,state(emptyAt._1+1)(emptyAt._2))).updated(emptyAt._1+1,state(emptyAt._1+1).updated(emptyAt._2,EMPTY)),2),       \n",
    "                ((emptyAt._1-1,emptyAt._2),state.updated(emptyAt._1,state(emptyAt._1).updated(emptyAt._2,state(emptyAt._1-1)(emptyAt._2))).updated(emptyAt._1-1,state(emptyAt._1-1).updated(emptyAt._2,EMPTY)),0)      \n",
    "            )\n",
    "            }else if(prevAction==0){\n",
    "                return Queue(\n",
    "                ((emptyAt._1,emptyAt._2+1),state.updated(emptyAt._1,state(emptyAt._1).updated(emptyAt._2+1,EMPTY).updated(emptyAt._2,state(emptyAt._1)(emptyAt._2+1))),1),\n",
    "                ((emptyAt._1-1,emptyAt._2),state.updated(emptyAt._1,state(emptyAt._1).updated(emptyAt._2,state(emptyAt._1-1)(emptyAt._2))).updated(emptyAt._1-1,state(emptyAt._1-1).updated(emptyAt._2,EMPTY)),0)      \n",
    "            )\n",
    "            }else{\n",
    "                return Queue(\n",
    "                ((emptyAt._1+1,emptyAt._2),state.updated(emptyAt._1,state(emptyAt._1).updated(emptyAt._2,state(emptyAt._1+1)(emptyAt._2))).updated(emptyAt._1+1,state(emptyAt._1+1).updated(emptyAt._2,EMPTY)),2),       \n",
    "                ((emptyAt._1,emptyAt._2+1),state.updated(emptyAt._1,state(emptyAt._1).updated(emptyAt._2+1,EMPTY).updated(emptyAt._2,state(emptyAt._1)(emptyAt._2+1))),1),\n",
    "            )\n",
    "            }\n",
    "        }else if (emptyAt._2==colEndAt){\n",
    "            if(prevAction==1){\n",
    "                return Queue(   \n",
    "                ((emptyAt._1+1,emptyAt._2),state.updated(emptyAt._1,state(emptyAt._1).updated(emptyAt._2,state(emptyAt._1+1)(emptyAt._2))).updated(emptyAt._1+1,state(emptyAt._1+1).updated(emptyAt._2,EMPTY)),2),       \n",
    "                ((emptyAt._1-1,emptyAt._2),state.updated(emptyAt._1,state(emptyAt._1).updated(emptyAt._2,state(emptyAt._1-1)(emptyAt._2))).updated(emptyAt._1-1,state(emptyAt._1-1).updated(emptyAt._2,EMPTY)),0)   \n",
    "            )\n",
    "            }else if(prevAction==0){\n",
    "                return Queue(   \n",
    "                ((emptyAt._1,emptyAt._2-1),state.updated(emptyAt._1,state(emptyAt._1).updated(emptyAt._2-1,EMPTY).updated(emptyAt._2,state(emptyAt._1)(emptyAt._2-1))),3),\n",
    "                ((emptyAt._1-1,emptyAt._2),state.updated(emptyAt._1,state(emptyAt._1).updated(emptyAt._2,state(emptyAt._1-1)(emptyAt._2))).updated(emptyAt._1-1,state(emptyAt._1-1).updated(emptyAt._2,EMPTY)),0)   \n",
    "            )\n",
    "            }else {\n",
    "                return Queue(   \n",
    "                ((emptyAt._1+1,emptyAt._2),state.updated(emptyAt._1,state(emptyAt._1).updated(emptyAt._2,state(emptyAt._1+1)(emptyAt._2))).updated(emptyAt._1+1,state(emptyAt._1+1).updated(emptyAt._2,EMPTY)),0),       \n",
    "                ((emptyAt._1,emptyAt._2-1),state.updated(emptyAt._1,state(emptyAt._1).updated(emptyAt._2-1,EMPTY).updated(emptyAt._2,state(emptyAt._1)(emptyAt._2-1))),3),\n",
    "            )\n",
    "            }\n",
    "        }else {\n",
    "            if(prevAction==0){\n",
    "                return Queue(\n",
    "                ((emptyAt._1,emptyAt._2+1),state.updated(emptyAt._1,state(emptyAt._1).updated(emptyAt._2+1,EMPTY).updated(emptyAt._2,state(emptyAt._1)(emptyAt._2+1))),1),\n",
    "                ((emptyAt._1,emptyAt._2-1),state.updated(emptyAt._1,state(emptyAt._1).updated(emptyAt._2-1,EMPTY).updated(emptyAt._2,state(emptyAt._1)(emptyAt._2-1))),3),\n",
    "                ((emptyAt._1-1,emptyAt._2),state.updated(emptyAt._1,state(emptyAt._1).updated(emptyAt._2,state(emptyAt._1-1)(emptyAt._2))).updated(emptyAt._1-1,state(emptyAt._1-1).updated(emptyAt._2,EMPTY)),0)    \n",
    "            )\n",
    "            }else if(prevAction==1){\n",
    "                return Queue(\n",
    "                ((emptyAt._1,emptyAt._2+1),state.updated(emptyAt._1,state(emptyAt._1).updated(emptyAt._2+1,EMPTY).updated(emptyAt._2,state(emptyAt._1)(emptyAt._2+1))),1),\n",
    "                ((emptyAt._1+1,emptyAt._2),state.updated(emptyAt._1,state(emptyAt._1).updated(emptyAt._2,state(emptyAt._1+1)(emptyAt._2))).updated(emptyAt._1+1,state(emptyAt._1+1).updated(emptyAt._2,EMPTY)),2),    \n",
    "                ((emptyAt._1-1,emptyAt._2),state.updated(emptyAt._1,state(emptyAt._1).updated(emptyAt._2,state(emptyAt._1-1)(emptyAt._2))).updated(emptyAt._1-1,state(emptyAt._1-1).updated(emptyAt._2,EMPTY)),0)    \n",
    "            )\n",
    "                \n",
    "            }else if (prevAction==2){\n",
    "                 return Queue(\n",
    "                ((emptyAt._1,emptyAt._2+1),state.updated(emptyAt._1,state(emptyAt._1).updated(emptyAt._2+1,EMPTY).updated(emptyAt._2,state(emptyAt._1)(emptyAt._2+1))),1),\n",
    "                ((emptyAt._1+1,emptyAt._2),state.updated(emptyAt._1,state(emptyAt._1).updated(emptyAt._2,state(emptyAt._1+1)(emptyAt._2))).updated(emptyAt._1+1,state(emptyAt._1+1).updated(emptyAt._2,EMPTY)),2),    \n",
    "                ((emptyAt._1,emptyAt._2-1),state.updated(emptyAt._1,state(emptyAt._1).updated(emptyAt._2-1,EMPTY).updated(emptyAt._2,state(emptyAt._1)(emptyAt._2-1))),3),\n",
    "            )\n",
    "            }else{\n",
    "                return Queue(\n",
    "                ((emptyAt._1+1,emptyAt._2),state.updated(emptyAt._1,state(emptyAt._1).updated(emptyAt._2,state(emptyAt._1+1)(emptyAt._2))).updated(emptyAt._1+1,state(emptyAt._1+1).updated(emptyAt._2,EMPTY)),2),    \n",
    "                ((emptyAt._1,emptyAt._2-1),state.updated(emptyAt._1,state(emptyAt._1).updated(emptyAt._2-1,EMPTY).updated(emptyAt._2,state(emptyAt._1)(emptyAt._2-1))),3),\n",
    "                ((emptyAt._1-1,emptyAt._2),state.updated(emptyAt._1,state(emptyAt._1).updated(emptyAt._2,state(emptyAt._1-1)(emptyAt._2))).updated(emptyAt._1-1,state(emptyAt._1-1).updated(emptyAt._2,EMPTY)),0)    \n",
    "            )\n",
    "            }\n",
    "        }\n",
    "        \n",
    "    }\n",
    "}"
   ]
  },
  {
   "cell_type": "code",
   "execution_count": null,
   "id": "01dcfff7",
   "metadata": {
    "tags": []
   },
   "outputs": [],
   "source": [
    "val asIs:ArraySeq[ArraySeq[Int]]=ArraySeq(ArraySeq(2,3,4),ArraySeq(7,1,EMPTY),ArraySeq(6,8,5))\n",
    "val emptyAt :(Int,Int)=(1,2)\n",
    "val history:Queue[((Int,Int),ArraySeq[ArraySeq[Int]],Int)] = Queue((emptyAt,asIs,-1))\n",
    "solution(history,toBe)\n",
    "print(CNT)"
   ]
  },
  {
   "cell_type": "code",
   "execution_count": 1,
   "id": "eb8e9ca1",
   "metadata": {},
   "outputs": [
    {
     "data": {
      "text/plain": [
       "\u001b[32mimport \u001b[39m\u001b[36m$exec.$                               ,GraphHelpers.GraphNode\n",
       "\n",
       "\u001b[39m\n",
       "\u001b[36mgraph\u001b[39m: \u001b[32mSeq\u001b[39m[\u001b[32mGraphNode\u001b[39m] = \u001b[33mList\u001b[39m(\n",
       "  \u001b[33mGraphNode\u001b[39m(id = \u001b[32m1\u001b[39m, nexts = \u001b[33mArraySeq\u001b[39m(\u001b[32m2\u001b[39m, \u001b[32m3\u001b[39m)),\n",
       "  \u001b[33mGraphNode\u001b[39m(id = \u001b[32m2\u001b[39m, nexts = \u001b[33mArraySeq\u001b[39m(\u001b[32m3\u001b[39m, \u001b[32m4\u001b[39m)),\n",
       "  \u001b[33mGraphNode\u001b[39m(id = \u001b[32m3\u001b[39m, nexts = \u001b[33mArraySeq\u001b[39m(\u001b[32m5\u001b[39m)),\n",
       "  \u001b[33mGraphNode\u001b[39m(id = \u001b[32m4\u001b[39m, nexts = \u001b[33mArraySeq\u001b[39m(\u001b[32m6\u001b[39m)),\n",
       "  \u001b[33mGraphNode\u001b[39m(id = \u001b[32m5\u001b[39m, nexts = \u001b[33mArraySeq\u001b[39m(\u001b[32m6\u001b[39m)),\n",
       "  \u001b[33mGraphNode\u001b[39m(id = \u001b[32m6\u001b[39m, nexts = \u001b[33mList\u001b[39m())\n",
       ")"
      ]
     },
     "execution_count": 1,
     "metadata": {},
     "output_type": "execute_result"
    }
   ],
   "source": [
    "import $exec.helpers.scala.model.GraphHelpers,GraphHelpers.GraphNode\n",
    "\n",
    "val graph = Seq(\n",
    "  GraphNode(1,2,3),\n",
    "    GraphNode(2,3,4),\n",
    "    GraphNode(3,5),\n",
    "    GraphNode(4,6),\n",
    "    GraphNode(5,6),\n",
    "    GraphNode(6)\n",
    "\n",
    ")"
   ]
  },
  {
   "cell_type": "code",
   "execution_count": 4,
   "id": "67ac49fc",
   "metadata": {},
   "outputs": [
    {
     "data": {
      "text/plain": [
       "\u001b[36mgraph2\u001b[39m: \u001b[32mSeq\u001b[39m[\u001b[32mGraphNode\u001b[39m] = \u001b[33mList\u001b[39m(\n",
       "  \u001b[33mGraphNode\u001b[39m(id = \u001b[32m1\u001b[39m, nexts = \u001b[33mArraySeq\u001b[39m(\u001b[32m2\u001b[39m)),\n",
       "  \u001b[33mGraphNode\u001b[39m(id = \u001b[32m2\u001b[39m, nexts = \u001b[33mArraySeq\u001b[39m(\u001b[32m4\u001b[39m)),\n",
       "  \u001b[33mGraphNode\u001b[39m(id = \u001b[32m3\u001b[39m, nexts = \u001b[33mList\u001b[39m()),\n",
       "  \u001b[33mGraphNode\u001b[39m(id = \u001b[32m4\u001b[39m, nexts = \u001b[33mArraySeq\u001b[39m(\u001b[32m3\u001b[39m))\n",
       ")"
      ]
     },
     "execution_count": 4,
     "metadata": {},
     "output_type": "execute_result"
    }
   ],
   "source": [
    "val graph2 = Seq(\n",
    "GraphNode(1,2),\n",
    "    GraphNode(2,4),\n",
    "    GraphNode(3),\n",
    "    GraphNode(4,3)\n",
    ")"
   ]
  },
  {
   "cell_type": "code",
   "execution_count": 5,
   "id": "f5d98ae9",
   "metadata": {},
   "outputs": [
    {
     "name": "stdout",
     "output_type": "stream",
     "text": [
      "Stack(1)\n",
      "Stack(2, 1)\n",
      "Stack(4, 2, 1)\n",
      "Stack(4, 2, 1)\n",
      "Stack(2, 1)\n",
      "Stack(1)\n",
      "([I@2113b56,[I@9e6e8f7)\n"
     ]
    },
    {
     "data": {
      "text/html": [
       "<div class=\"jp-RenderedText\">\n",
       "<pre><code><span style=\"color: rgb(0, 187, 0)\"><span class=\"ansi-green-fg\">import </span></span><span style=\"color: rgb(0, 187, 187)\"><span class=\"ansi-cyan-fg\">scala.collection.mutable.Stack\n",
       "//  k 番目のノードの情報は Array の k-1 番目に格納される\n",
       "\n",
       "</span></span>\n",
       "<span style=\"color: rgb(0, 187, 187)\"><span class=\"ansi-cyan-fg\">arrives</span></span>: <span style=\"color: rgb(0, 187, 0)\"><span class=\"ansi-green-fg\">Array</span></span>[<span style=\"color: rgb(0, 187, 0)\"><span class=\"ansi-green-fg\">Int</span></span>] = <span style=\"color: yellow\"><span class=\"ansi-yellow-fg\">Array</span></span>(<span style=\"color: rgb(0, 187, 0)\"><span class=\"ansi-green-fg\">1</span></span>, <span style=\"color: rgb(0, 187, 0)\"><span class=\"ansi-green-fg\">2</span></span>, <span style=\"color: rgb(0, 187, 0)\"><span class=\"ansi-green-fg\">4</span></span>, <span style=\"color: rgb(0, 187, 0)\"><span class=\"ansi-green-fg\">3</span></span>)\n",
       "<span style=\"color: rgb(0, 187, 187)\"><span class=\"ansi-cyan-fg\">returns</span></span>: <span style=\"color: rgb(0, 187, 0)\"><span class=\"ansi-green-fg\">Array</span></span>[<span style=\"color: rgb(0, 187, 0)\"><span class=\"ansi-green-fg\">Int</span></span>] = <span style=\"color: yellow\"><span class=\"ansi-yellow-fg\">Array</span></span>(<span style=\"color: rgb(0, 187, 0)\"><span class=\"ansi-green-fg\">8</span></span>, <span style=\"color: rgb(0, 187, 0)\"><span class=\"ansi-green-fg\">7</span></span>, <span style=\"color: rgb(0, 187, 0)\"><span class=\"ansi-green-fg\">5</span></span>, <span style=\"color: rgb(0, 187, 0)\"><span class=\"ansi-green-fg\">6</span></span>)\n",
       "<span style=\"color: rgb(0, 187, 187)\"><span class=\"ansi-cyan-fg\">s</span></span>: <span style=\"color: rgb(0, 187, 0)\"><span class=\"ansi-green-fg\">Stack</span></span>[<span style=\"color: rgb(0, 187, 0)\"><span class=\"ansi-green-fg\">Int</span></span>] = <span style=\"color: yellow\"><span class=\"ansi-yellow-fg\">Stack</span></span>()\n",
       "<span style=\"color: rgb(0, 187, 187)\"><span class=\"ansi-cyan-fg\">cnt</span></span>: <span style=\"color: rgb(0, 187, 0)\"><span class=\"ansi-green-fg\">Int</span></span> = <span style=\"color: rgb(0, 187, 0)\"><span class=\"ansi-green-fg\">8</span></span>\n",
       "<span style=\"color: rgb(0, 187, 187)\"><span class=\"ansi-cyan-fg\">res4_5</span></span>: <span style=\"color: rgb(0, 187, 0)\"><span class=\"ansi-green-fg\">Stack</span></span>[<span style=\"color: rgb(0, 187, 0)\"><span class=\"ansi-green-fg\">Int</span></span>] = <span style=\"color: yellow\"><span class=\"ansi-yellow-fg\">Stack</span></span>()</code></pre>\n",
       "</div>"
      ],
      "text/plain": [
       "\u001b[32mimport \u001b[39m\u001b[36mscala.collection.mutable.Stack\n",
       "//  k 番目のノードの情報は Array の k-1 番目に格納される\n",
       "\n",
       "\u001b[39m\n",
       "\u001b[36marrives\u001b[39m: \u001b[32mArray\u001b[39m[\u001b[32mInt\u001b[39m] = \u001b[33mArray\u001b[39m(\u001b[32m1\u001b[39m, \u001b[32m2\u001b[39m, \u001b[32m4\u001b[39m, \u001b[32m3\u001b[39m)\n",
       "\u001b[36mreturns\u001b[39m: \u001b[32mArray\u001b[39m[\u001b[32mInt\u001b[39m] = \u001b[33mArray\u001b[39m(\u001b[32m8\u001b[39m, \u001b[32m7\u001b[39m, \u001b[32m5\u001b[39m, \u001b[32m6\u001b[39m)\n",
       "\u001b[36ms\u001b[39m: \u001b[32mStack\u001b[39m[\u001b[32mInt\u001b[39m] = \u001b[33mStack\u001b[39m()\n",
       "\u001b[36mcnt\u001b[39m: \u001b[32mInt\u001b[39m = \u001b[32m8\u001b[39m\n",
       "\u001b[36mres4_5\u001b[39m: \u001b[32mStack\u001b[39m[\u001b[32mInt\u001b[39m] = \u001b[33mStack\u001b[39m()"
      ]
     },
     "metadata": {},
     "output_type": "display_data"
    }
   ],
   "source": [
    "import scala.collection.mutable.Stack\n",
    "//  k 番目のノードの情報は Array の k-1 番目に格納される\n",
    "\n",
    "var arrives :Array[Int] = Array.fill(graph2.length)(-1)\n",
    "var returns :Array[Int] = Array.fill(graph2.length)(-1)\n",
    "var s:Stack[Int] = Stack()\n",
    "// 行きがけ(pushしたときに)に1,2,3,...\n",
    "// 帰りがけ(popしたときに)に...11,12\n",
    "var cnt=1\n",
    "s.push(1)\n",
    "arrives(0) = cnt\n",
    "while(!s.isEmpty){\n",
    "    println(s)\n",
    "    val top = s.top\n",
    "    // 次に行けるならpop(反転)しないでpushする\n",
    "    graph2(top-1).nexts.foreach {n=>\n",
    "        if(arrives(n-1)== -1){\n",
    "            cnt+=1\n",
    "            arrives(n-1) = cnt\n",
    "            s.push(n)\n",
    "        } \n",
    "    }  \n",
    "    // ここでstackの中身が変わっている. 先頭は最後に訪問したところ\n",
    "    \n",
    "    // push(訪問)したあとそこから次に行けないならpop(反転する)する\n",
    "    if(!graph2(s.top-1).nexts.exists(n=> arrives(n-1) == -1)){\n",
    "        cnt+=1\n",
    "        returns(s.top-1) = cnt\n",
    "        s.pop\n",
    "    }\n",
    "}\n",
    "println(arrives,returns)\n",
    "\n",
    "\n"
   ]
  },
  {
   "cell_type": "code",
   "execution_count": 15,
   "id": "6bb991f0",
   "metadata": {},
   "outputs": [
    {
     "data": {
      "text/html": [
       "<div class=\"jp-RenderedText\">\n",
       "<pre><code><span style=\"color: rgb(0, 187, 187)\"><span class=\"ansi-cyan-fg\">n</span></span>: <span style=\"color: rgb(0, 187, 0)\"><span class=\"ansi-green-fg\">Int</span></span> = <span style=\"color: rgb(0, 187, 0)\"><span class=\"ansi-green-fg\">6</span></span>\n",
       "<span style=\"color: rgb(0, 187, 187)\"><span class=\"ansi-cyan-fg\">arrives</span></span>: <span style=\"color: rgb(0, 187, 0)\"><span class=\"ansi-green-fg\">Array</span></span>[<span style=\"color: rgb(0, 187, 0)\"><span class=\"ansi-green-fg\">Int</span></span>] = <span style=\"color: yellow\"><span class=\"ansi-yellow-fg\">Array</span></span>(<span style=\"color: rgb(0, 187, 0)\"><span class=\"ansi-green-fg\">1</span></span>, <span style=\"color: rgb(0, 187, 0)\"><span class=\"ansi-green-fg\">2</span></span>, <span style=\"color: rgb(0, 187, 0)\"><span class=\"ansi-green-fg\">3</span></span>, <span style=\"color: rgb(0, 187, 0)\"><span class=\"ansi-green-fg\">9</span></span>, <span style=\"color: rgb(0, 187, 0)\"><span class=\"ansi-green-fg\">4</span></span>, <span style=\"color: rgb(0, 187, 0)\"><span class=\"ansi-green-fg\">5</span></span>)\n",
       "<span style=\"color: rgb(0, 187, 187)\"><span class=\"ansi-cyan-fg\">returns</span></span>: <span style=\"color: rgb(0, 187, 0)\"><span class=\"ansi-green-fg\">Array</span></span>[<span style=\"color: rgb(0, 187, 0)\"><span class=\"ansi-green-fg\">Int</span></span>] = <span style=\"color: yellow\"><span class=\"ansi-yellow-fg\">Array</span></span>(<span style=\"color: rgb(0, 187, 0)\"><span class=\"ansi-green-fg\">12</span></span>, <span style=\"color: rgb(0, 187, 0)\"><span class=\"ansi-green-fg\">11</span></span>, <span style=\"color: rgb(0, 187, 0)\"><span class=\"ansi-green-fg\">8</span></span>, <span style=\"color: rgb(0, 187, 0)\"><span class=\"ansi-green-fg\">10</span></span>, <span style=\"color: rgb(0, 187, 0)\"><span class=\"ansi-green-fg\">7</span></span>, <span style=\"color: rgb(0, 187, 0)\"><span class=\"ansi-green-fg\">6</span></span>)\n",
       "<span style=\"color: rgb(0, 187, 187)\"><span class=\"ansi-cyan-fg\">tree</span></span>: <span style=\"color: rgb(0, 187, 0)\"><span class=\"ansi-green-fg\">Seq</span></span>[<span style=\"color: rgb(0, 187, 0)\"><span class=\"ansi-green-fg\">GraphNode</span></span>] = <span style=\"color: yellow\"><span class=\"ansi-yellow-fg\">List</span></span>(\n",
       "  <span style=\"color: yellow\"><span class=\"ansi-yellow-fg\">GraphNode</span></span>(id = <span style=\"color: rgb(0, 187, 0)\"><span class=\"ansi-green-fg\">1</span></span>, nexts = <span style=\"color: yellow\"><span class=\"ansi-yellow-fg\">ArraySeq</span></span>(<span style=\"color: rgb(0, 187, 0)\"><span class=\"ansi-green-fg\">2</span></span>, <span style=\"color: rgb(0, 187, 0)\"><span class=\"ansi-green-fg\">3</span></span>)),\n",
       "  <span style=\"color: yellow\"><span class=\"ansi-yellow-fg\">GraphNode</span></span>(id = <span style=\"color: rgb(0, 187, 0)\"><span class=\"ansi-green-fg\">2</span></span>, nexts = <span style=\"color: yellow\"><span class=\"ansi-yellow-fg\">ArraySeq</span></span>(<span style=\"color: rgb(0, 187, 0)\"><span class=\"ansi-green-fg\">3</span></span>, <span style=\"color: rgb(0, 187, 0)\"><span class=\"ansi-green-fg\">4</span></span>)),\n",
       "  <span style=\"color: yellow\"><span class=\"ansi-yellow-fg\">GraphNode</span></span>(id = <span style=\"color: rgb(0, 187, 0)\"><span class=\"ansi-green-fg\">3</span></span>, nexts = <span style=\"color: yellow\"><span class=\"ansi-yellow-fg\">ArraySeq</span></span>(<span style=\"color: rgb(0, 187, 0)\"><span class=\"ansi-green-fg\">5</span></span>)),\n",
       "  <span style=\"color: yellow\"><span class=\"ansi-yellow-fg\">GraphNode</span></span>(id = <span style=\"color: rgb(0, 187, 0)\"><span class=\"ansi-green-fg\">4</span></span>, nexts = <span style=\"color: yellow\"><span class=\"ansi-yellow-fg\">ArraySeq</span></span>(<span style=\"color: rgb(0, 187, 0)\"><span class=\"ansi-green-fg\">6</span></span>)),\n",
       "  <span style=\"color: yellow\"><span class=\"ansi-yellow-fg\">GraphNode</span></span>(id = <span style=\"color: rgb(0, 187, 0)\"><span class=\"ansi-green-fg\">5</span></span>, nexts = <span style=\"color: yellow\"><span class=\"ansi-yellow-fg\">ArraySeq</span></span>(<span style=\"color: rgb(0, 187, 0)\"><span class=\"ansi-green-fg\">6</span></span>)),\n",
       "  <span style=\"color: yellow\"><span class=\"ansi-yellow-fg\">GraphNode</span></span>(id = <span style=\"color: rgb(0, 187, 0)\"><span class=\"ansi-green-fg\">6</span></span>, nexts = <span style=\"color: yellow\"><span class=\"ansi-yellow-fg\">List</span></span>())\n",
       ")\n",
       "<span style=\"color: rgb(0, 187, 187)\"><span class=\"ansi-cyan-fg\">count</span></span>: <span style=\"color: rgb(0, 187, 0)\"><span class=\"ansi-green-fg\">Int</span></span> = <span style=\"color: rgb(0, 187, 0)\"><span class=\"ansi-green-fg\">12</span></span>\n",
       "defined <span style=\"color: rgb(0, 187, 0)\"><span class=\"ansi-green-fg\">function</span></span> <span style=\"color: rgb(0, 187, 187)\"><span class=\"ansi-cyan-fg\">dfsByRec</span></span></code></pre>\n",
       "</div>"
      ],
      "text/plain": [
       "\u001b[36mn\u001b[39m: \u001b[32mInt\u001b[39m = \u001b[32m6\u001b[39m\n",
       "\u001b[36marrives\u001b[39m: \u001b[32mArray\u001b[39m[\u001b[32mInt\u001b[39m] = \u001b[33mArray\u001b[39m(\u001b[32m1\u001b[39m, \u001b[32m2\u001b[39m, \u001b[32m3\u001b[39m, \u001b[32m9\u001b[39m, \u001b[32m4\u001b[39m, \u001b[32m5\u001b[39m)\n",
       "\u001b[36mreturns\u001b[39m: \u001b[32mArray\u001b[39m[\u001b[32mInt\u001b[39m] = \u001b[33mArray\u001b[39m(\u001b[32m12\u001b[39m, \u001b[32m11\u001b[39m, \u001b[32m8\u001b[39m, \u001b[32m10\u001b[39m, \u001b[32m7\u001b[39m, \u001b[32m6\u001b[39m)\n",
       "\u001b[36mtree\u001b[39m: \u001b[32mSeq\u001b[39m[\u001b[32mGraphNode\u001b[39m] = \u001b[33mList\u001b[39m(\n",
       "  \u001b[33mGraphNode\u001b[39m(id = \u001b[32m1\u001b[39m, nexts = \u001b[33mArraySeq\u001b[39m(\u001b[32m2\u001b[39m, \u001b[32m3\u001b[39m)),\n",
       "  \u001b[33mGraphNode\u001b[39m(id = \u001b[32m2\u001b[39m, nexts = \u001b[33mArraySeq\u001b[39m(\u001b[32m3\u001b[39m, \u001b[32m4\u001b[39m)),\n",
       "  \u001b[33mGraphNode\u001b[39m(id = \u001b[32m3\u001b[39m, nexts = \u001b[33mArraySeq\u001b[39m(\u001b[32m5\u001b[39m)),\n",
       "  \u001b[33mGraphNode\u001b[39m(id = \u001b[32m4\u001b[39m, nexts = \u001b[33mArraySeq\u001b[39m(\u001b[32m6\u001b[39m)),\n",
       "  \u001b[33mGraphNode\u001b[39m(id = \u001b[32m5\u001b[39m, nexts = \u001b[33mArraySeq\u001b[39m(\u001b[32m6\u001b[39m)),\n",
       "  \u001b[33mGraphNode\u001b[39m(id = \u001b[32m6\u001b[39m, nexts = \u001b[33mList\u001b[39m())\n",
       ")\n",
       "\u001b[36mcount\u001b[39m: \u001b[32mInt\u001b[39m = \u001b[32m12\u001b[39m\n",
       "defined \u001b[32mfunction\u001b[39m \u001b[36mdfsByRec\u001b[39m"
      ]
     },
     "metadata": {},
     "output_type": "display_data"
    }
   ],
   "source": [
    "val n=graph.length\n",
    "var arrives = Array.fill(n)(-1)\n",
    "var returns = Array.fill(n)(-1)\n",
    "val tree = graph\n",
    "var count = 0\n",
    "def dfsByRec(currentNode:Int=1):Unit={\n",
    "    // ここが行きがけ\n",
    "    count+=1\n",
    "    arrives(currentNode-1) = count\n",
    "    if(tree(currentNode-1).nexts.exists(n=> arrives(n-1) == -1)){\n",
    "      tree(currentNode-1).nexts.foreach{n=>\n",
    "          // filter でやると、他の経路から来た場合で変になる\n",
    "        if(arrives(n-1)== -1){\n",
    "            dfsByRec(n)\n",
    "        }\n",
    "      }\n",
    "    }\n",
    "    // 探索しなかった/し終わったならこっち\n",
    "    count+=1\n",
    "    returns(currentNode-1)=count\n",
    "    \n",
    "    \n",
    "}\n",
    "dfsByRec(1)\n"
   ]
  },
  {
   "cell_type": "markdown",
   "id": "cb96f09e",
   "metadata": {},
   "source": [
    "1,3,5からなるN桁の数字\n",
    "\n",
    "深さNの深さ優先探索で求められる. 深さ優先探索は再帰を使ってもStackを使っても良い.\n",
    "\n",
    "以下、再帰を使った実装とスタックを使った実装を書く."
   ]
  },
  {
   "cell_type": "code",
   "execution_count": 9,
   "id": "79d38ade",
   "metadata": {},
   "outputs": [
    {
     "data": {
      "text/plain": [
       "\u001b[32mimport \u001b[39m\u001b[36mscala.collection.mutable.ArrayBuffer\n",
       "\u001b[39m\n",
       "\u001b[36mcandidates\u001b[39m: \u001b[32mArray\u001b[39m[\u001b[32mString\u001b[39m] = \u001b[33mArray\u001b[39m(\u001b[32m\"1\"\u001b[39m, \u001b[32m\"3\"\u001b[39m, \u001b[32m\"5\"\u001b[39m)\n",
       "defined \u001b[32mfunction\u001b[39m \u001b[36msolution\u001b[39m"
      ]
     },
     "execution_count": 9,
     "metadata": {},
     "output_type": "execute_result"
    }
   ],
   "source": [
    "import scala.collection.mutable.ArrayBuffer\n",
    "val candidates = Array(\"1\",\"3\",\"5\")\n",
    "def solution(n:Int,result:Array[String]=candidates):Array[Int]={\n",
    "    if(n==1){\n",
    "        result.map(_.toString).map(_.toInt)\n",
    "    }else{\n",
    "        val next = result.foldLeft[ArrayBuffer[String]](ArrayBuffer()){case (acc,s)=>\n",
    "            candidates.foreach{c=> acc.append(s+c)}\n",
    "            acc\n",
    "        }\n",
    "        solution(n-1,next.toArray)\n",
    "    }\n",
    "}"
   ]
  },
  {
   "cell_type": "code",
   "execution_count": 10,
   "id": "5019e26b",
   "metadata": {},
   "outputs": [
    {
     "data": {
      "text/plain": [
       "\u001b[32mimport \u001b[39m\u001b[36mscala.collection.mutable.ArrayStack\n",
       "\u001b[39m\n",
       "\u001b[36mcandidates\u001b[39m: \u001b[32mcollection\u001b[39m.\u001b[32mmutable\u001b[39m.\u001b[32mStack\u001b[39m[\u001b[32mString\u001b[39m] = \u001b[33mStack\u001b[39m(\u001b[32m\"1\"\u001b[39m, \u001b[32m\"3\"\u001b[39m, \u001b[32m\"5\"\u001b[39m)\n",
       "defined \u001b[32mfunction\u001b[39m \u001b[36msolution2\u001b[39m"
      ]
     },
     "execution_count": 10,
     "metadata": {},
     "output_type": "execute_result"
    }
   ],
   "source": [
    "import scala.collection.mutable.ArrayStack\n",
    "val candidates = ArrayStack(\"1\",\"3\",\"5\")\n",
    "def solution2(n:Int)={\n",
    "    var stack = ArrayStack[String]()\n",
    "    var result = ArrayBuffer[String]()\n",
    "    stack.pushAll(candidates)\n",
    "    while(!stack.isEmpty){\n",
    "        val top :String= stack.pop\n",
    "        result.append(top)\n",
    "        if(top.length<n){\n",
    "            val nextStates=candidates.map(c=>c+top)\n",
    "          stack.pushAll(nextStates)\n",
    "        }  \n",
    "    }\n",
    "    result.toArray\n",
    "}"
   ]
  },
  {
   "cell_type": "markdown",
   "id": "076051c4",
   "metadata": {},
   "source": [
    "有向グラフの探索\n",
    "\n",
    "> 最初の行に G の頂点数 n が与えられます。続く n 行で各頂点 u の隣接リストが以下の形式で与えられます：\n",
    ">\n",
    "> $ukv_1 v_2 ... v_k$\n",
    ">\n",
    "> u は頂点の番号、k は u の出次数、$v_1v_2\\dots v_k$　は u に隣接する頂点の番号を示します。"
   ]
  },
  {
   "cell_type": "code",
   "execution_count": 196,
   "id": "f45682ad",
   "metadata": {},
   "outputs": [
    {
     "name": "stdout",
     "output_type": "stream",
     "text": [
      "ArrayBuffer(0, -1, -1, -1)\n",
      "ArrayBuffer(0, 1, -1, -1)\n",
      "ArrayBuffer(0, 1, -1, 1)\n",
      "ArrayBuffer(0, 1, -1, 1)\n",
      "ArrayBuffer(0, 1, 2, 1)\n",
      "the shortest distance to 1 is 0\n",
      "the shortest distance to 2 is 1\n",
      "the shortest distance to 3 is 2\n",
      "the shortest distance to 4 is 1\n"
     ]
    },
    {
     "data": {
      "text/plain": [
       "\u001b[32mimport \u001b[39m\u001b[36mscala.collection.mutable.{ArrayBuffer,Queue}\n",
       "\u001b[39m\n",
       "\u001b[36minput\u001b[39m: \u001b[32mString\u001b[39m = \u001b[32m\"\"\"1 2 2 4\n",
       "2 1 4\n",
       "3 0\n",
       "4 1 3\"\"\"\u001b[39m\n",
       "\u001b[36mnodes\u001b[39m: \u001b[32mSeq\u001b[39m[\u001b[32mGraphNode\u001b[39m] = \u001b[33mList\u001b[39m(\n",
       "  \u001b[33mGraphNode\u001b[39m(number = \u001b[32m1\u001b[39m, nexts = \u001b[33mList\u001b[39m(\u001b[32m2\u001b[39m, \u001b[32m4\u001b[39m)),\n",
       "  \u001b[33mGraphNode\u001b[39m(number = \u001b[32m2\u001b[39m, nexts = \u001b[33mList\u001b[39m(\u001b[32m4\u001b[39m)),\n",
       "  \u001b[33mGraphNode\u001b[39m(number = \u001b[32m3\u001b[39m, nexts = \u001b[33mList\u001b[39m()),\n",
       "  \u001b[33mGraphNode\u001b[39m(number = \u001b[32m4\u001b[39m, nexts = \u001b[33mList\u001b[39m(\u001b[32m3\u001b[39m))\n",
       ")\n",
       "defined \u001b[32mfunction\u001b[39m \u001b[36msolution\u001b[39m\n",
       "defined \u001b[32mclass\u001b[39m \u001b[36mGraphNode\u001b[39m"
      ]
     },
     "execution_count": 196,
     "metadata": {},
     "output_type": "execute_result"
    }
   ],
   "source": [
    "import scala.collection.mutable.{ArrayBuffer,Queue}\n",
    "val input = \"\"\"1 2 2 4\n",
    "2 1 4\n",
    "3 0\n",
    "4 1 3\"\"\"\n",
    "val nodes = Seq(GraphNode(1,Seq(2,4)),GraphNode(2,Seq(4)),GraphNode(3,Seq()),GraphNode(4,Seq(3)))\n",
    "def solution()={\n",
    "    var result:ArrayBuffer[Int] = ArrayBuffer.fill(4)(-1)\n",
    "    var q = Queue[GraphNode]()\n",
    "    result(0)=0\n",
    "    q.append(nodes(0))\n",
    "    while(!q.isEmpty){\n",
    "        val top = q.dequeue\n",
    "        top.nexts.foreach{n => \n",
    "            println(result)\n",
    "          if( result(n-1) == -1 || result(top.number-1)+1<result(n-1)){\n",
    "              result(n-1)=result(top.number-1)+1\n",
    "          }\n",
    "        }\n",
    "        q.appendAll(top.nexts.map(i=>nodes(i-1)))\n",
    "    }\n",
    "    result.zipWithIndex.foreach{case(r,i)=>\n",
    "      println(s\"the shortest distance to ${i+1} is $r\")\n",
    "    }\n",
    "}\n",
    "case class GraphNode(number:Int,nexts:Seq[Int])\n",
    "solution()"
   ]
  },
  {
   "cell_type": "markdown",
   "id": "de66bd70",
   "metadata": {},
   "source": [
    "グラフの連結成分の個数を数える\n",
    "\n",
    "- DFS,BFSでノードを探索する. DFSまたはBFSを行った回数=連結成分の個数"
   ]
  },
  {
   "cell_type": "code",
   "execution_count": 198,
   "id": "bea102ff",
   "metadata": {},
   "outputs": [
    {
     "data": {
      "text/plain": [
       "\u001b[36mnodes\u001b[39m: \u001b[32mSeq\u001b[39m[\u001b[32mGraphNode\u001b[39m] = \u001b[33mList\u001b[39m(\n",
       "  \u001b[33mGraphNode\u001b[39m(number = \u001b[32m1\u001b[39m, nexts = \u001b[33mList\u001b[39m(\u001b[32m2\u001b[39m, \u001b[32m4\u001b[39m)),\n",
       "  \u001b[33mGraphNode\u001b[39m(number = \u001b[32m2\u001b[39m, nexts = \u001b[33mList\u001b[39m(\u001b[32m4\u001b[39m)),\n",
       "  \u001b[33mGraphNode\u001b[39m(number = \u001b[32m3\u001b[39m, nexts = \u001b[33mList\u001b[39m()),\n",
       "  \u001b[33mGraphNode\u001b[39m(number = \u001b[32m4\u001b[39m, nexts = \u001b[33mList\u001b[39m())\n",
       ")\n",
       "defined \u001b[32mfunction\u001b[39m \u001b[36msolution\u001b[39m\n",
       "\u001b[36mres197_2\u001b[39m: \u001b[32mInt\u001b[39m = \u001b[32m2\u001b[39m"
      ]
     },
     "execution_count": 198,
     "metadata": {},
     "output_type": "execute_result"
    }
   ],
   "source": [
    "val nodes = Seq(GraphNode(1,Seq(2,4)),GraphNode(2,Seq(4)),GraphNode(3,Seq()),GraphNode(4,Seq()))\n",
    "def solution()={\n",
    "    var result= ArrayBuffer.fill(nodes.length)(-1)\n",
    "    var cnt = 0\n",
    "    for(i <- 0 to nodes.length-1){\n",
    "        if(result(nodes(i).number-1) == -1){\n",
    "            cnt+=1\n",
    "            // 未探索のnodeからbfs を行う\n",
    "            var q = Queue[GraphNode]()\n",
    "            q.append(nodes(i))\n",
    "            while(!q.isEmpty){\n",
    "                // qから遷移可能な点をマークする\n",
    "                val top = q.dequeue\n",
    "                top.nexts.foreach{n=>\n",
    "                  if(result(n-1) == -1){\n",
    "                      result(n-1) = 1\n",
    "                      q.append(nodes(n-1))\n",
    "                  }\n",
    "                }\n",
    "                \n",
    "            }\n",
    "            \n",
    "        }\n",
    "    }\n",
    "    cnt\n",
    "}\n",
    "solution()"
   ]
  },
  {
   "cell_type": "markdown",
   "id": "24f40546",
   "metadata": {},
   "source": [
    "連結成分に含まれるかどうかを探索\n",
    "\n",
    "- ノードをBFS,DFSで探索し、同じノードごとに連結成分の番号を振る."
   ]
  },
  {
   "cell_type": "code",
   "execution_count": 214,
   "id": "8b393724",
   "metadata": {},
   "outputs": [
    {
     "name": "stdout",
     "output_type": "stream",
     "text": [
      "HashMap(0 -> 1, 1 -> 1, 2 -> 2, 3 -> 1)\n"
     ]
    },
    {
     "data": {
      "text/plain": [
       "\u001b[32mimport \u001b[39m\u001b[36mscala.collection.mutable.Map\n",
       "//sorted graph nodes\n",
       "\u001b[39m\n",
       "\u001b[36mnodes\u001b[39m: \u001b[32mSeq\u001b[39m[\u001b[32mGraphNode\u001b[39m] = \u001b[33mList\u001b[39m(\n",
       "  \u001b[33mGraphNode\u001b[39m(number = \u001b[32m1\u001b[39m, nexts = \u001b[33mList\u001b[39m(\u001b[32m2\u001b[39m, \u001b[32m4\u001b[39m)),\n",
       "  \u001b[33mGraphNode\u001b[39m(number = \u001b[32m2\u001b[39m, nexts = \u001b[33mList\u001b[39m(\u001b[32m4\u001b[39m)),\n",
       "  \u001b[33mGraphNode\u001b[39m(number = \u001b[32m3\u001b[39m, nexts = \u001b[33mList\u001b[39m()),\n",
       "  \u001b[33mGraphNode\u001b[39m(number = \u001b[32m4\u001b[39m, nexts = \u001b[33mList\u001b[39m())\n",
       ")\n",
       "defined \u001b[32mfunction\u001b[39m \u001b[36msolution\u001b[39m\n",
       "\u001b[36mres213_3\u001b[39m: \u001b[32mInt\u001b[39m = \u001b[32m2\u001b[39m"
      ]
     },
     "execution_count": 214,
     "metadata": {},
     "output_type": "execute_result"
    }
   ],
   "source": [
    "import scala.collection.mutable.Map\n",
    "//sorted graph nodes\n",
    "val nodes = Seq(GraphNode(1,Seq(2,4)),GraphNode(2,Seq(4)),GraphNode(3,Seq()),GraphNode(4,Seq()))\n",
    "def solution()={\n",
    "    // init array\n",
    "    var found = Array.fill(nodes.length)(-1)\n",
    "    var graphId = 0\n",
    "    var map = Map[Int,Int]() // nodeNumber(0-indexed) -> graphId\n",
    "    for(i <- 0 to nodes.length-1){\n",
    "        if(found(i)== -1){\n",
    "            // start bfs\n",
    "            graphId+=1 \n",
    "            var q = Queue[GraphNode]()\n",
    "            q.enqueue(nodes(i))\n",
    "            found(i)==1\n",
    "            map(i)=graphId\n",
    "\n",
    "            while(!q.isEmpty){\n",
    "                val top  = q.dequeue\n",
    "                top.nexts.foreach{n=>\n",
    "                  if(found(n-1)== -1){\n",
    "                      found(n-1)= 1\n",
    "                      q.enqueue(nodes(n-1))\n",
    "                      map(n-1)=graphId\n",
    "                  }\n",
    "                }\n",
    "            }\n",
    "        }\n",
    "    }\n",
    "    println(map)\n",
    "    map.values.toSet.size\n",
    "}\n",
    "solution()"
   ]
  },
  {
   "cell_type": "markdown",
   "id": "dfc029de",
   "metadata": {},
   "source": [
    "木の直径"
   ]
  },
  {
   "cell_type": "code",
   "execution_count": 55,
   "id": "067e4f53",
   "metadata": {},
   "outputs": [
    {
     "data": {
      "text/plain": [
       "defined \u001b[32mfunction\u001b[39m \u001b[36mparseEdge\u001b[39m\n",
       "defined \u001b[32mfunction\u001b[39m \u001b[36mparseEdges\u001b[39m"
      ]
     },
     "execution_count": 55,
     "metadata": {},
     "output_type": "execute_result"
    }
   ],
   "source": [
    "//https://judge.u-aizu.ac.jp/onlinejudge/description.jsp?id=GRL_5_A&lang=jp\n",
    "\n",
    "\n",
    "def parseEdge(graph:Array[Array[Double]],input:String,separator:String=\" \") :Unit={\n",
    "    // int,int, (Int|Double)\n",
    "    val edge = input.split(separator)\n",
    "    val Array(from,to) = edge.take(2).map(_.toInt)\n",
    "    val cost :Double = edge.last.toDouble\n",
    "    graph(from)(to) = cost\n",
    "    graph(to)(from) = cost\n",
    "    graph(from)(from)=0\n",
    "    graph(to)(to)=0\n",
    "}\n",
    "def parseEdges(n:Int,input:String) ={\n",
    "    val graph = Array.fill(n,n)(-1.0)\n",
    "    input.split(\"\\n\").foreach(edge=> parseEdge(graph,edge))\n",
    "    graph\n",
    "}\n"
   ]
  },
  {
   "cell_type": "code",
   "execution_count": 80,
   "id": "a319aa34",
   "metadata": {},
   "outputs": [
    {
     "data": {
      "text/plain": [
       "\u001b[32mimport \u001b[39m\u001b[36mscala.collection.mutable.Queue\n",
       "\u001b[39m\n",
       "\u001b[36minput\u001b[39m: \u001b[32mString\u001b[39m = \u001b[32m\"\"\"0 1 2\n",
       "1 2 1\n",
       "1 3 3\"\"\"\u001b[39m\n",
       "\u001b[36mn\u001b[39m: \u001b[32mInt\u001b[39m = \u001b[32m4\u001b[39m\n",
       "\u001b[36mgraph\u001b[39m: \u001b[32mArray\u001b[39m[\u001b[32mArray\u001b[39m[\u001b[32mDouble\u001b[39m]] = \u001b[33mArray\u001b[39m(\n",
       "  \u001b[33mArray\u001b[39m(\u001b[32m0.0\u001b[39m, \u001b[32m2.0\u001b[39m, \u001b[32m-1.0\u001b[39m, \u001b[32m-1.0\u001b[39m),\n",
       "  \u001b[33mArray\u001b[39m(\u001b[32m2.0\u001b[39m, \u001b[32m0.0\u001b[39m, \u001b[32m1.0\u001b[39m, \u001b[32m3.0\u001b[39m),\n",
       "  \u001b[33mArray\u001b[39m(\u001b[32m-1.0\u001b[39m, \u001b[32m1.0\u001b[39m, \u001b[32m0.0\u001b[39m, \u001b[32m-1.0\u001b[39m),\n",
       "  \u001b[33mArray\u001b[39m(\u001b[32m-1.0\u001b[39m, \u001b[32m3.0\u001b[39m, \u001b[32m-1.0\u001b[39m, \u001b[32m0.0\u001b[39m)\n",
       ")\n",
       "\u001b[36minput2\u001b[39m: \u001b[32mString\u001b[39m = \u001b[32m\"\"\"0 1 1\n",
       "1 2 2\n",
       "2 3 4\"\"\"\u001b[39m\n",
       "\u001b[36mgraph2\u001b[39m: \u001b[32mArray\u001b[39m[\u001b[32mArray\u001b[39m[\u001b[32mDouble\u001b[39m]] = \u001b[33mArray\u001b[39m(\n",
       "  \u001b[33mArray\u001b[39m(\u001b[32m0.0\u001b[39m, \u001b[32m1.0\u001b[39m, \u001b[32m-1.0\u001b[39m, \u001b[32m-1.0\u001b[39m),\n",
       "  \u001b[33mArray\u001b[39m(\u001b[32m1.0\u001b[39m, \u001b[32m0.0\u001b[39m, \u001b[32m2.0\u001b[39m, \u001b[32m-1.0\u001b[39m),\n",
       "  \u001b[33mArray\u001b[39m(\u001b[32m-1.0\u001b[39m, \u001b[32m2.0\u001b[39m, \u001b[32m0.0\u001b[39m, \u001b[32m4.0\u001b[39m),\n",
       "  \u001b[33mArray\u001b[39m(\u001b[32m-1.0\u001b[39m, \u001b[32m-1.0\u001b[39m, \u001b[32m4.0\u001b[39m, \u001b[32m0.0\u001b[39m)\n",
       ")\n",
       "\u001b[32mimport \u001b[39m\u001b[36mscala.reflect.ClassTag\n",
       "\n",
       "\u001b[39m\n",
       "defined \u001b[32mtrait\u001b[39m \u001b[36mEdgeDistance\u001b[39m\n",
       "\u001b[36mintDistance\u001b[39m: \u001b[32mAnyRef\u001b[39m with \u001b[32mEdgeDistance\u001b[39m[\u001b[32mInt\u001b[39m] = ammonite.$sess.cmd79$Helper$$anon$1@fa45f22\n",
       "\u001b[36mdoubleDistance\u001b[39m: \u001b[32mAnyRef\u001b[39m with \u001b[32mEdgeDistance\u001b[39m[\u001b[32mDouble\u001b[39m] = ammonite.$sess.cmd79$Helper$$anon$2@7a84442\n",
       "defined \u001b[32mfunction\u001b[39m \u001b[36mshortestPathInDAGByBFS\u001b[39m\n",
       "defined \u001b[32mfunction\u001b[39m \u001b[36msolution\u001b[39m\n",
       "\u001b[36mres79_12\u001b[39m: \u001b[32mDouble\u001b[39m = \u001b[32m5.0\u001b[39m\n",
       "\u001b[36mres79_13\u001b[39m: \u001b[32mDouble\u001b[39m = \u001b[32m5.0\u001b[39m"
      ]
     },
     "execution_count": 80,
     "metadata": {},
     "output_type": "execute_result"
    }
   ],
   "source": [
    "\n",
    "import scala.collection.mutable.Queue\n",
    "val input:String= \"\"\"0 1 2\n",
    "1 2 1\n",
    "1 3 3\"\"\"\n",
    "val n=4\n",
    "// graph(i)(j) i番目のノードからj番目のノードへのコスト. 存在しない部分は-1を入れる\n",
    "// 無向グラフなので双方向\n",
    "val graph =parseEdges(n,input)\n",
    "val input2:String=\"\"\"0 1 1\n",
    "1 2 2\n",
    "2 3 4\"\"\"\n",
    "val graph2 = parseEdges(n,input2)\n",
    "\n",
    "import scala.reflect.ClassTag\n",
    "\n",
    "trait EdgeDistance[T] {\n",
    "    def add(a:T,b:T):T\n",
    "    def mzero:T\n",
    "    def empty:T\n",
    "}\n",
    "implicit val intDistance = new EdgeDistance[Int]{\n",
    "  def add(a: Int, b: Int): Int = a + b\n",
    "  def mzero: Int = 0\n",
    "  def empty:Int = -1\n",
    "}\n",
    "implicit val doubleDistance = new EdgeDistance[Double]{\n",
    "    def add(a:Double,b:Double):Double = a + b\n",
    "    def mzero :Double = 0.0\n",
    "    def empty:Double = -1.0\n",
    "}\n",
    "\n",
    "// 二次元配列で表現された無向グラフが与えられたとき、ノードi から ノードj への距離を求める\n",
    "// graph は graph(i)(j) がノードiからノードjへのコストをあらわす二次元配列である\n",
    "// エッジがある場合ノードからノードへのコストを正の数で、ない場合-1であらわしたものを与える\n",
    "// 負のコストは探索しない\n",
    "def shortestPathInDAGByBFS[T](\n",
    "    from:Int/*start node index*/,\n",
    "    graph:Array[Array[T]])\n",
    "(implicit comparator: Ordering[T],\n",
    " edgeDistance: EdgeDistance[T],ct:ClassTag[T]):(Int,T,Array[T])\n",
    "/*(furthest node index,the furthest distance,distances)*/\n",
    "= {\n",
    "    // queue of indexes to search\n",
    "    var q = Queue[Int]()\n",
    "    // interim furthest node index and distance\n",
    "    var furthest:(Int,T) = (from,edgeDistance.mzero)\n",
    "    // distances between from node and `k`th node. (k=0,1,...,graph.length-1)\n",
    "    var dist: Array[T]= Array.fill(graph.length)(edgeDistance.empty)\n",
    "    \n",
    "    dist(from)=edgeDistance.mzero\n",
    "    \n",
    "    q.enqueue(from)\n",
    "    while(!q.isEmpty){\n",
    "        val pwd = q.dequeue\n",
    "        val nexts = graph(pwd)\n",
    "        nexts.zipWithIndex.foreach{ case (d,idx)=>\n",
    "            // d can be Int,Double,Float,BigInt\n",
    "          if(comparator.compare(d,edgeDistance.mzero) >0){ // pwdからの距離\n",
    "              if(dist(idx) == -1){// from から idx番目のノードへの距離が未探索\n",
    "                    dist(idx) = edgeDistance.add(dist(pwd),d)\n",
    "                   if(comparator.compare(dist(idx),furthest._2)> 0){\n",
    "                       furthest = (idx,dist(idx))\n",
    "                   }\n",
    "                    q.append(idx)\n",
    "              }\n",
    "          }\n",
    "        }\n",
    "        \n",
    "    }\n",
    "    (furthest._1,furthest._2,dist)\n",
    "}\n",
    "\n",
    "\n",
    "def solution[T:EdgeDistance:ClassTag:Ordering](graph:Array[Array[T]])={\n",
    "    val (i,d,ds)=shortestPathInDAGByBFS(0,graph)\n",
    "    val (_,diameter,__) = shortestPathInDAGByBFS(i,graph)\n",
    "   diameter     \n",
    "}\n",
    "solution[Double](graph)\n",
    "\n",
    "solution[Double](graph)"
   ]
  },
  {
   "cell_type": "code",
   "execution_count": 81,
   "id": "c0700744",
   "metadata": {},
   "outputs": [
    {
     "data": {
      "text/plain": [
       "\u001b[32mimport \u001b[39m\u001b[36m$file.$                                             \n",
       "\u001b[39m\n",
       "\u001b[32mimport \u001b[39m\u001b[36mDAGBFS.doubleDistance\n",
       "\u001b[39m\n",
       "\u001b[36mres80_2\u001b[39m: (\u001b[32mInt\u001b[39m, \u001b[32mDouble\u001b[39m, \u001b[32mArray\u001b[39m[\u001b[32mDouble\u001b[39m]) = (\u001b[32m3\u001b[39m, \u001b[32m5.0\u001b[39m, \u001b[33mArray\u001b[39m(\u001b[32m0.0\u001b[39m, \u001b[32m2.0\u001b[39m, \u001b[32m3.0\u001b[39m, \u001b[32m5.0\u001b[39m))"
      ]
     },
     "execution_count": 81,
     "metadata": {},
     "output_type": "execute_result"
    }
   ],
   "source": [
    "import $file.helpers.scala.{shortestPathInDAGByBFS=>DAGBFS}\n",
    "import DAGBFS.doubleDistance\n",
    "DAGBFS.shortestPathInDAGByBFS(0,graph)"
   ]
  },
  {
   "cell_type": "markdown",
   "id": "d9778da7",
   "metadata": {},
   "source": [
    "Container With Most Water\n",
    "\n",
    "インデックスを$i \\in \\mathbb{N}(0 \\in \\mathbb{N})$として${a_0,a_1,\\dots,a_i,\\dots,a_{n-1}},(a_i \\in \\mathbb{N})$が与えられたとき, 各$a_i$について点$A_i=(i,a_i)$と点$R_i=(i,0)$を結ぶ線分$l_i$を描く. このとき、適当な$l_j$と$l_k(j\\neq k,a_j<a_k)$を選び,高さ$a_j$,幅$|j-k|$によってつくられる長方形$S$を最大にするとき、その最大値を求めよ.\n",
    "\n",
    "解の方針\n",
    "\n",
    "二つのインデックスを両側から順に動かしていく.内側に動かすとき高さは増加・減少しうる一方で幅は減少することに注意する.\n"
   ]
  },
  {
   "cell_type": "code",
   "execution_count": 8,
   "id": "5e593a54",
   "metadata": {},
   "outputs": [
    {
     "data": {
      "text/plain": [
       "\u001b[36mheights\u001b[39m: \u001b[32mSeq\u001b[39m[\u001b[32mInt\u001b[39m] = \u001b[33mList\u001b[39m(\u001b[32m1\u001b[39m, \u001b[32m8\u001b[39m, \u001b[32m6\u001b[39m, \u001b[32m2\u001b[39m, \u001b[32m5\u001b[39m, \u001b[32m4\u001b[39m, \u001b[32m8\u001b[39m, \u001b[32m3\u001b[39m, \u001b[32m7\u001b[39m)"
      ]
     },
     "execution_count": 8,
     "metadata": {},
     "output_type": "execute_result"
    }
   ],
   "source": [
    "val heights= Seq(1,8,6,2,5,4,8,3,7)"
   ]
  },
  {
   "cell_type": "code",
   "execution_count": 9,
   "id": "bd820b09",
   "metadata": {},
   "outputs": [
    {
     "data": {
      "text/plain": [
       "defined \u001b[32mfunction\u001b[39m \u001b[36msolution\u001b[39m"
      ]
     },
     "execution_count": 9,
     "metadata": {},
     "output_type": "execute_result"
    }
   ],
   "source": [
    "def solution(heights:Seq[Int],leftEnd:Int=0,rightEnd:Int,max:Int):Int = {\n",
    "    var _l = leftEnd\n",
    "    var _r = rightEnd\n",
    "    var _max = max\n",
    "    if(_l < _r){\n",
    "        val S = (_r - _l)* math.min(heights(_l),heights(_r))\n",
    "       _max = math.max(max,S)\n",
    "        if(heights(_l)>heights(_r)){\n",
    "            _r -= 1\n",
    "        }else{\n",
    "            _l +=1\n",
    "        }\n",
    "    solution(heights,_l,_r,_max)\n",
    "    }else{\n",
    "        _max\n",
    "    }\n",
    "}"
   ]
  },
  {
   "cell_type": "code",
   "execution_count": 11,
   "id": "79d70b46",
   "metadata": {},
   "outputs": [
    {
     "data": {
      "text/plain": [
       "\u001b[36mres10\u001b[39m: \u001b[32mInt\u001b[39m = \u001b[32m49\u001b[39m"
      ]
     },
     "execution_count": 11,
     "metadata": {},
     "output_type": "execute_result"
    }
   ],
   "source": [
    "solution(heights,0,heights.length-1,0)"
   ]
  },
  {
   "cell_type": "code",
   "execution_count": 86,
   "id": "e2f0fbdf",
   "metadata": {},
   "outputs": [
    {
     "data": {
      "text/html": [
       "Some <b>HTML</b>"
      ],
      "text/md": [
       "## hello world"
      ]
     },
     "metadata": {},
     "output_type": "display_data"
    },
    {
     "data": {
      "text/plain": [
       "\u001b[32mimport \u001b[39m\u001b[36malmond.interpreter.api.DisplayData\n",
       "\u001b[39m"
      ]
     },
     "execution_count": 86,
     "metadata": {},
     "output_type": "execute_result"
    }
   ],
   "source": [
    "import almond.interpreter.api.DisplayData\n",
    "display(\n",
    "  DisplayData(\n",
    "    Map(\n",
    "      \"text/html\" -> \"Some <b>HTML</b>\",\"text/md\"->\"## hello world\")))"
   ]
  },
  {
   "cell_type": "markdown",
   "id": "73fb0ec8",
   "metadata": {},
   "source": [
    "RomanToInteger\n",
    "\n",
    "note:\n",
    "- HashMapの要素アクセスは$O(1)$"
   ]
  },
  {
   "cell_type": "code",
   "execution_count": 12,
   "id": "3cb2b88b",
   "metadata": {},
   "outputs": [
    {
     "data": {
      "text/plain": [
       "defined \u001b[32mfunction\u001b[39m \u001b[36mRomanToInteger\u001b[39m"
      ]
     },
     "execution_count": 12,
     "metadata": {},
     "output_type": "execute_result"
    }
   ],
   "source": [
    "def RomanToInteger(roman:String):Int={\n",
    "    var sum :Int = 0\n",
    "    val pairs:Map[String,Int] = Map(\"I\"->1,\"V\"->5,\"X\"->10,\"L\"->50,\"C\"->100,\"D\"->500,\"M\"->1000)\n",
    "    for(i <- 0 to roman.length -2){\n",
    "        if(pairs(roman(i).toString)<pairs(roman(i+1).toString)){\n",
    "          sum -= pairs(roman(0).toString)\n",
    "        }else {\n",
    "          sum += pairs(roman(i).toString)\n",
    "        }\n",
    "        \n",
    "    }\n",
    "    return sum + pairs(roman.last.toString)\n",
    "}"
   ]
  },
  {
   "cell_type": "markdown",
   "id": "91ca90a1",
   "metadata": {},
   "source": [
    "3Sum\n",
    "- $\\alpha + \\beta + \\gamma = 0$なら、どれか一つを固定すればTwoSumに帰着できる.\n",
    "- sortすれば大きすぎる値は除けそう"
   ]
  },
  {
   "cell_type": "code",
   "execution_count": 45,
   "id": "442849da",
   "metadata": {
    "tags": []
   },
   "outputs": [
    {
     "data": {
      "text/plain": [
       "\u001b[32mimport \u001b[39m\u001b[36mscala.collection.mutable.ArrayBuffer\n",
       "\u001b[39m\n",
       "\u001b[32mimport \u001b[39m\u001b[36mscala.collection.mutable.HashMap\n",
       "\u001b[39m\n",
       "\u001b[32mimport \u001b[39m\u001b[36mscala.collection.mutable.Set\n",
       "\u001b[39m\n",
       "\u001b[36mnums\u001b[39m: \u001b[32mSeq\u001b[39m[\u001b[32mInt\u001b[39m] = \u001b[33mList\u001b[39m(\u001b[32m-4\u001b[39m, \u001b[32m-1\u001b[39m, \u001b[32m-1\u001b[39m, \u001b[32m0\u001b[39m, \u001b[32m1\u001b[39m, \u001b[32m2\u001b[39m)\n",
       "\u001b[36mmap\u001b[39m: \u001b[32mHashMap\u001b[39m[\u001b[32mInt\u001b[39m, \u001b[32mHashMap\u001b[39m[\u001b[32mInt\u001b[39m, \u001b[32mInt\u001b[39m]] = \u001b[33mHashMap\u001b[39m(\n",
       "  \u001b[32m-1\u001b[39m -> \u001b[33mHashMap\u001b[39m(\u001b[32m1\u001b[39m -> \u001b[32m3\u001b[39m, \u001b[32m2\u001b[39m -> \u001b[32m2\u001b[39m, \u001b[32m5\u001b[39m -> \u001b[32m0\u001b[39m),\n",
       "  \u001b[32m0\u001b[39m -> \u001b[33mHashMap\u001b[39m(\u001b[32m-2\u001b[39m -> \u001b[32m5\u001b[39m, \u001b[32m1\u001b[39m -> \u001b[32m2\u001b[39m, \u001b[32m4\u001b[39m -> \u001b[32m0\u001b[39m),\n",
       "  \u001b[32m1\u001b[39m -> \u001b[33mHashMap\u001b[39m(\u001b[32m0\u001b[39m -> \u001b[32m2\u001b[39m, \u001b[32m-3\u001b[39m -> \u001b[32m5\u001b[39m, \u001b[32m3\u001b[39m -> \u001b[32m0\u001b[39m),\n",
       "  \u001b[32m2\u001b[39m -> \u001b[33mHashMap\u001b[39m(\u001b[32m-1\u001b[39m -> \u001b[32m1\u001b[39m, \u001b[32m-2\u001b[39m -> \u001b[32m3\u001b[39m, \u001b[32m-3\u001b[39m -> \u001b[32m4\u001b[39m, \u001b[32m2\u001b[39m -> \u001b[32m0\u001b[39m),\n",
       "  \u001b[32m-4\u001b[39m -> \u001b[33mHashMap\u001b[39m(\u001b[32m2\u001b[39m -> \u001b[32m5\u001b[39m, \u001b[32m3\u001b[39m -> \u001b[32m4\u001b[39m, \u001b[32m4\u001b[39m -> \u001b[32m3\u001b[39m, \u001b[32m5\u001b[39m -> \u001b[32m2\u001b[39m)\n",
       ")\n",
       "\u001b[36mset\u001b[39m: \u001b[32mSet\u001b[39m[\u001b[32mSeq\u001b[39m[\u001b[32mInt\u001b[39m]] = \u001b[33mHashSet\u001b[39m(\u001b[33mList\u001b[39m(\u001b[32m-1\u001b[39m, \u001b[32m0\u001b[39m, \u001b[32m1\u001b[39m), \u001b[33mList\u001b[39m(\u001b[32m-1\u001b[39m, \u001b[32m-1\u001b[39m, \u001b[32m2\u001b[39m))\n",
       "\u001b[36mres44_7\u001b[39m: \u001b[32mSet\u001b[39m[\u001b[32mSeq\u001b[39m[\u001b[32mInt\u001b[39m]] = \u001b[33mHashSet\u001b[39m(\u001b[33mList\u001b[39m(\u001b[32m-1\u001b[39m, \u001b[32m0\u001b[39m, \u001b[32m1\u001b[39m), \u001b[33mList\u001b[39m(\u001b[32m-1\u001b[39m, \u001b[32m-1\u001b[39m, \u001b[32m2\u001b[39m))"
      ]
     },
     "execution_count": 45,
     "metadata": {},
     "output_type": "execute_result"
    }
   ],
   "source": [
    "import scala.collection.mutable.ArrayBuffer\n",
    "import scala.collection.mutable.HashMap\n",
    "import scala.collection.mutable.Set\n",
    "val nums = Seq(-1,0,1,2,-1,-4).sorted\n",
    "// a->c->bのidx\n",
    "val map:HashMap[Int,HashMap[Int,Int]]=HashMap()\n",
    "val set:Set[Seq[Int]] = Set()\n",
    "for(i <- 0 to nums.length -1){\n",
    "    val fixed = nums(i)\n",
    "    if(!map.contains(fixed)){\n",
    "        map.addOne(fixed->HashMap())\n",
    "        for (j <- 0 to nums.length -1){\n",
    "             if(j!=i){\n",
    "              if(map(fixed).contains(nums(j))){\n",
    "                set.add(Seq(fixed,nums(j),nums(map(fixed)(nums(j)))).sorted)\n",
    "            }else{\n",
    "              map(fixed).addOne(-fixed-nums(j) -> j)\n",
    "            }\n",
    "        }     \n",
    "    } \n",
    "    }     \n",
    "}\n",
    "set"
   ]
  },
  {
   "cell_type": "markdown",
   "id": "34c6c6d2",
   "metadata": {},
   "source": [
    "方針は探索と枝かり\n",
    "\n",
    "> Given a string s containing only digits, return all possible valid IP addresses that can be obtained from s. You can return them in any order.\n",
    "\n",
    ">A valid IP address consists of exactly four integers, each integer is between 0 and 255, separated by single dots and cannot have leading zeros. For example, \"0.1.2.201\" and \"192.168.1.1\" are valid IP addresses and \"0.011.255.245\", \"192.168.1.312\" and \"192.168@1.1\" are invalid IP addresses. \n",
    "\n",
    " "
   ]
  },
  {
   "cell_type": "code",
   "execution_count": 113,
   "id": "ee954330",
   "metadata": {},
   "outputs": [
    {
     "data": {
      "text/plain": [
       "\u001b[32mimport \u001b[39m\u001b[36mscala.collection.mutable.Set\n",
       "\n",
       "\u001b[39m\n",
       "defined \u001b[32mfunction\u001b[39m \u001b[36mvalidIp\u001b[39m\n",
       "defined \u001b[32mfunction\u001b[39m \u001b[36misValidIpComponent\u001b[39m\n",
       "defined \u001b[32mfunction\u001b[39m \u001b[36misValidIpTrailing\u001b[39m\n",
       "defined \u001b[32mfunction\u001b[39m \u001b[36mdivide\u001b[39m"
      ]
     },
     "execution_count": 113,
     "metadata": {},
     "output_type": "execute_result"
    }
   ],
   "source": [
    "import scala.collection.mutable.Set\n",
    "\n",
    "def validIp(str:String,results:Set[String],availableDots:Int=3,tmp:String=\"\"):Unit={\n",
    "    if(availableDots==0){\n",
    "        results.add(tmp+str)\n",
    "    }else{\n",
    "        divide(str).foreach{case (h,t)=>\n",
    "        if(isValidIpComponent(h)&&isValidIpTrailing(t,availableDots-1)){\n",
    "            validIp(t,results,availableDots-1,tmp+h+\".\")\n",
    "        }\n",
    "      \n",
    "      }\n",
    "    }   \n",
    "}\n",
    "def isValidIpComponent(str:String):Boolean={\n",
    "    if(str.toInt > 255){\n",
    "        false\n",
    "    }else{\n",
    "        true\n",
    "    }\n",
    "    \n",
    "}\n",
    "def isValidIpTrailing(str:String,availableDots:Int):Boolean={\n",
    "    if(str.length < availableDots ){\n",
    "        false\n",
    "    }else if(availableDots<=0 & (str.length>3 || str.length>1 & str.startsWith(\"0\"))){\n",
    "        false\n",
    "    }else if(str.length==0){\n",
    "        false\n",
    "    }else{\n",
    "        true\n",
    "    }\n",
    "}\n",
    "def divide(str:String):Seq[(String,String)]={\n",
    "    if(str.startsWith(\"0\")){\n",
    "        Seq((\"0\",str.substring(1)))\n",
    "    }else{\n",
    "        (1 to math.min(str.length,3)).map { i =>\n",
    "           (str.substring(0,i),str.substring(i))\n",
    "        }.toSeq \n",
    "    }\n",
    "}"
   ]
  },
  {
   "cell_type": "markdown",
   "id": "69857358",
   "metadata": {},
   "source": [
    "上の解答では再帰を使って状態を受け渡すように書いているが、やっていることは深さの最大が3の深さ優先探索と同じ."
   ]
  },
  {
   "cell_type": "code",
   "execution_count": 114,
   "id": "8b9aa31c",
   "metadata": {},
   "outputs": [
    {
     "name": "stdout",
     "output_type": "stream",
     "text": [
      "HashSet(1.1.1.1)"
     ]
    },
    {
     "data": {
      "text/html": [
       "<div class=\"jp-RenderedText\">\n",
       "<pre><code><span style=\"color: rgb(0, 187, 187)\"><span class=\"ansi-cyan-fg\">results</span></span>: <span style=\"color: rgb(0, 187, 0)\"><span class=\"ansi-green-fg\">Set</span></span>[<span style=\"color: rgb(0, 187, 0)\"><span class=\"ansi-green-fg\">String</span></span>] = <span style=\"color: yellow\"><span class=\"ansi-yellow-fg\">HashSet</span></span>(<span style=\"color: rgb(0, 187, 0)\"><span class=\"ansi-green-fg\">&quot;1.1.1.1&quot;</span></span>)</code></pre>\n",
       "</div>"
      ],
      "text/plain": [
       "\u001b[36mresults\u001b[39m: \u001b[32mSet\u001b[39m[\u001b[32mString\u001b[39m] = \u001b[33mHashSet\u001b[39m(\u001b[32m\"1.1.1.1\"\u001b[39m)"
      ]
     },
     "metadata": {},
     "output_type": "display_data"
    }
   ],
   "source": [
    "var results = Set[String]()\n",
    "validIp(str=\"1111\",results)\n",
    "print(results)"
   ]
  },
  {
   "cell_type": "code",
   "execution_count": 115,
   "id": "0b67606e",
   "metadata": {},
   "outputs": [
    {
     "data": {
      "text/plain": [
       "\u001b[32mimport \u001b[39m\u001b[36mscala.collection.mutable.Stack\n",
       "\u001b[39m\n",
       "defined \u001b[32mfunction\u001b[39m \u001b[36mdfs\u001b[39m\n",
       "defined \u001b[32mfunction\u001b[39m \u001b[36mvalidIpWithStack\u001b[39m\n",
       "defined \u001b[32mfunction\u001b[39m \u001b[36mgetNexts\u001b[39m"
      ]
     },
     "execution_count": 115,
     "metadata": {},
     "output_type": "execute_result"
    }
   ],
   "source": [
    "import scala.collection.mutable.Stack\n",
    "def dfs(str:String)={\n",
    "    var s = Stack[String]()\n",
    "    var result = Set[String]()\n",
    "    val availableDots=3\n",
    "    s.push(\"\")\n",
    "    validIpWithStack(str,availableDots,s,result)\n",
    "    print(result)\n",
    "}\n",
    "def validIpWithStack(str:String,availableDots:Int,s:Stack[String],result:Set[String]):Unit={\n",
    "    if(s.isEmpty){\n",
    "        result\n",
    "    }else{\n",
    "        if(availableDots==0){\n",
    "            var tmp= s.pop()\n",
    "            print(str)\n",
    "            if(isValidIpTrailing(str,0)){\n",
    "                result.add(tmp+str)     \n",
    "            }\n",
    "        }else{\n",
    "        var tmp = s.pop\n",
    "        var nexts = getNexts(str)\n",
    "        for(j <- 0 to nexts.length -1){\n",
    "            val tail = str.substring(nexts(j).length)\n",
    "            if(isValidIpComponent(nexts(j)) && isValidIpTrailing(tail,availableDots-1)){\n",
    "                 s.push(tmp+nexts(j)+\".\")\n",
    "                 validIpWithStack(tail,availableDots-1,s,result)\n",
    "                \n",
    "        \n",
    "      \n",
    "            }\n",
    "            \n",
    "        }  \n",
    "        }\n",
    "         \n",
    "    }\n",
    "    \n",
    "}\n",
    "def getNexts(str:String):Array[String]={\n",
    "        if(str.startsWith(\"0\")){\n",
    "            Array(\"0\")\n",
    "        }else{\n",
    "        (1 to math.min(str.length,3)).map { i =>\n",
    "           str.substring(0,i)\n",
    "        }.toArray\n",
    "    }\n",
    " }"
   ]
  },
  {
   "cell_type": "code",
   "execution_count": 112,
   "id": "b0e8c897",
   "metadata": {},
   "outputs": [
    {
     "name": "stdout",
     "output_type": "stream",
     "text": [
      "100HashSet(0.100.1.0, 0.10.0.10)"
     ]
    }
   ],
   "source": [
    "dfs(\"010010\")"
   ]
  },
  {
   "cell_type": "code",
   "execution_count": 2,
   "id": "859160b5",
   "metadata": {},
   "outputs": [
    {
     "data": {
      "text/plain": [
       "\u001b[36min\u001b[39m: \u001b[32mString\u001b[39m = \u001b[32m\"\"\"5 2\n",
       "3 1\n",
       "3 1\n",
       "10 3\n",
       "1 10\n",
       "10 1\n",
       "8 3\n",
       "0 0\n",
       "\"\"\"\u001b[39m\n",
       "defined \u001b[32mfunction\u001b[39m \u001b[36mparse\u001b[39m\n",
       "defined \u001b[32mfunction\u001b[39m \u001b[36mnext\u001b[39m\n",
       "defined \u001b[32mfunction\u001b[39m \u001b[36mreadlines\u001b[39m\n",
       "defined \u001b[32mfunction\u001b[39m \u001b[36maggregate\u001b[39m\n",
       "defined \u001b[32mfunction\u001b[39m \u001b[36mreadBody\u001b[39m\n",
       "\u001b[36mdatasets\u001b[39m: \u001b[32mSeq\u001b[39m[(\u001b[32mInt\u001b[39m, \u001b[32mSeq\u001b[39m[(\u001b[32mInt\u001b[39m, \u001b[32mInt\u001b[39m)])] = \u001b[33mList\u001b[39m(\n",
       "  (\u001b[32m5\u001b[39m, \u001b[33mArraySeq\u001b[39m((\u001b[32m3\u001b[39m, \u001b[32m1\u001b[39m), (\u001b[32m3\u001b[39m, \u001b[32m1\u001b[39m))),\n",
       "  (\u001b[32m10\u001b[39m, \u001b[33mArraySeq\u001b[39m((\u001b[32m1\u001b[39m, \u001b[32m10\u001b[39m), (\u001b[32m10\u001b[39m, \u001b[32m1\u001b[39m), (\u001b[32m8\u001b[39m, \u001b[32m3\u001b[39m)))\n",
       ")"
      ]
     },
     "execution_count": 2,
     "metadata": {},
     "output_type": "execute_result"
    }
   ],
   "source": [
    "val in=\"5 2\\n3 1\\n3 1\\n10 3\\n1 10\\n10 1\\n8 3\\n0 0\\n\".stripMargin\n",
    "\n",
    "def parse(input:String,state:Seq[(Int,Seq[(Int,Int)])]=Seq()):Seq[(Int,Seq[(Int,Int)])] = {\n",
    "    val header = input.take(input.indexOf(\"\\n\")).split(\" \").map(_.toInt)\n",
    "    if(header(0)== 0 && header(1)==0){\n",
    "        return state\n",
    "    }\n",
    "    parse(next(input,header(1)+1),state.appended(aggregate(input,header)))  \n",
    "}\n",
    "def next(input:String,skips:Int):String ={\n",
    "    if(skips==0){\n",
    "        return input\n",
    "    }else{\n",
    "        next(input.drop(input.indexOf(\"\\n\")+1),skips-1)  \n",
    "    }\n",
    "}\n",
    "\n",
    "def readlines(input:String,lines:Int,state:StringBuilder=new StringBuilder()):String = {\n",
    "    if(lines==0){\n",
    "        return state.toString\n",
    "    }else if(input.indexOf(\"\\n\")== -1){\n",
    "        readlines(\"\",lines-1,state.append(input))\n",
    "    }else{\n",
    "        val l = input.substring(0,input.indexOf(\"\\n\")+1)\n",
    "        readlines(input.drop(l.length),lines-1,state.append(l))\n",
    "    }\n",
    "}\n",
    "\n",
    "def aggregate(input:String,header:Array[Int]):(Int,Seq[(Int,Int)])={\n",
    "    (header(0),readBody(next(input,1),header(1)))\n",
    "    \n",
    "}\n",
    "def readBody(str:String,rows:Int):Seq[(Int,Int)]={\n",
    "    readlines(str,rows).split(\"\\n\").map{line => val splited = line.split(\" \").map(_.toInt);(splited(0),splited(1))}\n",
    "}\n",
    "val datasets = parse(in)"
   ]
  },
  {
   "cell_type": "code",
   "execution_count": 58,
   "id": "391cd223",
   "metadata": {
    "tags": []
   },
   "outputs": [
    {
     "name": "stdout",
     "output_type": "stream",
     "text": [
      "4\n",
      "4\n"
     ]
    },
    {
     "data": {
      "text/plain": [
       "defined \u001b[32mfunction\u001b[39m \u001b[36maction\u001b[39m"
      ]
     },
     "execution_count": 58,
     "metadata": {},
     "output_type": "execute_result"
    }
   ],
   "source": [
    "def action(arr:Array[Int],ops:(Int,Int))={\n",
    "    val p = ops._1\n",
    "    val c = ops._2\n",
    "    val n = arr.length\n",
    "    val up = arr.slice(n-p-c+1,n-p+1)\n",
    "    for(i <- n-p-c+1 to n-1){\n",
    "        if(i<=n-p+1 || i+c < n){\n",
    "            if(i+c < n){\n",
    "                arr(i)=arr(i+c)\n",
    "            }\n",
    "        }else{\n",
    "            \n",
    "            arr(i)=up(i-n+c)  \n",
    "        }\n",
    "    }         \n",
    "}\n",
    "datasets.foreach{ case (n,operations)=>\n",
    "    val arr = Array.range(1,n+1)\n",
    "  operations.foreach{case (p,c)=>\n",
    "    action(arr,(p,c))\n",
    "  }\n",
    "    println(arr.last)\n",
    "}\n"
   ]
  },
  {
   "cell_type": "markdown",
   "id": "d742016a",
   "metadata": {},
   "source": [
    "# "
   ]
  },
  {
   "cell_type": "code",
   "execution_count": 168,
   "id": "f51df78f",
   "metadata": {
    "tags": []
   },
   "outputs": [
    {
     "data": {
      "text/plain": [
       "defined \u001b[32mfunction\u001b[39m \u001b[36mphoneButton\u001b[39m\n",
       "defined \u001b[32mfunction\u001b[39m \u001b[36mnextInput\u001b[39m"
      ]
     },
     "execution_count": 168,
     "metadata": {},
     "output_type": "execute_result"
    }
   ],
   "source": [
    "\n",
    "def phoneButton(\n",
    "    input:String,\n",
    "    result:StringBuilder=new StringBuilder(),\n",
    "    keyMap:Map[String,Array[String]]= Map(\n",
    "        \"1\"->Array(\".\",\",\",\"!\",\"?\",\" \"),\n",
    "        \"2\"->Array(\"a\",\"b\",\"c\"),\n",
    "        \"3\"->Array(\"d\",\"e\",\"f\"),\n",
    "        \"4\"->Array(\"g\",\"h\",\"i\"),\n",
    "        \"5\"-> Array(\"j\",\"k\",\"l\"),\n",
    "        \"6\"->Array(\"m\",\"n\",\"o\"),\n",
    "        \"7\"->Array(\"p\",\"q\",\"r\",\"s\"),\n",
    "        \"8\"->Array(\"t\",\"u\",\"v\"),\n",
    "        \"9\"->Array(\"w\",\"x\",\"y\",\"z\")\n",
    "    )):String={\n",
    "    if(input.length==0){\n",
    "        return result.toString\n",
    "      }\n",
    "    val enter = input.dropWhile(_.toString==\"0\").takeWhile(_.toString!=\"0\")\n",
    "   \n",
    "    if(enter.isEmpty){\n",
    "        return result.toString\n",
    "    }\n",
    "    \n",
    "    enter.head.toString match {\n",
    "        case n @ (\"2\"|\"3\"|\"4\"|\"5\"|\"6\"|\"8\") =>\n",
    "          phoneButton(\n",
    "              nextInput(input),\n",
    "              result.append(\n",
    "                        keyMap(n).apply(((enter.length+2)%3))\n",
    "          ),keyMap)\n",
    "        case n @(\"7\"|\"9\") =>\n",
    "            phoneButton(\n",
    "              nextInput(input),\n",
    "                result.append(\n",
    "                    keyMap(n).apply(((enter.length+3)%4))\n",
    "          ))\n",
    "        case n if n== \"1\"=>\n",
    "            phoneButton(\n",
    "              nextInput(input),\n",
    "                result.append(\n",
    "                    keyMap(n).apply(((enter.length+4)%5))\n",
    "            ),keyMap)\n",
    "        case _ => phoneButton(nextInput(input),result,keyMap)\n",
    "    }\n",
    "}\n",
    "def nextInput(input:String):String={\n",
    "     input.dropWhile(_.toString==\"0\").dropWhile(_.toString!=\"0\").dropWhile(_.toString==\"0\")\n",
    "}"
   ]
  },
  {
   "cell_type": "code",
   "execution_count": 169,
   "id": "45f24c7e",
   "metadata": {
    "tags": []
   },
   "outputs": [
    {
     "data": {
      "text/plain": [
       "\u001b[36mres168\u001b[39m: \u001b[32mString\u001b[39m = \u001b[32m\"hello, world!\"\u001b[39m"
      ]
     },
     "execution_count": 169,
     "metadata": {},
     "output_type": "execute_result"
    }
   ],
   "source": [
    "phoneButton(\"44033055505550666011011111090666077705550301110\")"
   ]
  },
  {
   "cell_type": "code",
   "execution_count": null,
   "id": "6016f077",
   "metadata": {},
   "outputs": [],
   "source": [
    "import scala.collection.mutable.Map\n",
    "val input= \"\"\"3 2\n",
    "2 1 4\n",
    "0\n",
    "3 3 4 8\n",
    "3 2\n",
    "4 1 5 8 9\n",
    "3 2 5 9\n",
    "5 2 4 5 7 9\n",
    "3 3\n",
    "2 1 4\n",
    "3 2 5 9\n",
    "2 2 4\n",
    "3 3\n",
    "2 1 2\n",
    "3 1 2 9\n",
    "2 2 4\n",
    "0 0\"\"\".stripMargin\n",
    "\n",
    "def parse(input:String):Seq[Int]={\n",
    "    if(input.isEmpty){\n",
    "        Seq()\n",
    "    }else{\n",
    "        val header = readlines(input,1).stripLineEnd.split(\" \").map(_.toString.toInt)\n",
    "        if(header(0)==0 &header(1)==0){\n",
    "            return Seq()\n",
    "        }\n",
    "        val tail = next(input,1)\n",
    "        val schedules = getSchedules(tail,header(0))\n",
    "        getBestDay(schedules,header(1)) +: parse(next(input,header(0)+1))    \n",
    "    }\n",
    "    \n",
    "}\n",
    "\n",
    "def getSchedules(str:String,lines:Int):Seq[Set[Int]]={\n",
    "    if(lines==0) Seq()\n",
    "    else parseOneSchedule(readlines(str,1)) +: getSchedules(next(str,1),lines-1)\n",
    "}\n",
    "def parseOneSchedule(str:String):Set[Int]={\n",
    "    str.stripLineEnd.split(\" \").map(_.toString.toInt).drop(1).toSet\n",
    "}\n",
    "def getBestDay(schedules:Seq[Set[Int]],required:Int):Int={\n",
    "    var candidates: Map[Int,Int]=Map()\n",
    "    schedules.foreach{schedule=>\n",
    "        schedule.foreach{day=>\n",
    "          if(candidates.contains(day)){\n",
    "              candidates(day)+=1\n",
    "              if(candidates(day)>=required){\n",
    "                  return day\n",
    "              }\n",
    "          }else{\n",
    "              candidates(day)=1\n",
    "          }\n",
    "        }\n",
    "    }\n",
    "    0\n",
    "}\n",
    "parse(input)"
   ]
  },
  {
   "cell_type": "code",
   "execution_count": 173,
   "id": "e575e601",
   "metadata": {},
   "outputs": [
    {
     "data": {
      "text/plain": [
       "defined \u001b[32mfunction\u001b[39m \u001b[36msearch\u001b[39m\n",
       "defined \u001b[32mfunction\u001b[39m \u001b[36moptimalChange\u001b[39m"
      ]
     },
     "execution_count": 173,
     "metadata": {},
     "output_type": "execute_result"
    }
   ],
   "source": [
    "def search(price:Int,purse:Seq[Int])={\n",
    "    var min = (80,20,20,20,20)\n",
    "    // minimize purse.sum() - (k+l+m+n)+change\n",
    "    // where 0<=k<=purse(1),0<=l<=purse(1),0<=m<=purse(2),0<=n<=purse(3)\n",
    "    // and 10*k + 50*l+100*m+500*n>=price\n",
    "    for(k <- 0 to purse(0)){\n",
    "        for(l <- 0 to purse(1)){\n",
    "            for(m <- 0 to purse(2)){\n",
    "                for(n <- 0 to purse(3)){\n",
    "                    val pay = 10*k+50*l+100*m+500*n\n",
    "                    if(pay>=price){\n",
    "                        val cnt = purse.sum - k -l - m - n + optimalChange(price,pay)\n",
    "                        if(min._1 > cnt){\n",
    "                            min = (cnt,k,l,m,n)\n",
    "                        }\n",
    "                    }\n",
    "                }\n",
    "            }\n",
    "        }\n",
    "        \n",
    "    }\n",
    "    \n",
    "    min\n",
    "}\n",
    "def optimalChange(price:Int,pay:Int)={\n",
    "    val change = pay- price\n",
    "    val n = change / 500\n",
    "    val m = (change -500*n) /100\n",
    "    val l = (change - 500*n - 100*m)/50\n",
    "    val k= (change - 500*n - 100*m -50*l)/10\n",
    "    k+l+m+n\n",
    "}\n"
   ]
  },
  {
   "cell_type": "markdown",
   "id": "914322b7",
   "metadata": {},
   "source": [
    "全探索を使って解いたが、問題を整理するともっと効率よく解を求められる.\n",
    "\n",
    "解を$o^*$,purseの中の枚数合計を$S$,おつりの枚数を$c$とすると$o^*=minimize\\{ S-(k+l+m+n) + c\\}$となる. \n",
    "\n",
    "ここで最適なおつりの枚数を$c^*$とすると$k,l,m,n$について$c^*=f(k,l,m,n)=minimize \\{ o - S + (k+l+m+n) \\}$となる. \n",
    "\n",
    "この式からてもちの$k,l,m,n$をすべて支払ったときの最適なおつり$c^*$は最適な支払い$o^*$と等しいと考えられる."
   ]
  },
  {
   "cell_type": "code",
   "execution_count": 49,
   "id": "2156c72d",
   "metadata": {
    "tags": []
   },
   "outputs": [
    {
     "data": {
      "text/plain": [
       "\u001b[36minput\u001b[39m: \u001b[32mString\u001b[39m = \u001b[32m\"\"\"6 9\n",
       "....#.\n",
       ".....#\n",
       "......\n",
       "......\n",
       "......\n",
       "......\n",
       "......\n",
       "#@...#\n",
       ".#..#.\n",
       "11 9\n",
       ".#.........\n",
       ".#.#######.\n",
       ".#.#.....#.\n",
       ".#.#.###.#.\n",
       ".#.#..@#.#.\n",
       ".#.#####.#.\n",
       ".#.......#.\n",
       ".#########.\n",
       "...........\n",
       "11 6\n",
       "..#..#..#..\n",
       "..#..#..#..\n",
       "..#..#..###\n",
       "..#..#..#@.\n",
       "..#..#..#..\n",
       "..#..#..#..\n",
       "7 7\n",
       "..#.#..\n",
       "..#.#..\n",
       "###.###\n",
       "...@...\n",
       "###.###\n",
       "..#.#..\n",
       "..#.#..\n",
       "0 0\"\"\"\u001b[39m"
      ]
     },
     "execution_count": 49,
     "metadata": {},
     "output_type": "execute_result"
    }
   ],
   "source": [
    "val input = \"\"\"6 9\n",
    "....#.\n",
    ".....#\n",
    "......\n",
    "......\n",
    "......\n",
    "......\n",
    "......\n",
    "#@...#\n",
    ".#..#.\n",
    "11 9\n",
    ".#.........\n",
    ".#.#######.\n",
    ".#.#.....#.\n",
    ".#.#.###.#.\n",
    ".#.#..@#.#.\n",
    ".#.#####.#.\n",
    ".#.......#.\n",
    ".#########.\n",
    "...........\n",
    "11 6\n",
    "..#..#..#..\n",
    "..#..#..#..\n",
    "..#..#..###\n",
    "..#..#..#@.\n",
    "..#..#..#..\n",
    "..#..#..#..\n",
    "7 7\n",
    "..#.#..\n",
    "..#.#..\n",
    "###.###\n",
    "...@...\n",
    "###.###\n",
    "..#.#..\n",
    "..#.#..\n",
    "0 0\"\"\"\n"
   ]
  },
  {
   "cell_type": "code",
   "execution_count": 50,
   "id": "9d1d4847",
   "metadata": {},
   "outputs": [
    {
     "data": {
      "text/plain": [
       "\u001b[32mimport \u001b[39m\u001b[36mscala.collection.mutable.{Queue,Set}\n",
       "\u001b[39m\n",
       "defined \u001b[32mfunction\u001b[39m \u001b[36mmazeParser\u001b[39m\n",
       "defined \u001b[32mfunction\u001b[39m \u001b[36mconvert\u001b[39m\n",
       "defined \u001b[32mfunction\u001b[39m \u001b[36mrun\u001b[39m\n",
       "\u001b[36mres49_4\u001b[39m: \u001b[32mSeq\u001b[39m[\u001b[32mInt\u001b[39m] = \u001b[33mList\u001b[39m(\u001b[32m45\u001b[39m, \u001b[32m59\u001b[39m, \u001b[32m6\u001b[39m, \u001b[32m13\u001b[39m)"
      ]
     },
     "execution_count": 50,
     "metadata": {},
     "output_type": "execute_result"
    }
   ],
   "source": [
    "import scala.collection.mutable.{Queue,Set}\n",
    "def mazeParser(str:String,result:Seq[Int]=Seq()):Seq[Int]={\n",
    "    val header = readlines(str,1).stripLineEnd.split(\" \").map(_.toString.toInt)\n",
    "    if(header(0)==0 & header(1)==(0)){\n",
    "        return result\n",
    "    }\n",
    "    val body = readlines(next(str,1),header(1))\n",
    "    val tiles = convert(body,header(0)) match {\n",
    "        case (startFrom,maze:Seq[String])=> run(maze,startFrom,(header(1),header(0)))\n",
    "    }\n",
    "    mazeParser(next(str,header(1)+1),result.appended(tiles))\n",
    "    \n",
    "}\n",
    "def convert(str:String,colLength:Int):((Int,Int),Seq[String]) = {\n",
    "    val rle = str.replace(\"\\n\",\"\")\n",
    "   ((rle.indexOf(\"@\")/colLength,(rle.replace(\"\\n\",\"\").indexOf(\"@\"))%colLength),str.split(\"\\n\"))\n",
    "}\n",
    "def run(maze:Seq[String],startFrom:(Int,Int),dimension:(Int,Int))= {\n",
    "    var q = Queue[(Int,Int)]()\n",
    "    q.enqueue(startFrom)\n",
    "    var history = Set[(Int,Int)](startFrom)\n",
    "    while(!q.isEmpty){\n",
    "        val visited = q.dequeue\n",
    "        // (y,x) -> next: (y-1,x),(y,x-1),(y+1,x),(y,x+1)\n",
    "        // that history does not contains and is not # \n",
    "        Set(\n",
    "            (math.max(0,visited._1-1),visited._2),\n",
    "            (visited._1,math.max(0,visited._2-1)),\n",
    "            (math.min(dimension._1-1,visited._1+1),visited._2),\n",
    "            (visited._1,math.min(dimension._2-1,visited._2+1))).foreach {\n",
    "            case position @ (y_next,x_next)=>\n",
    "              if(!history.contains(position) & maze(y_next)(x_next).toString!=\"#\"){\n",
    "                history.add(position)\n",
    "                q.enqueue(position)\n",
    "            }\n",
    "   \n",
    "        }\n",
    "    }\n",
    "    history.size\n",
    "}\n",
    "mazeParser(input)"
   ]
  },
  {
   "cell_type": "code",
   "execution_count": 16,
   "id": "5899d74e",
   "metadata": {},
   "outputs": [
    {
     "data": {
      "text/plain": [
       "\u001b[36minput\u001b[39m: \u001b[32mString\u001b[39m = \u001b[32m\"\"\"2\n",
       "10 11\n",
       "11 12\n",
       "2\n",
       "N 2\n",
       "E 1\n",
       "2\n",
       "10 11\n",
       "11 12\n",
       "2\n",
       "N 2\n",
       "W 1\n",
       "3\n",
       "0 15\n",
       "5 10\n",
       "5 15\n",
       "5\n",
       "W 10\n",
       "S 10\n",
       "N 20\n",
       "E 10\n",
       "S 10\n",
       "0\n",
       "\"\"\"\u001b[39m"
      ]
     },
     "execution_count": 16,
     "metadata": {},
     "output_type": "execute_result"
    }
   ],
   "source": [
    "val input =\"\"\"2\n",
    "10 11\n",
    "11 12\n",
    "2\n",
    "N 2\n",
    "E 1\n",
    "2\n",
    "10 11\n",
    "11 12\n",
    "2\n",
    "N 2\n",
    "W 1\n",
    "3\n",
    "0 15\n",
    "5 10\n",
    "5 15\n",
    "5\n",
    "W 10\n",
    "S 10\n",
    "N 20\n",
    "E 10\n",
    "S 10\n",
    "0\n",
    "\"\"\""
   ]
  },
  {
   "cell_type": "code",
   "execution_count": 48,
   "id": "bc7ee818",
   "metadata": {},
   "outputs": [
    {
     "name": "stdout",
     "output_type": "stream",
     "text": [
      "yes\n",
      "no\n",
      "no\n",
      "\n"
     ]
    },
    {
     "data": {
      "text/plain": [
       "defined \u001b[32mfunction\u001b[39m \u001b[36mread\u001b[39m\n",
       "defined \u001b[32mfunction\u001b[39m \u001b[36msolve\u001b[39m\n",
       "defined \u001b[32mfunction\u001b[39m \u001b[36mgetPosition\u001b[39m\n",
       "defined \u001b[32mfunction\u001b[39m \u001b[36mgetMoves\u001b[39m\n",
       "defined \u001b[32mfunction\u001b[39m \u001b[36mrun\u001b[39m\n",
       "defined \u001b[32mfunction\u001b[39m \u001b[36mgetDiff\u001b[39m\n",
       "defined \u001b[32mfunction\u001b[39m \u001b[36mcheck\u001b[39m"
      ]
     },
     "execution_count": 48,
     "metadata": {},
     "output_type": "execute_result"
    }
   ],
   "source": [
    "def read(input:String)= {\n",
    "    // split input\n",
    "    val arr= input.split(\"\\n\")\n",
    "    // print results\n",
    "    println(solve(arr).toString)\n",
    "    \n",
    "}\n",
    "def solve(arr:Seq[String],results:StringBuilder=new StringBuilder()) :String= {\n",
    "        if(arr.isEmpty){\n",
    "            return results.toString\n",
    "        }else{\n",
    "     getPosition(arr) match {\n",
    "        case (operations,positions) if(!positions.isEmpty)=>\n",
    "          getMoves(operations) match {\n",
    "              case (next,moves)=> \n",
    "                val result = run(moves,positions,positions.size)\n",
    "                solve(next,results.append(result+\"\\n\"))\n",
    "          }\n",
    "        case  _ => return results.toString\n",
    "      }\n",
    "             \n",
    "    }\n",
    "\n",
    "    \n",
    "}\n",
    "def getPosition(input:Seq[String]):(Seq[String],scala.collection.immutable.Set[(Int,Int)]) ={\n",
    "    // read the first line of input to get N\n",
    "    val N = input(0).toString.toInt\n",
    "    if(N==0){\n",
    "        return (input.drop(1),scala.collection.immutable.Set.empty)\n",
    "    }\n",
    "    val positions = input.drop(1).take(N).map(_.stripLineEnd.split(\" \").map(_.toString.toInt)).map(a=>(a(0),a(1))).toSet\n",
    "    (input.drop(N+1),positions)\n",
    "    // get next N lines as an array of (Int,Int)\n",
    "    // return  input.drop(N+1),positions\n",
    "}\n",
    "def getMoves(input:Seq[String])= {\n",
    "    // read the first line of input to get M\n",
    "    val M = input(0).toString.toInt\n",
    "    // get next M ines as array of (String,Int)\n",
    "    val moves = input.drop(1).take(M).map(_.stripLineEnd.split(\" \").map(_.toString)).map(b =>   (  b(0).toString,b(1).toInt ) )\n",
    "     // return input.drop(M+1),moves\n",
    "    (input.drop(M+1),moves)\n",
    "}\n",
    "\n",
    "def run(moves:Seq[(String,Int)],gems:scala.collection.immutable.Set[(Int,Int)],remains:Int,startAt:(Int,Int)=(10,10)):String={\n",
    "    if(remains==0){\n",
    "        return \"yes\"\n",
    "    }else if(moves.isEmpty & remains>0){\n",
    "        return \"no\"\n",
    "        \n",
    "    }else {\n",
    "        val move = moves.head\n",
    "        getDiff(move) match {\n",
    "            case  ( dx, dy) if gems.exists(position=>check(startAt,(startAt._1+dx,startAt._2+dy),position)) =>\n",
    "               run(moves.drop(1),gems -((startAt._1+ dx,startAt._2+ dy)),remains-1,(startAt._1+ dx,startAt._2+ dy))\n",
    "            case (dx,dy) => run(moves.drop(1),gems,remains,(startAt._1+ dx,startAt._2+dy))\n",
    "        }\n",
    "        \n",
    "    }\n",
    "}\n",
    "\n",
    "def getDiff(move:(/*direction*/String,/*distance*/Int)):/*(dx,dy):*/(Int,Int)= {\n",
    "    move match {\n",
    "        case (\"N\",distance) => (0,distance)\n",
    "        case (\"W\",distance) => (-distance,0)\n",
    "        case (\"E\",distance)=> (distance,0)\n",
    "        case (\"S\",distance) => (0,-distance)\n",
    "    }\n",
    "}\n",
    "//  -> x == gem_x & (y <) gem_y <= y_next  || y==gem_y & (x < )gem_x <= x_next\n",
    "def check(from:(Int,Int),to:(Int,Int),gemPosition:(Int,Int)):Boolean  ={\n",
    "    (from,to,gemPosition) match {\n",
    "        case ((x,y),(x_next,y_next),(gem_x,gem_y)) if (( y < gem_y & x==gem_x & gem_y <= y_next) || (y==gem_y & x < gem_x & gem_x <= x_next)  ) =>\n",
    "          true\n",
    "        case _ => false\n",
    "    }\n",
    "}\n",
    "read(input)"
   ]
  },
  {
   "cell_type": "code",
   "execution_count": 18,
   "id": "4cb31472",
   "metadata": {},
   "outputs": [
    {
     "name": "stdout",
     "output_type": "stream",
     "text": [
      "4\n"
     ]
    },
    {
     "data": {
      "text/plain": [
       "\u001b[32mimport \u001b[39m\u001b[36mscala.collection.mutable.ArrayBuffer\n",
       "\u001b[39m\n",
       "\u001b[36minput\u001b[39m: \u001b[32mString\u001b[39m = \u001b[32m\"\"\"4 4 1\n",
       "3 1 2\n",
       "2 2 3\n",
       "3 3 4\n",
       "1 3 4\n",
       "0 0 0\n",
       "\"\"\"\u001b[39m\n",
       "\u001b[36mnodeOrdering\u001b[39m: \u001b[32mObject\u001b[39m with \u001b[32mOrdering\u001b[39m[\u001b[32mNode\u001b[39m] = ammonite.$sess.cmd17$Helper$$anon$1@e30a4ab\n",
       "defined \u001b[32mfunction\u001b[39m \u001b[36msolve\u001b[39m\n",
       "defined \u001b[32mfunction\u001b[39m \u001b[36mparse\u001b[39m\n",
       "defined \u001b[32mfunction\u001b[39m \u001b[36mrun\u001b[39m\n",
       "defined \u001b[32mclass\u001b[39m \u001b[36mNode\u001b[39m"
      ]
     },
     "execution_count": 18,
     "metadata": {},
     "output_type": "execute_result"
    }
   ],
   "source": [
    "import scala.collection.mutable.ArrayBuffer\n",
    "val input =\"\"\"4 4 1\n",
    "3 1 2\n",
    "2 2 3\n",
    "3 3 4\n",
    "1 3 4\n",
    "0 0 0\n",
    "\"\"\"\n",
    "implicit val nodeOrdering = new Ordering[Node]{\n",
    "    def compare(left:Node,right:Node):Int =\n",
    "        (left.height,right.height) match {\n",
    "            case (h_1,h_2) if h_1 > h_2 => -1\n",
    "            case (h_1,h_2) if h_1 == h_2 => 0\n",
    "            case _ => 1\n",
    "        }\n",
    "}\n",
    "def solve(input:String)(implicit comparator: Ordering[Node]):Unit={\n",
    "    val arr = input.split(\"\\n\").map(_.split(\" \").map(_.toString.toInt))\n",
    "    val n = arr(0)(0)\n",
    "    val m = arr(0)(1)\n",
    "    val a = arr(0)(2)\n",
    "    (n,m,a) match {\n",
    "        case (0,0,0)=>return\n",
    "        case (n,m,a) =>\n",
    "            var lines : Array[ArrayBuffer[Node]]= Array.fill(n)(ArrayBuffer.empty[Node])\n",
    "            parse(arr.drop(1),lines)\n",
    "            val amida =lines.map(line=>line.sorted(comparator).toArray)\n",
    "            val end = run(amida,a-1)\n",
    "            println(end+1)\n",
    "    }\n",
    "    \n",
    "}\n",
    "def parse(arr:Array[Array[Int]],lines:Array[ArrayBuffer[Node]])={\n",
    "    arr.foreach{row =>\n",
    "        // row(1)-1,row(2) -1 番目の行に \n",
    "        //Node(height=row(0),left=None,right=Some(row(2)-1)),\n",
    "        //Node(height=row(0),Some(row(1)-1),right=None) を追加する\n",
    "        lines(math.max(0,row(1)-1)) +=(Node(height=row(0),left=None,right=Some(math.max(0,row(2)-1))))\n",
    "        lines(math.max(0,row(2)-1)) +=(Node(height=row(0),left=Some(math.max(0,row(1)-1)),right=None))    \n",
    "    }\n",
    "    \n",
    "}\n",
    "// 高さcurrentHeight 以下のあみだくじlinesをlineからスタートして解く.\n",
    "def run(lines:Array[Array[Node]],line:Int,currentHeight:Int=1001):Int={\n",
    "    if(lines(line).isEmpty) return line\n",
    "    lines(line).head match {\n",
    "        case Node(height,Some(nextLine),None)  => run(lines.map(l=>l.dropWhile{case Node(h,_,_)=>h >=height}),nextLine,height-1)\n",
    "        case Node(height,None,Some(nextLine)) => run(lines.map(l=>l.dropWhile{case Node(h,_,_)=>h >=height}),nextLine,height-1)\n",
    "    }\n",
    "    \n",
    "    \n",
    "}\n",
    "\n",
    "final case class Node(height:Int,left:Option[Int],right:Option[Int])\n",
    "solve(input)"
   ]
  },
  {
   "cell_type": "code",
   "execution_count": 17,
   "id": "9efb76df",
   "metadata": {},
   "outputs": [
    {
     "name": "stdout",
     "output_type": "stream",
     "text": [
      "1\n",
      "2\n",
      "2\n",
      "3\n",
      "18\n",
      "44\n"
     ]
    },
    {
     "data": {
      "text/plain": [
       "\u001b[36mdata\u001b[39m: \u001b[32mSeq\u001b[39m[\u001b[32mInt\u001b[39m] = \u001b[33mList\u001b[39m(\u001b[32m1\u001b[39m, \u001b[32m2\u001b[39m, \u001b[32m4\u001b[39m, \u001b[32m27\u001b[39m, \u001b[32m300\u001b[39m, \u001b[32m1250\u001b[39m)"
      ]
     },
     "execution_count": 17,
     "metadata": {},
     "output_type": "execute_result"
    }
   ],
   "source": [
    "val data = Seq(1,2,4,27,300,1250)\n",
    "data.foreach{e =>\n",
    "    var m = e\n",
    "    for( z <- 0 to math.pow(e,1.0/3.0).toInt){\n",
    "        for(y <- 0 to math.pow(e,0.5).toInt){\n",
    "            var next = math.min(m,math.max(0,e+ y + z - y*y  - z*z*z))\n",
    "            if(next-y-z>=0){\n",
    "               m =  next\n",
    "        \n",
    "            }\n",
    "        }\n",
    "    }\n",
    "    println(m)\n",
    "}"
   ]
  },
  {
   "cell_type": "code",
   "execution_count": 30,
   "id": "032a687a",
   "metadata": {},
   "outputs": [
    {
     "data": {
      "text/plain": [
       "\u001b[36minput1\u001b[39m: \u001b[32mString\u001b[39m = \u001b[32m\"\"\"05:47:15 09:54:40\n",
       "12:12:59 12:13:00\n",
       "16:30:20 21:18:53\"\"\"\u001b[39m\n",
       "\u001b[36minput2\u001b[39m: \u001b[32mString\u001b[39m = \u001b[32m\"\"\"00:00:00 03:00:00\n",
       "01:00:00 03:00:00\n",
       "03:00:00 05:00:00\n",
       "02:00:00 03:00:00\n",
       "03:00:00 04:00:00\n",
       "03:00:00 06:00:00\"\"\"\u001b[39m\n",
       "defined \u001b[32mfunction\u001b[39m \u001b[36msolution\u001b[39m\n",
       "\u001b[36mres29_3\u001b[39m: \u001b[32mInt\u001b[39m = \u001b[32m3\u001b[39m"
      ]
     },
     "execution_count": 30,
     "metadata": {},
     "output_type": "execute_result"
    }
   ],
   "source": [
    "val input1 = \"\"\"05:47:15 09:54:40\n",
    "12:12:59 12:13:00\n",
    "16:30:20 21:18:53\"\"\"\n",
    "val input2 = \"\"\"00:00:00 03:00:00\n",
    "01:00:00 03:00:00\n",
    "03:00:00 05:00:00\n",
    "02:00:00 03:00:00\n",
    "03:00:00 04:00:00\n",
    "03:00:00 06:00:00\"\"\"\n",
    "\n",
    "def solution(input:String)={\n",
    "    val schedules = input.split(\"\\n\").map(_.split(\" \")).sortBy(schedule=>schedule(0))\n",
    "    var trains :ArrayBuffer[String]= ArrayBuffer(\"00:00:00\")\n",
    "    schedules.foreach {schedule =>\n",
    "        val leaveAt = schedule(0)\n",
    "        val arriveAt = schedule(1)\n",
    "        trains.indexWhere(_ <= leaveAt) match {\n",
    "            case -1 => trains.append(arriveAt)\n",
    "            case idx =>  trains(idx)=arriveAt\n",
    "        }  \n",
    "    }\n",
    "    trains.length\n",
    "}\n",
    "solution(input2)"
   ]
  },
  {
   "cell_type": "code",
   "execution_count": 44,
   "id": "637cc775",
   "metadata": {},
   "outputs": [
    {
     "data": {
      "text/plain": [
       "defined \u001b[32mfunction\u001b[39m \u001b[36mzigzagConversion\u001b[39m\n",
       "\u001b[36minput\u001b[39m: \u001b[32mString\u001b[39m = \u001b[32m\"PAYPALISHIRING\"\u001b[39m\n",
       "\u001b[36mres43_2\u001b[39m: \u001b[32mBoolean\u001b[39m = true\n",
       "\u001b[36mres43_3\u001b[39m: \u001b[32mBoolean\u001b[39m = true"
      ]
     },
     "execution_count": 44,
     "metadata": {},
     "output_type": "execute_result"
    }
   ],
   "source": [
    "\n",
    "// zigzag conversion\n",
    "// 例\n",
    "// 与えられる文字列: \"PAYPALISHIRING\"\n",
    "// numRows: 3\n",
    "// 想定される並び方\n",
    "//P   A   H   N\n",
    "//A P L S I I G\n",
    "//Y   I   R\n",
    "//numRows: 4\n",
    "//P     I    N\n",
    "//A   L S  I G\n",
    "//Y A   H R\n",
    "//P     I\n",
    "// numRows+numsRows-2の周期なのでindex % (numRows + (numRows-2))について考える\n",
    "def zigzagConversion(input:String,rowNums:Int):String = {\n",
    "    var arr:Array[StringBuilder]= Array.fill(rowNums)(new StringBuilder())\n",
    "    for(i <- 0 to input.length-1){\n",
    "        if(i%(rowNums*2-2)<=rowNums-1){\n",
    "            arr(i % (rowNums+ rowNums -2)).append(input(i))  \n",
    "        }else{\n",
    "            arr( rowNums*2-2-(i % (rowNums+ rowNums -2))).append(input(i))\n",
    "        }\n",
    "    }\n",
    "    arr.map(_.toString).mkString\n",
    "    \n",
    "    \n",
    "}\n",
    "val input = \"PAYPALISHIRING\"\n",
    "zigzagConversion(input,3)==\"PAHNAPLSIIGYIR\"\n",
    "zigzagConversion(input,4)==\"PINALSIGYAHRPI\""
   ]
  },
  {
   "cell_type": "code",
   "execution_count": 48,
   "id": "e56f7ee1",
   "metadata": {},
   "outputs": [
    {
     "name": "stdout",
     "output_type": "stream",
     "text": [
      "same at 1 with rotation 4.71238898038469\n",
      "same at 5 with rotation 0.0\n",
      "same at 3 with rotation 3.141592653589793\n",
      "+++++\n",
      "same at 3 with rotation 3.141592653589793\n",
      "same at 4 with rotation 0.0\n",
      "+++++\n",
      "+++++\n"
     ]
    },
    {
     "data": {
      "text/plain": [
       "\u001b[32mimport \u001b[39m\u001b[36mscala.collection.mutable.ArrayBuffer\n",
       "\u001b[39m\n",
       "\u001b[36minput\u001b[39m: \u001b[32mString\u001b[39m = \u001b[32m\"\"\"5\n",
       "5\n",
       "0 0\n",
       "2 0\n",
       "2 1\n",
       "4 1\n",
       "4 0\n",
       "5\n",
       "0 0\n",
       "0 2\n",
       "-1 2\n",
       "-1 4\n",
       "0 4\n",
       "5\n",
       "0 0\n",
       "0 1\n",
       "-2 1\n",
       "-2 2\n",
       "0 2\n",
       "5\n",
       "0 0\n",
       "0 -1\n",
       "2 -1\n",
       "2 0\n",
       "4 0\n",
       "5\n",
       "0 0\n",
       "2 0\n",
       "2 -1\n",
       "4 -1\n",
       "4 0\n",
       "5\n",
       "0 0\n",
       "2 0\n",
       "2 1\n",
       "4 1\n",
       "4 0\n",
       "4\n",
       "4\n",
       "\u001b[39m...\n",
       "defined \u001b[32mfunction\u001b[39m \u001b[36msplitInput\u001b[39m\n",
       "defined \u001b[32mfunction\u001b[39m \u001b[36mreadInput\u001b[39m\n",
       "defined \u001b[32mfunction\u001b[39m \u001b[36mreadChunk\u001b[39m\n",
       "defined \u001b[32mfunction\u001b[39m \u001b[36mreadChunks\u001b[39m\n",
       "\u001b[36mchunks\u001b[39m: \u001b[32mArray\u001b[39m[\u001b[32mString\u001b[39m] = \u001b[33mArray\u001b[39m(\n",
       "  \u001b[32m\"5\"\u001b[39m,\n",
       "  \u001b[32m\"5\"\u001b[39m,\n",
       "  \u001b[32m\"0 0\"\u001b[39m,\n",
       "  \u001b[32m\"2 0\"\u001b[39m,\n",
       "  \u001b[32m\"2 1\"\u001b[39m,\n",
       "  \u001b[32m\"4 1\"\u001b[39m,\n",
       "  \u001b[32m\"4 0\"\u001b[39m,\n",
       "  \u001b[32m\"5\"\u001b[39m,\n",
       "  \u001b[32m\"0 0\"\u001b[39m,\n",
       "  \u001b[32m\"0 2\"\u001b[39m,\n",
       "  \u001b[32m\"-1 2\"\u001b[39m,\n",
       "  \u001b[32m\"-1 4\"\u001b[39m,\n",
       "  \u001b[32m\"0 4\"\u001b[39m,\n",
       "  \u001b[32m\"5\"\u001b[39m,\n",
       "  \u001b[32m\"0 0\"\u001b[39m,\n",
       "  \u001b[32m\"0 1\"\u001b[39m,\n",
       "  \u001b[32m\"-2 1\"\u001b[39m,\n",
       "  \u001b[32m\"-2 2\"\u001b[39m,\n",
       "  \u001b[32m\"0 2\"\u001b[39m,\n",
       "  \u001b[32m\"5\"\u001b[39m,\n",
       "  \u001b[32m\"0 0\"\u001b[39m,\n",
       "  \u001b[32m\"0 -1\"\u001b[39m,\n",
       "  \u001b[32m\"2 -1\"\u001b[39m,\n",
       "  \u001b[32m\"2 0\"\u001b[39m,\n",
       "  \u001b[32m\"4 0\"\u001b[39m,\n",
       "  \u001b[32m\"5\"\u001b[39m,\n",
       "  \u001b[32m\"0 0\"\u001b[39m,\n",
       "  \u001b[32m\"2 0\"\u001b[39m,\n",
       "  \u001b[32m\"2 -1\"\u001b[39m,\n",
       "  \u001b[32m\"4 -1\"\u001b[39m,\n",
       "  \u001b[32m\"4 0\"\u001b[39m,\n",
       "  \u001b[32m\"5\"\u001b[39m,\n",
       "  \u001b[32m\"0 0\"\u001b[39m,\n",
       "  \u001b[32m\"2 0\"\u001b[39m,\n",
       "  \u001b[32m\"2 1\"\u001b[39m,\n",
       "  \u001b[32m\"4 1\"\u001b[39m,\n",
       "  \u001b[32m\"4 0\"\u001b[39m,\n",
       "  \u001b[32m\"0\"\u001b[39m\n",
       ")\n",
       "\u001b[36mangles\u001b[39m: \u001b[32mSet\u001b[39m[\u001b[32mDouble\u001b[39m] = \u001b[33mSet\u001b[39m(\n",
       "  \u001b[32m0.0\u001b[39m,\n",
       "  \u001b[32m1.5707963267948966\u001b[39m,\n",
       "  \u001b[32m3.141592653589793\u001b[39m,\n",
       "  \u001b[32m4.71238898038469\u001b[39m\n",
       ")\n",
       "\u001b[36mdataset\u001b[39m: \u001b[32mArray\u001b[39m[\u001b[32mArray\u001b[39m[\u001b[32mArray\u001b[39m[(\u001b[32mInt\u001b[39m, \u001b[32mInt\u001b[39m)]]] = \u001b[33mArray\u001b[39m(\n",
       "  \u001b[33mArray\u001b[39m(\n",
       "    \u001b[33mArray\u001b[39m((\u001b[32m0\u001b[39m, \u001b[32m0\u001b[39m), (\u001b[32m2\u001b[39m, \u001b[32m0\u001b[39m), (\u001b[32m2\u001b[39m, \u001b[32m1\u001b[39m), (\u001b[32m4\u001b[39m, \u001b[32m1\u001b[39m), (\u001b[32m4\u001b[39m, \u001b[32m0\u001b[39m)),\n",
       "    \u001b[33mArray\u001b[39m((\u001b[32m0\u001b[39m, \u001b[32m0\u001b[39m), (\u001b[32m0\u001b[39m, \u001b[32m2\u001b[39m), (\u001b[32m-1\u001b[39m, \u001b[32m2\u001b[39m), (\u001b[32m-1\u001b[39m, \u001b[32m4\u001b[39m), (\u001b[32m0\u001b[39m, \u001b[32m4\u001b[39m)),\n",
       "    \u001b[33mArray\u001b[39m((\u001b[32m0\u001b[39m, \u001b[32m0\u001b[39m), (\u001b[32m0\u001b[39m, \u001b[32m1\u001b[39m), (\u001b[32m-2\u001b[39m, \u001b[32m1\u001b[39m), (\u001b[32m-2\u001b[39m, \u001b[32m2\u001b[39m), (\u001b[32m0\u001b[39m, \u001b[32m2\u001b[39m)),\n",
       "    \u001b[33mArray\u001b[39m((\u001b[32m0\u001b[39m, \u001b[32m0\u001b[39m), (\u001b[32m0\u001b[39m, \u001b[32m-1\u001b[39m), (\u001b[32m2\u001b[39m, \u001b[32m-1\u001b[39m), (\u001b[32m2\u001b[39m, \u001b[32m0\u001b[39m), (\u001b[32m4\u001b[39m, \u001b[32m0\u001b[39m)),\n",
       "    \u001b[33mArray\u001b[39m((\u001b[32m0\u001b[39m, \u001b[32m0\u001b[39m), (\u001b[32m2\u001b[39m, \u001b[32m0\u001b[39m), (\u001b[32m2\u001b[39m, \u001b[32m-1\u001b[39m), (\u001b[32m4\u001b[39m, \u001b[32m-1\u001b[39m), (\u001b[32m4\u001b[39m, \u001b[32m0\u001b[39m)),\n",
       "    \u001b[33mArray\u001b[39m((\u001b[32m0\u001b[39m, \u001b[32m0\u001b[39m), (\u001b[32m2\u001b[39m, \u001b[32m0\u001b[39m), (\u001b[32m2\u001b[39m, \u001b[32m1\u001b[39m), (\u001b[32m4\u001b[39m, \u001b[32m1\u001b[39m), (\u001b[32m4\u001b[39m, \u001b[32m0\u001b[39m))\n",
       "  ),\n",
       "  \u001b[33mArray\u001b[39m(\n",
       "    \u001b[33mArray\u001b[39m((\u001b[32m-60\u001b[39m, \u001b[32m-75\u001b[39m), (\u001b[32m-60\u001b[39m, \u001b[32m-78\u001b[39m), (\u001b[32m-42\u001b[39m, \u001b[32m-78\u001b[39m), (\u001b[32m-42\u001b[39m, \u001b[32m-6\u001b[39m)),\n",
       "    \u001b[33mArray\u001b[39m((\u001b[32m10\u001b[39m, \u001b[32m3\u001b[39m), (\u001b[32m10\u001b[39m, \u001b[32m7\u001b[39m), (\u001b[32m-4\u001b[39m, \u001b[32m7\u001b[39m), (\u001b[32m-4\u001b[39m, \u001b[32m40\u001b[39m)),\n",
       "    \u001b[33mArray\u001b[39m((\u001b[32m-74\u001b[39m, \u001b[32m66\u001b[39m), (\u001b[32m-74\u001b[39m, \u001b[32m63\u001b[39m), (\u001b[32m-92\u001b[39m, \u001b[32m63\u001b[39m), (\u001b[32m-92\u001b[39m, \u001b[32m135\u001b[39m)),\n",
       "    \u001b[33mArray\u001b[39m((\u001b[32m-12\u001b[39m, \u001b[32m22\u001b[39m), (\u001b[32m-12\u001b[39m, \u001b[32m25\u001b[39m), (\u001b[32m-30\u001b[39m, \u001b[32m25\u001b[39m), (\u001b[32m-30\u001b[39m, \u001b[32m-47\u001b[39m)),\n",
       "    \u001b[33mArray\u001b[39m((\u001b[32m12\u001b[39m, \u001b[32m-22\u001b[39m), (\u001b[32m12\u001b[39m, \u001b[32m-25\u001b[39m), (\u001b[32m30\u001b[39m, \u001b[32m-25\u001b[39m), (\u001b[32m30\u001b[39m, \u001b[32m47\u001b[39m))\n",
       "  ),\n",
       "  \u001b[33mArray\u001b[39m(\n",
       "    \u001b[33mArray\u001b[39m((\u001b[32m-8\u001b[39m, \u001b[32m5\u001b[39m), (\u001b[32m-8\u001b[39m, \u001b[32m2\u001b[39m), (\u001b[32m0\u001b[39m, \u001b[32m2\u001b[39m), (\u001b[32m0\u001b[39m, \u001b[32m4\u001b[39m), (\u001b[32m8\u001b[39m, \u001b[32m4\u001b[39m)),\n",
       "    \u001b[33mArray\u001b[39m((\u001b[32m-3\u001b[39m, \u001b[32m-1\u001b[39m), (\u001b[32m0\u001b[39m, \u001b[32m-1\u001b[39m), (\u001b[32m0\u001b[39m, \u001b[32m7\u001b[39m), (\u001b[32m-2\u001b[39m, \u001b[32m7\u001b[39m), (\u001b[32m-2\u001b[39m, \u001b[32m16\u001b[39m)),\n",
       "    \u001b[33mArray\u001b[39m((\u001b[32m-1\u001b[39m, \u001b[32m6\u001b[39m), (\u001b[32m-1\u001b[39m, \u001b[32m3\u001b[39m), (\u001b[32m7\u001b[39m, \u001b[32m3\u001b[39m), (\u001b[32m7\u001b[39m, \u001b[32m5\u001b[39m), (\u001b[32m16\u001b[39m, \u001b[32m5\u001b[39m)),\n",
       "    \u001b[33mArray\u001b[39m((\u001b[32m0\u001b[39m, \u001b[32m1\u001b[39m), (\u001b[32m0\u001b[39m, \u001b[32m-2\u001b[39m), (\u001b[32m8\u001b[39m, \u001b[32m-2\u001b[39m), (\u001b[32m8\u001b[39m, \u001b[32m0\u001b[39m), (\u001b[32m17\u001b[39m, \u001b[32m0\u001b[39m))\n",
       "  )\n",
       ")"
      ]
     },
     "execution_count": 48,
     "metadata": {},
     "output_type": "execute_result"
    }
   ],
   "source": [
    "import scala.collection.mutable.ArrayBuffer\n",
    "val input = \"\"\"5\n",
    "5\n",
    "0 0\n",
    "2 0\n",
    "2 1\n",
    "4 1\n",
    "4 0\n",
    "5\n",
    "0 0\n",
    "0 2\n",
    "-1 2\n",
    "-1 4\n",
    "0 4\n",
    "5\n",
    "0 0\n",
    "0 1\n",
    "-2 1\n",
    "-2 2\n",
    "0 2\n",
    "5\n",
    "0 0\n",
    "0 -1\n",
    "2 -1\n",
    "2 0\n",
    "4 0\n",
    "5\n",
    "0 0\n",
    "2 0\n",
    "2 -1\n",
    "4 -1\n",
    "4 0\n",
    "5\n",
    "0 0\n",
    "2 0\n",
    "2 1\n",
    "4 1\n",
    "4 0\n",
    "4\n",
    "4\n",
    "-60 -75\n",
    "-60 -78\n",
    "-42 -78\n",
    "-42 -6\n",
    "4\n",
    "10 3\n",
    "10 7\n",
    "-4 7\n",
    "-4 40\n",
    "4\n",
    "-74 66\n",
    "-74 63\n",
    "-92 63\n",
    "-92 135\n",
    "4\n",
    "-12 22\n",
    "-12 25\n",
    "-30 25\n",
    "-30 -47\n",
    "4\n",
    "12 -22\n",
    "12 -25\n",
    "30 -25\n",
    "30 47\n",
    "3\n",
    "5\n",
    "-8 5\n",
    "-8 2\n",
    "0 2\n",
    "0 4\n",
    "8 4\n",
    "5\n",
    "-3 -1\n",
    "0 -1\n",
    "0 7\n",
    "-2 7\n",
    "-2 16\n",
    "5\n",
    "-1 6\n",
    "-1 3\n",
    "7 3\n",
    "7 5\n",
    "16 5\n",
    "5\n",
    "0 1\n",
    "0 -2\n",
    "8 -2\n",
    "8 0\n",
    "17 0\n",
    "0\"\"\"\n",
    "\n",
    "def splitInput(input:String):Array[String]={\n",
    "    input.split(\"\\n\")\n",
    "}\n",
    "def readInput(\n",
    "    arr:Array[String],\n",
    "    from:Int=0,\n",
    "    result:ArrayBuffer[Array[Array[(Int,Int)]]]=ArrayBuffer(),\n",
    "    readFrom:Int=0):Array[Array[Array[(Int,Int)]]]={\n",
    "    val n = arr(from).toString.toInt\n",
    "    if(n==0){\n",
    "        return result.toArray\n",
    "    }else{\n",
    "        val chunks = readChunks(arr,n+1,from)\n",
    "        result.append(chunks)\n",
    "        readInput(arr,from+chunks.map(_.length+1).sum+1,result)\n",
    "    }\n",
    "}\n",
    "def readChunk(arr:Array[String],chunkFrom:Int=0):Array[(Int,Int)] = {\n",
    "    // header\n",
    "    val m = arr(chunkFrom).toString.toInt\n",
    "    var result = ArrayBuffer[(Int,Int)]()\n",
    "    for(i <- chunkFrom+1 to chunkFrom+m){\n",
    "        val position = arr(i).split(\" \").map(_.toString.toInt)\n",
    "        result.append(  (position(0),position(1)) )\n",
    "    } \n",
    "    result.toArray\n",
    "}\n",
    "\n",
    "def readChunks(\n",
    "    arr:Array[String],\n",
    "    n:Int,startFrom:Int=0,\n",
    "    result:ArrayBuffer[Array[(Int,Int)]]=ArrayBuffer()):Array[Array[(Int,Int)]]={\n",
    "    if(n==0){\n",
    "        return result.toArray\n",
    "    }else{\n",
    "        val chunk = readChunk(arr,startFrom+1)\n",
    "        result.append(chunk)\n",
    "        readChunks(arr,n-1,startFrom+1+chunk.length,result)\n",
    "    }\n",
    "}\n",
    "val chunks=\"\"\"5\n",
    "5\n",
    "0 0\n",
    "2 0\n",
    "2 1\n",
    "4 1\n",
    "4 0\n",
    "5\n",
    "0 0\n",
    "0 2\n",
    "-1 2\n",
    "-1 4\n",
    "0 4\n",
    "5\n",
    "0 0\n",
    "0 1\n",
    "-2 1\n",
    "-2 2\n",
    "0 2\n",
    "5\n",
    "0 0\n",
    "0 -1\n",
    "2 -1\n",
    "2 0\n",
    "4 0\n",
    "5\n",
    "0 0\n",
    "2 0\n",
    "2 -1\n",
    "4 -1\n",
    "4 0\n",
    "5\n",
    "0 0\n",
    "2 0\n",
    "2 1\n",
    "4 1\n",
    "4 0\n",
    "0\"\"\".split(\"\\n\")\n",
    "val angles=Set(0,math.Pi/2.0,math.Pi,math.Pi*1.5)\n",
    "val dataset = readInput(input.split(\"\\n\"))\n",
    "  \n",
    "for (i <- 0 to dataset.length-1){\n",
    "    var lines = dataset(i)\n",
    "    val original_line = lines(0)\n",
    "    var A = (original_line(0)._1,original_line(0)._2)\n",
    "//  l_0を原点に移動したもの\n",
    "    var slided_by_OA = original_line.map{pos=>\n",
    "        (pos._1 - A._1,pos._2 - A._2)\n",
    "    }\n",
    "    // l_0を除くl_i を始点を基準に原点に平行移動したもの\n",
    "    val slided_by_start = lines.drop(1).map{line=>\n",
    "       line.map(pos=>(pos._1 - line(0)._1,pos._2-line(0)._2) )                                     \n",
    "    }\n",
    "    // l_0を除くl_i を終点を基準に原点に平行移動したもの\n",
    "    val slided_by_end = lines.drop(1).map{line=>\n",
    "      line.map(pos => (pos._1 - line(line.length-1)._1,pos._2-line(line.length-1)._2))\n",
    "    }\n",
    "    \n",
    "    slided_by_start.zipWithIndex.foreach { case (line,lineIdx)=>\n",
    "        angles.foreach{theta =>\n",
    "            val rotated = line.map(pos => (\n",
    "                      (math.cos(theta)*pos._1-math.sin(theta)*pos._2).round.toInt,\n",
    "                      (math.sin(theta)*pos._1 + math.cos(theta)*pos._2).round.toInt\n",
    "                  ))\n",
    "            if(rotated.zipWithIndex.forall{case (pos,idx)=>\n",
    "                pos == slided_by_OA(idx)\n",
    "            }) {\n",
    "                \n",
    "                println(s\"same at ${lineIdx+1} with rotation $theta\")\n",
    "                \n",
    "            }       }\n",
    "        \n",
    "    }\n",
    "    slided_by_end.zipWithIndex.foreach { case (line,lineIdx)=>\n",
    "        angles.foreach{theta =>\n",
    "            val rotated = line.map(pos => (\n",
    "                      (math.cos(theta)*pos._1-math.sin(theta)*pos._2).round.toInt,\n",
    "                      (math.sin(theta)*pos._1 + math.cos(theta)*pos._2).round.toInt\n",
    "                  ))\n",
    "            if(rotated.zipWithIndex.forall{case (pos,idx)=>\n",
    "                pos == slided_by_OA(slided_by_OA.length-idx-1)\n",
    "            }) {\n",
    "                \n",
    "                println(s\"same at ${lineIdx+1} with rotation $theta\")\n",
    "                \n",
    "            }       }\n",
    "        \n",
    "    }\n",
    "    \n",
    "    println(\"+++++\")\n",
    "}"
   ]
  },
  {
   "cell_type": "code",
   "execution_count": 28,
   "id": "88a06795",
   "metadata": {},
   "outputs": [
    {
     "data": {
      "text/plain": [
       "\u001b[36minput\u001b[39m: \u001b[32mArray\u001b[39m[\u001b[32mInt\u001b[39m] = \u001b[33mArray\u001b[39m(\u001b[32m0\u001b[39m, \u001b[32m1\u001b[39m, \u001b[32m0\u001b[39m, \u001b[32m11\u001b[39m, \u001b[32m5\u001b[39m, \u001b[32m1\u001b[39m, \u001b[32m1\u001b[39m, \u001b[32m0\u001b[39m)"
      ]
     },
     "execution_count": 28,
     "metadata": {},
     "output_type": "execute_result"
    }
   ],
   "source": [
    "val input = Array(0,1,0,11,5,1,1,0)"
   ]
  },
  {
   "cell_type": "code",
   "execution_count": 29,
   "id": "5018c8d2",
   "metadata": {},
   "outputs": [
    {
     "data": {
      "text/plain": [
       "defined \u001b[32mfunction\u001b[39m \u001b[36mmoveZeros\u001b[39m\n",
       "\u001b[36mres28_1\u001b[39m: \u001b[32mArray\u001b[39m[\u001b[32mInt\u001b[39m] = \u001b[33mArray\u001b[39m(\u001b[32m1\u001b[39m, \u001b[32m11\u001b[39m, \u001b[32m5\u001b[39m, \u001b[32m1\u001b[39m, \u001b[32m1\u001b[39m, \u001b[32m0\u001b[39m, \u001b[32m0\u001b[39m, \u001b[32m0\u001b[39m)"
      ]
     },
     "execution_count": 29,
     "metadata": {},
     "output_type": "execute_result"
    }
   ],
   "source": [
    "def moveZeros(arr:Array[Int],readFrom:Int=0):Array[Int]={\n",
    "    if(arr.length-1 < readFrom){\n",
    "        return arr\n",
    "    }else{\n",
    "        if(arr(readFrom)!=0){\n",
    "            moveZeros(arr,readFrom+1)\n",
    "        }else{\n",
    "            var i = 0\n",
    "            while(readFrom+i<arr.length-1 & arr(readFrom+i)==0){\n",
    "                i+=1\n",
    "            }\n",
    "            arr(readFrom) = arr(readFrom+i)\n",
    "            arr(readFrom+i)=0\n",
    "            moveZeros(arr,readFrom+1)\n",
    "        }\n",
    "    }\n",
    "\n",
    "}\n",
    "moveZeros(input)"
   ]
  },
  {
   "cell_type": "markdown",
   "id": "d104f97e",
   "metadata": {},
   "source": [
    "leetcode 50\n",
    "\n",
    "> Implement pow(x, n), which calculates x raised to the power n (i.e., xn).\n",
    "\n"
   ]
  },
  {
   "cell_type": "code",
   "execution_count": 99,
   "id": "28668f73",
   "metadata": {},
   "outputs": [
    {
     "data": {
      "text/plain": [
       "defined \u001b[32mfunction\u001b[39m \u001b[36mpow\u001b[39m"
      ]
     },
     "execution_count": 99,
     "metadata": {},
     "output_type": "execute_result"
    }
   ],
   "source": [
    "def pow(x:Double,n:Int,result:Double=1):Double={\n",
    "    if(n==0){\n",
    "        result\n",
    "    }else if (n<0){\n",
    "        pow(x,n+1,result/x)\n",
    "    }else {\n",
    "        pow(x,n-1,result*x)\n",
    "    }\n",
    "}"
   ]
  },
  {
   "cell_type": "code",
   "execution_count": 103,
   "id": "713cfccf",
   "metadata": {},
   "outputs": [
    {
     "data": {
      "text/plain": [
       "defined \u001b[32mfunction\u001b[39m \u001b[36mefficientPow\u001b[39m\n",
       "\u001b[36mres102_1\u001b[39m: \u001b[32mDouble\u001b[39m = \u001b[32m1024.0\u001b[39m"
      ]
     },
     "execution_count": 103,
     "metadata": {},
     "output_type": "execute_result"
    }
   ],
   "source": [
    "def efficientPow(x:Double,b:String,result:Double=1,i:Int=0):Double={\n",
    "      if(b.length-1==i){\n",
    "        if(b(b.length-1-i).toString==\"1\"){\n",
    "            result*pow(x,pow(2,i).toInt)\n",
    "        }else{\n",
    "            result\n",
    "        }\n",
    "    }else{\n",
    "        efficientPow(\n",
    "            x,\n",
    "            b,\n",
    "            result*efficientPow(x,(b(b.length-1-i).toString.toInt*efficientPow(2,i.toBinaryString)).toInt.toBinaryString),\n",
    "            i+1\n",
    "        )\n",
    "    }\n",
    "}"
   ]
  },
  {
   "cell_type": "code",
   "execution_count": 23,
   "id": "0d4996e7",
   "metadata": {},
   "outputs": [
    {
     "data": {
      "text/plain": [
       "\u001b[36minput\u001b[39m: \u001b[32mArray\u001b[39m[\u001b[32mInt\u001b[39m] = \u001b[33mArray\u001b[39m(\u001b[32m367\u001b[39m, \u001b[32m186\u001b[39m, \u001b[32m151\u001b[39m)"
      ]
     },
     "execution_count": 23,
     "metadata": {},
     "output_type": "execute_result"
    }
   ],
   "source": [
    "//  (a,d,n) a から始まり d ずつ増える 等差数列に含まれる素数のうちで n 番目のものを出力する\n",
    "val input = Array(367,186,151)"
   ]
  },
  {
   "cell_type": "code",
   "execution_count": 12,
   "id": "363aeba0",
   "metadata": {},
   "outputs": [
    {
     "data": {
      "text/plain": [
       "defined \u001b[32mfunction\u001b[39m \u001b[36mseq\u001b[39m\n",
       "defined \u001b[32mfunction\u001b[39m \u001b[36msolution\u001b[39m\n",
       "defined \u001b[32mfunction\u001b[39m \u001b[36misPrime\u001b[39m\n",
       "\u001b[36mres11_3\u001b[39m: \u001b[32mInt\u001b[39m = \u001b[32m6709\u001b[39m"
      ]
     },
     "execution_count": 12,
     "metadata": {},
     "output_type": "execute_result"
    }
   ],
   "source": [
    "def seq(a:Int,d:Int,k:Int):Int={\n",
    "    a+d*(k-1)\n",
    "}\n",
    "def solution(a:Int,d:Int,n:Int)= {\n",
    "    // seq(a,d,k)に含まれるn番目の素数を求める\n",
    "    // 素数のカウントがnになるまでkをincrementし続ける?\n",
    "    var primeCount = 0\n",
    "    var k = 1\n",
    "    while(primeCount<n){\n",
    "        if(isPrime(seq(a,d,k))){\n",
    "            primeCount+=1\n",
    "        }\n",
    "        k+=1\n",
    "    }\n",
    "    seq(a,d,k-1)\n",
    "    \n",
    "}\n",
    "def isPrime(x:Int):Boolean={\n",
    "    if(x==2){\n",
    "        true\n",
    "    }else if(x%2==0){\n",
    "        false\n",
    "    }else{\n",
    "      Range(3,math.sqrt(x).round.toInt+1,2).foreach{e=>\n",
    "        if(x%e==0) return false\n",
    "      }\n",
    "     true  \n",
    "    }\n",
    "}\n",
    "solution(179,10,203)"
   ]
  },
  {
   "cell_type": "code",
   "execution_count": 18,
   "id": "884ebf0c",
   "metadata": {},
   "outputs": [
    {
     "data": {
      "text/plain": [
       "\u001b[32mimport \u001b[39m\u001b[36mscala.collection.mutable.ArrayBuffer\u001b[39m"
      ]
     },
     "execution_count": 18,
     "metadata": {},
     "output_type": "execute_result"
    }
   ],
   "source": [
    "import scala.collection.mutable.ArrayBuffer"
   ]
  },
  {
   "cell_type": "code",
   "execution_count": 9,
   "id": "8a76162f",
   "metadata": {},
   "outputs": [
    {
     "data": {
      "text/plain": [
       "defined \u001b[32mfunction\u001b[39m \u001b[36msolution\u001b[39m\n",
       "defined \u001b[32mfunction\u001b[39m \u001b[36mrow\u001b[39m\n",
       "defined \u001b[32mfunction\u001b[39m \u001b[36mconvert\u001b[39m\n",
       "\u001b[36mres8_3\u001b[39m: \u001b[32mChar\u001b[39m = \u001b[32m'0'\u001b[39m"
      ]
     },
     "execution_count": 9,
     "metadata": {},
     "output_type": "execute_result"
    }
   ],
   "source": [
    "def solution(n:Int,k:Int)={\n",
    "    row(n)(k-1)\n",
    "}\n",
    "def row(n:Int,prev:String=\"0\"):String={\n",
    "    if(n==1){\n",
    "        return prev\n",
    "    }else{\n",
    "        row(n-1,convert(prev))\n",
    "    }\n",
    "}\n",
    "def convert(s:String):String={\n",
    "    var sb = new StringBuilder()\n",
    "    for(i <- 0 to s.length-1){\n",
    "        if(s(i).toString==\"0\"){\n",
    "            sb.append(\"01\")\n",
    "        }else{\n",
    "            sb.append(\"10\")\n",
    "        }\n",
    "    }\n",
    "    sb.toString\n",
    "}"
   ]
  },
  {
   "cell_type": "code",
   "execution_count": 71,
   "id": "d6bf2e55",
   "metadata": {},
   "outputs": [
    {
     "data": {
      "text/plain": [
       "defined \u001b[32mfunction\u001b[39m \u001b[36mpermutation\u001b[39m\n",
       "defined \u001b[32mfunction\u001b[39m \u001b[36mpermutation_impl\u001b[39m\n",
       "defined \u001b[32mfunction\u001b[39m \u001b[36mnext\u001b[39m"
      ]
     },
     "execution_count": 71,
     "metadata": {},
     "output_type": "execute_result"
    }
   ],
   "source": [
    "\n",
    "def permutation(original:Array[Int])={\n",
    "    val ab = ArrayBuffer[ArrayBuffer[Int]]()\n",
    "    for(i <- 0 to original.length -1){\n",
    "        ab.append(ArrayBuffer(original(i)))\n",
    "    }\n",
    "    \n",
    "    permutation_impl(original.toSet,original.length,ab)\n",
    "}\n",
    "def permutation_impl(original:Set[Int],n:Int,prevs:ArrayBuffer[ArrayBuffer[Int]]):ArrayBuffer[ArrayBuffer[Int]]={\n",
    "    if(n==1){\n",
    "        prevs\n",
    "    }else{\n",
    "        permutation_impl(original,n-1,next(original,prevs))\n",
    "    }\n",
    "}\n",
    "\n",
    "def next(original:Set[Int],prevs:ArrayBuffer[ArrayBuffer[Int]])={\n",
    "    val ab:ArrayBuffer[ArrayBuffer[Int]] = ArrayBuffer()\n",
    "    for(i <- 0 to prevs.length-1){\n",
    "        val prev = prevs(i).toSet\n",
    "        val candidates = original.diff(prev) \n",
    "        candidates.foreach{l=>\n",
    "          ab.append(prevs(i).appended(l))\n",
    "        }\n",
    "    }\n",
    "    ab\n",
    "}"
   ]
  },
  {
   "cell_type": "markdown",
   "id": "3e224145",
   "metadata": {},
   "source": []
  },
  {
   "cell_type": "code",
   "execution_count": 73,
   "id": "d8d15154",
   "metadata": {},
   "outputs": [
    {
     "data": {
      "text/plain": [
       "\u001b[36mcandidates\u001b[39m: \u001b[32mArray\u001b[39m[\u001b[32mInt\u001b[39m] = \u001b[33mArray\u001b[39m(\u001b[32m2\u001b[39m, \u001b[32m3\u001b[39m, \u001b[32m5\u001b[39m)\n",
       "\u001b[36mtarget\u001b[39m: \u001b[32mInt\u001b[39m = \u001b[32m8\u001b[39m\n",
       "defined \u001b[32mfunction\u001b[39m \u001b[36msolution\u001b[39m\n",
       "defined \u001b[32mfunction\u001b[39m \u001b[36mS\u001b[39m\n",
       "\u001b[36mres72_4\u001b[39m: \u001b[32mSet\u001b[39m[\u001b[32mArrayBuffer\u001b[39m[\u001b[32mInt\u001b[39m]] = \u001b[33mSet\u001b[39m(\n",
       "  \u001b[33mArrayBuffer\u001b[39m(\u001b[32m2\u001b[39m, \u001b[32m2\u001b[39m, \u001b[32m2\u001b[39m, \u001b[32m2\u001b[39m),\n",
       "  \u001b[33mArrayBuffer\u001b[39m(\u001b[32m2\u001b[39m, \u001b[32m3\u001b[39m, \u001b[32m3\u001b[39m),\n",
       "  \u001b[33mArrayBuffer\u001b[39m(\u001b[32m3\u001b[39m, \u001b[32m5\u001b[39m)\n",
       ")"
      ]
     },
     "execution_count": 73,
     "metadata": {},
     "output_type": "execute_result"
    }
   ],
   "source": [
    "// e.g. candidates = [2,3,6,7], target = 7\n",
    "//39. Combination Sum\n",
    "\n",
    "val candidates = Array(2,3,5)\n",
    "val target = 8\n",
    "\n",
    "def solution(candidates:Array[Int],target:Int)= {\n",
    "    S(target,candidates.toSet).map(_.sorted).filterNot(_.isEmpty).toSet\n",
    "}\n",
    "\n",
    "   \n",
    "\n",
    "def S(t:Int,candidates:Set[Int],result:ArrayBuffer[ArrayBuffer[Int]]=ArrayBuffer[ArrayBuffer[Int]]()):ArrayBuffer[ArrayBuffer[Int]]={\n",
    "    if(t<0){\n",
    "        result\n",
    "    }else if(t==0){\n",
    "        result\n",
    "    }\n",
    "    else{\n",
    "        candidates.map{c=>\n",
    "          if(t-c==0){\n",
    "             S(t-c,candidates,result.appended(ArrayBuffer(c)))\n",
    "          }else{\n",
    "              S(t-c,candidates,result).filter{ab=> ab.sum+c==t}.map(_.appended(c))\n",
    "          }\n",
    "        }.foldLeft(ArrayBuffer(ArrayBuffer[Int]())){case (acc,ab)=>\n",
    "            ab.foreach{a=>\n",
    "            acc.append(a)}\n",
    "            acc\n",
    "        }\n",
    "        \n",
    "    }\n",
    "}\n",
    "solution(candidates,target)"
   ]
  },
  {
   "cell_type": "code",
   "execution_count": 22,
   "id": "e794748e",
   "metadata": {},
   "outputs": [
    {
     "data": {
      "text/plain": [
       "defined \u001b[32mfunction\u001b[39m \u001b[36misSubsequence\u001b[39m\n",
       "defined \u001b[32mfunction\u001b[39m \u001b[36mcheckContains\u001b[39m"
      ]
     },
     "execution_count": 22,
     "metadata": {},
     "output_type": "execute_result"
    }
   ],
   "source": [
    "def isSubsequence(s:String,t:String):Boolean ={\n",
    "    checkContains(s.split(\"\"),t)\n",
    "}\n",
    "def checkContains(arr:Array[String],t:String,readFrom:Int=0,found:Int=0):Boolean={\n",
    "    if(found==arr.length){\n",
    "        true\n",
    "    }else if(readFrom>t.length-1){\n",
    "        false\n",
    "    }else {\n",
    "        if(t(readFrom).toString==arr(found)){\n",
    "            checkContains(arr,t,readFrom+1,found+1)\n",
    "        }else{\n",
    "            checkContains(arr,t,readFrom+1,found)\n",
    "        }   \n",
    "    }\n",
    "}"
   ]
  },
  {
   "cell_type": "code",
   "execution_count": 23,
   "id": "98c74af5",
   "metadata": {},
   "outputs": [
    {
     "data": {
      "text/plain": [
       "\u001b[36mres22\u001b[39m: \u001b[32mBoolean\u001b[39m = true"
      ]
     },
     "execution_count": 23,
     "metadata": {},
     "output_type": "execute_result"
    }
   ],
   "source": [
    "isSubsequence(\"abc\",\"cacccbgdcd\")"
   ]
  },
  {
   "cell_type": "code",
   "execution_count": null,
   "id": "5771ce3c",
   "metadata": {},
   "outputs": [],
   "source": []
  },
  {
   "cell_type": "code",
   "execution_count": 24,
   "id": "dee6caf6",
   "metadata": {},
   "outputs": [
    {
     "data": {
      "text/plain": [
       "defined \u001b[32mfunction\u001b[39m \u001b[36mcountLevel\u001b[39m\n",
       "defined \u001b[32mfunction\u001b[39m \u001b[36misOperator\u001b[39m\n",
       "defined \u001b[32mfunction\u001b[39m \u001b[36mextractOperator\u001b[39m\n",
       "\u001b[36midentity\u001b[39m: \u001b[32mArray\u001b[39m[\u001b[32mInt\u001b[39m] => \u001b[32mInt\u001b[39m = ammonite.$sess.cmd23$Helper$$Lambda$2386/0x0000000100c28840@1b96879c\n",
       "defined \u001b[32mfunction\u001b[39m \u001b[36mnumerify\u001b[39m"
      ]
     },
     "execution_count": 24,
     "metadata": {},
     "output_type": "execute_result"
    }
   ],
   "source": [
    "\n",
    "def countLevel(s:String,readFrom:Int=0,level:Int=0):Int={\n",
    "   if(readFrom>s.length-1){\n",
    "        level\n",
    "    }else if(s(readFrom).toString!=\".\"){\n",
    "       level\n",
    "   }else{\n",
    "        countLevel(s,readFrom+1,level+1)\n",
    "    }\n",
    "}\n",
    "\n",
    "def isOperator(s:String):Boolean={\n",
    "    s.last.toString==\"*\" || s.last.toString ==\"+\"\n",
    "}\n",
    "def extractOperator(s:String):Array[Int]=>Int={\n",
    "    s.last.toString match {\n",
    "        case \"*\" => (arr:Array[Int])=>arr.foldLeft(1){case (acc,v)=>acc*v}\n",
    "        case \"+\" => (arr:Array[Int])=>arr.foldLeft(0){case (acc,v)=>acc+v}\n",
    "    }\n",
    "}\n",
    "val identity = (arr:Array[Int])=>arr.head\n",
    "\n",
    "def numerify(s:String):Int={\n",
    "    s.dropWhile(_.toString==\".\").toInt\n",
    "}"
   ]
  },
  {
   "cell_type": "markdown",
   "id": "ad390582",
   "metadata": {},
   "source": [
    "> 数学では，一般的に括弧を使って計算の順序を表現する． たとえば，7 × (3 + 2) は 3 + 2 を先に計算して， その結果を 7 に掛ける式であって，7 × 3 の結果に 2 を足す式ではない． しかし，世の中には括弧の存在を快く思わない人たちがいる． 国際反括弧会議 (International Counter of Parentheses Council) では，括弧を使わない記法を世界標準にしようとしている． 彼等は日夜括弧を使わない記法を研究している．\n",
    "\n",
    ">，括弧を使わない新しい記法を考案した． 博士が考案した記法では，加算演算子 (+)，乗算演算子 (*)，あるいは整数からなる行を並べて式を表す． 式は，整数ひとつか，被演算子への演算子の適用のどちらかである． 整数は十進数で 1 行に表記される． 演算子の適用の場合は，演算子の行を先に書き，直後の行から演算子が適用されるふたつ以上の被演算子を並べて書くことで表現する．被演算子は再帰的に同じ記法で表記した式である． 被演算子が演算子の適用である場合，被演算子が複数の行にわたることになる．\n",
    "\n",
    ">式はいくらでも入れ子になるので，どの演算子がどの被演算子に適用されるのかをわかるようにしなければならない． そのために，式には入れ子レベルを考える． 最上位の式は入れ子レベル 0 である． レベル n の式が演算子適用の場合，その被演算子はレベル n + 1 の式になる． 式の最初の行は入れ子レベルの数だけのピリオド (.) から始める．\n",
    "\n",
    ">例えば，通常の数学で 2 + 3 と書く式は図1 のように書く． 演算子はふたつ以上の被演算子に適用でき，+ と * はそれぞれ全ての被演算子の総和や，全ての被演算子を掛け合わせる演算を表す． 例えば，図2 は 2 と 3 と 4 ?を掛け合わせる式である． 複雑な例では，通常の数学での (2 + 3 + 4) × 5 は図3 のように書け， (2 + 3) × 4 × 5 は図4 のように書ける．\n",
    "\n",
    ">+\n",
    ".2\n",
    ".3\n",
    "図1: 2 + 3\n",
    "*\n",
    ".2\n",
    ".3\n",
    ".4\n",
    "図2: 2, 3, 4 を全て掛ける式\n",
    "*\n",
    ".+\n",
    "..2\n",
    "..3\n",
    "..4\n",
    ".5\n",
    "図3: (2 + 3 + 4) × 5\n",
    "*\n",
    ".+\n",
    "..2\n",
    "..3\n",
    ".4\n",
    ".5\n",
    "図4: (2 + 3) × 4 × 5\n",
    "あなたの仕事は，博士を手伝ってこの記法で書かれた式の値を計算するプログラムを作ることだ．\n",
    "\n",
    "> from icpc 2015"
   ]
  },
  {
   "cell_type": "code",
   "execution_count": 20,
   "id": "8f0b3636",
   "metadata": {},
   "outputs": [
    {
     "data": {
      "text/plain": [
       "defined \u001b[32mfunction\u001b[39m \u001b[36mcalc\u001b[39m"
      ]
     },
     "execution_count": 20,
     "metadata": {},
     "output_type": "execute_result"
    }
   ],
   "source": [
    "def calc(\n",
    "    lines:Array[String],\n",
    "    op:Array[Int]=>Int=identity,\n",
    "    args:ArrayBuffer[Int]=ArrayBuffer[Int](),\n",
    "    readFrom:Int=0,level:Int=0\n",
    "):Int={\n",
    "    if(readFrom>lines.length-1){\n",
    "        op(args.toArray)\n",
    "    }\n",
    "    if(countLevel(lines(readFrom)) < level){\n",
    "        if(isOperator(lines(readFrom))){\n",
    "            op(args.toArray)+ calc(lines,extractOperator(lines(readFrom)),ArrayBuffer[Int](),readFrom+1,countLevel(lines(readFrom)))\n",
    "        }else{\n",
    "            op(args.toArray)+ numerify(lines(readFrom))\n",
    "        }\n",
    "    }else if (isOperator(lines(readFrom))){\n",
    "        val r = calc(lines,extractOperator(lines(readFrom)),ArrayBuffer[Int](),readFrom+1,level+1)\n",
    "        args.append(r)\n",
    "        op(args.toArray)\n",
    "    }else{\n",
    "        args.append(numerify(lines(readFrom)))\n",
    "        calc(lines,op,args,readFrom+1,level)\n",
    "        \n",
    "    }\n",
    "}"
   ]
  },
  {
   "cell_type": "code",
   "execution_count": 21,
   "id": "add8e89e",
   "metadata": {},
   "outputs": [
    {
     "data": {
      "text/plain": [
       "\u001b[36min\u001b[39m: \u001b[32mString\u001b[39m = \u001b[32m\"\"\"+\n",
       ".0\n",
       ".+\n",
       "..*\n",
       "...1\n",
       "...*\n",
       "....1\n",
       "....2\n",
       "..0\"\"\"\u001b[39m\n",
       "\u001b[36mres20_1\u001b[39m: \u001b[32mInt\u001b[39m = \u001b[32m2\u001b[39m"
      ]
     },
     "execution_count": 21,
     "metadata": {},
     "output_type": "execute_result"
    }
   ],
   "source": [
    "/*sample inputs\n",
    "1\n",
    "9\n",
    "4\n",
    "+\n",
    ".1\n",
    ".2\n",
    ".3\n",
    "9\n",
    "+\n",
    ".0\n",
    ".+\n",
    "..*\n",
    "...1\n",
    "...*\n",
    "....1\n",
    "....2\n",
    "..0\n",
    "10\n",
    "+\n",
    ".+\n",
    "..6\n",
    "..2\n",
    ".+\n",
    "..1\n",
    "..*\n",
    "...7\n",
    "...6\n",
    ".3\n",
    "0*/\n",
    "val in=\"\"\"+\n",
    ".0\n",
    ".+\n",
    "..*\n",
    "...1\n",
    "...*\n",
    "....1\n",
    "....2\n",
    "..0\"\"\"\n",
    "calc(in.split(\"\\n\"))"
   ]
  },
  {
   "cell_type": "markdown",
   "id": "bf4c8604",
   "metadata": {},
   "source": [
    "stackでqueueを実装する\n",
    "\n",
    "- 方針1: スタックに追加する際にQueueの順番に取り出せるように順序を整理する.\n",
    "- 方針2: 一方のスタックAにFILOで要素を追加する. はじめてpopが呼ばれたら他方のスタックBにすべて移動する. このときBではFIFO順になっているので残りの要素はpopでO(1)で取り出せる. 新しい要素はAにFILOで追加される. Bが空になったらAからBに要素を再度移動させればいい."
   ]
  },
  {
   "cell_type": "code",
   "execution_count": null,
   "id": "53b5f386",
   "metadata": {},
   "outputs": [],
   "source": [
    "import scala.collection.mutable.ArrayStack\n",
    "trait StaQueue[T]{\n",
    "    //* push element to end\n",
    "    def push(e:T):Unit\n",
    "    //* pop element from first\n",
    "    def pop():Option[T]\n",
    "    // returns the first element of StaQueue\n",
    "    def peek():Option[T]\n",
    "    // returns whether the StaQueue is empty.\n",
    "    def isEmpty():Boolean\n",
    "}\n",
    "// push O(n),pop O(1)\n",
    "class NaiveStaQueue[T] extends StaQueue[T]{\n",
    "    // store the first element so that we do not have to peek stack every time StaQueue.peek is called.\n",
    "    private var front: Option[T] = None\n",
    "    // Every element is saved in s1.\n",
    "    private var s1:ArrayStack[T] = ArrayStack()\n",
    "    // We make use of this auxiliary stack to arrange s1 elements in FIFO order.\n",
    "    private var s2:ArrayStack[T] = ArrayStack()\n",
    "    // newest element must be pushed to the bottom of the stack.\n",
    "    \n",
    "    override def push(e:T):Unit = {\n",
    "        // first, we temporarily move all elements in s1 to s2.\n",
    "        if(s1.isEmpty){\n",
    "            front = Some(e)\n",
    "            s1.push(e)\n",
    "        }else{\n",
    "            while(!s1.isEmpty){\n",
    "                s2.push(s1.pop)\n",
    "            }\n",
    "            // then, put new element in the bottom of s1.\n",
    "            s1.push(e)\n",
    "            // then, move all elements back to s1.\n",
    "            while(!s2.isEmpty){\n",
    "                s1.push(s2.pop)\n",
    "            }\n",
    "        }\n",
    "        \n",
    "    }\n",
    "\n",
    "    override def pop():Option[T] = {\n",
    "        front match {\n",
    "            case Some(e) =>\n",
    "              s1.pop()\n",
    "              front = if(s1.isEmpty) None else Some(s1.top) \n",
    "              Some(e)\n",
    "            case _ => None\n",
    "        }\n",
    "    }\n",
    "    \n",
    "    override def peek():Option[T] = front\n",
    "    \n",
    "    override def isEmpty():Boolean = s1.isEmpty\n",
    "}\n",
    "\n",
    "class BetterStaQueue[T] extends StaQueue[T]{\n",
    "    private var front: Option[T] = None\n",
    "    private var s1:ArrayStack[T] = ArrayStack()\n",
    "    private var s2:ArrayStack[T] = ArrayStack()\n",
    "    \n",
    "    override def push(e:T):Unit ={\n",
    "        if(isEmpty){\n",
    "            front = Some(e)\n",
    "        }\n",
    "        s1.push(e)\n",
    "    }\n",
    "    \n",
    "    override def pop():Option[T]={\n",
    "        // If s2 is empty, move all elements to s2 to arrange elements in FIFO order.\n",
    "        if(s2.isEmpty){\n",
    "            while(!s1.isEmpty){\n",
    "                s2.push(s1.pop)\n",
    "            }    \n",
    "        }\n",
    "        // now, we have FIFO ordered s2.\n",
    "        if(s2.isEmpty){ // when both s1 and s2 are empty, front is None. \n",
    "            front = None\n",
    "            front\n",
    "        }else {\n",
    "            val top = s2.pop\n",
    "            front = if(s2.isEmpty) None else Some(s2.top)\n",
    "            Some(top)             \n",
    "        } \n",
    "    }\n",
    "    \n",
    "    \n",
    "    override def peek():Option[T] = {\n",
    "        if(!s2.isEmpty){\n",
    "            Some(s2.top)\n",
    "        }else{\n",
    "            front\n",
    "        }\n",
    "        \n",
    "    }\n",
    "    \n",
    "    override def isEmpty():Boolean = s1.isEmpty & s2.isEmpty\n",
    "\n",
    "}\n"
   ]
  },
  {
   "cell_type": "code",
   "execution_count": 7,
   "id": "867e0eee",
   "metadata": {},
   "outputs": [
    {
     "data": {
      "text/plain": [
       "\u001b[32mimport \u001b[39m\u001b[36mscala.collection.mutable.ArrayBuffer\n",
       "\n",
       "\u001b[39m\n",
       "defined \u001b[32mfunction\u001b[39m \u001b[36mpascalsTriangle\u001b[39m\n",
       "\u001b[36mres6_2\u001b[39m: \u001b[32mList\u001b[39m[\u001b[32mList\u001b[39m[\u001b[32mInt\u001b[39m]] = \u001b[33mList\u001b[39m(\n",
       "  \u001b[33mList\u001b[39m(\u001b[32m1\u001b[39m),\n",
       "  \u001b[33mList\u001b[39m(\u001b[32m1\u001b[39m, \u001b[32m1\u001b[39m),\n",
       "  \u001b[33mList\u001b[39m(\u001b[32m1\u001b[39m, \u001b[32m2\u001b[39m, \u001b[32m1\u001b[39m),\n",
       "  \u001b[33mList\u001b[39m(\u001b[32m1\u001b[39m, \u001b[32m3\u001b[39m, \u001b[32m3\u001b[39m, \u001b[32m1\u001b[39m),\n",
       "  \u001b[33mList\u001b[39m(\u001b[32m1\u001b[39m, \u001b[32m4\u001b[39m, \u001b[32m6\u001b[39m, \u001b[32m4\u001b[39m, \u001b[32m1\u001b[39m),\n",
       "  \u001b[33mList\u001b[39m(\u001b[32m1\u001b[39m, \u001b[32m5\u001b[39m, \u001b[32m10\u001b[39m, \u001b[32m10\u001b[39m, \u001b[32m5\u001b[39m, \u001b[32m1\u001b[39m),\n",
       "  \u001b[33mList\u001b[39m(\u001b[32m1\u001b[39m, \u001b[32m6\u001b[39m, \u001b[32m15\u001b[39m, \u001b[32m20\u001b[39m, \u001b[32m15\u001b[39m, \u001b[32m6\u001b[39m, \u001b[32m1\u001b[39m),\n",
       "  \u001b[33mList\u001b[39m(\u001b[32m1\u001b[39m, \u001b[32m7\u001b[39m, \u001b[32m21\u001b[39m, \u001b[32m35\u001b[39m, \u001b[32m35\u001b[39m, \u001b[32m21\u001b[39m, \u001b[32m7\u001b[39m, \u001b[32m1\u001b[39m),\n",
       "  \u001b[33mList\u001b[39m(\u001b[32m1\u001b[39m, \u001b[32m8\u001b[39m, \u001b[32m28\u001b[39m, \u001b[32m56\u001b[39m, \u001b[32m70\u001b[39m, \u001b[32m56\u001b[39m, \u001b[32m28\u001b[39m, \u001b[32m8\u001b[39m, \u001b[32m1\u001b[39m),\n",
       "  \u001b[33mList\u001b[39m(\u001b[32m1\u001b[39m, \u001b[32m9\u001b[39m, \u001b[32m36\u001b[39m, \u001b[32m84\u001b[39m, \u001b[32m126\u001b[39m, \u001b[32m126\u001b[39m, \u001b[32m84\u001b[39m, \u001b[32m36\u001b[39m, \u001b[32m9\u001b[39m, \u001b[32m1\u001b[39m)\n",
       ")"
      ]
     },
     "execution_count": 7,
     "metadata": {},
     "output_type": "execute_result"
    }
   ],
   "source": [
    "import scala.collection.mutable.ArrayBuffer\n",
    "\n",
    "def pascalsTriangle(n:Int,from:Int=0,prevs:ArrayBuffer[Array[Int]]=ArrayBuffer(Array(1))):Array[Array[Int]]={\n",
    "    if(from==n-1){\n",
    "        return prevs.toArray\n",
    "    }else{\n",
    "        val prev = prevs(from)\n",
    "        var a :ArrayBuffer[Int]= ArrayBuffer()\n",
    "        a.append(1)\n",
    "        if(prev.length>=2){\n",
    "            for(i <- 0 to prev.length -2){\n",
    "                a.append(prev(i)+prev(i+1))\n",
    "            }\n",
    "        }\n",
    " \n",
    "        a.append(1)\n",
    "        prevs.append(a.toArray)\n",
    "        pascalsTriangle(n,from+1,prevs)\n",
    "    \n",
    "    }\n",
    "}\n",
    "pascalsTriangle(10).map(_.toList).toList"
   ]
  },
  {
   "cell_type": "code",
   "execution_count": 14,
   "id": "d9122867",
   "metadata": {},
   "outputs": [
    {
     "data": {
      "text/plain": [
       "defined \u001b[32mfunction\u001b[39m \u001b[36mmergeTwoSortedArray\u001b[39m\n",
       "\u001b[36mres13_1\u001b[39m: \u001b[32mArray\u001b[39m[\u001b[32mInt\u001b[39m] = \u001b[33mArray\u001b[39m(\u001b[32m1\u001b[39m, \u001b[32m2\u001b[39m, \u001b[32m3\u001b[39m, \u001b[32m4\u001b[39m, \u001b[32m5\u001b[39m, \u001b[32m5\u001b[39m, \u001b[32m6\u001b[39m, \u001b[32m9\u001b[39m)"
      ]
     },
     "execution_count": 14,
     "metadata": {},
     "output_type": "execute_result"
    }
   ],
   "source": [
    "def mergeTwoSortedArray(arr:Array[Int],arr2:Array[Int],result:ArrayBuffer[Int]=ArrayBuffer()):Array[Int]={\n",
    "    if(arr.isEmpty){\n",
    "        result.appendAll(arr2.takeWhile(_!=0))\n",
    "        result.toArray\n",
    "    }else if(arr2.isEmpty){\n",
    "        result.appendAll(arr.takeWhile(_!=0))\n",
    "        result.toArray\n",
    "    }else{\n",
    "        if(arr(0)>arr2(0)){\n",
    "            if(arr2(0)!=0){\n",
    "                result.append(arr2(0))\n",
    "            }\n",
    "            mergeTwoSortedArray(arr,arr2.slice(1,arr2.length),result)\n",
    "        }else{\n",
    "            if(arr(0)!=0){\n",
    "                    result.append(arr(0))\n",
    "\n",
    "            }\n",
    "            mergeTwoSortedArray(arr.slice(1,arr.length),arr2,result)\n",
    "        }\n",
    "    }\n",
    "}\n",
    "mergeTwoSortedArray(Array(1,3,5,9,0,0,0),Array(2,4,5,6,0))"
   ]
  },
  {
   "cell_type": "code",
   "execution_count": null,
   "id": "2704c11f",
   "metadata": {},
   "outputs": [],
   "source": []
  }
 ],
 "metadata": {
  "kernelspec": {
   "display_name": "Scala (2.13)",
   "language": "scala",
   "name": "scala"
  },
  "language_info": {
   "codemirror_mode": "text/x-scala",
   "file_extension": ".sc",
   "mimetype": "text/x-scala",
   "name": "scala",
   "nbconvert_exporter": "script",
   "version": "2.13.4"
  }
 },
 "nbformat": 4,
 "nbformat_minor": 5
}
