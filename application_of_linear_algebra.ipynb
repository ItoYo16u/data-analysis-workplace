{
 "cells": [
  {
   "cell_type": "markdown",
   "id": "2fafa6f8",
   "metadata": {},
   "source": [
    "# 線形代数の応用"
   ]
  },
  {
   "cell_type": "markdown",
   "id": "dc36efd3",
   "metadata": {},
   "source": [
    "線形代数をプログラムで解く"
   ]
  },
  {
   "cell_type": "markdown",
   "id": "8d74e460",
   "metadata": {},
   "source": [
    "行列式($n\\leq3$)"
   ]
  },
  {
   "cell_type": "code",
   "execution_count": 1,
   "id": "e67aff93",
   "metadata": {},
   "outputs": [],
   "source": [
    "import numpy as np"
   ]
  },
  {
   "cell_type": "code",
   "execution_count": 15,
   "id": "64f4ce74",
   "metadata": {},
   "outputs": [
    {
     "data": {
      "text/plain": [
       "-9"
      ]
     },
     "execution_count": 15,
     "metadata": {},
     "output_type": "execute_result"
    }
   ],
   "source": [
    "A = np.array([[1, 2], [4, -1]])\n",
    "\n",
    "\n",
    "def det2x2(A):\n",
    "    return A[0][0]*A[1][1]-A[0][1]*A[1][0]\n",
    "\n",
    "\n",
    "det2x2(A)"
   ]
  },
  {
   "cell_type": "code",
   "execution_count": 17,
   "id": "b17c2959",
   "metadata": {},
   "outputs": [
    {
     "data": {
      "text/plain": [
       "62.0"
      ]
     },
     "execution_count": 17,
     "metadata": {},
     "output_type": "execute_result"
    }
   ],
   "source": [
    "A = np.array([[1, 8, 9], [-3, 2, 1], [4, 1, 5]])\n",
    "\n",
    "\n",
    "def det3x3(A):\n",
    "    det = 0.0\n",
    "    for i in range(3):\n",
    "        det += A[i % 3][0]*A[(i + 1) % 3][1]*A[(i+2) % 3][2]\n",
    "    for i in range(3):\n",
    "        j = 2-i\n",
    "        det -= A[j % 3][0]*A[(j + 2) % 3][1]*A[(j+1) % 3][2]\n",
    "    return det\n",
    "\n",
    "\n",
    "det3x3(A)"
   ]
  },
  {
   "cell_type": "code",
   "execution_count": null,
   "id": "58069fcf",
   "metadata": {},
   "outputs": [],
   "source": []
  },
  {
   "cell_type": "code",
   "execution_count": null,
   "id": "bd69af6f",
   "metadata": {},
   "outputs": [],
   "source": []
  },
  {
   "cell_type": "markdown",
   "id": "5e18d020",
   "metadata": {},
   "source": [
    "## 最小二乗法\n"
   ]
  },
  {
   "cell_type": "markdown",
   "id": "d3649de7",
   "metadata": {},
   "source": [
    "\n",
    "### 行列表記の意義\n",
    "\n",
    "#### 一次式の最小二乗法の行列表記\n",
    "一次式$y=\\alpha x+\\beta$でデータ$(x_1,y_1),\\dots,(x_n,y_n)$を近似することを考える.\n",
    "\n",
    "このとき、残差二乗和$Err = \\sum_{i=1}^n(y_i-\\alpha x_i-\\beta)^2$を最小化するようなパラメタ$\\hat{\\alpha},\\hat{\\beta}$を求めたい.\n",
    "\n",
    "Errを展開すると$Err = \\sum_{i=1}^n(\\alpha ^2x_i^2+2\\alpha bx_i-2\\alpha x_iy_i-2\\beta y_i+\\beta^2+y_i^2)$となる.\n",
    "\n",
    "Errを最小化するような$\\alpha,\\beta$を求めるので、$\\alpha,\\beta$を変数、それ以外を定数として扱い、\n",
    "Errを$\\alpha,\\beta$について偏微分したものが0になるような$\\alpha,\\beta$を考える.\n",
    "\n",
    "$\\frac{\\partial{Err}}{\\partial{\\alpha}}=2\\alpha \\sum x_i^2+2\\beta \\sum x_i-2\\sum x_iy_i=0$\n",
    "\n",
    "$\\frac{\\partial{Err}}{\\partial{\\beta}}=2\\alpha\\sum x_i + 2\\beta \\sum 1-2\\sum y_i =0$ \n",
    "\n",
    "これを整理すると次のような$\\alpha,\\beta$の連立方程式が得られる.\n",
    "\n",
    "$\\ \\therefore\n",
    "  \\begin{aligned}\n",
    "     \\alpha\\sum x_i^2 +\\beta \\sum x_i& = \\sum x_iy_i \\\\\n",
    "     \\alpha\\sum x_i + \\beta \\sum 1& = \\sum y_i\n",
    "\\end{aligned}\\\n",
    "$\n",
    "\n",
    "連立方程式は行列によって表現することができる.\n",
    "\n",
    "$\\left(\\begin{array}{rrr} \\sum x_i^2 & \\sum x_i \\\\ \\sum x_i & \\sum 1\\end{array}\\right)\\left(\\begin{array}{rrr}\\alpha \\\\ \\beta \\end{array}\\right)=\\left(\\begin{array}{rrr} \\sum x_iy_i \\\\ \\sum y_i \\end{array}\\right)$\n",
    "\n",
    "ここで$A=\\left(\\begin{array}{rrr}x_1 & 1 \\\\ x_2 & 1 \\\\ \\vdots & \\vdots \\\\ x_n & 1 \\end{array}\\right),\\vec{x}=\\left(\\begin{array}{rrr}\\alpha  \\\\ \\beta \\end{array}\\right),\\vec{y}=\\left(\\begin{array}{rrr} y_1 \\\\ y_2 \\\\ \\vdots\\\\ y_n\\end{array}\\right)$とおくと,\n",
    "$A$の転置行列は$A^T=\\left( \\begin{array}{rrrr} x_1 & x_2 & \\dots & x_n \\\\ 1 & 1 & \\dots & 1 \\end{array} \\right)$となる.\n",
    "\n",
    "$A^TA=\\left(\\begin{array}{rrr}x_1^2+x_2^2 + \\dots x_n^2 & x_1 + x_2 + \\dots + x_n \\\\ x_1 + x_2 + \\dots + x_n & 1+1+\\dots +1\\end{array}\\right)=\\left(\\begin{array}{rrr} \\sum x_i^2 & \\sum x_i \\\\ \\sum x_i & \\sum 1\\end{array}\\right)$となるから、先の行列の左辺は$A^TAx$と書ける. \n",
    "\n",
    "同様にして行列の右辺は$A^Ty$と書けるので$A^TAx=A^Ty$となる. \n",
    "\n",
    "$x=\\left(\\begin{array}{rrr}a\\\\b\\end{array}\\right)$を求めるには$A^TA$は正値対称行列で行列式の値は0にならないので両辺の左から$(A^TA)^{-1}$をかければいい.\n",
    "\n",
    "求めるパラメタは$x=(A^TA)^{-1}A^Ty$となる.\n",
    "\n",
    "一方、$Err$を$A,x,y$を使って表現すると、$||y-Ax||^2$と書ける.\n",
    "\n",
    "ベクトル$\\vec{p}=\\left(\\begin{array}{rrr}p_1 \\\\ \\vdots \\\\ p_n \\end{array}\\right),\\vec{q}=\\left(\\begin{array}{rrr}q_1 \\\\ \\vdots \\\\ q_n \\end{array}\\right)$のあいだの距離がベクトルのノルムとして$||p-q||=\\sqrt{|p_1-q_1|^2+\\dots+|p_n-q_n|^2}$となることを思い出してほしい.\n",
    "\n",
    "またベクトルの転置を用いてノルムを表現すると、$Err=||y-Ax||^2=(y-Ax)^T(y-Ax)$と書ける.\n",
    "\n",
    "これを展開すると、$Err=y^Ty-x^TA^Ty-y^TAx+x^TA^TAx=y^Ty-x^TA^Ty-(A^Ty)^Tx+x^TA^TAx$となる. \n",
    "\n",
    "誤差を最小化するときこれを微分した値が0になるから、$-2A^Ty+2A^TAx=0$, $\\therefore A^TAx=A^Ty$ となり$Err$を$\\sum$で表現した時と同じ結果が得られることがわかる.\n",
    "\n",
    "#### n次の説明変数が与えられたときの行列表記\n",
    "\n",
    "\n",
    "さて、次は二次曲線$y=\\alpha x_i^2+\\beta x_i+\\gamma$でデータを近似する場合を考えよう.\n",
    "\n",
    "この場合も、$Err = \\sum_{i=1}^n(y_i -\\alpha x_i^2 -\\beta x_i -\\gamma)^2$を最小にするようなパラメタ$\\alpha,\\beta,\\gamma$を求めればいい.\n",
    "\n",
    "1次の場合と同様に展開して$\\alpha,\\beta,\\gamma$について偏微分をとると以下のように$\\alpha,\\beta,\\gamma$についての連立方程式が得られる.\n",
    "\n",
    "$\\\n",
    "\\begin{aligned}\n",
    "  \\alpha\\sum x_i^4 + \\beta \\sum x_i^3 + \\gamma \\sum x_i^2 & = \\sum x_i^2y_i \\\\\n",
    "  \\alpha \\sum x_i^3 + \\beta \\sum x_i^2 + \\gamma \\sum x_i & = \\sum x_iy_i \\\\\n",
    "    \\alpha \\sum x_i^2 + \\beta \\sum x_i  + \\gamma \\sum 1 & = \\sum y_i\n",
    "    \\end{aligned}$\n",
    "    \n",
    "これを行列表現すると以下のようになる.\n",
    "\n",
    "$\\left(\\begin{array}{rrr}\n",
    "\\sum x_i^4 & \\sum x_i ^3 & \\sum x_i^2\\\\\n",
    "\\sum x_i^3 & \\sum x_i^2 &\\sum x_i\\\\\n",
    "\\sum x_i^2 & \\sum x_i & \\sum 1 \\end{array}\\right)=\n",
    "\\left(\\begin{array}{rrr}\\alpha  \\\\ \\beta \\\\ \\gamma \\end{array}\\right)=\n",
    "\\left(\\begin{array}{rrr}\\sum x_i^2y_i\\\\ \\sum x_iy_i \\\\ \\sum y_i \\end{array}\\right)$\n",
    "\n",
    "ここで$x=\\left(\\begin{array}{rrr}\\alpha \\\\ \\beta \\\\ \\gamma \\end{array}\\right),y=\\left(\\begin{array}{rrr}y_1 \\\\ y_2 \\\\ \\vdots \\\\ y_n \\end{array}\\right),A=\\left(\\begin{array}{rrr}x_1^2 & x_1 & 1 \\\\ x_2^2 & x_2 & 1 \\\\ \\vdots  & \\vdots & \\vdots \\\\ x_n^2 & x_n & 1 \\end{array}\\right)$\n",
    "とおくと、左辺は$A^TAx$,右辺は$A^Ty$と一致する.\n",
    "\n",
    "また、$Err$をノルムを用いて表現すると$Err=||y-Ax||^2=(y-Ax)^T(y-Ax)$となる.\n",
    "\n",
    "右辺を展開して$x$について偏微分した値が0になるので結局求めるパラメタは$x=(A^TA)^{-1}A^Ty$となる.\n",
    "\n",
    "以上のことから推測できるように、行列を用いた表現では説明変数$x$の次元がいくつであっても同様の式で表現することができる.\n",
    "\n",
    "余談だが線形回帰という名称、そして一次式の例を最初にみることから線形回帰≒$y=ax+b$という直線でデータを近似する、という認識を持つ人がいるがそれは誤りである.\n",
    "線形というのはパラメタに対する線形性である. つまり$\\beta_2x^2+\\beta_1x+\\beta_0=0$も$\\beta_0x+\\beta_1sin\\theta_1+\\beta_2x^3+\\beta_4=0$もパラメタ$\\beta$について線形である.\n",
    "\n",
    "#### 説明変数のウェイト\n",
    "\n",
    "\n",
    "次に説明変数にウェイトをつける場合を考えよう.\n",
    "\n",
    "例えば、テレビの特徴を重さ$w$と画面幅×画面高$s$のペア、$x=\\left(\\begin{array}{rrr}w\\\\ s \\end{array}\\right)$で定量化する.\n",
    "\n",
    "$x_1=\\left(\\begin{array}{rrr}w_1 \\\\ s_1\\end{array}\\right),x_2=\\left(\\begin{array}{rrr}w_2 \\\\ s_2 \\end{array}\\right)$の\n",
    "類似度は$||x_1-x_2||=\\sqrt{|w_1-w_2|^2+|s_1+s_2|^2}$ではかることができる. \n",
    "\n",
    "ここで距離≒類似度に対するそれぞれの特徴の寄与度を重み付けする,\n",
    "すなわち適当な実数$p,q$を用いて$\\sqrt{p|w_1-w_2|^2+q|s_1+s_2|^2}$とする場合を考える.\n",
    "\n",
    "これは$K=\\left(\\begin{array}{rrr}p & 0 \\\\ 0 & q \\end{array}\\right)$とすると行列表記を用いて、$\\sqrt{(x_1-x_2)^TK(x_1-x_2)}$と表現できる.\n",
    "\n",
    "$||x_1-x_2||=\\sqrt{|w_1-w_2|^2+|s_1+s_2|^2}$は$I_n$をn次の単位行列とすると$K=I_2,p=q=1$の場合である.\n",
    "\n",
    "このように、ベクトルのノルムと行列表現を使うことで説明変数に重み付けをする処理を簡潔に表現できる.\n",
    "\n",
    "この重み付き距離と最小二乗推定量との関係をみてみよう.\n",
    "\n",
    "$Err=||y-Ax||^2=(y-Ax)^T(y-Ax)=(y-Ax)^TI_n(y-Ax)=y^TI_ny-2x^TA^TI_ny+x^TA^TI_nAx$となる.\n",
    "\n",
    "また、$\\frac{\\partial Err}{\\partial x}=-2A^TI_ny+2A^TI_nAx=0,\\therefore x=(A^TI_nA)^{-1}A^TI_ny$となるから、重み付き距離を最小にするパラメタは$(A^TKA)^{-1}A^TKy$と推測できる. 実際、行列の微分で最小化の一階条件を求めると$(A^TKA)^{-1}A^TKy$が得られる.\n",
    "\n",
    "このように、行列表記を用いることで一般化した\"距離\"についても簡潔に記述することができる."
   ]
  },
  {
   "cell_type": "markdown",
   "id": "7251f541",
   "metadata": {},
   "source": [
    "## 行列\n",
    "\n",
    "### 行列の図形的意味\n",
    "\n",
    "行列は平行移動、回転、鏡像、拡大縮小、せん断を表現する.\n",
    "\n",
    "行列$A$と行列$B$の間に$B=P^{-1}AP$の関係があるとき、$A$と$B$は相似であるという. 相似であるということはどういうことかというと、固有値が等しいということである. 固有値は行列の性質をあらわす指標である.\n",
    "\n",
    "ある行列$A$が張る像を形を変えずに変換するには任意のベクトルxに対して変換の前後でノルムと角度が変わらない、すなわち$A$の随伴行列を$A^*$,実数の場合は$A^T$として$|X|=|AX|,\\therefore(Ax,Ax)=x,A^*Ax)=(x,x)$を満たすように$A^*A=E$となる必要がある. このような行列をユニタリ行列(実行列の場合は直交行列)という.\n",
    "\n",
    "ユニタリ行列をかけることは、ノルムと角度を保存して一次変換する事、つまり回転または鏡像を得ていることと等しい.\n",
    "\n",
    "以上のことから、対角化はもとの行列の特徴を保ったまま計算がしやすい形に変換していると考えられる. 特に正規行列の対角化を考えると、正規行列は回転をあらわすユニタリ行列と大きさをあらわす対角行列に分解できると考えられる.\n",
    "\n"
   ]
  },
  {
   "cell_type": "markdown",
   "id": "a2660ea6",
   "metadata": {},
   "source": [
    "### 特異値分解\n",
    "\n",
    "入門的な資料では対称行列を前提にしている場合や、nxn行列の固有値が異なるn個になる場合のみを扱っている場合が多い.\n",
    "\n",
    "一方で実際の問題を解くには正方行列、対称行列でない行列や固有値が重解を持つ行列を扱わなければならない. 特異値分解はそのような行列を扱うための手法である. 直感的にはより一般化された固有値分解といってもいいかもしれない.\n",
    "\n",
    "対称行列(正規行列$A^*=A)$は$A$の対角成分が固有値から成る対角行列$D$と$V^*V=I$となる行列$V$を用いて、$A=VDV^*$とあらわせる.また、適当な行列$X$について、$X^*X,XX^*$は対称行列となるとなる.\n",
    "\n",
    "以上のことから、$V^*V=I,U^*U=I$となる適当な行列を用いて$X^*X=VDV^*,XX^*=UDU^*$とあらわせる.\n",
    "$X$の行、列の数の対応を考えると、行か列かどちらか少ないほうの数だけ固有値が存在すると考えられる.\n",
    "\n",
    "\n",
    "さて、ここで$D$の平方根を$\\Sigma \\Sigma=D$というふうに$\\Sigma$でとる.\n",
    "\n",
    "このとき、$X^*X=V\\Sigma \\Sigma V^*,XX^*=U \\Sigma \\Sigma U^*,V^*V=U^*U=I$だから、$XX^*=U\\Sigma V^*V\\Sigma U^*,X^*X=V\\Sigma U^* U \\Sigma V^*$と書ける.\n",
    "\n",
    "ここで、$X=U\\Sigma V^*$と推測できる. もし$X=U\\Sigma V^*$であれば、正規行列でない一般の行列を対角行列と直交行列の積であらわせることになる.\n",
    "\n",
    "実際、一般のm×n行列について、$X=U\\Sigma V^*$という形で分解でき、これを$X$の特異値分解という.\n",
    "\n",
    "具体例を使って計算しよう.\n",
    "\n",
    "$A=\\begin{pmatrix} 1 & 1 \\\\ 1 & 1 \\\\ 0 & 0 \\end{pmatrix}$. このとき$A^TA=\\begin{pmatrix}2 & 2 \\\\ 2 & 2 \\end{pmatrix}$である.\n",
    "\n",
    "$A^TA$の特性方程式$|A-\\lambda I|=\\begin{vmatrix}\\lambda -2 & -2 \\\\ -2 & \\lambda - 2 \\end{vmatrix} = \\lambda(\\lambda -4)= 0$より$A^TA$の固有値は$0,4$. 固有値に対応する大きさ1のベクトルは$v_1=\\frac{1}{\\sqrt{2}}\\begin{pmatrix} 1 \\\\ 1 \\end{pmatrix},v_2=\\frac{1}{\\sqrt{2}}\\begin{pmatrix}1 \\\\ -1 \\end{pmatrix}$である. このとき$A^TA=\\frac{1}{2}\\begin{pmatrix}1 & 1 \\\\ 1 & -1 \\end{pmatrix}\\begin{pmatrix}2 & 0 \\\\ 0 & 0\\end{pmatrix}\\begin{pmatrix}2 & 0 \\\\ 0 & 0\\end{pmatrix}\\begin{pmatrix}1 & 1 \\\\ 1 & -1 \\end{pmatrix}=V\\Sigma\\Sigma V^*$\n",
    "\n",
    "よってAの特異値は$\\sqrt{4}=2$となる.\n",
    "\n",
    "\n",
    "なおPythonでは以下のようにして特異行列を求められる. $UU^T,VV^T$について対角成分以外で微小な誤差が出てしまっているがおおよそ正確に計算できている."
   ]
  },
  {
   "cell_type": "code",
   "execution_count": 18,
   "id": "0e41fd5e",
   "metadata": {},
   "outputs": [
    {
     "data": {
      "text/plain": [
       "(array([[1, 1],\n",
       "        [1, 1],\n",
       "        [0, 0]]),\n",
       " array([[1, 1, 0],\n",
       "        [1, 1, 0]]))"
      ]
     },
     "execution_count": 18,
     "metadata": {},
     "output_type": "execute_result"
    }
   ],
   "source": [
    "X = np.array(\n",
    "    [[1,1],\n",
    "     [1,1],\n",
    "     [0,0]])\n",
    "X,X.T"
   ]
  },
  {
   "cell_type": "code",
   "execution_count": 19,
   "id": "8ba02ccf",
   "metadata": {},
   "outputs": [
    {
     "data": {
      "text/plain": [
       "(array([[ 1.00000000e+00, -1.33393446e-16,  0.00000000e+00],\n",
       "        [-1.33393446e-16,  1.00000000e+00,  0.00000000e+00],\n",
       "        [ 0.00000000e+00,  0.00000000e+00,  1.00000000e+00]]),\n",
       " array([[2., 0.],\n",
       "        [0., 0.]]),\n",
       " array([[1.00000000e+00, 1.01465364e-17],\n",
       "        [1.01465364e-17, 1.00000000e+00]]))"
      ]
     },
     "execution_count": 19,
     "metadata": {},
     "output_type": "execute_result"
    }
   ],
   "source": [
    "U,S,V = np.linalg.svd(X)\n",
    "np.dot(U,U.T),np.diag(S),np.dot(V,V.T)"
   ]
  },
  {
   "cell_type": "markdown",
   "id": "45efa5b2",
   "metadata": {},
   "source": [
    "### 特異値分解の含意\n",
    "\n",
    "1. 特異値分解は、任意の行列による写像が回転や拡大の写像に分解できることを意味している\n",
    "2. ランク$k$の行列$A\\in \\mathbb{R}^{n\\times m}$の最適な(ランク$k−1$以下で$A$に最も近い)近似行列が特異値分解によって得られる.(エッカート・ヤング(Eckart-Young)の定理)\n",
    "\n",
    "(2)は高次元データの圧縮(次元削減)に用いられる.\n",
    "\n",
    "https://ogyahogya.hatenablog.com/entry/2019/12/30/%E7%89%B9%E7%95%B0%E5%80%A4%E5%88%86%E8%A7%A3"
   ]
  },
  {
   "cell_type": "markdown",
   "id": "5e5bb31f",
   "metadata": {},
   "source": [
    "### 一般化逆行列\n",
    "\n",
    "todo"
   ]
  },
  {
   "cell_type": "markdown",
   "id": "44aee068",
   "metadata": {},
   "source": [
    "### 行列のQR分解\n",
    "\n",
    "最小二乗推定量は行列表記を用いると$x=(A^TKA)^{-1}A^TKy$と表現できる. しかし逆行列$(A^TKA)^{-1}$を常に求められるとは限らない. また、高次元のデータになれば逆行列の計算量が大きくなることも考えられる. \n",
    "\n",
    "QR分解は行列を列ベクトルの長さが1でお互いに直交している直交行列$Q$と上三角行列$R$の積に分解する手法であり、逆行列を求めることなく推定量$x$を求める場合に利用される手法である.\n",
    "\n",
    "QR分解では、転置すると逆行列になる($Q^TQ=I$)という直交行列の便利な特徴を利用する.\n",
    "\n",
    "つまり、$A^TKA=QR$となるようにQR分解し、\n",
    "\n",
    "$\\\n",
    " \\begin{aligned}\n",
    " A^TKAx& =A^Ty \\\\\n",
    "  QRx& =A^Ty \\\\\n",
    "    Q^TQRx& =Q^TA^Ty \\\\\n",
    "        Rx& = Q^TA^Ty\n",
    "\\end{aligned}$\n",
    "\n",
    "と変形する. Rは$上三角行列$なのでガウスの消去法を$R$に対して行えば解が求まる.(適当な実数を$a,b,k,l,m$とすると、連立方程式の一番下の式は$kx_n=a$,下から二番目の式は$lx_{n-1}+mx_n=b$となっているので下から順番に解いて順に上の式に代入していけば解が求まる.)\n",
    "\n",
    "QR分解にはgivens変換とhouseholder変換と呼ばれる手法がある.\n",
    "\n",
    "givens変換では、行列の回転操作を使ってQR分解を行う. \n",
    "ある平面内での回転操作は直交行列で表現できる、また、その積も直交行列となるので回転で上三角行列が作れるならばQR分解ができたことになる.\n",
    "\n",
    "householder変換は鏡映操作によるQR分解である. 直交行列は回転操作に加え、鏡映操作も表現できる.\n",
    "\n",
    "具体的にはグラムシュミットの直交化法を用いて直交行列Qをつくり、次にQの成分からRを作る.\n",
    "\n",
    "$Q=(q_1,q_2,\\dots,q_n),q_1=\\frac{a_1}{||a_1||},q_k=a_k-\\sum_{i=1}^{k-1}(a_k\\cdot q_i)q_i$,(ただし$k\\geq 2$),$R=\\begin{pmatrix}||a_1|| & q_1^Ta_2 & \\dots & q_1^Ta_n \\\\ 0 & c_2 & \\dots &  q_2^T a_n \\\\ 0 & 0 & \\dots & q_k^Ta_n\\\\ \\vdots & \\vdots & \\vdots & \\vdots \\\\ 0 & 0 & \\dots & c_n \\end{pmatrix},c_k=||\\{I_n - (q_1q_1^T+\\cdots q_{k-1}q_{k-1}^T)\\}a_k||,$\n",
    "#### 行列の条件数\n",
    "\n",
    "> 条件数は、問題のコンピュータでの数値解析しやすさの尺度であり、その問題がどれだけ数値解析に適しているかを表している。 wikipedia より\n",
    "\n",
    "\n",
    "$X=\\begin{pmatrix}2 & 1 \\\\ 3 & 2 \\end{pmatrix},b=\\begin{pmatrix}\\beta_1 \\\\ \\beta_2 \\end{pmatrix},Y=\\begin{pmatrix} 1 \\\\ 3 \\end{pmatrix}$のとき連立方程式$Xb=Y$の解を(1).$B^TBb=B^TY$と,$X=QR$として(2).$QRb=Y$という2種類の方法で得ることを考えよう.\n",
    "\n",
    "この解は$\\begin{pmatrix}-1  \\\\ 3 \\end{pmatrix}$である.  $X$をQR分解すると、$\\frac{1}{\\sqrt{5}}\\begin{pmatrix}1 & 2 \\\\ 2 & -1 \\end{pmatrix}\\begin{pmatrix} \\sqrt{5} & \\frac{8\\sqrt{5}}{5} \\\\ 0 & \\frac{\\sqrt{5}}{5} \\end{pmatrix}$となる.\n",
    "\n",
    "また、Xをわずかに変化させたとき、解$b$がどのように変化するかみてみよう.\n",
    "\n",
    "まず$X_{12}$を$1\\rightarrow 1.01$に変化させると解は$(−1.061..,3.092...)$となる.\n",
    "\n",
    "ここで$X'=\\begin{pmatrix}2 & 1 \\\\ 4.001 & 2 \\end{pmatrix}$とし、$X_{12}$を$1\\rightarrow 1.01$に変化させると、解は$(1000,-1999)$から$(25.115...,−48.744...)$に変化する.\n",
    "\n",
    "このように小さな誤差が解に大きな影響を与えることがある. これは行列Aの特異度が高いからである.\n",
    "\n",
    "直感的には、を意味している. 特異度が高いほど、傾向があるといえる.\n",
    "\n",
    "特異度は固有値を$\\lambda$とすると$Cond(X)=\\frac{max \\lambda}{min \\lambda}$であらわさられる. \n",
    "$Cond(X)\\fallingdotseq 1.79$である一方、$Cond(X')\\fallingdotseq 610.30$となる. \n",
    "\n",
    "また、$Cond(Q)=1,Cond(X^TX)=\\frac{max (\\lambda^2)}{min (\\lambda^2)}=cond(A)^2$となる.\n",
    "\n",
    "\n",
    "Pythonのstatsmodelという統計ライブラリでは線形回帰を実行すると次のような警告が出る場合がある. \n",
    "> The condition number is large, \\*\\*\\*e+\\*\\*. This might indicate that there are\n",
    "strong multicollinearity or other numerical problems.\n"
   ]
  },
  {
   "cell_type": "code",
   "execution_count": 1,
   "id": "8446e9c7",
   "metadata": {},
   "outputs": [],
   "source": [
    "# todo numpyで数値誤差の影響を実演"
   ]
  },
  {
   "cell_type": "markdown",
   "id": "8250fe9b",
   "metadata": {},
   "source": [
    "### QR分解を用いた最小二乗法の解の導出\n",
    "最小二乗法ではデータを行列$A$の列として持つので$A$の特異度が高くなりがちであり、誤差の影響を受けやすい. \n",
    "\n",
    "一方でQR分解を用いて$Xb=Y$をそのまま解くことで誤差の影響を抑えられる."
   ]
  },
  {
   "cell_type": "markdown",
   "id": "55481d62",
   "metadata": {},
   "source": [
    "### 多変量解析"
   ]
  },
  {
   "cell_type": "markdown",
   "id": "044b4c07",
   "metadata": {},
   "source": [
    "### 主成分分析(PCA)\n"
   ]
  },
  {
   "cell_type": "markdown",
   "id": "a6e346ad",
   "metadata": {},
   "source": [
    "\n",
    "さて、以上のデータについて分散共分散行列の固有ベクトルとデータをプロットしてみよう.\n",
    "以下のように、主成分と固有ベクトルが一致すると推定できる."
   ]
  },
  {
   "cell_type": "code",
   "execution_count": 1,
   "id": "08e96ff6",
   "metadata": {},
   "outputs": [],
   "source": [
    "# todo データと固有ベクトルのプロット"
   ]
  },
  {
   "cell_type": "markdown",
   "id": "29975a15",
   "metadata": {},
   "source": [
    "では分散共分散行列の固有値問題が主成分分析と対応することを証明する.\n",
    "\n",
    "例えば、以下のようなp,qに関するA,B,Cさんのデータ$X$、2次元の観測データが3個ある場合を考える.\n",
    "\n",
    "$$\n",
    "X=(\\vec{x_A},\\vec{x_B},\\vec{x_C})=\\left(\\begin{array}{rrr}\n",
    "  A_p & B_p & C_p \\\\\n",
    "  A_q & B_q & C_q\n",
    "  \\end{array}\\right)\n",
    "$$\n",
    "\n",
    "また、データ$\\vec{x_i}(i=A,B,C)$の次元$m,(m=p,q)$にたいする適当なウェイトを$w=\\left(\\begin{array}{rrr}w_p \\\\ w_q \\end{array}\\right),(w^Tw=1)$とおき、$z_i=w^T\\cdot x_i$とあらわす.\n",
    "\n",
    "イメージしやすいように具体例を考えると、例えば、ABC3人のテストp,qの成績が(40,60),(50,50),(60,40)だったとき、総合点は同じなので単純に比較できないが適切なウェイトをp,qにかければABCに順位がつけられる.(つまり(p,q)のスコアという2次元の情報を順位という1次元の情報に変換できる)\n",
    "\n",
    "これを一般化すると、m次元のデータn個の観測値に応じて適切な重み$w$を与えることでデータを要約できる.\n",
    " \n",
    "ではどのようにこの重みwを決めればいいか. \n",
    "主成分分析では全ての$i$について考えた$z_i$の分散を最大化するような$w$を求める.\n",
    "\n",
    "$z_i$は次のように書ける.\n",
    "\n",
    "$$\n",
    "Z=(z_A,z_B,z_C)=(w_p,w_q)\\left(\\begin{array}{rrr}\n",
    " A_p & B_p & C_p \\\\\n",
    "  A_q & B_q & C_q\n",
    "\\end{array}\\right)=\\left\\{\\begin{array}{rrr}\n",
    "(w_p,w_q)\\left(\\begin{array}{r}A_p \\\\ A_q \\end{array}\\right) &\n",
    "(w_p,w_q)\\left(\\begin{array}{r}B_p \\\\ B_q \\end{array}\\right)&\n",
    "(w_p,w_q)\\left(\\begin{array}{r}C_p \\\\ C_q \\end{array}\\right)\n",
    "\\end{array}\\right\\}=w^TX\\\\\n",
    "$$\n",
    "\n",
    "$z_i=w^T\\cdot x_i$となる. $Z=z_A,z_B,z_C$の分散を求めるには平均と観測値がわかればいい.平均を$\\bar{z}$,標本分散を$S_z^2$とお\n",
    "くと\n",
    "\n",
    "$$\n",
    "\\bar{z}= \\frac{1}{n}\\sum z_i = \\frac{1}{3}(w^Tx_A+w^Tx_B+w^Tx_C)=w^T\\bar{X}\n",
    "$$\n",
    "\n",
    "$\\bar{X}$は$X$の重心である. また、次元p,qについての平均を$\\bar{p},\\bar{q}$,$\\bar{X}$をn行並べた行列を$\\bar{X'}=\\left(\\bar{X},\\cdots,\\bar{X}\\right)=\\left(\\begin{array}{rrr}\\left(\\begin{array}{rrr} \\bar{p} \\\\ \\bar{q}\\end{array}\\right), & \\cdots , & \\left(\\begin{array}{rrr} \\bar{p} \\\\ \\bar{q}\\end{array}\\right) \\end{array} \\right)$とすると$\\frac{1}{n}(X-\\bar{X'})(X-\\bar{X'})^T$はmxmの分散共分散行列Sになる. ここまでくれば分散の式を行列であらわせば次の式が得られると想像できるだろう.($X,Z$はp,qに関する2×3の行列で、$S$はp,qに関する2×2の行列.)\n",
    "\n",
    "$$\\\n",
    "\\begin{aligned}\n",
    "  s_z^2 & =\\frac{1}{n}\\sum (z_i-\\bar{z})^2 \\\\\n",
    "      & = \\frac{1}{n}(w^TX-w^T\\bar{X'})(w^TX-w^T\\bar{X'})^T \\\\\n",
    "      & =  \\frac{1}{n}w^T(X-\\bar{X'})(X-\\bar{X'})^Tw\\\\\n",
    "      & = w^TSw\n",
    "\\end{aligned}\n",
    "$$\n",
    "\n",
    "\n",
    "整理した式は二次形式になっている、また分散共分散行列が半正定値である($\\because S_{ij}=S_{ji},S^T=S$). これは次元数が増えても同様である.\n",
    "\n",
    "\n",
    "n次元に一般化する場合は行列を用いて次のようになると推測できる.\n",
    "\n",
    "$$\\\n",
    " \\vec{w}=\\left(\\begin{array}{rrr}\\alpha_1\\\\ \\alpha_2 \\\\ \\vdots \\\\ \\alpha_n \\end{array}\\right), Z=\\left(\\begin{array}{rrr}\n",
    "S_{11}& \\cdots & S_{1n} \\\\\n",
    "S_{21}& \\cdots & S_{2n} \\\\\n",
    "\\vdots & \\vdots & \\vdots \\\\\n",
    "S_{n1}& \\cdots & S_{nn}\n",
    "\\end{array}\\right)\\\\\n",
    "\\begin{aligned}\n",
    "  V(Z) &=w^TZw\n",
    "\\end{aligned}\n",
    "$$\n",
    "\n",
    "\n",
    "これを最大にするような$\\vec{w}$を求めればいい.\n",
    "\n",
    "結局、$w_p^2+w_q^2=1$という制約の下での$w^TSw$の最大化という問題になった.\n",
    "$w^TZw-\\lambda(w^Tw-1)$を$w,\\lambda$で偏微分して考えると同様に$Zw=\\lambda w$となり、固有値問題に帰着できる. \n"
   ]
  },
  {
   "cell_type": "markdown",
   "id": "d2da2554",
   "metadata": {},
   "source": [
    "直交する成分をとりだすので、データの形によっては主成分をうまく抽出できないことがある. また、外れ値に弱いのでデータ量をたもちつつうまく外れ値を除外しないといけない.\n",
    "\n",
    "データの種類によっては「因子分析」「独立成分分析」という手法のほうがうまくデータを説明できるかもしれない."
   ]
  },
  {
   "cell_type": "markdown",
   "id": "e6f59738",
   "metadata": {},
   "source": [
    "pythonで実際に確認しよう."
   ]
  },
  {
   "cell_type": "code",
   "execution_count": 15,
   "id": "567b00a8",
   "metadata": {},
   "outputs": [],
   "source": [
    "import pandas as pd\n",
    "import numpy as np\n",
    "import matplotlib.pyplot as plt\n",
    "import seaborn as sns\n",
    "%matplotlib inline\n",
    "import plotly.graph_objects as go\n"
   ]
  },
  {
   "cell_type": "markdown",
   "id": "f28253ea",
   "metadata": {},
   "source": [
    "まず、元のデータと重心をプロットする."
   ]
  },
  {
   "cell_type": "code",
   "execution_count": 192,
   "id": "74d17a64",
   "metadata": {},
   "outputs": [
    {
     "data": {
      "application/vnd.plotly.v1+json": {
       "config": {
        "plotlyServerURL": "https://plot.ly"
       },
       "data": [
        {
         "marker": {
          "color": [
           30,
           39,
           29,
           95,
           70,
           67,
           29,
           56,
           45,
           68,
           50,
           70,
           46,
           23,
           77,
           15,
           37,
           55,
           0,
           35,
           60,
           70,
           82,
           44,
           54,
           80,
           46,
           48,
           51,
           37,
           31,
           35,
           50,
           33,
           27,
           36,
           77,
           61,
           84,
           78,
           7,
           57,
           60,
           17,
           82,
           37,
           40,
           72,
           74,
           87,
           66,
           90,
           43,
           24,
           41,
           42,
           33,
           29,
           83,
           73,
           66,
           71,
           62,
           47,
           53,
           61,
           21,
           74,
           72,
           50,
           5,
           32,
           23,
           34,
           70,
           9,
           61,
           34,
           38,
           72,
           32,
           52,
           96,
           58,
           35,
           40,
           48,
           46,
           32,
           50,
           76,
           64,
           62,
           76,
           81,
           69,
           89,
           27,
           39,
           62,
           73,
           49,
           35,
           36,
           16,
           60,
           74,
           22,
           47,
           43,
           84,
           65,
           49,
           31,
           83,
           87,
           68,
           68,
           28,
           42,
           42,
           70,
           58,
           57,
           8,
           44,
           65,
           81,
           57,
           64,
           86,
           34,
           84,
           4,
           23,
           66,
           53,
           70,
           78,
           39,
           74,
           33,
           43,
           54,
           26,
           58,
           29,
           73,
           59,
           58,
           70,
           19,
           29,
           32,
           77,
           91,
           50,
           63,
           42,
           68,
           70,
           82,
           0,
           45,
           73,
           60
          ],
          "colorscale": [
           [
            0,
            "#440154"
           ],
           [
            0.1111111111111111,
            "#482878"
           ],
           [
            0.2222222222222222,
            "#3e4989"
           ],
           [
            0.3333333333333333,
            "#31688e"
           ],
           [
            0.4444444444444444,
            "#26828e"
           ],
           [
            0.5555555555555556,
            "#1f9e89"
           ],
           [
            0.6666666666666666,
            "#35b779"
           ],
           [
            0.7777777777777778,
            "#6ece58"
           ],
           [
            0.8888888888888888,
            "#b5de2b"
           ],
           [
            1,
            "#fde725"
           ]
          ],
          "opacity": 0.7,
          "size": 3
         },
         "mode": "markers",
         "type": "scatter3d",
         "x": [
          51,
          49,
          23,
          77,
          78,
          56,
          44,
          37,
          7,
          29,
          80,
          61,
          36,
          20,
          58,
          22,
          23,
          85,
          0,
          24,
          64,
          75,
          86,
          18,
          33,
          59,
          72,
          72,
          63,
          38,
          28,
          40,
          50,
          65,
          17,
          62,
          91,
          71,
          87,
          59,
          18,
          36,
          85,
          25,
          75,
          45,
          35,
          94,
          79,
          84,
          57,
          64,
          29,
          1,
          28,
          29,
          48,
          20,
          58,
          94,
          78,
          80,
          91,
          69,
          50,
          50,
          39,
          65,
          42,
          47,
          29,
          14,
          26,
          23,
          84,
          23,
          39,
          36,
          33,
          36,
          32,
          32,
          90,
          46,
          17,
          7,
          41,
          34,
          24,
          29,
          74,
          30,
          14,
          58,
          61,
          30,
          73,
          34,
          26,
          42,
          74,
          27,
          28,
          15,
          25,
          67,
          57,
          6,
          26,
          74,
          76,
          38,
          62,
          8,
          44,
          77,
          60,
          41,
          37,
          33,
          47,
          60,
          40,
          43,
          0,
          31,
          36,
          78,
          75,
          20,
          78,
          48,
          45,
          5,
          5,
          54,
          28,
          44,
          45,
          5,
          44,
          32,
          29,
          43,
          13,
          34,
          37,
          59,
          45,
          31,
          76,
          9,
          26,
          14,
          87,
          100,
          53,
          43,
          27,
          60,
          43,
          80,
          2,
          29,
          43,
          89
         ],
         "y": [
          63,
          56,
          57,
          100,
          67,
          61,
          52,
          59,
          44,
          81,
          73,
          71,
          56,
          36,
          84,
          29,
          32,
          86,
          24,
          42,
          72,
          60,
          88,
          13,
          43,
          73,
          56,
          83,
          60,
          51,
          36,
          65,
          64,
          43,
          29,
          58,
          72,
          71,
          100,
          55,
          27,
          55,
          66,
          28,
          84,
          41,
          45,
          96,
          69,
          93,
          50,
          78,
          35,
          17,
          43,
          43,
          53,
          21,
          71,
          85,
          41,
          61,
          83,
          80,
          38,
          49,
          21,
          78,
          66,
          56,
          24,
          43,
          34,
          30,
          88,
          33,
          55,
          33,
          31,
          44,
          41,
          36,
          77,
          46,
          38,
          21,
          40,
          30,
          28,
          31,
          72,
          49,
          48,
          51,
          63,
          34,
          81,
          40,
          24,
          40,
          61,
          20,
          25,
          43,
          22,
          29,
          78,
          26,
          25,
          55,
          84,
          70,
          50,
          16,
          45,
          78,
          63,
          57,
          29,
          48,
          44,
          61,
          66,
          28,
          20,
          28,
          49,
          81,
          58,
          31,
          54,
          52,
          64,
          11,
          26,
          72,
          30,
          34,
          54,
          32,
          58,
          42,
          47,
          28,
          19,
          19,
          19,
          54,
          48,
          23,
          62,
          28,
          30,
          18,
          71,
          83,
          44,
          52,
          22,
          69,
          50,
          88,
          9,
          24,
          32,
          80
         ],
         "z": [
          30,
          39,
          29,
          95,
          70,
          67,
          29,
          56,
          45,
          68,
          50,
          70,
          46,
          23,
          77,
          15,
          37,
          55,
          0,
          35,
          60,
          70,
          82,
          44,
          54,
          80,
          46,
          48,
          51,
          37,
          31,
          35,
          50,
          33,
          27,
          36,
          77,
          61,
          84,
          78,
          7,
          57,
          60,
          17,
          82,
          37,
          40,
          72,
          74,
          87,
          66,
          90,
          43,
          24,
          41,
          42,
          33,
          29,
          83,
          73,
          66,
          71,
          62,
          47,
          53,
          61,
          21,
          74,
          72,
          50,
          5,
          32,
          23,
          34,
          70,
          9,
          61,
          34,
          38,
          72,
          32,
          52,
          96,
          58,
          35,
          40,
          48,
          46,
          32,
          50,
          76,
          64,
          62,
          76,
          81,
          69,
          89,
          27,
          39,
          62,
          73,
          49,
          35,
          36,
          16,
          60,
          74,
          22,
          47,
          43,
          84,
          65,
          49,
          31,
          83,
          87,
          68,
          68,
          28,
          42,
          42,
          70,
          58,
          57,
          8,
          44,
          65,
          81,
          57,
          64,
          86,
          34,
          84,
          4,
          23,
          66,
          53,
          70,
          78,
          39,
          74,
          33,
          43,
          54,
          26,
          58,
          29,
          73,
          59,
          58,
          70,
          19,
          29,
          32,
          77,
          91,
          50,
          63,
          42,
          68,
          70,
          82,
          0,
          45,
          73,
          60
         ]
        },
        {
         "marker": {
          "color": "red",
          "size": 5
         },
         "mode": "markers",
         "type": "scatter3d",
         "x": [
          45.6144578313253
         ],
         "y": [
          49.8855421686747
         ],
         "z": [
          52.33132530120482
         ]
        }
       ],
       "layout": {
        "autosize": true,
        "scene": {
         "aspectmode": "auto",
         "aspectratio": {
          "x": 1.0460741211621174,
          "y": 0.9519274502575268,
          "z": 1.0042311563156328
         },
         "camera": {
          "center": {
           "x": 0,
           "y": 0,
           "z": 0
          },
          "eye": {
           "x": 0.7828063815325106,
           "y": 0.8072780020106429,
           "z": 0.795136341610141
          },
          "projection": {
           "type": "perspective"
          },
          "up": {
           "x": 0,
           "y": 0,
           "z": 1
          }
         }
        },
        "template": {
         "data": {
          "bar": [
           {
            "error_x": {
             "color": "#2a3f5f"
            },
            "error_y": {
             "color": "#2a3f5f"
            },
            "marker": {
             "line": {
              "color": "#E5ECF6",
              "width": 0.5
             }
            },
            "type": "bar"
           }
          ],
          "barpolar": [
           {
            "marker": {
             "line": {
              "color": "#E5ECF6",
              "width": 0.5
             }
            },
            "type": "barpolar"
           }
          ],
          "carpet": [
           {
            "aaxis": {
             "endlinecolor": "#2a3f5f",
             "gridcolor": "white",
             "linecolor": "white",
             "minorgridcolor": "white",
             "startlinecolor": "#2a3f5f"
            },
            "baxis": {
             "endlinecolor": "#2a3f5f",
             "gridcolor": "white",
             "linecolor": "white",
             "minorgridcolor": "white",
             "startlinecolor": "#2a3f5f"
            },
            "type": "carpet"
           }
          ],
          "choropleth": [
           {
            "colorbar": {
             "outlinewidth": 0,
             "ticks": ""
            },
            "type": "choropleth"
           }
          ],
          "contour": [
           {
            "colorbar": {
             "outlinewidth": 0,
             "ticks": ""
            },
            "colorscale": [
             [
              0,
              "#0d0887"
             ],
             [
              0.1111111111111111,
              "#46039f"
             ],
             [
              0.2222222222222222,
              "#7201a8"
             ],
             [
              0.3333333333333333,
              "#9c179e"
             ],
             [
              0.4444444444444444,
              "#bd3786"
             ],
             [
              0.5555555555555556,
              "#d8576b"
             ],
             [
              0.6666666666666666,
              "#ed7953"
             ],
             [
              0.7777777777777778,
              "#fb9f3a"
             ],
             [
              0.8888888888888888,
              "#fdca26"
             ],
             [
              1,
              "#f0f921"
             ]
            ],
            "type": "contour"
           }
          ],
          "contourcarpet": [
           {
            "colorbar": {
             "outlinewidth": 0,
             "ticks": ""
            },
            "type": "contourcarpet"
           }
          ],
          "heatmap": [
           {
            "colorbar": {
             "outlinewidth": 0,
             "ticks": ""
            },
            "colorscale": [
             [
              0,
              "#0d0887"
             ],
             [
              0.1111111111111111,
              "#46039f"
             ],
             [
              0.2222222222222222,
              "#7201a8"
             ],
             [
              0.3333333333333333,
              "#9c179e"
             ],
             [
              0.4444444444444444,
              "#bd3786"
             ],
             [
              0.5555555555555556,
              "#d8576b"
             ],
             [
              0.6666666666666666,
              "#ed7953"
             ],
             [
              0.7777777777777778,
              "#fb9f3a"
             ],
             [
              0.8888888888888888,
              "#fdca26"
             ],
             [
              1,
              "#f0f921"
             ]
            ],
            "type": "heatmap"
           }
          ],
          "heatmapgl": [
           {
            "colorbar": {
             "outlinewidth": 0,
             "ticks": ""
            },
            "colorscale": [
             [
              0,
              "#0d0887"
             ],
             [
              0.1111111111111111,
              "#46039f"
             ],
             [
              0.2222222222222222,
              "#7201a8"
             ],
             [
              0.3333333333333333,
              "#9c179e"
             ],
             [
              0.4444444444444444,
              "#bd3786"
             ],
             [
              0.5555555555555556,
              "#d8576b"
             ],
             [
              0.6666666666666666,
              "#ed7953"
             ],
             [
              0.7777777777777778,
              "#fb9f3a"
             ],
             [
              0.8888888888888888,
              "#fdca26"
             ],
             [
              1,
              "#f0f921"
             ]
            ],
            "type": "heatmapgl"
           }
          ],
          "histogram": [
           {
            "marker": {
             "colorbar": {
              "outlinewidth": 0,
              "ticks": ""
             }
            },
            "type": "histogram"
           }
          ],
          "histogram2d": [
           {
            "colorbar": {
             "outlinewidth": 0,
             "ticks": ""
            },
            "colorscale": [
             [
              0,
              "#0d0887"
             ],
             [
              0.1111111111111111,
              "#46039f"
             ],
             [
              0.2222222222222222,
              "#7201a8"
             ],
             [
              0.3333333333333333,
              "#9c179e"
             ],
             [
              0.4444444444444444,
              "#bd3786"
             ],
             [
              0.5555555555555556,
              "#d8576b"
             ],
             [
              0.6666666666666666,
              "#ed7953"
             ],
             [
              0.7777777777777778,
              "#fb9f3a"
             ],
             [
              0.8888888888888888,
              "#fdca26"
             ],
             [
              1,
              "#f0f921"
             ]
            ],
            "type": "histogram2d"
           }
          ],
          "histogram2dcontour": [
           {
            "colorbar": {
             "outlinewidth": 0,
             "ticks": ""
            },
            "colorscale": [
             [
              0,
              "#0d0887"
             ],
             [
              0.1111111111111111,
              "#46039f"
             ],
             [
              0.2222222222222222,
              "#7201a8"
             ],
             [
              0.3333333333333333,
              "#9c179e"
             ],
             [
              0.4444444444444444,
              "#bd3786"
             ],
             [
              0.5555555555555556,
              "#d8576b"
             ],
             [
              0.6666666666666666,
              "#ed7953"
             ],
             [
              0.7777777777777778,
              "#fb9f3a"
             ],
             [
              0.8888888888888888,
              "#fdca26"
             ],
             [
              1,
              "#f0f921"
             ]
            ],
            "type": "histogram2dcontour"
           }
          ],
          "mesh3d": [
           {
            "colorbar": {
             "outlinewidth": 0,
             "ticks": ""
            },
            "type": "mesh3d"
           }
          ],
          "parcoords": [
           {
            "line": {
             "colorbar": {
              "outlinewidth": 0,
              "ticks": ""
             }
            },
            "type": "parcoords"
           }
          ],
          "pie": [
           {
            "automargin": true,
            "type": "pie"
           }
          ],
          "scatter": [
           {
            "marker": {
             "colorbar": {
              "outlinewidth": 0,
              "ticks": ""
             }
            },
            "type": "scatter"
           }
          ],
          "scatter3d": [
           {
            "line": {
             "colorbar": {
              "outlinewidth": 0,
              "ticks": ""
             }
            },
            "marker": {
             "colorbar": {
              "outlinewidth": 0,
              "ticks": ""
             }
            },
            "type": "scatter3d"
           }
          ],
          "scattercarpet": [
           {
            "marker": {
             "colorbar": {
              "outlinewidth": 0,
              "ticks": ""
             }
            },
            "type": "scattercarpet"
           }
          ],
          "scattergeo": [
           {
            "marker": {
             "colorbar": {
              "outlinewidth": 0,
              "ticks": ""
             }
            },
            "type": "scattergeo"
           }
          ],
          "scattergl": [
           {
            "marker": {
             "colorbar": {
              "outlinewidth": 0,
              "ticks": ""
             }
            },
            "type": "scattergl"
           }
          ],
          "scattermapbox": [
           {
            "marker": {
             "colorbar": {
              "outlinewidth": 0,
              "ticks": ""
             }
            },
            "type": "scattermapbox"
           }
          ],
          "scatterpolar": [
           {
            "marker": {
             "colorbar": {
              "outlinewidth": 0,
              "ticks": ""
             }
            },
            "type": "scatterpolar"
           }
          ],
          "scatterpolargl": [
           {
            "marker": {
             "colorbar": {
              "outlinewidth": 0,
              "ticks": ""
             }
            },
            "type": "scatterpolargl"
           }
          ],
          "scatterternary": [
           {
            "marker": {
             "colorbar": {
              "outlinewidth": 0,
              "ticks": ""
             }
            },
            "type": "scatterternary"
           }
          ],
          "surface": [
           {
            "colorbar": {
             "outlinewidth": 0,
             "ticks": ""
            },
            "colorscale": [
             [
              0,
              "#0d0887"
             ],
             [
              0.1111111111111111,
              "#46039f"
             ],
             [
              0.2222222222222222,
              "#7201a8"
             ],
             [
              0.3333333333333333,
              "#9c179e"
             ],
             [
              0.4444444444444444,
              "#bd3786"
             ],
             [
              0.5555555555555556,
              "#d8576b"
             ],
             [
              0.6666666666666666,
              "#ed7953"
             ],
             [
              0.7777777777777778,
              "#fb9f3a"
             ],
             [
              0.8888888888888888,
              "#fdca26"
             ],
             [
              1,
              "#f0f921"
             ]
            ],
            "type": "surface"
           }
          ],
          "table": [
           {
            "cells": {
             "fill": {
              "color": "#EBF0F8"
             },
             "line": {
              "color": "white"
             }
            },
            "header": {
             "fill": {
              "color": "#C8D4E3"
             },
             "line": {
              "color": "white"
             }
            },
            "type": "table"
           }
          ]
         },
         "layout": {
          "annotationdefaults": {
           "arrowcolor": "#2a3f5f",
           "arrowhead": 0,
           "arrowwidth": 1
          },
          "autotypenumbers": "strict",
          "coloraxis": {
           "colorbar": {
            "outlinewidth": 0,
            "ticks": ""
           }
          },
          "colorscale": {
           "diverging": [
            [
             0,
             "#8e0152"
            ],
            [
             0.1,
             "#c51b7d"
            ],
            [
             0.2,
             "#de77ae"
            ],
            [
             0.3,
             "#f1b6da"
            ],
            [
             0.4,
             "#fde0ef"
            ],
            [
             0.5,
             "#f7f7f7"
            ],
            [
             0.6,
             "#e6f5d0"
            ],
            [
             0.7,
             "#b8e186"
            ],
            [
             0.8,
             "#7fbc41"
            ],
            [
             0.9,
             "#4d9221"
            ],
            [
             1,
             "#276419"
            ]
           ],
           "sequential": [
            [
             0,
             "#0d0887"
            ],
            [
             0.1111111111111111,
             "#46039f"
            ],
            [
             0.2222222222222222,
             "#7201a8"
            ],
            [
             0.3333333333333333,
             "#9c179e"
            ],
            [
             0.4444444444444444,
             "#bd3786"
            ],
            [
             0.5555555555555556,
             "#d8576b"
            ],
            [
             0.6666666666666666,
             "#ed7953"
            ],
            [
             0.7777777777777778,
             "#fb9f3a"
            ],
            [
             0.8888888888888888,
             "#fdca26"
            ],
            [
             1,
             "#f0f921"
            ]
           ],
           "sequentialminus": [
            [
             0,
             "#0d0887"
            ],
            [
             0.1111111111111111,
             "#46039f"
            ],
            [
             0.2222222222222222,
             "#7201a8"
            ],
            [
             0.3333333333333333,
             "#9c179e"
            ],
            [
             0.4444444444444444,
             "#bd3786"
            ],
            [
             0.5555555555555556,
             "#d8576b"
            ],
            [
             0.6666666666666666,
             "#ed7953"
            ],
            [
             0.7777777777777778,
             "#fb9f3a"
            ],
            [
             0.8888888888888888,
             "#fdca26"
            ],
            [
             1,
             "#f0f921"
            ]
           ]
          },
          "colorway": [
           "#636efa",
           "#EF553B",
           "#00cc96",
           "#ab63fa",
           "#FFA15A",
           "#19d3f3",
           "#FF6692",
           "#B6E880",
           "#FF97FF",
           "#FECB52"
          ],
          "font": {
           "color": "#2a3f5f"
          },
          "geo": {
           "bgcolor": "white",
           "lakecolor": "white",
           "landcolor": "#E5ECF6",
           "showlakes": true,
           "showland": true,
           "subunitcolor": "white"
          },
          "hoverlabel": {
           "align": "left"
          },
          "hovermode": "closest",
          "mapbox": {
           "style": "light"
          },
          "paper_bgcolor": "white",
          "plot_bgcolor": "#E5ECF6",
          "polar": {
           "angularaxis": {
            "gridcolor": "white",
            "linecolor": "white",
            "ticks": ""
           },
           "bgcolor": "#E5ECF6",
           "radialaxis": {
            "gridcolor": "white",
            "linecolor": "white",
            "ticks": ""
           }
          },
          "scene": {
           "xaxis": {
            "backgroundcolor": "#E5ECF6",
            "gridcolor": "white",
            "gridwidth": 2,
            "linecolor": "white",
            "showbackground": true,
            "ticks": "",
            "zerolinecolor": "white"
           },
           "yaxis": {
            "backgroundcolor": "#E5ECF6",
            "gridcolor": "white",
            "gridwidth": 2,
            "linecolor": "white",
            "showbackground": true,
            "ticks": "",
            "zerolinecolor": "white"
           },
           "zaxis": {
            "backgroundcolor": "#E5ECF6",
            "gridcolor": "white",
            "gridwidth": 2,
            "linecolor": "white",
            "showbackground": true,
            "ticks": "",
            "zerolinecolor": "white"
           }
          },
          "shapedefaults": {
           "line": {
            "color": "#2a3f5f"
           }
          },
          "ternary": {
           "aaxis": {
            "gridcolor": "white",
            "linecolor": "white",
            "ticks": ""
           },
           "baxis": {
            "gridcolor": "white",
            "linecolor": "white",
            "ticks": ""
           },
           "bgcolor": "#E5ECF6",
           "caxis": {
            "gridcolor": "white",
            "linecolor": "white",
            "ticks": ""
           }
          },
          "title": {
           "x": 0.05
          },
          "xaxis": {
           "automargin": true,
           "gridcolor": "white",
           "linecolor": "white",
           "ticks": "",
           "title": {
            "standoff": 15
           },
           "zerolinecolor": "white",
           "zerolinewidth": 2
          },
          "yaxis": {
           "automargin": true,
           "gridcolor": "white",
           "linecolor": "white",
           "ticks": "",
           "title": {
            "standoff": 15
           },
           "zerolinecolor": "white",
           "zerolinewidth": 2
          }
         }
        }
       }
      },
      "image/png": "[encoded data removed]",
      "text/html": [
       "<div>                            <div id=\"a2b5688b-9ed1-4ad2-9da9-2513a5f6d213\" class=\"plotly-graph-div\" style=\"height:525px; width:100%;\"></div>            <script type=\"text/javascript\">                require([\"plotly\"], function(Plotly) {                    window.PLOTLYENV=window.PLOTLYENV || {};                                    if (document.getElementById(\"a2b5688b-9ed1-4ad2-9da9-2513a5f6d213\")) {                    Plotly.newPlot(                        \"a2b5688b-9ed1-4ad2-9da9-2513a5f6d213\",                        [{\"marker\": {\"color\": [30, 39, 29, 95, 70, 67, 29, 56, 45, 68, 50, 70, 46, 23, 77, 15, 37, 55, 0, 35, 60, 70, 82, 44, 54, 80, 46, 48, 51, 37, 31, 35, 50, 33, 27, 36, 77, 61, 84, 78, 7, 57, 60, 17, 82, 37, 40, 72, 74, 87, 66, 90, 43, 24, 41, 42, 33, 29, 83, 73, 66, 71, 62, 47, 53, 61, 21, 74, 72, 50, 5, 32, 23, 34, 70, 9, 61, 34, 38, 72, 32, 52, 96, 58, 35, 40, 48, 46, 32, 50, 76, 64, 62, 76, 81, 69, 89, 27, 39, 62, 73, 49, 35, 36, 16, 60, 74, 22, 47, 43, 84, 65, 49, 31, 83, 87, 68, 68, 28, 42, 42, 70, 58, 57, 8, 44, 65, 81, 57, 64, 86, 34, 84, 4, 23, 66, 53, 70, 78, 39, 74, 33, 43, 54, 26, 58, 29, 73, 59, 58, 70, 19, 29, 32, 77, 91, 50, 63, 42, 68, 70, 82, 0, 45, 73, 60], \"colorscale\": [[0.0, \"#440154\"], [0.1111111111111111, \"#482878\"], [0.2222222222222222, \"#3e4989\"], [0.3333333333333333, \"#31688e\"], [0.4444444444444444, \"#26828e\"], [0.5555555555555556, \"#1f9e89\"], [0.6666666666666666, \"#35b779\"], [0.7777777777777778, \"#6ece58\"], [0.8888888888888888, \"#b5de2b\"], [1.0, \"#fde725\"]], \"opacity\": 0.7, \"size\": 3}, \"mode\": \"markers\", \"type\": \"scatter3d\", \"x\": [51, 49, 23, 77, 78, 56, 44, 37, 7, 29, 80, 61, 36, 20, 58, 22, 23, 85, 0, 24, 64, 75, 86, 18, 33, 59, 72, 72, 63, 38, 28, 40, 50, 65, 17, 62, 91, 71, 87, 59, 18, 36, 85, 25, 75, 45, 35, 94, 79, 84, 57, 64, 29, 1, 28, 29, 48, 20, 58, 94, 78, 80, 91, 69, 50, 50, 39, 65, 42, 47, 29, 14, 26, 23, 84, 23, 39, 36, 33, 36, 32, 32, 90, 46, 17, 7, 41, 34, 24, 29, 74, 30, 14, 58, 61, 30, 73, 34, 26, 42, 74, 27, 28, 15, 25, 67, 57, 6, 26, 74, 76, 38, 62, 8, 44, 77, 60, 41, 37, 33, 47, 60, 40, 43, 0, 31, 36, 78, 75, 20, 78, 48, 45, 5, 5, 54, 28, 44, 45, 5, 44, 32, 29, 43, 13, 34, 37, 59, 45, 31, 76, 9, 26, 14, 87, 100, 53, 43, 27, 60, 43, 80, 2, 29, 43, 89], \"y\": [63, 56, 57, 100, 67, 61, 52, 59, 44, 81, 73, 71, 56, 36, 84, 29, 32, 86, 24, 42, 72, 60, 88, 13, 43, 73, 56, 83, 60, 51, 36, 65, 64, 43, 29, 58, 72, 71, 100, 55, 27, 55, 66, 28, 84, 41, 45, 96, 69, 93, 50, 78, 35, 17, 43, 43, 53, 21, 71, 85, 41, 61, 83, 80, 38, 49, 21, 78, 66, 56, 24, 43, 34, 30, 88, 33, 55, 33, 31, 44, 41, 36, 77, 46, 38, 21, 40, 30, 28, 31, 72, 49, 48, 51, 63, 34, 81, 40, 24, 40, 61, 20, 25, 43, 22, 29, 78, 26, 25, 55, 84, 70, 50, 16, 45, 78, 63, 57, 29, 48, 44, 61, 66, 28, 20, 28, 49, 81, 58, 31, 54, 52, 64, 11, 26, 72, 30, 34, 54, 32, 58, 42, 47, 28, 19, 19, 19, 54, 48, 23, 62, 28, 30, 18, 71, 83, 44, 52, 22, 69, 50, 88, 9, 24, 32, 80], \"z\": [30, 39, 29, 95, 70, 67, 29, 56, 45, 68, 50, 70, 46, 23, 77, 15, 37, 55, 0, 35, 60, 70, 82, 44, 54, 80, 46, 48, 51, 37, 31, 35, 50, 33, 27, 36, 77, 61, 84, 78, 7, 57, 60, 17, 82, 37, 40, 72, 74, 87, 66, 90, 43, 24, 41, 42, 33, 29, 83, 73, 66, 71, 62, 47, 53, 61, 21, 74, 72, 50, 5, 32, 23, 34, 70, 9, 61, 34, 38, 72, 32, 52, 96, 58, 35, 40, 48, 46, 32, 50, 76, 64, 62, 76, 81, 69, 89, 27, 39, 62, 73, 49, 35, 36, 16, 60, 74, 22, 47, 43, 84, 65, 49, 31, 83, 87, 68, 68, 28, 42, 42, 70, 58, 57, 8, 44, 65, 81, 57, 64, 86, 34, 84, 4, 23, 66, 53, 70, 78, 39, 74, 33, 43, 54, 26, 58, 29, 73, 59, 58, 70, 19, 29, 32, 77, 91, 50, 63, 42, 68, 70, 82, 0, 45, 73, 60]}, {\"marker\": {\"color\": \"red\", \"size\": 5}, \"mode\": \"markers\", \"type\": \"scatter3d\", \"x\": [45.6144578313253], \"y\": [49.8855421686747], \"z\": [52.33132530120482]}],                        {\"template\": {\"data\": {\"bar\": [{\"error_x\": {\"color\": \"#2a3f5f\"}, \"error_y\": {\"color\": \"#2a3f5f\"}, \"marker\": {\"line\": {\"color\": \"#E5ECF6\", \"width\": 0.5}}, \"type\": \"bar\"}], \"barpolar\": [{\"marker\": {\"line\": {\"color\": \"#E5ECF6\", \"width\": 0.5}}, \"type\": \"barpolar\"}], \"carpet\": [{\"aaxis\": {\"endlinecolor\": \"#2a3f5f\", \"gridcolor\": \"white\", \"linecolor\": \"white\", \"minorgridcolor\": \"white\", \"startlinecolor\": \"#2a3f5f\"}, \"baxis\": {\"endlinecolor\": \"#2a3f5f\", \"gridcolor\": \"white\", \"linecolor\": \"white\", \"minorgridcolor\": \"white\", \"startlinecolor\": \"#2a3f5f\"}, \"type\": \"carpet\"}], \"choropleth\": [{\"colorbar\": {\"outlinewidth\": 0, \"ticks\": \"\"}, \"type\": \"choropleth\"}], \"contour\": [{\"colorbar\": {\"outlinewidth\": 0, \"ticks\": \"\"}, \"colorscale\": [[0.0, \"#0d0887\"], [0.1111111111111111, \"#46039f\"], [0.2222222222222222, \"#7201a8\"], [0.3333333333333333, \"#9c179e\"], [0.4444444444444444, \"#bd3786\"], [0.5555555555555556, \"#d8576b\"], [0.6666666666666666, \"#ed7953\"], [0.7777777777777778, \"#fb9f3a\"], [0.8888888888888888, \"#fdca26\"], [1.0, \"#f0f921\"]], \"type\": \"contour\"}], \"contourcarpet\": [{\"colorbar\": {\"outlinewidth\": 0, \"ticks\": \"\"}, \"type\": \"contourcarpet\"}], \"heatmap\": [{\"colorbar\": {\"outlinewidth\": 0, \"ticks\": \"\"}, \"colorscale\": [[0.0, \"#0d0887\"], [0.1111111111111111, \"#46039f\"], [0.2222222222222222, \"#7201a8\"], [0.3333333333333333, \"#9c179e\"], [0.4444444444444444, \"#bd3786\"], [0.5555555555555556, \"#d8576b\"], [0.6666666666666666, \"#ed7953\"], [0.7777777777777778, \"#fb9f3a\"], [0.8888888888888888, \"#fdca26\"], [1.0, \"#f0f921\"]], \"type\": \"heatmap\"}], \"heatmapgl\": [{\"colorbar\": {\"outlinewidth\": 0, \"ticks\": \"\"}, \"colorscale\": [[0.0, \"#0d0887\"], [0.1111111111111111, \"#46039f\"], [0.2222222222222222, \"#7201a8\"], [0.3333333333333333, \"#9c179e\"], [0.4444444444444444, \"#bd3786\"], [0.5555555555555556, \"#d8576b\"], [0.6666666666666666, \"#ed7953\"], [0.7777777777777778, \"#fb9f3a\"], [0.8888888888888888, \"#fdca26\"], [1.0, \"#f0f921\"]], \"type\": \"heatmapgl\"}], \"histogram\": [{\"marker\": {\"colorbar\": {\"outlinewidth\": 0, \"ticks\": \"\"}}, \"type\": \"histogram\"}], \"histogram2d\": [{\"colorbar\": {\"outlinewidth\": 0, \"ticks\": \"\"}, \"colorscale\": [[0.0, \"#0d0887\"], [0.1111111111111111, \"#46039f\"], [0.2222222222222222, \"#7201a8\"], [0.3333333333333333, \"#9c179e\"], [0.4444444444444444, \"#bd3786\"], [0.5555555555555556, \"#d8576b\"], [0.6666666666666666, \"#ed7953\"], [0.7777777777777778, \"#fb9f3a\"], [0.8888888888888888, \"#fdca26\"], [1.0, \"#f0f921\"]], \"type\": \"histogram2d\"}], \"histogram2dcontour\": [{\"colorbar\": {\"outlinewidth\": 0, \"ticks\": \"\"}, \"colorscale\": [[0.0, \"#0d0887\"], [0.1111111111111111, \"#46039f\"], [0.2222222222222222, \"#7201a8\"], [0.3333333333333333, \"#9c179e\"], [0.4444444444444444, \"#bd3786\"], [0.5555555555555556, \"#d8576b\"], [0.6666666666666666, \"#ed7953\"], [0.7777777777777778, \"#fb9f3a\"], [0.8888888888888888, \"#fdca26\"], [1.0, \"#f0f921\"]], \"type\": \"histogram2dcontour\"}], \"mesh3d\": [{\"colorbar\": {\"outlinewidth\": 0, \"ticks\": \"\"}, \"type\": \"mesh3d\"}], \"parcoords\": [{\"line\": {\"colorbar\": {\"outlinewidth\": 0, \"ticks\": \"\"}}, \"type\": \"parcoords\"}], \"pie\": [{\"automargin\": true, \"type\": \"pie\"}], \"scatter\": [{\"marker\": {\"colorbar\": {\"outlinewidth\": 0, \"ticks\": \"\"}}, \"type\": \"scatter\"}], \"scatter3d\": [{\"line\": {\"colorbar\": {\"outlinewidth\": 0, \"ticks\": \"\"}}, \"marker\": {\"colorbar\": {\"outlinewidth\": 0, \"ticks\": \"\"}}, \"type\": \"scatter3d\"}], \"scattercarpet\": [{\"marker\": {\"colorbar\": {\"outlinewidth\": 0, \"ticks\": \"\"}}, \"type\": \"scattercarpet\"}], \"scattergeo\": [{\"marker\": {\"colorbar\": {\"outlinewidth\": 0, \"ticks\": \"\"}}, \"type\": \"scattergeo\"}], \"scattergl\": [{\"marker\": {\"colorbar\": {\"outlinewidth\": 0, \"ticks\": \"\"}}, \"type\": \"scattergl\"}], \"scattermapbox\": [{\"marker\": {\"colorbar\": {\"outlinewidth\": 0, \"ticks\": \"\"}}, \"type\": \"scattermapbox\"}], \"scatterpolar\": [{\"marker\": {\"colorbar\": {\"outlinewidth\": 0, \"ticks\": \"\"}}, \"type\": \"scatterpolar\"}], \"scatterpolargl\": [{\"marker\": {\"colorbar\": {\"outlinewidth\": 0, \"ticks\": \"\"}}, \"type\": \"scatterpolargl\"}], \"scatterternary\": [{\"marker\": {\"colorbar\": {\"outlinewidth\": 0, \"ticks\": \"\"}}, \"type\": \"scatterternary\"}], \"surface\": [{\"colorbar\": {\"outlinewidth\": 0, \"ticks\": \"\"}, \"colorscale\": [[0.0, \"#0d0887\"], [0.1111111111111111, \"#46039f\"], [0.2222222222222222, \"#7201a8\"], [0.3333333333333333, \"#9c179e\"], [0.4444444444444444, \"#bd3786\"], [0.5555555555555556, \"#d8576b\"], [0.6666666666666666, \"#ed7953\"], [0.7777777777777778, \"#fb9f3a\"], [0.8888888888888888, \"#fdca26\"], [1.0, \"#f0f921\"]], \"type\": \"surface\"}], \"table\": [{\"cells\": {\"fill\": {\"color\": \"#EBF0F8\"}, \"line\": {\"color\": \"white\"}}, \"header\": {\"fill\": {\"color\": \"#C8D4E3\"}, \"line\": {\"color\": \"white\"}}, \"type\": \"table\"}]}, \"layout\": {\"annotationdefaults\": {\"arrowcolor\": \"#2a3f5f\", \"arrowhead\": 0, \"arrowwidth\": 1}, \"autotypenumbers\": \"strict\", \"coloraxis\": {\"colorbar\": {\"outlinewidth\": 0, \"ticks\": \"\"}}, \"colorscale\": {\"diverging\": [[0, \"#8e0152\"], [0.1, \"#c51b7d\"], [0.2, \"#de77ae\"], [0.3, \"#f1b6da\"], [0.4, \"#fde0ef\"], [0.5, \"#f7f7f7\"], [0.6, \"#e6f5d0\"], [0.7, \"#b8e186\"], [0.8, \"#7fbc41\"], [0.9, \"#4d9221\"], [1, \"#276419\"]], \"sequential\": [[0.0, \"#0d0887\"], [0.1111111111111111, \"#46039f\"], [0.2222222222222222, \"#7201a8\"], [0.3333333333333333, \"#9c179e\"], [0.4444444444444444, \"#bd3786\"], [0.5555555555555556, \"#d8576b\"], [0.6666666666666666, \"#ed7953\"], [0.7777777777777778, \"#fb9f3a\"], [0.8888888888888888, \"#fdca26\"], [1.0, \"#f0f921\"]], \"sequentialminus\": [[0.0, \"#0d0887\"], [0.1111111111111111, \"#46039f\"], [0.2222222222222222, \"#7201a8\"], [0.3333333333333333, \"#9c179e\"], [0.4444444444444444, \"#bd3786\"], [0.5555555555555556, \"#d8576b\"], [0.6666666666666666, \"#ed7953\"], [0.7777777777777778, \"#fb9f3a\"], [0.8888888888888888, \"#fdca26\"], [1.0, \"#f0f921\"]]}, \"colorway\": [\"#636efa\", \"#EF553B\", \"#00cc96\", \"#ab63fa\", \"#FFA15A\", \"#19d3f3\", \"#FF6692\", \"#B6E880\", \"#FF97FF\", \"#FECB52\"], \"font\": {\"color\": \"#2a3f5f\"}, \"geo\": {\"bgcolor\": \"white\", \"lakecolor\": \"white\", \"landcolor\": \"#E5ECF6\", \"showlakes\": true, \"showland\": true, \"subunitcolor\": \"white\"}, \"hoverlabel\": {\"align\": \"left\"}, \"hovermode\": \"closest\", \"mapbox\": {\"style\": \"light\"}, \"paper_bgcolor\": \"white\", \"plot_bgcolor\": \"#E5ECF6\", \"polar\": {\"angularaxis\": {\"gridcolor\": \"white\", \"linecolor\": \"white\", \"ticks\": \"\"}, \"bgcolor\": \"#E5ECF6\", \"radialaxis\": {\"gridcolor\": \"white\", \"linecolor\": \"white\", \"ticks\": \"\"}}, \"scene\": {\"xaxis\": {\"backgroundcolor\": \"#E5ECF6\", \"gridcolor\": \"white\", \"gridwidth\": 2, \"linecolor\": \"white\", \"showbackground\": true, \"ticks\": \"\", \"zerolinecolor\": \"white\"}, \"yaxis\": {\"backgroundcolor\": \"#E5ECF6\", \"gridcolor\": \"white\", \"gridwidth\": 2, \"linecolor\": \"white\", \"showbackground\": true, \"ticks\": \"\", \"zerolinecolor\": \"white\"}, \"zaxis\": {\"backgroundcolor\": \"#E5ECF6\", \"gridcolor\": \"white\", \"gridwidth\": 2, \"linecolor\": \"white\", \"showbackground\": true, \"ticks\": \"\", \"zerolinecolor\": \"white\"}}, \"shapedefaults\": {\"line\": {\"color\": \"#2a3f5f\"}}, \"ternary\": {\"aaxis\": {\"gridcolor\": \"white\", \"linecolor\": \"white\", \"ticks\": \"\"}, \"baxis\": {\"gridcolor\": \"white\", \"linecolor\": \"white\", \"ticks\": \"\"}, \"bgcolor\": \"#E5ECF6\", \"caxis\": {\"gridcolor\": \"white\", \"linecolor\": \"white\", \"ticks\": \"\"}}, \"title\": {\"x\": 0.05}, \"xaxis\": {\"automargin\": true, \"gridcolor\": \"white\", \"linecolor\": \"white\", \"ticks\": \"\", \"title\": {\"standoff\": 15}, \"zerolinecolor\": \"white\", \"zerolinewidth\": 2}, \"yaxis\": {\"automargin\": true, \"gridcolor\": \"white\", \"linecolor\": \"white\", \"ticks\": \"\", \"title\": {\"standoff\": 15}, \"zerolinecolor\": \"white\", \"zerolinewidth\": 2}}}},                        {\"responsive\": true}                    ).then(function(){\n",
       "                            \n",
       "var gd = document.getElementById('a2b5688b-9ed1-4ad2-9da9-2513a5f6d213');\n",
       "var x = new MutationObserver(function (mutations, observer) {{\n",
       "        var display = window.getComputedStyle(gd).display;\n",
       "        if (!display || display === 'none') {{\n",
       "            console.log([gd, 'removed!']);\n",
       "            Plotly.purge(gd);\n",
       "            observer.disconnect();\n",
       "        }}\n",
       "}});\n",
       "\n",
       "// Listen for the removal of the full notebook cells\n",
       "var notebookContainer = gd.closest('#notebook-container');\n",
       "if (notebookContainer) {{\n",
       "    x.observe(notebookContainer, {childList: true});\n",
       "}}\n",
       "\n",
       "// Listen for the clearing of the current output cell\n",
       "var outputEl = gd.closest('.output');\n",
       "if (outputEl) {{\n",
       "    x.observe(outputEl, {childList: true});\n",
       "}}\n",
       "\n",
       "                        })                };                });            </script>        </div>"
      ]
     },
     "metadata": {},
     "output_type": "display_data"
    }
   ],
   "source": [
    "d = pd.read_csv(\"./data/econ/multivar_analysis/grades.csv\")\n",
    "d=d[[\"math\",\"science\",\"literature\"]]\n",
    "x,y,z=d[\"math\"],d[\"science\"],d[\"literature\"]\n",
    "fig = go.Figure(\n",
    "    data=[\n",
    "        go.Scatter3d(\n",
    "        x=x, y=y, z=z,\n",
    "        mode='markers',\n",
    "        marker=dict(\n",
    "            size=3,\n",
    "            color=z,\n",
    "            colorscale='Viridis',  \n",
    "            opacity=0.7\n",
    "            )\n",
    "        )\n",
    "    ]\n",
    ")\n",
    "fig.add_trace(go.Scatter3d(x=[np.mean(d[\"math\"])],y=[np.mean(d[\"science\"])],z=[np.mean(d[\"literature\"])],mode='markers',marker=dict(size=5,color=\"red\")))\n",
    "fig.show()"
   ]
  },
  {
   "cell_type": "markdown",
   "id": "0ac82846",
   "metadata": {},
   "source": [
    "次にデータを正規化($\\frac{X-\\bar{X}}{std}$)する.\n",
    "プロットされた図で確認すると(0,0,0)が重心になっている."
   ]
  },
  {
   "cell_type": "code",
   "execution_count": 193,
   "id": "b42fab03",
   "metadata": {},
   "outputs": [
    {
     "data": {
      "application/vnd.plotly.v1+json": {
       "config": {
        "plotlyServerURL": "https://plot.ly"
       },
       "data": [
        {
         "marker": {
          "color": [
           -1.0257848996009633,
           -0.6123717245257437,
           -1.0717196968315434,
           1.959976920386734,
           0.811606989622235,
           0.6738025979304951,
           -1.0717196968315434,
           0.16851982839411558,
           -0.336762941142264,
           0.719737395161075,
           -0.10708895498936419,
           0.811606989622235,
           -0.29082814391168404,
           -1.3473284802150232,
           1.1331505702362947,
           -1.7148068580596627,
           -0.7042413189869037,
           0.12258503116353561,
           -2.403828816518362,
           -0.7961109134480636,
           0.3522590173164354,
           0.811606989622235,
           1.3628245563891945,
           -0.38269773837284393,
           0.07665023393295566,
           1.2709549619280347,
           -0.29082814391168404,
           -0.1989585494505241,
           -0.06115415775878423,
           -0.7042413189869037,
           -0.9798501023703834,
           -0.7961109134480636,
           -0.10708895498936419,
           -0.8879805079092236,
           -1.1635892912927033,
           -0.7501761162174836,
           1.1331505702362947,
           0.39819381454701536,
           1.4546941508503544,
           1.1790853674668746,
           -2.0822852359043025,
           0.21445462562469553,
           0.3522590173164354,
           -1.6229372635985029,
           1.3628245563891945,
           -0.7042413189869037,
           -0.5664369272951638,
           0.9034765840833949,
           0.9953461785445549,
           1.5924985425420943,
           0.6278678006999152,
           1.7303029342338343,
           -0.4286325356034239,
           -1.3013936829844432,
           -0.5205021300645838,
           -0.4745673328340039,
           -0.8879805079092236,
           -1.0717196968315434,
           1.4087593536197744,
           0.9494113813139748,
           0.6278678006999152,
           0.857541786852815,
           0.44412861177759533,
           -0.24489334668110407,
           0.03071543670237569,
           0.39819381454701536,
           -1.439198074676183,
           0.9953461785445549,
           0.9034765840833949,
           -0.10708895498936419,
           -2.1741548303654623,
           -0.9339153051398035,
           -1.3473284802150232,
           -0.8420457106786435,
           0.811606989622235,
           -1.9904156414431426,
           0.39819381454701536,
           -0.8420457106786435,
           -0.6583065217563238,
           0.9034765840833949,
           -0.9339153051398035,
           -0.015219360528204271,
           2.005911717617314,
           0.2603894228552755,
           -0.7961109134480636,
           -0.5664369272951638,
           -0.1989585494505241,
           -0.29082814391168404,
           -0.9339153051398035,
           -0.10708895498936419,
           1.0872157730057148,
           0.5359982062387553,
           0.44412861177759533,
           1.0872157730057148,
           1.3168897591586146,
           0.7656721923916551,
           1.6843681370032542,
           -1.1635892912927033,
           -0.6123717245257437,
           0.44412861177759533,
           0.9494113813139748,
           -0.15302375221994416,
           -0.7961109134480636,
           -0.7501761162174836,
           -1.6688720608290828,
           0.3522590173164354,
           0.9953461785445549,
           -1.393263277445603,
           -0.24489334668110407,
           -0.4286325356034239,
           1.4546941508503544,
           0.5819330034693352,
           -0.15302375221994416,
           -0.9798501023703834,
           1.4087593536197744,
           1.5924985425420943,
           0.719737395161075,
           0.719737395161075,
           -1.1176544940621234,
           -0.4745673328340039,
           -0.4745673328340039,
           0.811606989622235,
           0.2603894228552755,
           0.21445462562469553,
           -2.0363504386737223,
           -0.38269773837284393,
           0.5819330034693352,
           1.3168897591586146,
           0.21445462562469553,
           0.5359982062387553,
           1.5465637453115144,
           -0.8420457106786435,
           1.4546941508503544,
           -2.2200896275960424,
           -1.3473284802150232,
           0.6278678006999152,
           0.03071543670237569,
           0.811606989622235,
           1.1790853674668746,
           -0.6123717245257437,
           0.9953461785445549,
           -0.8879805079092236,
           -0.4286325356034239,
           0.07665023393295566,
           -1.2095240885232832,
           0.2603894228552755,
           -1.0717196968315434,
           0.9494113813139748,
           0.30632422008585547,
           0.2603894228552755,
           0.811606989622235,
           -1.531067669137343,
           -1.0717196968315434,
           -0.9339153051398035,
           1.1331505702362947,
           1.7762377314644142,
           -0.10708895498936419,
           0.4900634090081753,
           -0.4745673328340039,
           0.719737395161075,
           0.811606989622235,
           1.3628245563891945,
           -2.403828816518362,
           -0.336762941142264,
           0.9494113813139748,
           0.3522590173164354
          ],
          "colorscale": [
           [
            0,
            "#440154"
           ],
           [
            0.1111111111111111,
            "#482878"
           ],
           [
            0.2222222222222222,
            "#3e4989"
           ],
           [
            0.3333333333333333,
            "#31688e"
           ],
           [
            0.4444444444444444,
            "#26828e"
           ],
           [
            0.5555555555555556,
            "#1f9e89"
           ],
           [
            0.6666666666666666,
            "#35b779"
           ],
           [
            0.7777777777777778,
            "#6ece58"
           ],
           [
            0.8888888888888888,
            "#b5de2b"
           ],
           [
            1,
            "#fde725"
           ]
          ],
          "opacity": 0.7,
          "size": 3
         },
         "mode": "markers",
         "type": "scatter3d",
         "x": [
          0.22288368717719617,
          0.1401125639749264,
          -0.9359120376545804,
          1.298908288806703,
          1.3402938504078379,
          0.42981149518287054,
          -0.06681524403074797,
          -0.3565141752386921,
          -1.5980810232727385,
          -0.6875986680477711,
          1.4230649736101075,
          0.6367393031885449,
          -0.397899736839827,
          -1.060068722457985,
          0.5125826183851403,
          -0.9772975992557152,
          -0.9359120376545804,
          1.629992781615782,
          -1.8877799544806826,
          -0.8945264760534455,
          0.7608959879919496,
          1.2161371656044333,
          1.671378343216917,
          -1.1428398456602546,
          -0.5220564216432316,
          0.5539681799862752,
          1.0919804808010285,
          1.0919804808010285,
          0.7195104263908146,
          -0.31512861363755723,
          -0.728984229648906,
          -0.23235749043528747,
          0.1814981255760613,
          0.8022815495930844,
          -1.1842254072613896,
          0.6781248647896798,
          1.8783061512225911,
          1.0505949191998938,
          1.7127639048180516,
          0.5539681799862752,
          -1.1428398456602546,
          -0.397899736839827,
          1.629992781615782,
          -0.8531409144523107,
          1.2161371656044333,
          -0.025429682429613094,
          -0.43928529844096187,
          2.002462836025996,
          1.3816794120089728,
          1.588607220014647,
          0.4711970567840054,
          0.7608959879919496,
          -0.6875986680477711,
          -1.8463943928795477,
          -0.728984229648906,
          -0.6875986680477711,
          0.09872700237379153,
          -1.060068722457985,
          0.5125826183851403,
          2.002462836025996,
          1.3402938504078379,
          1.4230649736101075,
          1.8783061512225911,
          0.9678237959976239,
          0.1814981255760613,
          0.1814981255760613,
          -0.27374305203642235,
          0.8022815495930844,
          -0.14958636723301771,
          0.05734144077265666,
          -0.6875986680477711,
          -1.3083820920647942,
          -0.8117553528511757,
          -0.9359120376545804,
          1.588607220014647,
          -0.9359120376545804,
          -0.27374305203642235,
          -0.397899736839827,
          -0.5220564216432316,
          -0.397899736839827,
          -0.5634419832443665,
          -0.5634419832443665,
          1.8369205896214564,
          0.015955879171521786,
          -1.1842254072613896,
          -1.5980810232727385,
          -0.1909719288341526,
          -0.48067086004209675,
          -0.8945264760534455,
          -0.6875986680477711,
          1.1747516040032984,
          -0.6462131064466362,
          -1.3083820920647942,
          0.5125826183851403,
          0.6367393031885449,
          -0.6462131064466362,
          1.1333660424021634,
          -0.48067086004209675,
          -0.8117553528511757,
          -0.14958636723301771,
          1.1747516040032984,
          -0.7703697912500409,
          -0.728984229648906,
          -1.2669965304636595,
          -0.8531409144523107,
          0.8850526727953542,
          0.4711970567840054,
          -1.6394665848738732,
          -0.8117553528511757,
          1.1747516040032984,
          1.257522727205568,
          -0.31512861363755723,
          0.6781248647896798,
          -1.5566954616716036,
          -0.06681524403074797,
          1.298908288806703,
          0.5953537415874101,
          -0.1909719288341526,
          -0.3565141752386921,
          -0.5220564216432316,
          0.05734144077265666,
          0.5953537415874101,
          -0.23235749043528747,
          -0.10820080563188285,
          -1.8877799544806826,
          -0.6048275448455014,
          -0.397899736839827,
          1.3402938504078379,
          1.2161371656044333,
          -1.060068722457985,
          1.3402938504078379,
          0.09872700237379153,
          -0.025429682429613094,
          -1.6808521464750081,
          -1.6808521464750081,
          0.3470403719806008,
          -0.728984229648906,
          -0.06681524403074797,
          -0.025429682429613094,
          -1.6808521464750081,
          -0.06681524403074797,
          -0.5634419832443665,
          -0.6875986680477711,
          -0.10820080563188285,
          -1.349767653665929,
          -0.48067086004209675,
          -0.3565141752386921,
          0.5539681799862752,
          -0.025429682429613094,
          -0.6048275448455014,
          1.257522727205568,
          -1.5153099000704686,
          -0.8117553528511757,
          -1.3083820920647942,
          1.7127639048180516,
          2.250776205632805,
          0.3056548103794659,
          -0.10820080563188285,
          -0.7703697912500409,
          0.5953537415874101,
          -0.10820080563188285,
          1.4230649736101075,
          -1.8050088312784127,
          -0.6875986680477711,
          -0.10820080563188285,
          1.7955350280203215
         ],
         "y": [
          0.6144459395542,
          0.2864780104030837,
          0.333330571710386,
          2.3479907079243865,
          0.8018561847834094,
          0.5207408169395953,
          0.09906776517387432,
          0.42703569432499067,
          -0.27575272528454436,
          1.457792043085642,
          1.0829715526272234,
          0.9892664300126187,
          0.2864780104030837,
          -0.650573215742963,
          1.598349727007549,
          -0.9785411448940794,
          -0.8379834609721724,
          1.6920548496221537,
          -1.212803951430591,
          -0.36945784789914904,
          1.036118991319921,
          0.473888255632293,
          1.7857599722367583,
          -1.7281821258109167,
          -0.3226052865918467,
          1.0829715526272234,
          0.2864780104030837,
          1.5514971657002468,
          0.473888255632293,
          0.05221520386657199,
          -0.650573215742963,
          0.7081510621688046,
          0.6612985008615023,
          -0.3226052865918467,
          -0.9785411448940794,
          0.38018313301768836,
          1.036118991319921,
          0.9892664300126187,
          2.3479907079243865,
          0.23962544909578132,
          -1.0722462675086841,
          0.23962544909578132,
          0.755003623476107,
          -1.0253937062013818,
          1.598349727007549,
          -0.41631040920645135,
          -0.22890016397724203,
          2.1605804626951772,
          0.895561307398014,
          2.02002277877327,
          0.005362642559269652,
          1.317234359163735,
          -0.6974257770502653,
          -1.5407718805817074,
          -0.3226052865918467,
          -0.3226052865918467,
          0.14592032648117664,
          -1.353361635352498,
          0.9892664300126187,
          1.6452022883148514,
          -0.41631040920645135,
          0.5207408169395953,
          1.5514971657002468,
          1.4109394817783396,
          -0.5568680931283584,
          -0.041489918748032685,
          -1.353361635352498,
          1.317234359163735,
          0.755003623476107,
          0.2864780104030837,
          -1.212803951430591,
          -0.3226052865918467,
          -0.7442783383575677,
          -0.9316885835867771,
          1.7857599722367583,
          -0.79113089966487,
          0.23962544909578132,
          -0.79113089966487,
          -0.8848360222794747,
          -0.27575272528454436,
          -0.41631040920645135,
          -0.650573215742963,
          1.2703817978564327,
          -0.1820476026699397,
          -0.5568680931283584,
          -1.353361635352498,
          -0.4631629705137537,
          -0.9316885835867771,
          -1.0253937062013818,
          -0.8848360222794747,
          1.036118991319921,
          -0.041489918748032685,
          -0.08834248005533502,
          0.05221520386657199,
          0.6144459395542,
          -0.7442783383575677,
          1.457792043085642,
          -0.4631629705137537,
          -1.212803951430591,
          -0.4631629705137537,
          0.5207408169395953,
          -1.4002141966598003,
          -1.1659513901232887,
          -0.3226052865918467,
          -1.3065090740451957,
          -0.9785411448940794,
          1.317234359163735,
          -1.1190988288159864,
          -1.1659513901232887,
          0.23962544909578132,
          1.598349727007549,
          0.9424138687053163,
          0.005362642559269652,
          -1.5876244418890098,
          -0.22890016397724203,
          1.317234359163735,
          0.6144459395542,
          0.333330571710386,
          -0.9785411448940794,
          -0.08834248005533502,
          -0.27575272528454436,
          0.5207408169395953,
          0.755003623476107,
          -1.0253937062013818,
          -1.4002141966598003,
          -1.0253937062013818,
          -0.041489918748032685,
          1.457792043085642,
          0.38018313301768836,
          -0.8848360222794747,
          0.19277288778847898,
          0.09906776517387432,
          0.6612985008615023,
          -1.8218872484255213,
          -1.1190988288159864,
          1.036118991319921,
          -0.9316885835867771,
          -0.7442783383575677,
          0.19277288778847898,
          -0.8379834609721724,
          0.38018313301768836,
          -0.36945784789914904,
          -0.13519504136263735,
          -1.0253937062013818,
          -1.4470667579671028,
          -1.4470667579671028,
          -1.4470667579671028,
          0.19277288778847898,
          -0.08834248005533502,
          -1.2596565127378934,
          0.5675933782468977,
          -1.0253937062013818,
          -0.9316885835867771,
          -1.4939193192744051,
          0.9892664300126187,
          1.5514971657002468,
          -0.27575272528454436,
          0.09906776517387432,
          -1.3065090740451957,
          0.895561307398014,
          0.005362642559269652,
          1.7857599722367583,
          -1.9155923710401261,
          -1.212803951430591,
          -0.8379834609721724,
          1.4109394817783396
         ],
         "z": [
          -1.0257848996009633,
          -0.6123717245257437,
          -1.0717196968315434,
          1.959976920386734,
          0.811606989622235,
          0.6738025979304951,
          -1.0717196968315434,
          0.16851982839411558,
          -0.336762941142264,
          0.719737395161075,
          -0.10708895498936419,
          0.811606989622235,
          -0.29082814391168404,
          -1.3473284802150232,
          1.1331505702362947,
          -1.7148068580596627,
          -0.7042413189869037,
          0.12258503116353561,
          -2.403828816518362,
          -0.7961109134480636,
          0.3522590173164354,
          0.811606989622235,
          1.3628245563891945,
          -0.38269773837284393,
          0.07665023393295566,
          1.2709549619280347,
          -0.29082814391168404,
          -0.1989585494505241,
          -0.06115415775878423,
          -0.7042413189869037,
          -0.9798501023703834,
          -0.7961109134480636,
          -0.10708895498936419,
          -0.8879805079092236,
          -1.1635892912927033,
          -0.7501761162174836,
          1.1331505702362947,
          0.39819381454701536,
          1.4546941508503544,
          1.1790853674668746,
          -2.0822852359043025,
          0.21445462562469553,
          0.3522590173164354,
          -1.6229372635985029,
          1.3628245563891945,
          -0.7042413189869037,
          -0.5664369272951638,
          0.9034765840833949,
          0.9953461785445549,
          1.5924985425420943,
          0.6278678006999152,
          1.7303029342338343,
          -0.4286325356034239,
          -1.3013936829844432,
          -0.5205021300645838,
          -0.4745673328340039,
          -0.8879805079092236,
          -1.0717196968315434,
          1.4087593536197744,
          0.9494113813139748,
          0.6278678006999152,
          0.857541786852815,
          0.44412861177759533,
          -0.24489334668110407,
          0.03071543670237569,
          0.39819381454701536,
          -1.439198074676183,
          0.9953461785445549,
          0.9034765840833949,
          -0.10708895498936419,
          -2.1741548303654623,
          -0.9339153051398035,
          -1.3473284802150232,
          -0.8420457106786435,
          0.811606989622235,
          -1.9904156414431426,
          0.39819381454701536,
          -0.8420457106786435,
          -0.6583065217563238,
          0.9034765840833949,
          -0.9339153051398035,
          -0.015219360528204271,
          2.005911717617314,
          0.2603894228552755,
          -0.7961109134480636,
          -0.5664369272951638,
          -0.1989585494505241,
          -0.29082814391168404,
          -0.9339153051398035,
          -0.10708895498936419,
          1.0872157730057148,
          0.5359982062387553,
          0.44412861177759533,
          1.0872157730057148,
          1.3168897591586146,
          0.7656721923916551,
          1.6843681370032542,
          -1.1635892912927033,
          -0.6123717245257437,
          0.44412861177759533,
          0.9494113813139748,
          -0.15302375221994416,
          -0.7961109134480636,
          -0.7501761162174836,
          -1.6688720608290828,
          0.3522590173164354,
          0.9953461785445549,
          -1.393263277445603,
          -0.24489334668110407,
          -0.4286325356034239,
          1.4546941508503544,
          0.5819330034693352,
          -0.15302375221994416,
          -0.9798501023703834,
          1.4087593536197744,
          1.5924985425420943,
          0.719737395161075,
          0.719737395161075,
          -1.1176544940621234,
          -0.4745673328340039,
          -0.4745673328340039,
          0.811606989622235,
          0.2603894228552755,
          0.21445462562469553,
          -2.0363504386737223,
          -0.38269773837284393,
          0.5819330034693352,
          1.3168897591586146,
          0.21445462562469553,
          0.5359982062387553,
          1.5465637453115144,
          -0.8420457106786435,
          1.4546941508503544,
          -2.2200896275960424,
          -1.3473284802150232,
          0.6278678006999152,
          0.03071543670237569,
          0.811606989622235,
          1.1790853674668746,
          -0.6123717245257437,
          0.9953461785445549,
          -0.8879805079092236,
          -0.4286325356034239,
          0.07665023393295566,
          -1.2095240885232832,
          0.2603894228552755,
          -1.0717196968315434,
          0.9494113813139748,
          0.30632422008585547,
          0.2603894228552755,
          0.811606989622235,
          -1.531067669137343,
          -1.0717196968315434,
          -0.9339153051398035,
          1.1331505702362947,
          1.7762377314644142,
          -0.10708895498936419,
          0.4900634090081753,
          -0.4745673328340039,
          0.719737395161075,
          0.811606989622235,
          1.3628245563891945,
          -2.403828816518362,
          -0.336762941142264,
          0.9494113813139748,
          0.3522590173164354
         ]
        },
        {
         "marker": {
          "color": "red",
          "size": 5
         },
         "mode": "markers",
         "type": "scatter3d",
         "x": [
          0
         ],
         "y": [
          0
         ],
         "z": [
          0
         ]
        }
       ],
       "layout": {
        "autosize": true,
        "scene": {
         "aspectmode": "auto",
         "aspectratio": {
          "x": 0.9694006645247034,
          "y": 0.9986865249863229,
          "z": 1.032921927065361
         },
         "camera": {
          "center": {
           "x": 0,
           "y": 0,
           "z": 0
          },
          "eye": {
           "x": 0.9634888974066323,
           "y": -1.8984412108548865,
           "z": 0.3938402131600902
          },
          "projection": {
           "type": "perspective"
          },
          "up": {
           "x": 0,
           "y": 0,
           "z": 1
          }
         }
        },
        "template": {
         "data": {
          "bar": [
           {
            "error_x": {
             "color": "#2a3f5f"
            },
            "error_y": {
             "color": "#2a3f5f"
            },
            "marker": {
             "line": {
              "color": "#E5ECF6",
              "width": 0.5
             }
            },
            "type": "bar"
           }
          ],
          "barpolar": [
           {
            "marker": {
             "line": {
              "color": "#E5ECF6",
              "width": 0.5
             }
            },
            "type": "barpolar"
           }
          ],
          "carpet": [
           {
            "aaxis": {
             "endlinecolor": "#2a3f5f",
             "gridcolor": "white",
             "linecolor": "white",
             "minorgridcolor": "white",
             "startlinecolor": "#2a3f5f"
            },
            "baxis": {
             "endlinecolor": "#2a3f5f",
             "gridcolor": "white",
             "linecolor": "white",
             "minorgridcolor": "white",
             "startlinecolor": "#2a3f5f"
            },
            "type": "carpet"
           }
          ],
          "choropleth": [
           {
            "colorbar": {
             "outlinewidth": 0,
             "ticks": ""
            },
            "type": "choropleth"
           }
          ],
          "contour": [
           {
            "colorbar": {
             "outlinewidth": 0,
             "ticks": ""
            },
            "colorscale": [
             [
              0,
              "#0d0887"
             ],
             [
              0.1111111111111111,
              "#46039f"
             ],
             [
              0.2222222222222222,
              "#7201a8"
             ],
             [
              0.3333333333333333,
              "#9c179e"
             ],
             [
              0.4444444444444444,
              "#bd3786"
             ],
             [
              0.5555555555555556,
              "#d8576b"
             ],
             [
              0.6666666666666666,
              "#ed7953"
             ],
             [
              0.7777777777777778,
              "#fb9f3a"
             ],
             [
              0.8888888888888888,
              "#fdca26"
             ],
             [
              1,
              "#f0f921"
             ]
            ],
            "type": "contour"
           }
          ],
          "contourcarpet": [
           {
            "colorbar": {
             "outlinewidth": 0,
             "ticks": ""
            },
            "type": "contourcarpet"
           }
          ],
          "heatmap": [
           {
            "colorbar": {
             "outlinewidth": 0,
             "ticks": ""
            },
            "colorscale": [
             [
              0,
              "#0d0887"
             ],
             [
              0.1111111111111111,
              "#46039f"
             ],
             [
              0.2222222222222222,
              "#7201a8"
             ],
             [
              0.3333333333333333,
              "#9c179e"
             ],
             [
              0.4444444444444444,
              "#bd3786"
             ],
             [
              0.5555555555555556,
              "#d8576b"
             ],
             [
              0.6666666666666666,
              "#ed7953"
             ],
             [
              0.7777777777777778,
              "#fb9f3a"
             ],
             [
              0.8888888888888888,
              "#fdca26"
             ],
             [
              1,
              "#f0f921"
             ]
            ],
            "type": "heatmap"
           }
          ],
          "heatmapgl": [
           {
            "colorbar": {
             "outlinewidth": 0,
             "ticks": ""
            },
            "colorscale": [
             [
              0,
              "#0d0887"
             ],
             [
              0.1111111111111111,
              "#46039f"
             ],
             [
              0.2222222222222222,
              "#7201a8"
             ],
             [
              0.3333333333333333,
              "#9c179e"
             ],
             [
              0.4444444444444444,
              "#bd3786"
             ],
             [
              0.5555555555555556,
              "#d8576b"
             ],
             [
              0.6666666666666666,
              "#ed7953"
             ],
             [
              0.7777777777777778,
              "#fb9f3a"
             ],
             [
              0.8888888888888888,
              "#fdca26"
             ],
             [
              1,
              "#f0f921"
             ]
            ],
            "type": "heatmapgl"
           }
          ],
          "histogram": [
           {
            "marker": {
             "colorbar": {
              "outlinewidth": 0,
              "ticks": ""
             }
            },
            "type": "histogram"
           }
          ],
          "histogram2d": [
           {
            "colorbar": {
             "outlinewidth": 0,
             "ticks": ""
            },
            "colorscale": [
             [
              0,
              "#0d0887"
             ],
             [
              0.1111111111111111,
              "#46039f"
             ],
             [
              0.2222222222222222,
              "#7201a8"
             ],
             [
              0.3333333333333333,
              "#9c179e"
             ],
             [
              0.4444444444444444,
              "#bd3786"
             ],
             [
              0.5555555555555556,
              "#d8576b"
             ],
             [
              0.6666666666666666,
              "#ed7953"
             ],
             [
              0.7777777777777778,
              "#fb9f3a"
             ],
             [
              0.8888888888888888,
              "#fdca26"
             ],
             [
              1,
              "#f0f921"
             ]
            ],
            "type": "histogram2d"
           }
          ],
          "histogram2dcontour": [
           {
            "colorbar": {
             "outlinewidth": 0,
             "ticks": ""
            },
            "colorscale": [
             [
              0,
              "#0d0887"
             ],
             [
              0.1111111111111111,
              "#46039f"
             ],
             [
              0.2222222222222222,
              "#7201a8"
             ],
             [
              0.3333333333333333,
              "#9c179e"
             ],
             [
              0.4444444444444444,
              "#bd3786"
             ],
             [
              0.5555555555555556,
              "#d8576b"
             ],
             [
              0.6666666666666666,
              "#ed7953"
             ],
             [
              0.7777777777777778,
              "#fb9f3a"
             ],
             [
              0.8888888888888888,
              "#fdca26"
             ],
             [
              1,
              "#f0f921"
             ]
            ],
            "type": "histogram2dcontour"
           }
          ],
          "mesh3d": [
           {
            "colorbar": {
             "outlinewidth": 0,
             "ticks": ""
            },
            "type": "mesh3d"
           }
          ],
          "parcoords": [
           {
            "line": {
             "colorbar": {
              "outlinewidth": 0,
              "ticks": ""
             }
            },
            "type": "parcoords"
           }
          ],
          "pie": [
           {
            "automargin": true,
            "type": "pie"
           }
          ],
          "scatter": [
           {
            "marker": {
             "colorbar": {
              "outlinewidth": 0,
              "ticks": ""
             }
            },
            "type": "scatter"
           }
          ],
          "scatter3d": [
           {
            "line": {
             "colorbar": {
              "outlinewidth": 0,
              "ticks": ""
             }
            },
            "marker": {
             "colorbar": {
              "outlinewidth": 0,
              "ticks": ""
             }
            },
            "type": "scatter3d"
           }
          ],
          "scattercarpet": [
           {
            "marker": {
             "colorbar": {
              "outlinewidth": 0,
              "ticks": ""
             }
            },
            "type": "scattercarpet"
           }
          ],
          "scattergeo": [
           {
            "marker": {
             "colorbar": {
              "outlinewidth": 0,
              "ticks": ""
             }
            },
            "type": "scattergeo"
           }
          ],
          "scattergl": [
           {
            "marker": {
             "colorbar": {
              "outlinewidth": 0,
              "ticks": ""
             }
            },
            "type": "scattergl"
           }
          ],
          "scattermapbox": [
           {
            "marker": {
             "colorbar": {
              "outlinewidth": 0,
              "ticks": ""
             }
            },
            "type": "scattermapbox"
           }
          ],
          "scatterpolar": [
           {
            "marker": {
             "colorbar": {
              "outlinewidth": 0,
              "ticks": ""
             }
            },
            "type": "scatterpolar"
           }
          ],
          "scatterpolargl": [
           {
            "marker": {
             "colorbar": {
              "outlinewidth": 0,
              "ticks": ""
             }
            },
            "type": "scatterpolargl"
           }
          ],
          "scatterternary": [
           {
            "marker": {
             "colorbar": {
              "outlinewidth": 0,
              "ticks": ""
             }
            },
            "type": "scatterternary"
           }
          ],
          "surface": [
           {
            "colorbar": {
             "outlinewidth": 0,
             "ticks": ""
            },
            "colorscale": [
             [
              0,
              "#0d0887"
             ],
             [
              0.1111111111111111,
              "#46039f"
             ],
             [
              0.2222222222222222,
              "#7201a8"
             ],
             [
              0.3333333333333333,
              "#9c179e"
             ],
             [
              0.4444444444444444,
              "#bd3786"
             ],
             [
              0.5555555555555556,
              "#d8576b"
             ],
             [
              0.6666666666666666,
              "#ed7953"
             ],
             [
              0.7777777777777778,
              "#fb9f3a"
             ],
             [
              0.8888888888888888,
              "#fdca26"
             ],
             [
              1,
              "#f0f921"
             ]
            ],
            "type": "surface"
           }
          ],
          "table": [
           {
            "cells": {
             "fill": {
              "color": "#EBF0F8"
             },
             "line": {
              "color": "white"
             }
            },
            "header": {
             "fill": {
              "color": "#C8D4E3"
             },
             "line": {
              "color": "white"
             }
            },
            "type": "table"
           }
          ]
         },
         "layout": {
          "annotationdefaults": {
           "arrowcolor": "#2a3f5f",
           "arrowhead": 0,
           "arrowwidth": 1
          },
          "autotypenumbers": "strict",
          "coloraxis": {
           "colorbar": {
            "outlinewidth": 0,
            "ticks": ""
           }
          },
          "colorscale": {
           "diverging": [
            [
             0,
             "#8e0152"
            ],
            [
             0.1,
             "#c51b7d"
            ],
            [
             0.2,
             "#de77ae"
            ],
            [
             0.3,
             "#f1b6da"
            ],
            [
             0.4,
             "#fde0ef"
            ],
            [
             0.5,
             "#f7f7f7"
            ],
            [
             0.6,
             "#e6f5d0"
            ],
            [
             0.7,
             "#b8e186"
            ],
            [
             0.8,
             "#7fbc41"
            ],
            [
             0.9,
             "#4d9221"
            ],
            [
             1,
             "#276419"
            ]
           ],
           "sequential": [
            [
             0,
             "#0d0887"
            ],
            [
             0.1111111111111111,
             "#46039f"
            ],
            [
             0.2222222222222222,
             "#7201a8"
            ],
            [
             0.3333333333333333,
             "#9c179e"
            ],
            [
             0.4444444444444444,
             "#bd3786"
            ],
            [
             0.5555555555555556,
             "#d8576b"
            ],
            [
             0.6666666666666666,
             "#ed7953"
            ],
            [
             0.7777777777777778,
             "#fb9f3a"
            ],
            [
             0.8888888888888888,
             "#fdca26"
            ],
            [
             1,
             "#f0f921"
            ]
           ],
           "sequentialminus": [
            [
             0,
             "#0d0887"
            ],
            [
             0.1111111111111111,
             "#46039f"
            ],
            [
             0.2222222222222222,
             "#7201a8"
            ],
            [
             0.3333333333333333,
             "#9c179e"
            ],
            [
             0.4444444444444444,
             "#bd3786"
            ],
            [
             0.5555555555555556,
             "#d8576b"
            ],
            [
             0.6666666666666666,
             "#ed7953"
            ],
            [
             0.7777777777777778,
             "#fb9f3a"
            ],
            [
             0.8888888888888888,
             "#fdca26"
            ],
            [
             1,
             "#f0f921"
            ]
           ]
          },
          "colorway": [
           "#636efa",
           "#EF553B",
           "#00cc96",
           "#ab63fa",
           "#FFA15A",
           "#19d3f3",
           "#FF6692",
           "#B6E880",
           "#FF97FF",
           "#FECB52"
          ],
          "font": {
           "color": "#2a3f5f"
          },
          "geo": {
           "bgcolor": "white",
           "lakecolor": "white",
           "landcolor": "#E5ECF6",
           "showlakes": true,
           "showland": true,
           "subunitcolor": "white"
          },
          "hoverlabel": {
           "align": "left"
          },
          "hovermode": "closest",
          "mapbox": {
           "style": "light"
          },
          "paper_bgcolor": "white",
          "plot_bgcolor": "#E5ECF6",
          "polar": {
           "angularaxis": {
            "gridcolor": "white",
            "linecolor": "white",
            "ticks": ""
           },
           "bgcolor": "#E5ECF6",
           "radialaxis": {
            "gridcolor": "white",
            "linecolor": "white",
            "ticks": ""
           }
          },
          "scene": {
           "xaxis": {
            "backgroundcolor": "#E5ECF6",
            "gridcolor": "white",
            "gridwidth": 2,
            "linecolor": "white",
            "showbackground": true,
            "ticks": "",
            "zerolinecolor": "white"
           },
           "yaxis": {
            "backgroundcolor": "#E5ECF6",
            "gridcolor": "white",
            "gridwidth": 2,
            "linecolor": "white",
            "showbackground": true,
            "ticks": "",
            "zerolinecolor": "white"
           },
           "zaxis": {
            "backgroundcolor": "#E5ECF6",
            "gridcolor": "white",
            "gridwidth": 2,
            "linecolor": "white",
            "showbackground": true,
            "ticks": "",
            "zerolinecolor": "white"
           }
          },
          "shapedefaults": {
           "line": {
            "color": "#2a3f5f"
           }
          },
          "ternary": {
           "aaxis": {
            "gridcolor": "white",
            "linecolor": "white",
            "ticks": ""
           },
           "baxis": {
            "gridcolor": "white",
            "linecolor": "white",
            "ticks": ""
           },
           "bgcolor": "#E5ECF6",
           "caxis": {
            "gridcolor": "white",
            "linecolor": "white",
            "ticks": ""
           }
          },
          "title": {
           "x": 0.05
          },
          "xaxis": {
           "automargin": true,
           "gridcolor": "white",
           "linecolor": "white",
           "ticks": "",
           "title": {
            "standoff": 15
           },
           "zerolinecolor": "white",
           "zerolinewidth": 2
          },
          "yaxis": {
           "automargin": true,
           "gridcolor": "white",
           "linecolor": "white",
           "ticks": "",
           "title": {
            "standoff": 15
           },
           "zerolinecolor": "white",
           "zerolinewidth": 2
          }
         }
        }
       }
      },
      "image/png": "[encoded data removed]",
      "text/html": [
       "<div>                            <div id=\"e5e4da44-4c02-4394-b865-233d0c7798fb\" class=\"plotly-graph-div\" style=\"height:525px; width:100%;\"></div>            <script type=\"text/javascript\">                require([\"plotly\"], function(Plotly) {                    window.PLOTLYENV=window.PLOTLYENV || {};                                    if (document.getElementById(\"e5e4da44-4c02-4394-b865-233d0c7798fb\")) {                    Plotly.newPlot(                        \"e5e4da44-4c02-4394-b865-233d0c7798fb\",                        [{\"marker\": {\"color\": [-1.0257848996009633, -0.6123717245257437, -1.0717196968315434, 1.959976920386734, 0.811606989622235, 0.6738025979304951, -1.0717196968315434, 0.16851982839411558, -0.336762941142264, 0.719737395161075, -0.10708895498936419, 0.811606989622235, -0.29082814391168404, -1.3473284802150232, 1.1331505702362947, -1.7148068580596627, -0.7042413189869037, 0.12258503116353561, -2.403828816518362, -0.7961109134480636, 0.3522590173164354, 0.811606989622235, 1.3628245563891945, -0.38269773837284393, 0.07665023393295566, 1.2709549619280347, -0.29082814391168404, -0.1989585494505241, -0.06115415775878423, -0.7042413189869037, -0.9798501023703834, -0.7961109134480636, -0.10708895498936419, -0.8879805079092236, -1.1635892912927033, -0.7501761162174836, 1.1331505702362947, 0.39819381454701536, 1.4546941508503544, 1.1790853674668746, -2.0822852359043025, 0.21445462562469553, 0.3522590173164354, -1.6229372635985029, 1.3628245563891945, -0.7042413189869037, -0.5664369272951638, 0.9034765840833949, 0.9953461785445549, 1.5924985425420943, 0.6278678006999152, 1.7303029342338343, -0.4286325356034239, -1.3013936829844432, -0.5205021300645838, -0.4745673328340039, -0.8879805079092236, -1.0717196968315434, 1.4087593536197744, 0.9494113813139748, 0.6278678006999152, 0.857541786852815, 0.44412861177759533, -0.24489334668110407, 0.03071543670237569, 0.39819381454701536, -1.439198074676183, 0.9953461785445549, 0.9034765840833949, -0.10708895498936419, -2.1741548303654623, -0.9339153051398035, -1.3473284802150232, -0.8420457106786435, 0.811606989622235, -1.9904156414431426, 0.39819381454701536, -0.8420457106786435, -0.6583065217563238, 0.9034765840833949, -0.9339153051398035, -0.015219360528204271, 2.005911717617314, 0.2603894228552755, -0.7961109134480636, -0.5664369272951638, -0.1989585494505241, -0.29082814391168404, -0.9339153051398035, -0.10708895498936419, 1.0872157730057148, 0.5359982062387553, 0.44412861177759533, 1.0872157730057148, 1.3168897591586146, 0.7656721923916551, 1.6843681370032542, -1.1635892912927033, -0.6123717245257437, 0.44412861177759533, 0.9494113813139748, -0.15302375221994416, -0.7961109134480636, -0.7501761162174836, -1.6688720608290828, 0.3522590173164354, 0.9953461785445549, -1.393263277445603, -0.24489334668110407, -0.4286325356034239, 1.4546941508503544, 0.5819330034693352, -0.15302375221994416, -0.9798501023703834, 1.4087593536197744, 1.5924985425420943, 0.719737395161075, 0.719737395161075, -1.1176544940621234, -0.4745673328340039, -0.4745673328340039, 0.811606989622235, 0.2603894228552755, 0.21445462562469553, -2.0363504386737223, -0.38269773837284393, 0.5819330034693352, 1.3168897591586146, 0.21445462562469553, 0.5359982062387553, 1.5465637453115144, -0.8420457106786435, 1.4546941508503544, -2.2200896275960424, -1.3473284802150232, 0.6278678006999152, 0.03071543670237569, 0.811606989622235, 1.1790853674668746, -0.6123717245257437, 0.9953461785445549, -0.8879805079092236, -0.4286325356034239, 0.07665023393295566, -1.2095240885232832, 0.2603894228552755, -1.0717196968315434, 0.9494113813139748, 0.30632422008585547, 0.2603894228552755, 0.811606989622235, -1.531067669137343, -1.0717196968315434, -0.9339153051398035, 1.1331505702362947, 1.7762377314644142, -0.10708895498936419, 0.4900634090081753, -0.4745673328340039, 0.719737395161075, 0.811606989622235, 1.3628245563891945, -2.403828816518362, -0.336762941142264, 0.9494113813139748, 0.3522590173164354], \"colorscale\": [[0.0, \"#440154\"], [0.1111111111111111, \"#482878\"], [0.2222222222222222, \"#3e4989\"], [0.3333333333333333, \"#31688e\"], [0.4444444444444444, \"#26828e\"], [0.5555555555555556, \"#1f9e89\"], [0.6666666666666666, \"#35b779\"], [0.7777777777777778, \"#6ece58\"], [0.8888888888888888, \"#b5de2b\"], [1.0, \"#fde725\"]], \"opacity\": 0.7, \"size\": 3}, \"mode\": \"markers\", \"type\": \"scatter3d\", \"x\": [0.22288368717719617, 0.1401125639749264, -0.9359120376545804, 1.298908288806703, 1.3402938504078379, 0.42981149518287054, -0.06681524403074797, -0.3565141752386921, -1.5980810232727385, -0.6875986680477711, 1.4230649736101075, 0.6367393031885449, -0.397899736839827, -1.060068722457985, 0.5125826183851403, -0.9772975992557152, -0.9359120376545804, 1.629992781615782, -1.8877799544806826, -0.8945264760534455, 0.7608959879919496, 1.2161371656044333, 1.671378343216917, -1.1428398456602546, -0.5220564216432316, 0.5539681799862752, 1.0919804808010285, 1.0919804808010285, 0.7195104263908146, -0.31512861363755723, -0.728984229648906, -0.23235749043528747, 0.1814981255760613, 0.8022815495930844, -1.1842254072613896, 0.6781248647896798, 1.8783061512225911, 1.0505949191998938, 1.7127639048180516, 0.5539681799862752, -1.1428398456602546, -0.397899736839827, 1.629992781615782, -0.8531409144523107, 1.2161371656044333, -0.025429682429613094, -0.43928529844096187, 2.002462836025996, 1.3816794120089728, 1.588607220014647, 0.4711970567840054, 0.7608959879919496, -0.6875986680477711, -1.8463943928795477, -0.728984229648906, -0.6875986680477711, 0.09872700237379153, -1.060068722457985, 0.5125826183851403, 2.002462836025996, 1.3402938504078379, 1.4230649736101075, 1.8783061512225911, 0.9678237959976239, 0.1814981255760613, 0.1814981255760613, -0.27374305203642235, 0.8022815495930844, -0.14958636723301771, 0.05734144077265666, -0.6875986680477711, -1.3083820920647942, -0.8117553528511757, -0.9359120376545804, 1.588607220014647, -0.9359120376545804, -0.27374305203642235, -0.397899736839827, -0.5220564216432316, -0.397899736839827, -0.5634419832443665, -0.5634419832443665, 1.8369205896214564, 0.015955879171521786, -1.1842254072613896, -1.5980810232727385, -0.1909719288341526, -0.48067086004209675, -0.8945264760534455, -0.6875986680477711, 1.1747516040032984, -0.6462131064466362, -1.3083820920647942, 0.5125826183851403, 0.6367393031885449, -0.6462131064466362, 1.1333660424021634, -0.48067086004209675, -0.8117553528511757, -0.14958636723301771, 1.1747516040032984, -0.7703697912500409, -0.728984229648906, -1.2669965304636595, -0.8531409144523107, 0.8850526727953542, 0.4711970567840054, -1.6394665848738732, -0.8117553528511757, 1.1747516040032984, 1.257522727205568, -0.31512861363755723, 0.6781248647896798, -1.5566954616716036, -0.06681524403074797, 1.298908288806703, 0.5953537415874101, -0.1909719288341526, -0.3565141752386921, -0.5220564216432316, 0.05734144077265666, 0.5953537415874101, -0.23235749043528747, -0.10820080563188285, -1.8877799544806826, -0.6048275448455014, -0.397899736839827, 1.3402938504078379, 1.2161371656044333, -1.060068722457985, 1.3402938504078379, 0.09872700237379153, -0.025429682429613094, -1.6808521464750081, -1.6808521464750081, 0.3470403719806008, -0.728984229648906, -0.06681524403074797, -0.025429682429613094, -1.6808521464750081, -0.06681524403074797, -0.5634419832443665, -0.6875986680477711, -0.10820080563188285, -1.349767653665929, -0.48067086004209675, -0.3565141752386921, 0.5539681799862752, -0.025429682429613094, -0.6048275448455014, 1.257522727205568, -1.5153099000704686, -0.8117553528511757, -1.3083820920647942, 1.7127639048180516, 2.250776205632805, 0.3056548103794659, -0.10820080563188285, -0.7703697912500409, 0.5953537415874101, -0.10820080563188285, 1.4230649736101075, -1.8050088312784127, -0.6875986680477711, -0.10820080563188285, 1.7955350280203215], \"y\": [0.6144459395542, 0.2864780104030837, 0.333330571710386, 2.3479907079243865, 0.8018561847834094, 0.5207408169395953, 0.09906776517387432, 0.42703569432499067, -0.27575272528454436, 1.457792043085642, 1.0829715526272234, 0.9892664300126187, 0.2864780104030837, -0.650573215742963, 1.598349727007549, -0.9785411448940794, -0.8379834609721724, 1.6920548496221537, -1.212803951430591, -0.36945784789914904, 1.036118991319921, 0.473888255632293, 1.7857599722367583, -1.7281821258109167, -0.3226052865918467, 1.0829715526272234, 0.2864780104030837, 1.5514971657002468, 0.473888255632293, 0.05221520386657199, -0.650573215742963, 0.7081510621688046, 0.6612985008615023, -0.3226052865918467, -0.9785411448940794, 0.38018313301768836, 1.036118991319921, 0.9892664300126187, 2.3479907079243865, 0.23962544909578132, -1.0722462675086841, 0.23962544909578132, 0.755003623476107, -1.0253937062013818, 1.598349727007549, -0.41631040920645135, -0.22890016397724203, 2.1605804626951772, 0.895561307398014, 2.02002277877327, 0.005362642559269652, 1.317234359163735, -0.6974257770502653, -1.5407718805817074, -0.3226052865918467, -0.3226052865918467, 0.14592032648117664, -1.353361635352498, 0.9892664300126187, 1.6452022883148514, -0.41631040920645135, 0.5207408169395953, 1.5514971657002468, 1.4109394817783396, -0.5568680931283584, -0.041489918748032685, -1.353361635352498, 1.317234359163735, 0.755003623476107, 0.2864780104030837, -1.212803951430591, -0.3226052865918467, -0.7442783383575677, -0.9316885835867771, 1.7857599722367583, -0.79113089966487, 0.23962544909578132, -0.79113089966487, -0.8848360222794747, -0.27575272528454436, -0.41631040920645135, -0.650573215742963, 1.2703817978564327, -0.1820476026699397, -0.5568680931283584, -1.353361635352498, -0.4631629705137537, -0.9316885835867771, -1.0253937062013818, -0.8848360222794747, 1.036118991319921, -0.041489918748032685, -0.08834248005533502, 0.05221520386657199, 0.6144459395542, -0.7442783383575677, 1.457792043085642, -0.4631629705137537, -1.212803951430591, -0.4631629705137537, 0.5207408169395953, -1.4002141966598003, -1.1659513901232887, -0.3226052865918467, -1.3065090740451957, -0.9785411448940794, 1.317234359163735, -1.1190988288159864, -1.1659513901232887, 0.23962544909578132, 1.598349727007549, 0.9424138687053163, 0.005362642559269652, -1.5876244418890098, -0.22890016397724203, 1.317234359163735, 0.6144459395542, 0.333330571710386, -0.9785411448940794, -0.08834248005533502, -0.27575272528454436, 0.5207408169395953, 0.755003623476107, -1.0253937062013818, -1.4002141966598003, -1.0253937062013818, -0.041489918748032685, 1.457792043085642, 0.38018313301768836, -0.8848360222794747, 0.19277288778847898, 0.09906776517387432, 0.6612985008615023, -1.8218872484255213, -1.1190988288159864, 1.036118991319921, -0.9316885835867771, -0.7442783383575677, 0.19277288778847898, -0.8379834609721724, 0.38018313301768836, -0.36945784789914904, -0.13519504136263735, -1.0253937062013818, -1.4470667579671028, -1.4470667579671028, -1.4470667579671028, 0.19277288778847898, -0.08834248005533502, -1.2596565127378934, 0.5675933782468977, -1.0253937062013818, -0.9316885835867771, -1.4939193192744051, 0.9892664300126187, 1.5514971657002468, -0.27575272528454436, 0.09906776517387432, -1.3065090740451957, 0.895561307398014, 0.005362642559269652, 1.7857599722367583, -1.9155923710401261, -1.212803951430591, -0.8379834609721724, 1.4109394817783396], \"z\": [-1.0257848996009633, -0.6123717245257437, -1.0717196968315434, 1.959976920386734, 0.811606989622235, 0.6738025979304951, -1.0717196968315434, 0.16851982839411558, -0.336762941142264, 0.719737395161075, -0.10708895498936419, 0.811606989622235, -0.29082814391168404, -1.3473284802150232, 1.1331505702362947, -1.7148068580596627, -0.7042413189869037, 0.12258503116353561, -2.403828816518362, -0.7961109134480636, 0.3522590173164354, 0.811606989622235, 1.3628245563891945, -0.38269773837284393, 0.07665023393295566, 1.2709549619280347, -0.29082814391168404, -0.1989585494505241, -0.06115415775878423, -0.7042413189869037, -0.9798501023703834, -0.7961109134480636, -0.10708895498936419, -0.8879805079092236, -1.1635892912927033, -0.7501761162174836, 1.1331505702362947, 0.39819381454701536, 1.4546941508503544, 1.1790853674668746, -2.0822852359043025, 0.21445462562469553, 0.3522590173164354, -1.6229372635985029, 1.3628245563891945, -0.7042413189869037, -0.5664369272951638, 0.9034765840833949, 0.9953461785445549, 1.5924985425420943, 0.6278678006999152, 1.7303029342338343, -0.4286325356034239, -1.3013936829844432, -0.5205021300645838, -0.4745673328340039, -0.8879805079092236, -1.0717196968315434, 1.4087593536197744, 0.9494113813139748, 0.6278678006999152, 0.857541786852815, 0.44412861177759533, -0.24489334668110407, 0.03071543670237569, 0.39819381454701536, -1.439198074676183, 0.9953461785445549, 0.9034765840833949, -0.10708895498936419, -2.1741548303654623, -0.9339153051398035, -1.3473284802150232, -0.8420457106786435, 0.811606989622235, -1.9904156414431426, 0.39819381454701536, -0.8420457106786435, -0.6583065217563238, 0.9034765840833949, -0.9339153051398035, -0.015219360528204271, 2.005911717617314, 0.2603894228552755, -0.7961109134480636, -0.5664369272951638, -0.1989585494505241, -0.29082814391168404, -0.9339153051398035, -0.10708895498936419, 1.0872157730057148, 0.5359982062387553, 0.44412861177759533, 1.0872157730057148, 1.3168897591586146, 0.7656721923916551, 1.6843681370032542, -1.1635892912927033, -0.6123717245257437, 0.44412861177759533, 0.9494113813139748, -0.15302375221994416, -0.7961109134480636, -0.7501761162174836, -1.6688720608290828, 0.3522590173164354, 0.9953461785445549, -1.393263277445603, -0.24489334668110407, -0.4286325356034239, 1.4546941508503544, 0.5819330034693352, -0.15302375221994416, -0.9798501023703834, 1.4087593536197744, 1.5924985425420943, 0.719737395161075, 0.719737395161075, -1.1176544940621234, -0.4745673328340039, -0.4745673328340039, 0.811606989622235, 0.2603894228552755, 0.21445462562469553, -2.0363504386737223, -0.38269773837284393, 0.5819330034693352, 1.3168897591586146, 0.21445462562469553, 0.5359982062387553, 1.5465637453115144, -0.8420457106786435, 1.4546941508503544, -2.2200896275960424, -1.3473284802150232, 0.6278678006999152, 0.03071543670237569, 0.811606989622235, 1.1790853674668746, -0.6123717245257437, 0.9953461785445549, -0.8879805079092236, -0.4286325356034239, 0.07665023393295566, -1.2095240885232832, 0.2603894228552755, -1.0717196968315434, 0.9494113813139748, 0.30632422008585547, 0.2603894228552755, 0.811606989622235, -1.531067669137343, -1.0717196968315434, -0.9339153051398035, 1.1331505702362947, 1.7762377314644142, -0.10708895498936419, 0.4900634090081753, -0.4745673328340039, 0.719737395161075, 0.811606989622235, 1.3628245563891945, -2.403828816518362, -0.336762941142264, 0.9494113813139748, 0.3522590173164354]}, {\"marker\": {\"color\": \"red\", \"size\": 5}, \"mode\": \"markers\", \"type\": \"scatter3d\", \"x\": [0], \"y\": [0], \"z\": [0]}],                        {\"template\": {\"data\": {\"bar\": [{\"error_x\": {\"color\": \"#2a3f5f\"}, \"error_y\": {\"color\": \"#2a3f5f\"}, \"marker\": {\"line\": {\"color\": \"#E5ECF6\", \"width\": 0.5}}, \"type\": \"bar\"}], \"barpolar\": [{\"marker\": {\"line\": {\"color\": \"#E5ECF6\", \"width\": 0.5}}, \"type\": \"barpolar\"}], \"carpet\": [{\"aaxis\": {\"endlinecolor\": \"#2a3f5f\", \"gridcolor\": \"white\", \"linecolor\": \"white\", \"minorgridcolor\": \"white\", \"startlinecolor\": \"#2a3f5f\"}, \"baxis\": {\"endlinecolor\": \"#2a3f5f\", \"gridcolor\": \"white\", \"linecolor\": \"white\", \"minorgridcolor\": \"white\", \"startlinecolor\": \"#2a3f5f\"}, \"type\": \"carpet\"}], \"choropleth\": [{\"colorbar\": {\"outlinewidth\": 0, \"ticks\": \"\"}, \"type\": \"choropleth\"}], \"contour\": [{\"colorbar\": {\"outlinewidth\": 0, \"ticks\": \"\"}, \"colorscale\": [[0.0, \"#0d0887\"], [0.1111111111111111, \"#46039f\"], [0.2222222222222222, \"#7201a8\"], [0.3333333333333333, \"#9c179e\"], [0.4444444444444444, \"#bd3786\"], [0.5555555555555556, \"#d8576b\"], [0.6666666666666666, \"#ed7953\"], [0.7777777777777778, \"#fb9f3a\"], [0.8888888888888888, \"#fdca26\"], [1.0, \"#f0f921\"]], \"type\": \"contour\"}], \"contourcarpet\": [{\"colorbar\": {\"outlinewidth\": 0, \"ticks\": \"\"}, \"type\": \"contourcarpet\"}], \"heatmap\": [{\"colorbar\": {\"outlinewidth\": 0, \"ticks\": \"\"}, \"colorscale\": [[0.0, \"#0d0887\"], [0.1111111111111111, \"#46039f\"], [0.2222222222222222, \"#7201a8\"], [0.3333333333333333, \"#9c179e\"], [0.4444444444444444, \"#bd3786\"], [0.5555555555555556, \"#d8576b\"], [0.6666666666666666, \"#ed7953\"], [0.7777777777777778, \"#fb9f3a\"], [0.8888888888888888, \"#fdca26\"], [1.0, \"#f0f921\"]], \"type\": \"heatmap\"}], \"heatmapgl\": [{\"colorbar\": {\"outlinewidth\": 0, \"ticks\": \"\"}, \"colorscale\": [[0.0, \"#0d0887\"], [0.1111111111111111, \"#46039f\"], [0.2222222222222222, \"#7201a8\"], [0.3333333333333333, \"#9c179e\"], [0.4444444444444444, \"#bd3786\"], [0.5555555555555556, \"#d8576b\"], [0.6666666666666666, \"#ed7953\"], [0.7777777777777778, \"#fb9f3a\"], [0.8888888888888888, \"#fdca26\"], [1.0, \"#f0f921\"]], \"type\": \"heatmapgl\"}], \"histogram\": [{\"marker\": {\"colorbar\": {\"outlinewidth\": 0, \"ticks\": \"\"}}, \"type\": \"histogram\"}], \"histogram2d\": [{\"colorbar\": {\"outlinewidth\": 0, \"ticks\": \"\"}, \"colorscale\": [[0.0, \"#0d0887\"], [0.1111111111111111, \"#46039f\"], [0.2222222222222222, \"#7201a8\"], [0.3333333333333333, \"#9c179e\"], [0.4444444444444444, \"#bd3786\"], [0.5555555555555556, \"#d8576b\"], [0.6666666666666666, \"#ed7953\"], [0.7777777777777778, \"#fb9f3a\"], [0.8888888888888888, \"#fdca26\"], [1.0, \"#f0f921\"]], \"type\": \"histogram2d\"}], \"histogram2dcontour\": [{\"colorbar\": {\"outlinewidth\": 0, \"ticks\": \"\"}, \"colorscale\": [[0.0, \"#0d0887\"], [0.1111111111111111, \"#46039f\"], [0.2222222222222222, \"#7201a8\"], [0.3333333333333333, \"#9c179e\"], [0.4444444444444444, \"#bd3786\"], [0.5555555555555556, \"#d8576b\"], [0.6666666666666666, \"#ed7953\"], [0.7777777777777778, \"#fb9f3a\"], [0.8888888888888888, \"#fdca26\"], [1.0, \"#f0f921\"]], \"type\": \"histogram2dcontour\"}], \"mesh3d\": [{\"colorbar\": {\"outlinewidth\": 0, \"ticks\": \"\"}, \"type\": \"mesh3d\"}], \"parcoords\": [{\"line\": {\"colorbar\": {\"outlinewidth\": 0, \"ticks\": \"\"}}, \"type\": \"parcoords\"}], \"pie\": [{\"automargin\": true, \"type\": \"pie\"}], \"scatter\": [{\"marker\": {\"colorbar\": {\"outlinewidth\": 0, \"ticks\": \"\"}}, \"type\": \"scatter\"}], \"scatter3d\": [{\"line\": {\"colorbar\": {\"outlinewidth\": 0, \"ticks\": \"\"}}, \"marker\": {\"colorbar\": {\"outlinewidth\": 0, \"ticks\": \"\"}}, \"type\": \"scatter3d\"}], \"scattercarpet\": [{\"marker\": {\"colorbar\": {\"outlinewidth\": 0, \"ticks\": \"\"}}, \"type\": \"scattercarpet\"}], \"scattergeo\": [{\"marker\": {\"colorbar\": {\"outlinewidth\": 0, \"ticks\": \"\"}}, \"type\": \"scattergeo\"}], \"scattergl\": [{\"marker\": {\"colorbar\": {\"outlinewidth\": 0, \"ticks\": \"\"}}, \"type\": \"scattergl\"}], \"scattermapbox\": [{\"marker\": {\"colorbar\": {\"outlinewidth\": 0, \"ticks\": \"\"}}, \"type\": \"scattermapbox\"}], \"scatterpolar\": [{\"marker\": {\"colorbar\": {\"outlinewidth\": 0, \"ticks\": \"\"}}, \"type\": \"scatterpolar\"}], \"scatterpolargl\": [{\"marker\": {\"colorbar\": {\"outlinewidth\": 0, \"ticks\": \"\"}}, \"type\": \"scatterpolargl\"}], \"scatterternary\": [{\"marker\": {\"colorbar\": {\"outlinewidth\": 0, \"ticks\": \"\"}}, \"type\": \"scatterternary\"}], \"surface\": [{\"colorbar\": {\"outlinewidth\": 0, \"ticks\": \"\"}, \"colorscale\": [[0.0, \"#0d0887\"], [0.1111111111111111, \"#46039f\"], [0.2222222222222222, \"#7201a8\"], [0.3333333333333333, \"#9c179e\"], [0.4444444444444444, \"#bd3786\"], [0.5555555555555556, \"#d8576b\"], [0.6666666666666666, \"#ed7953\"], [0.7777777777777778, \"#fb9f3a\"], [0.8888888888888888, \"#fdca26\"], [1.0, \"#f0f921\"]], \"type\": \"surface\"}], \"table\": [{\"cells\": {\"fill\": {\"color\": \"#EBF0F8\"}, \"line\": {\"color\": \"white\"}}, \"header\": {\"fill\": {\"color\": \"#C8D4E3\"}, \"line\": {\"color\": \"white\"}}, \"type\": \"table\"}]}, \"layout\": {\"annotationdefaults\": {\"arrowcolor\": \"#2a3f5f\", \"arrowhead\": 0, \"arrowwidth\": 1}, \"autotypenumbers\": \"strict\", \"coloraxis\": {\"colorbar\": {\"outlinewidth\": 0, \"ticks\": \"\"}}, \"colorscale\": {\"diverging\": [[0, \"#8e0152\"], [0.1, \"#c51b7d\"], [0.2, \"#de77ae\"], [0.3, \"#f1b6da\"], [0.4, \"#fde0ef\"], [0.5, \"#f7f7f7\"], [0.6, \"#e6f5d0\"], [0.7, \"#b8e186\"], [0.8, \"#7fbc41\"], [0.9, \"#4d9221\"], [1, \"#276419\"]], \"sequential\": [[0.0, \"#0d0887\"], [0.1111111111111111, \"#46039f\"], [0.2222222222222222, \"#7201a8\"], [0.3333333333333333, \"#9c179e\"], [0.4444444444444444, \"#bd3786\"], [0.5555555555555556, \"#d8576b\"], [0.6666666666666666, \"#ed7953\"], [0.7777777777777778, \"#fb9f3a\"], [0.8888888888888888, \"#fdca26\"], [1.0, \"#f0f921\"]], \"sequentialminus\": [[0.0, \"#0d0887\"], [0.1111111111111111, \"#46039f\"], [0.2222222222222222, \"#7201a8\"], [0.3333333333333333, \"#9c179e\"], [0.4444444444444444, \"#bd3786\"], [0.5555555555555556, \"#d8576b\"], [0.6666666666666666, \"#ed7953\"], [0.7777777777777778, \"#fb9f3a\"], [0.8888888888888888, \"#fdca26\"], [1.0, \"#f0f921\"]]}, \"colorway\": [\"#636efa\", \"#EF553B\", \"#00cc96\", \"#ab63fa\", \"#FFA15A\", \"#19d3f3\", \"#FF6692\", \"#B6E880\", \"#FF97FF\", \"#FECB52\"], \"font\": {\"color\": \"#2a3f5f\"}, \"geo\": {\"bgcolor\": \"white\", \"lakecolor\": \"white\", \"landcolor\": \"#E5ECF6\", \"showlakes\": true, \"showland\": true, \"subunitcolor\": \"white\"}, \"hoverlabel\": {\"align\": \"left\"}, \"hovermode\": \"closest\", \"mapbox\": {\"style\": \"light\"}, \"paper_bgcolor\": \"white\", \"plot_bgcolor\": \"#E5ECF6\", \"polar\": {\"angularaxis\": {\"gridcolor\": \"white\", \"linecolor\": \"white\", \"ticks\": \"\"}, \"bgcolor\": \"#E5ECF6\", \"radialaxis\": {\"gridcolor\": \"white\", \"linecolor\": \"white\", \"ticks\": \"\"}}, \"scene\": {\"xaxis\": {\"backgroundcolor\": \"#E5ECF6\", \"gridcolor\": \"white\", \"gridwidth\": 2, \"linecolor\": \"white\", \"showbackground\": true, \"ticks\": \"\", \"zerolinecolor\": \"white\"}, \"yaxis\": {\"backgroundcolor\": \"#E5ECF6\", \"gridcolor\": \"white\", \"gridwidth\": 2, \"linecolor\": \"white\", \"showbackground\": true, \"ticks\": \"\", \"zerolinecolor\": \"white\"}, \"zaxis\": {\"backgroundcolor\": \"#E5ECF6\", \"gridcolor\": \"white\", \"gridwidth\": 2, \"linecolor\": \"white\", \"showbackground\": true, \"ticks\": \"\", \"zerolinecolor\": \"white\"}}, \"shapedefaults\": {\"line\": {\"color\": \"#2a3f5f\"}}, \"ternary\": {\"aaxis\": {\"gridcolor\": \"white\", \"linecolor\": \"white\", \"ticks\": \"\"}, \"baxis\": {\"gridcolor\": \"white\", \"linecolor\": \"white\", \"ticks\": \"\"}, \"bgcolor\": \"#E5ECF6\", \"caxis\": {\"gridcolor\": \"white\", \"linecolor\": \"white\", \"ticks\": \"\"}}, \"title\": {\"x\": 0.05}, \"xaxis\": {\"automargin\": true, \"gridcolor\": \"white\", \"linecolor\": \"white\", \"ticks\": \"\", \"title\": {\"standoff\": 15}, \"zerolinecolor\": \"white\", \"zerolinewidth\": 2}, \"yaxis\": {\"automargin\": true, \"gridcolor\": \"white\", \"linecolor\": \"white\", \"ticks\": \"\", \"title\": {\"standoff\": 15}, \"zerolinecolor\": \"white\", \"zerolinewidth\": 2}}}},                        {\"responsive\": true}                    ).then(function(){\n",
       "                            \n",
       "var gd = document.getElementById('e5e4da44-4c02-4394-b865-233d0c7798fb');\n",
       "var x = new MutationObserver(function (mutations, observer) {{\n",
       "        var display = window.getComputedStyle(gd).display;\n",
       "        if (!display || display === 'none') {{\n",
       "            console.log([gd, 'removed!']);\n",
       "            Plotly.purge(gd);\n",
       "            observer.disconnect();\n",
       "        }}\n",
       "}});\n",
       "\n",
       "// Listen for the removal of the full notebook cells\n",
       "var notebookContainer = gd.closest('#notebook-container');\n",
       "if (notebookContainer) {{\n",
       "    x.observe(notebookContainer, {childList: true});\n",
       "}}\n",
       "\n",
       "// Listen for the clearing of the current output cell\n",
       "var outputEl = gd.closest('.output');\n",
       "if (outputEl) {{\n",
       "    x.observe(outputEl, {childList: true});\n",
       "}}\n",
       "\n",
       "                        })                };                });            </script>        </div>"
      ]
     },
     "metadata": {},
     "output_type": "display_data"
    }
   ],
   "source": [
    "normalized = (d - np.mean(d, axis=0)) / np.std(d, axis=0)\n",
    "x,y,z=normalized[\"math\"],normalized[\"science\"],normalized[\"literature\"]\n",
    "fig = go.Figure(\n",
    "    data=[\n",
    "        go.Scatter3d(\n",
    "        x=x, y=y, z=z,\n",
    "        mode='markers',\n",
    "        marker=dict(\n",
    "            size=3,\n",
    "            color=z,\n",
    "            colorscale='Viridis',  \n",
    "            opacity=0.7\n",
    "            )\n",
    "        )\n",
    "    ]\n",
    ")\n",
    "fig.add_trace(go.Scatter3d(x=[0],y=[0],z=[0],mode='markers',marker=dict(size=5,color=\"red\")))\n",
    "fig.show()"
   ]
  },
  {
   "cell_type": "code",
   "execution_count": 65,
   "id": "a176d70f",
   "metadata": {},
   "outputs": [
    {
     "name": "stdout",
     "output_type": "stream",
     "text": [
      "Z's shape is (3, 3)\n",
      "Is Z symmetric?: True\n"
     ]
    }
   ],
   "source": [
    "Z = np.dot(normalized.T,normalized)\n",
    "print(f\"Z's shape is {Z.shape}\")\n",
    "print(f\"Is Z symmetric?: {np.all(Z==Z.T)}\")\n",
    "eigen_val,eigen_vec = np.linalg.eig(Z)"
   ]
  },
  {
   "cell_type": "code",
   "execution_count": 197,
   "id": "01162501",
   "metadata": {},
   "outputs": [
    {
     "data": {
      "application/vnd.plotly.v1+json": {
       "config": {
        "plotlyServerURL": "https://plot.ly"
       },
       "data": [
        {
         "marker": {
          "color": [
           -1.0257848996009633,
           -0.6123717245257437,
           -1.0717196968315434,
           1.959976920386734,
           0.811606989622235,
           0.6738025979304951,
           -1.0717196968315434,
           0.16851982839411558,
           -0.336762941142264,
           0.719737395161075,
           -0.10708895498936419,
           0.811606989622235,
           -0.29082814391168404,
           -1.3473284802150232,
           1.1331505702362947,
           -1.7148068580596627,
           -0.7042413189869037,
           0.12258503116353561,
           -2.403828816518362,
           -0.7961109134480636,
           0.3522590173164354,
           0.811606989622235,
           1.3628245563891945,
           -0.38269773837284393,
           0.07665023393295566,
           1.2709549619280347,
           -0.29082814391168404,
           -0.1989585494505241,
           -0.06115415775878423,
           -0.7042413189869037,
           -0.9798501023703834,
           -0.7961109134480636,
           -0.10708895498936419,
           -0.8879805079092236,
           -1.1635892912927033,
           -0.7501761162174836,
           1.1331505702362947,
           0.39819381454701536,
           1.4546941508503544,
           1.1790853674668746,
           -2.0822852359043025,
           0.21445462562469553,
           0.3522590173164354,
           -1.6229372635985029,
           1.3628245563891945,
           -0.7042413189869037,
           -0.5664369272951638,
           0.9034765840833949,
           0.9953461785445549,
           1.5924985425420943,
           0.6278678006999152,
           1.7303029342338343,
           -0.4286325356034239,
           -1.3013936829844432,
           -0.5205021300645838,
           -0.4745673328340039,
           -0.8879805079092236,
           -1.0717196968315434,
           1.4087593536197744,
           0.9494113813139748,
           0.6278678006999152,
           0.857541786852815,
           0.44412861177759533,
           -0.24489334668110407,
           0.03071543670237569,
           0.39819381454701536,
           -1.439198074676183,
           0.9953461785445549,
           0.9034765840833949,
           -0.10708895498936419,
           -2.1741548303654623,
           -0.9339153051398035,
           -1.3473284802150232,
           -0.8420457106786435,
           0.811606989622235,
           -1.9904156414431426,
           0.39819381454701536,
           -0.8420457106786435,
           -0.6583065217563238,
           0.9034765840833949,
           -0.9339153051398035,
           -0.015219360528204271,
           2.005911717617314,
           0.2603894228552755,
           -0.7961109134480636,
           -0.5664369272951638,
           -0.1989585494505241,
           -0.29082814391168404,
           -0.9339153051398035,
           -0.10708895498936419,
           1.0872157730057148,
           0.5359982062387553,
           0.44412861177759533,
           1.0872157730057148,
           1.3168897591586146,
           0.7656721923916551,
           1.6843681370032542,
           -1.1635892912927033,
           -0.6123717245257437,
           0.44412861177759533,
           0.9494113813139748,
           -0.15302375221994416,
           -0.7961109134480636,
           -0.7501761162174836,
           -1.6688720608290828,
           0.3522590173164354,
           0.9953461785445549,
           -1.393263277445603,
           -0.24489334668110407,
           -0.4286325356034239,
           1.4546941508503544,
           0.5819330034693352,
           -0.15302375221994416,
           -0.9798501023703834,
           1.4087593536197744,
           1.5924985425420943,
           0.719737395161075,
           0.719737395161075,
           -1.1176544940621234,
           -0.4745673328340039,
           -0.4745673328340039,
           0.811606989622235,
           0.2603894228552755,
           0.21445462562469553,
           -2.0363504386737223,
           -0.38269773837284393,
           0.5819330034693352,
           1.3168897591586146,
           0.21445462562469553,
           0.5359982062387553,
           1.5465637453115144,
           -0.8420457106786435,
           1.4546941508503544,
           -2.2200896275960424,
           -1.3473284802150232,
           0.6278678006999152,
           0.03071543670237569,
           0.811606989622235,
           1.1790853674668746,
           -0.6123717245257437,
           0.9953461785445549,
           -0.8879805079092236,
           -0.4286325356034239,
           0.07665023393295566,
           -1.2095240885232832,
           0.2603894228552755,
           -1.0717196968315434,
           0.9494113813139748,
           0.30632422008585547,
           0.2603894228552755,
           0.811606989622235,
           -1.531067669137343,
           -1.0717196968315434,
           -0.9339153051398035,
           1.1331505702362947,
           1.7762377314644142,
           -0.10708895498936419,
           0.4900634090081753,
           -0.4745673328340039,
           0.719737395161075,
           0.811606989622235,
           1.3628245563891945,
           -2.403828816518362,
           -0.336762941142264,
           0.9494113813139748,
           0.3522590173164354
          ],
          "colorscale": [
           [
            0,
            "rgb(0, 0, 0)"
           ],
           [
            0.09090909090909091,
            "rgb(16, 16, 16)"
           ],
           [
            0.18181818181818182,
            "rgb(38, 38, 38)"
           ],
           [
            0.2727272727272727,
            "rgb(59, 59, 59)"
           ],
           [
            0.36363636363636365,
            "rgb(81, 80, 80)"
           ],
           [
            0.45454545454545453,
            "rgb(102, 101, 101)"
           ],
           [
            0.5454545454545454,
            "rgb(124, 123, 122)"
           ],
           [
            0.6363636363636364,
            "rgb(146, 146, 145)"
           ],
           [
            0.7272727272727273,
            "rgb(171, 171, 170)"
           ],
           [
            0.8181818181818182,
            "rgb(197, 197, 195)"
           ],
           [
            0.9090909090909091,
            "rgb(224, 224, 223)"
           ],
           [
            1,
            "rgb(254, 254, 253)"
           ]
          ],
          "opacity": 0.7,
          "size": 3
         },
         "mode": "markers",
         "name": "data",
         "type": "scatter3d",
         "x": [
          0.22288368717719617,
          0.1401125639749264,
          -0.9359120376545804,
          1.298908288806703,
          1.3402938504078379,
          0.42981149518287054,
          -0.06681524403074797,
          -0.3565141752386921,
          -1.5980810232727385,
          -0.6875986680477711,
          1.4230649736101075,
          0.6367393031885449,
          -0.397899736839827,
          -1.060068722457985,
          0.5125826183851403,
          -0.9772975992557152,
          -0.9359120376545804,
          1.629992781615782,
          -1.8877799544806826,
          -0.8945264760534455,
          0.7608959879919496,
          1.2161371656044333,
          1.671378343216917,
          -1.1428398456602546,
          -0.5220564216432316,
          0.5539681799862752,
          1.0919804808010285,
          1.0919804808010285,
          0.7195104263908146,
          -0.31512861363755723,
          -0.728984229648906,
          -0.23235749043528747,
          0.1814981255760613,
          0.8022815495930844,
          -1.1842254072613896,
          0.6781248647896798,
          1.8783061512225911,
          1.0505949191998938,
          1.7127639048180516,
          0.5539681799862752,
          -1.1428398456602546,
          -0.397899736839827,
          1.629992781615782,
          -0.8531409144523107,
          1.2161371656044333,
          -0.025429682429613094,
          -0.43928529844096187,
          2.002462836025996,
          1.3816794120089728,
          1.588607220014647,
          0.4711970567840054,
          0.7608959879919496,
          -0.6875986680477711,
          -1.8463943928795477,
          -0.728984229648906,
          -0.6875986680477711,
          0.09872700237379153,
          -1.060068722457985,
          0.5125826183851403,
          2.002462836025996,
          1.3402938504078379,
          1.4230649736101075,
          1.8783061512225911,
          0.9678237959976239,
          0.1814981255760613,
          0.1814981255760613,
          -0.27374305203642235,
          0.8022815495930844,
          -0.14958636723301771,
          0.05734144077265666,
          -0.6875986680477711,
          -1.3083820920647942,
          -0.8117553528511757,
          -0.9359120376545804,
          1.588607220014647,
          -0.9359120376545804,
          -0.27374305203642235,
          -0.397899736839827,
          -0.5220564216432316,
          -0.397899736839827,
          -0.5634419832443665,
          -0.5634419832443665,
          1.8369205896214564,
          0.015955879171521786,
          -1.1842254072613896,
          -1.5980810232727385,
          -0.1909719288341526,
          -0.48067086004209675,
          -0.8945264760534455,
          -0.6875986680477711,
          1.1747516040032984,
          -0.6462131064466362,
          -1.3083820920647942,
          0.5125826183851403,
          0.6367393031885449,
          -0.6462131064466362,
          1.1333660424021634,
          -0.48067086004209675,
          -0.8117553528511757,
          -0.14958636723301771,
          1.1747516040032984,
          -0.7703697912500409,
          -0.728984229648906,
          -1.2669965304636595,
          -0.8531409144523107,
          0.8850526727953542,
          0.4711970567840054,
          -1.6394665848738732,
          -0.8117553528511757,
          1.1747516040032984,
          1.257522727205568,
          -0.31512861363755723,
          0.6781248647896798,
          -1.5566954616716036,
          -0.06681524403074797,
          1.298908288806703,
          0.5953537415874101,
          -0.1909719288341526,
          -0.3565141752386921,
          -0.5220564216432316,
          0.05734144077265666,
          0.5953537415874101,
          -0.23235749043528747,
          -0.10820080563188285,
          -1.8877799544806826,
          -0.6048275448455014,
          -0.397899736839827,
          1.3402938504078379,
          1.2161371656044333,
          -1.060068722457985,
          1.3402938504078379,
          0.09872700237379153,
          -0.025429682429613094,
          -1.6808521464750081,
          -1.6808521464750081,
          0.3470403719806008,
          -0.728984229648906,
          -0.06681524403074797,
          -0.025429682429613094,
          -1.6808521464750081,
          -0.06681524403074797,
          -0.5634419832443665,
          -0.6875986680477711,
          -0.10820080563188285,
          -1.349767653665929,
          -0.48067086004209675,
          -0.3565141752386921,
          0.5539681799862752,
          -0.025429682429613094,
          -0.6048275448455014,
          1.257522727205568,
          -1.5153099000704686,
          -0.8117553528511757,
          -1.3083820920647942,
          1.7127639048180516,
          2.250776205632805,
          0.3056548103794659,
          -0.10820080563188285,
          -0.7703697912500409,
          0.5953537415874101,
          -0.10820080563188285,
          1.4230649736101075,
          -1.8050088312784127,
          -0.6875986680477711,
          -0.10820080563188285,
          1.7955350280203215
         ],
         "y": [
          0.6144459395542,
          0.2864780104030837,
          0.333330571710386,
          2.3479907079243865,
          0.8018561847834094,
          0.5207408169395953,
          0.09906776517387432,
          0.42703569432499067,
          -0.27575272528454436,
          1.457792043085642,
          1.0829715526272234,
          0.9892664300126187,
          0.2864780104030837,
          -0.650573215742963,
          1.598349727007549,
          -0.9785411448940794,
          -0.8379834609721724,
          1.6920548496221537,
          -1.212803951430591,
          -0.36945784789914904,
          1.036118991319921,
          0.473888255632293,
          1.7857599722367583,
          -1.7281821258109167,
          -0.3226052865918467,
          1.0829715526272234,
          0.2864780104030837,
          1.5514971657002468,
          0.473888255632293,
          0.05221520386657199,
          -0.650573215742963,
          0.7081510621688046,
          0.6612985008615023,
          -0.3226052865918467,
          -0.9785411448940794,
          0.38018313301768836,
          1.036118991319921,
          0.9892664300126187,
          2.3479907079243865,
          0.23962544909578132,
          -1.0722462675086841,
          0.23962544909578132,
          0.755003623476107,
          -1.0253937062013818,
          1.598349727007549,
          -0.41631040920645135,
          -0.22890016397724203,
          2.1605804626951772,
          0.895561307398014,
          2.02002277877327,
          0.005362642559269652,
          1.317234359163735,
          -0.6974257770502653,
          -1.5407718805817074,
          -0.3226052865918467,
          -0.3226052865918467,
          0.14592032648117664,
          -1.353361635352498,
          0.9892664300126187,
          1.6452022883148514,
          -0.41631040920645135,
          0.5207408169395953,
          1.5514971657002468,
          1.4109394817783396,
          -0.5568680931283584,
          -0.041489918748032685,
          -1.353361635352498,
          1.317234359163735,
          0.755003623476107,
          0.2864780104030837,
          -1.212803951430591,
          -0.3226052865918467,
          -0.7442783383575677,
          -0.9316885835867771,
          1.7857599722367583,
          -0.79113089966487,
          0.23962544909578132,
          -0.79113089966487,
          -0.8848360222794747,
          -0.27575272528454436,
          -0.41631040920645135,
          -0.650573215742963,
          1.2703817978564327,
          -0.1820476026699397,
          -0.5568680931283584,
          -1.353361635352498,
          -0.4631629705137537,
          -0.9316885835867771,
          -1.0253937062013818,
          -0.8848360222794747,
          1.036118991319921,
          -0.041489918748032685,
          -0.08834248005533502,
          0.05221520386657199,
          0.6144459395542,
          -0.7442783383575677,
          1.457792043085642,
          -0.4631629705137537,
          -1.212803951430591,
          -0.4631629705137537,
          0.5207408169395953,
          -1.4002141966598003,
          -1.1659513901232887,
          -0.3226052865918467,
          -1.3065090740451957,
          -0.9785411448940794,
          1.317234359163735,
          -1.1190988288159864,
          -1.1659513901232887,
          0.23962544909578132,
          1.598349727007549,
          0.9424138687053163,
          0.005362642559269652,
          -1.5876244418890098,
          -0.22890016397724203,
          1.317234359163735,
          0.6144459395542,
          0.333330571710386,
          -0.9785411448940794,
          -0.08834248005533502,
          -0.27575272528454436,
          0.5207408169395953,
          0.755003623476107,
          -1.0253937062013818,
          -1.4002141966598003,
          -1.0253937062013818,
          -0.041489918748032685,
          1.457792043085642,
          0.38018313301768836,
          -0.8848360222794747,
          0.19277288778847898,
          0.09906776517387432,
          0.6612985008615023,
          -1.8218872484255213,
          -1.1190988288159864,
          1.036118991319921,
          -0.9316885835867771,
          -0.7442783383575677,
          0.19277288778847898,
          -0.8379834609721724,
          0.38018313301768836,
          -0.36945784789914904,
          -0.13519504136263735,
          -1.0253937062013818,
          -1.4470667579671028,
          -1.4470667579671028,
          -1.4470667579671028,
          0.19277288778847898,
          -0.08834248005533502,
          -1.2596565127378934,
          0.5675933782468977,
          -1.0253937062013818,
          -0.9316885835867771,
          -1.4939193192744051,
          0.9892664300126187,
          1.5514971657002468,
          -0.27575272528454436,
          0.09906776517387432,
          -1.3065090740451957,
          0.895561307398014,
          0.005362642559269652,
          1.7857599722367583,
          -1.9155923710401261,
          -1.212803951430591,
          -0.8379834609721724,
          1.4109394817783396
         ],
         "z": [
          -1.0257848996009633,
          -0.6123717245257437,
          -1.0717196968315434,
          1.959976920386734,
          0.811606989622235,
          0.6738025979304951,
          -1.0717196968315434,
          0.16851982839411558,
          -0.336762941142264,
          0.719737395161075,
          -0.10708895498936419,
          0.811606989622235,
          -0.29082814391168404,
          -1.3473284802150232,
          1.1331505702362947,
          -1.7148068580596627,
          -0.7042413189869037,
          0.12258503116353561,
          -2.403828816518362,
          -0.7961109134480636,
          0.3522590173164354,
          0.811606989622235,
          1.3628245563891945,
          -0.38269773837284393,
          0.07665023393295566,
          1.2709549619280347,
          -0.29082814391168404,
          -0.1989585494505241,
          -0.06115415775878423,
          -0.7042413189869037,
          -0.9798501023703834,
          -0.7961109134480636,
          -0.10708895498936419,
          -0.8879805079092236,
          -1.1635892912927033,
          -0.7501761162174836,
          1.1331505702362947,
          0.39819381454701536,
          1.4546941508503544,
          1.1790853674668746,
          -2.0822852359043025,
          0.21445462562469553,
          0.3522590173164354,
          -1.6229372635985029,
          1.3628245563891945,
          -0.7042413189869037,
          -0.5664369272951638,
          0.9034765840833949,
          0.9953461785445549,
          1.5924985425420943,
          0.6278678006999152,
          1.7303029342338343,
          -0.4286325356034239,
          -1.3013936829844432,
          -0.5205021300645838,
          -0.4745673328340039,
          -0.8879805079092236,
          -1.0717196968315434,
          1.4087593536197744,
          0.9494113813139748,
          0.6278678006999152,
          0.857541786852815,
          0.44412861177759533,
          -0.24489334668110407,
          0.03071543670237569,
          0.39819381454701536,
          -1.439198074676183,
          0.9953461785445549,
          0.9034765840833949,
          -0.10708895498936419,
          -2.1741548303654623,
          -0.9339153051398035,
          -1.3473284802150232,
          -0.8420457106786435,
          0.811606989622235,
          -1.9904156414431426,
          0.39819381454701536,
          -0.8420457106786435,
          -0.6583065217563238,
          0.9034765840833949,
          -0.9339153051398035,
          -0.015219360528204271,
          2.005911717617314,
          0.2603894228552755,
          -0.7961109134480636,
          -0.5664369272951638,
          -0.1989585494505241,
          -0.29082814391168404,
          -0.9339153051398035,
          -0.10708895498936419,
          1.0872157730057148,
          0.5359982062387553,
          0.44412861177759533,
          1.0872157730057148,
          1.3168897591586146,
          0.7656721923916551,
          1.6843681370032542,
          -1.1635892912927033,
          -0.6123717245257437,
          0.44412861177759533,
          0.9494113813139748,
          -0.15302375221994416,
          -0.7961109134480636,
          -0.7501761162174836,
          -1.6688720608290828,
          0.3522590173164354,
          0.9953461785445549,
          -1.393263277445603,
          -0.24489334668110407,
          -0.4286325356034239,
          1.4546941508503544,
          0.5819330034693352,
          -0.15302375221994416,
          -0.9798501023703834,
          1.4087593536197744,
          1.5924985425420943,
          0.719737395161075,
          0.719737395161075,
          -1.1176544940621234,
          -0.4745673328340039,
          -0.4745673328340039,
          0.811606989622235,
          0.2603894228552755,
          0.21445462562469553,
          -2.0363504386737223,
          -0.38269773837284393,
          0.5819330034693352,
          1.3168897591586146,
          0.21445462562469553,
          0.5359982062387553,
          1.5465637453115144,
          -0.8420457106786435,
          1.4546941508503544,
          -2.2200896275960424,
          -1.3473284802150232,
          0.6278678006999152,
          0.03071543670237569,
          0.811606989622235,
          1.1790853674668746,
          -0.6123717245257437,
          0.9953461785445549,
          -0.8879805079092236,
          -0.4286325356034239,
          0.07665023393295566,
          -1.2095240885232832,
          0.2603894228552755,
          -1.0717196968315434,
          0.9494113813139748,
          0.30632422008585547,
          0.2603894228552755,
          0.811606989622235,
          -1.531067669137343,
          -1.0717196968315434,
          -0.9339153051398035,
          1.1331505702362947,
          1.7762377314644142,
          -0.10708895498936419,
          0.4900634090081753,
          -0.4745673328340039,
          0.719737395161075,
          0.811606989622235,
          1.3628245563891945,
          -2.403828816518362,
          -0.336762941142264,
          0.9494113813139748,
          0.3522590173164354
         ]
        },
        {
         "line": {
          "color": "red"
         },
         "mode": "lines",
         "name": "component 1",
         "type": "scatter3d",
         "x": [
          1.7581291203929377,
          -1.7581291203929377
         ],
         "y": [
          2.1239474844876183,
          -2.1239474844876183
         ],
         "z": [
          1.1822982192175842,
          -1.1822982192175842
         ]
        },
        {
         "line": {
          "color": "blue"
         },
         "mode": "lines",
         "name": "component 2",
         "type": "scatter3d",
         "x": [
          0.8788731903538649,
          -0.8788731903538649
         ],
         "y": [
          -1.05934072899724,
          1.05934072899724
         ],
         "z": [
          0.5961368426500877,
          -0.5961368426500877
         ]
        },
        {
         "line": {
          "color": "green"
         },
         "mode": "lines",
         "name": "component 3",
         "type": "scatter3d",
         "x": [
          0.5596933343989201,
          -0.5596933343989201
         ],
         "y": [
          -0.0019989633175046687,
          0.0019989633175046687
         ],
         "z": [
          -0.8286973968675624,
          0.8286973968675624
         ]
        },
        {
         "marker": {
          "color": "purple",
          "size": 5
         },
         "mode": "markers",
         "name": "g",
         "type": "scatter3d",
         "x": [
          0
         ],
         "y": [
          0
         ],
         "z": [
          0
         ]
        }
       ],
       "layout": {
        "autosize": true,
        "scene": {
         "aspectmode": "auto",
         "aspectratio": {
          "x": 0.9541052646833984,
          "y": 1.0309633620151362,
          "z": 1.0166242758902793
         },
         "camera": {
          "center": {
           "x": 0,
           "y": 0,
           "z": 0
          },
          "eye": {
           "x": 1.4903652710891881,
           "y": -1.3998857211150728,
           "z": 0.4539757649009878
          },
          "projection": {
           "type": "perspective"
          },
          "up": {
           "x": 0,
           "y": 0,
           "z": 1
          }
         }
        },
        "template": {
         "data": {
          "bar": [
           {
            "error_x": {
             "color": "#2a3f5f"
            },
            "error_y": {
             "color": "#2a3f5f"
            },
            "marker": {
             "line": {
              "color": "#E5ECF6",
              "width": 0.5
             }
            },
            "type": "bar"
           }
          ],
          "barpolar": [
           {
            "marker": {
             "line": {
              "color": "#E5ECF6",
              "width": 0.5
             }
            },
            "type": "barpolar"
           }
          ],
          "carpet": [
           {
            "aaxis": {
             "endlinecolor": "#2a3f5f",
             "gridcolor": "white",
             "linecolor": "white",
             "minorgridcolor": "white",
             "startlinecolor": "#2a3f5f"
            },
            "baxis": {
             "endlinecolor": "#2a3f5f",
             "gridcolor": "white",
             "linecolor": "white",
             "minorgridcolor": "white",
             "startlinecolor": "#2a3f5f"
            },
            "type": "carpet"
           }
          ],
          "choropleth": [
           {
            "colorbar": {
             "outlinewidth": 0,
             "ticks": ""
            },
            "type": "choropleth"
           }
          ],
          "contour": [
           {
            "colorbar": {
             "outlinewidth": 0,
             "ticks": ""
            },
            "colorscale": [
             [
              0,
              "#0d0887"
             ],
             [
              0.1111111111111111,
              "#46039f"
             ],
             [
              0.2222222222222222,
              "#7201a8"
             ],
             [
              0.3333333333333333,
              "#9c179e"
             ],
             [
              0.4444444444444444,
              "#bd3786"
             ],
             [
              0.5555555555555556,
              "#d8576b"
             ],
             [
              0.6666666666666666,
              "#ed7953"
             ],
             [
              0.7777777777777778,
              "#fb9f3a"
             ],
             [
              0.8888888888888888,
              "#fdca26"
             ],
             [
              1,
              "#f0f921"
             ]
            ],
            "type": "contour"
           }
          ],
          "contourcarpet": [
           {
            "colorbar": {
             "outlinewidth": 0,
             "ticks": ""
            },
            "type": "contourcarpet"
           }
          ],
          "heatmap": [
           {
            "colorbar": {
             "outlinewidth": 0,
             "ticks": ""
            },
            "colorscale": [
             [
              0,
              "#0d0887"
             ],
             [
              0.1111111111111111,
              "#46039f"
             ],
             [
              0.2222222222222222,
              "#7201a8"
             ],
             [
              0.3333333333333333,
              "#9c179e"
             ],
             [
              0.4444444444444444,
              "#bd3786"
             ],
             [
              0.5555555555555556,
              "#d8576b"
             ],
             [
              0.6666666666666666,
              "#ed7953"
             ],
             [
              0.7777777777777778,
              "#fb9f3a"
             ],
             [
              0.8888888888888888,
              "#fdca26"
             ],
             [
              1,
              "#f0f921"
             ]
            ],
            "type": "heatmap"
           }
          ],
          "heatmapgl": [
           {
            "colorbar": {
             "outlinewidth": 0,
             "ticks": ""
            },
            "colorscale": [
             [
              0,
              "#0d0887"
             ],
             [
              0.1111111111111111,
              "#46039f"
             ],
             [
              0.2222222222222222,
              "#7201a8"
             ],
             [
              0.3333333333333333,
              "#9c179e"
             ],
             [
              0.4444444444444444,
              "#bd3786"
             ],
             [
              0.5555555555555556,
              "#d8576b"
             ],
             [
              0.6666666666666666,
              "#ed7953"
             ],
             [
              0.7777777777777778,
              "#fb9f3a"
             ],
             [
              0.8888888888888888,
              "#fdca26"
             ],
             [
              1,
              "#f0f921"
             ]
            ],
            "type": "heatmapgl"
           }
          ],
          "histogram": [
           {
            "marker": {
             "colorbar": {
              "outlinewidth": 0,
              "ticks": ""
             }
            },
            "type": "histogram"
           }
          ],
          "histogram2d": [
           {
            "colorbar": {
             "outlinewidth": 0,
             "ticks": ""
            },
            "colorscale": [
             [
              0,
              "#0d0887"
             ],
             [
              0.1111111111111111,
              "#46039f"
             ],
             [
              0.2222222222222222,
              "#7201a8"
             ],
             [
              0.3333333333333333,
              "#9c179e"
             ],
             [
              0.4444444444444444,
              "#bd3786"
             ],
             [
              0.5555555555555556,
              "#d8576b"
             ],
             [
              0.6666666666666666,
              "#ed7953"
             ],
             [
              0.7777777777777778,
              "#fb9f3a"
             ],
             [
              0.8888888888888888,
              "#fdca26"
             ],
             [
              1,
              "#f0f921"
             ]
            ],
            "type": "histogram2d"
           }
          ],
          "histogram2dcontour": [
           {
            "colorbar": {
             "outlinewidth": 0,
             "ticks": ""
            },
            "colorscale": [
             [
              0,
              "#0d0887"
             ],
             [
              0.1111111111111111,
              "#46039f"
             ],
             [
              0.2222222222222222,
              "#7201a8"
             ],
             [
              0.3333333333333333,
              "#9c179e"
             ],
             [
              0.4444444444444444,
              "#bd3786"
             ],
             [
              0.5555555555555556,
              "#d8576b"
             ],
             [
              0.6666666666666666,
              "#ed7953"
             ],
             [
              0.7777777777777778,
              "#fb9f3a"
             ],
             [
              0.8888888888888888,
              "#fdca26"
             ],
             [
              1,
              "#f0f921"
             ]
            ],
            "type": "histogram2dcontour"
           }
          ],
          "mesh3d": [
           {
            "colorbar": {
             "outlinewidth": 0,
             "ticks": ""
            },
            "type": "mesh3d"
           }
          ],
          "parcoords": [
           {
            "line": {
             "colorbar": {
              "outlinewidth": 0,
              "ticks": ""
             }
            },
            "type": "parcoords"
           }
          ],
          "pie": [
           {
            "automargin": true,
            "type": "pie"
           }
          ],
          "scatter": [
           {
            "marker": {
             "colorbar": {
              "outlinewidth": 0,
              "ticks": ""
             }
            },
            "type": "scatter"
           }
          ],
          "scatter3d": [
           {
            "line": {
             "colorbar": {
              "outlinewidth": 0,
              "ticks": ""
             }
            },
            "marker": {
             "colorbar": {
              "outlinewidth": 0,
              "ticks": ""
             }
            },
            "type": "scatter3d"
           }
          ],
          "scattercarpet": [
           {
            "marker": {
             "colorbar": {
              "outlinewidth": 0,
              "ticks": ""
             }
            },
            "type": "scattercarpet"
           }
          ],
          "scattergeo": [
           {
            "marker": {
             "colorbar": {
              "outlinewidth": 0,
              "ticks": ""
             }
            },
            "type": "scattergeo"
           }
          ],
          "scattergl": [
           {
            "marker": {
             "colorbar": {
              "outlinewidth": 0,
              "ticks": ""
             }
            },
            "type": "scattergl"
           }
          ],
          "scattermapbox": [
           {
            "marker": {
             "colorbar": {
              "outlinewidth": 0,
              "ticks": ""
             }
            },
            "type": "scattermapbox"
           }
          ],
          "scatterpolar": [
           {
            "marker": {
             "colorbar": {
              "outlinewidth": 0,
              "ticks": ""
             }
            },
            "type": "scatterpolar"
           }
          ],
          "scatterpolargl": [
           {
            "marker": {
             "colorbar": {
              "outlinewidth": 0,
              "ticks": ""
             }
            },
            "type": "scatterpolargl"
           }
          ],
          "scatterternary": [
           {
            "marker": {
             "colorbar": {
              "outlinewidth": 0,
              "ticks": ""
             }
            },
            "type": "scatterternary"
           }
          ],
          "surface": [
           {
            "colorbar": {
             "outlinewidth": 0,
             "ticks": ""
            },
            "colorscale": [
             [
              0,
              "#0d0887"
             ],
             [
              0.1111111111111111,
              "#46039f"
             ],
             [
              0.2222222222222222,
              "#7201a8"
             ],
             [
              0.3333333333333333,
              "#9c179e"
             ],
             [
              0.4444444444444444,
              "#bd3786"
             ],
             [
              0.5555555555555556,
              "#d8576b"
             ],
             [
              0.6666666666666666,
              "#ed7953"
             ],
             [
              0.7777777777777778,
              "#fb9f3a"
             ],
             [
              0.8888888888888888,
              "#fdca26"
             ],
             [
              1,
              "#f0f921"
             ]
            ],
            "type": "surface"
           }
          ],
          "table": [
           {
            "cells": {
             "fill": {
              "color": "#EBF0F8"
             },
             "line": {
              "color": "white"
             }
            },
            "header": {
             "fill": {
              "color": "#C8D4E3"
             },
             "line": {
              "color": "white"
             }
            },
            "type": "table"
           }
          ]
         },
         "layout": {
          "annotationdefaults": {
           "arrowcolor": "#2a3f5f",
           "arrowhead": 0,
           "arrowwidth": 1
          },
          "autotypenumbers": "strict",
          "coloraxis": {
           "colorbar": {
            "outlinewidth": 0,
            "ticks": ""
           }
          },
          "colorscale": {
           "diverging": [
            [
             0,
             "#8e0152"
            ],
            [
             0.1,
             "#c51b7d"
            ],
            [
             0.2,
             "#de77ae"
            ],
            [
             0.3,
             "#f1b6da"
            ],
            [
             0.4,
             "#fde0ef"
            ],
            [
             0.5,
             "#f7f7f7"
            ],
            [
             0.6,
             "#e6f5d0"
            ],
            [
             0.7,
             "#b8e186"
            ],
            [
             0.8,
             "#7fbc41"
            ],
            [
             0.9,
             "#4d9221"
            ],
            [
             1,
             "#276419"
            ]
           ],
           "sequential": [
            [
             0,
             "#0d0887"
            ],
            [
             0.1111111111111111,
             "#46039f"
            ],
            [
             0.2222222222222222,
             "#7201a8"
            ],
            [
             0.3333333333333333,
             "#9c179e"
            ],
            [
             0.4444444444444444,
             "#bd3786"
            ],
            [
             0.5555555555555556,
             "#d8576b"
            ],
            [
             0.6666666666666666,
             "#ed7953"
            ],
            [
             0.7777777777777778,
             "#fb9f3a"
            ],
            [
             0.8888888888888888,
             "#fdca26"
            ],
            [
             1,
             "#f0f921"
            ]
           ],
           "sequentialminus": [
            [
             0,
             "#0d0887"
            ],
            [
             0.1111111111111111,
             "#46039f"
            ],
            [
             0.2222222222222222,
             "#7201a8"
            ],
            [
             0.3333333333333333,
             "#9c179e"
            ],
            [
             0.4444444444444444,
             "#bd3786"
            ],
            [
             0.5555555555555556,
             "#d8576b"
            ],
            [
             0.6666666666666666,
             "#ed7953"
            ],
            [
             0.7777777777777778,
             "#fb9f3a"
            ],
            [
             0.8888888888888888,
             "#fdca26"
            ],
            [
             1,
             "#f0f921"
            ]
           ]
          },
          "colorway": [
           "#636efa",
           "#EF553B",
           "#00cc96",
           "#ab63fa",
           "#FFA15A",
           "#19d3f3",
           "#FF6692",
           "#B6E880",
           "#FF97FF",
           "#FECB52"
          ],
          "font": {
           "color": "#2a3f5f"
          },
          "geo": {
           "bgcolor": "white",
           "lakecolor": "white",
           "landcolor": "#E5ECF6",
           "showlakes": true,
           "showland": true,
           "subunitcolor": "white"
          },
          "hoverlabel": {
           "align": "left"
          },
          "hovermode": "closest",
          "mapbox": {
           "style": "light"
          },
          "paper_bgcolor": "white",
          "plot_bgcolor": "#E5ECF6",
          "polar": {
           "angularaxis": {
            "gridcolor": "white",
            "linecolor": "white",
            "ticks": ""
           },
           "bgcolor": "#E5ECF6",
           "radialaxis": {
            "gridcolor": "white",
            "linecolor": "white",
            "ticks": ""
           }
          },
          "scene": {
           "xaxis": {
            "backgroundcolor": "#E5ECF6",
            "gridcolor": "white",
            "gridwidth": 2,
            "linecolor": "white",
            "showbackground": true,
            "ticks": "",
            "zerolinecolor": "white"
           },
           "yaxis": {
            "backgroundcolor": "#E5ECF6",
            "gridcolor": "white",
            "gridwidth": 2,
            "linecolor": "white",
            "showbackground": true,
            "ticks": "",
            "zerolinecolor": "white"
           },
           "zaxis": {
            "backgroundcolor": "#E5ECF6",
            "gridcolor": "white",
            "gridwidth": 2,
            "linecolor": "white",
            "showbackground": true,
            "ticks": "",
            "zerolinecolor": "white"
           }
          },
          "shapedefaults": {
           "line": {
            "color": "#2a3f5f"
           }
          },
          "ternary": {
           "aaxis": {
            "gridcolor": "white",
            "linecolor": "white",
            "ticks": ""
           },
           "baxis": {
            "gridcolor": "white",
            "linecolor": "white",
            "ticks": ""
           },
           "bgcolor": "#E5ECF6",
           "caxis": {
            "gridcolor": "white",
            "linecolor": "white",
            "ticks": ""
           }
          },
          "title": {
           "x": 0.05
          },
          "xaxis": {
           "automargin": true,
           "gridcolor": "white",
           "linecolor": "white",
           "ticks": "",
           "title": {
            "standoff": 15
           },
           "zerolinecolor": "white",
           "zerolinewidth": 2
          },
          "yaxis": {
           "automargin": true,
           "gridcolor": "white",
           "linecolor": "white",
           "ticks": "",
           "title": {
            "standoff": 15
           },
           "zerolinecolor": "white",
           "zerolinewidth": 2
          }
         }
        }
       }
      },
      "image/png": "[encoded data removed]",
      "text/html": [
       "<div>                            <div id=\"8e1a2007-4b51-4ea3-89b7-e1e2ec2d22c4\" class=\"plotly-graph-div\" style=\"height:525px; width:100%;\"></div>            <script type=\"text/javascript\">                require([\"plotly\"], function(Plotly) {                    window.PLOTLYENV=window.PLOTLYENV || {};                                    if (document.getElementById(\"8e1a2007-4b51-4ea3-89b7-e1e2ec2d22c4\")) {                    Plotly.newPlot(                        \"8e1a2007-4b51-4ea3-89b7-e1e2ec2d22c4\",                        [{\"marker\": {\"color\": [-1.0257848996009633, -0.6123717245257437, -1.0717196968315434, 1.959976920386734, 0.811606989622235, 0.6738025979304951, -1.0717196968315434, 0.16851982839411558, -0.336762941142264, 0.719737395161075, -0.10708895498936419, 0.811606989622235, -0.29082814391168404, -1.3473284802150232, 1.1331505702362947, -1.7148068580596627, -0.7042413189869037, 0.12258503116353561, -2.403828816518362, -0.7961109134480636, 0.3522590173164354, 0.811606989622235, 1.3628245563891945, -0.38269773837284393, 0.07665023393295566, 1.2709549619280347, -0.29082814391168404, -0.1989585494505241, -0.06115415775878423, -0.7042413189869037, -0.9798501023703834, -0.7961109134480636, -0.10708895498936419, -0.8879805079092236, -1.1635892912927033, -0.7501761162174836, 1.1331505702362947, 0.39819381454701536, 1.4546941508503544, 1.1790853674668746, -2.0822852359043025, 0.21445462562469553, 0.3522590173164354, -1.6229372635985029, 1.3628245563891945, -0.7042413189869037, -0.5664369272951638, 0.9034765840833949, 0.9953461785445549, 1.5924985425420943, 0.6278678006999152, 1.7303029342338343, -0.4286325356034239, -1.3013936829844432, -0.5205021300645838, -0.4745673328340039, -0.8879805079092236, -1.0717196968315434, 1.4087593536197744, 0.9494113813139748, 0.6278678006999152, 0.857541786852815, 0.44412861177759533, -0.24489334668110407, 0.03071543670237569, 0.39819381454701536, -1.439198074676183, 0.9953461785445549, 0.9034765840833949, -0.10708895498936419, -2.1741548303654623, -0.9339153051398035, -1.3473284802150232, -0.8420457106786435, 0.811606989622235, -1.9904156414431426, 0.39819381454701536, -0.8420457106786435, -0.6583065217563238, 0.9034765840833949, -0.9339153051398035, -0.015219360528204271, 2.005911717617314, 0.2603894228552755, -0.7961109134480636, -0.5664369272951638, -0.1989585494505241, -0.29082814391168404, -0.9339153051398035, -0.10708895498936419, 1.0872157730057148, 0.5359982062387553, 0.44412861177759533, 1.0872157730057148, 1.3168897591586146, 0.7656721923916551, 1.6843681370032542, -1.1635892912927033, -0.6123717245257437, 0.44412861177759533, 0.9494113813139748, -0.15302375221994416, -0.7961109134480636, -0.7501761162174836, -1.6688720608290828, 0.3522590173164354, 0.9953461785445549, -1.393263277445603, -0.24489334668110407, -0.4286325356034239, 1.4546941508503544, 0.5819330034693352, -0.15302375221994416, -0.9798501023703834, 1.4087593536197744, 1.5924985425420943, 0.719737395161075, 0.719737395161075, -1.1176544940621234, -0.4745673328340039, -0.4745673328340039, 0.811606989622235, 0.2603894228552755, 0.21445462562469553, -2.0363504386737223, -0.38269773837284393, 0.5819330034693352, 1.3168897591586146, 0.21445462562469553, 0.5359982062387553, 1.5465637453115144, -0.8420457106786435, 1.4546941508503544, -2.2200896275960424, -1.3473284802150232, 0.6278678006999152, 0.03071543670237569, 0.811606989622235, 1.1790853674668746, -0.6123717245257437, 0.9953461785445549, -0.8879805079092236, -0.4286325356034239, 0.07665023393295566, -1.2095240885232832, 0.2603894228552755, -1.0717196968315434, 0.9494113813139748, 0.30632422008585547, 0.2603894228552755, 0.811606989622235, -1.531067669137343, -1.0717196968315434, -0.9339153051398035, 1.1331505702362947, 1.7762377314644142, -0.10708895498936419, 0.4900634090081753, -0.4745673328340039, 0.719737395161075, 0.811606989622235, 1.3628245563891945, -2.403828816518362, -0.336762941142264, 0.9494113813139748, 0.3522590173164354], \"colorscale\": [[0.0, \"rgb(0, 0, 0)\"], [0.09090909090909091, \"rgb(16, 16, 16)\"], [0.18181818181818182, \"rgb(38, 38, 38)\"], [0.2727272727272727, \"rgb(59, 59, 59)\"], [0.36363636363636365, \"rgb(81, 80, 80)\"], [0.45454545454545453, \"rgb(102, 101, 101)\"], [0.5454545454545454, \"rgb(124, 123, 122)\"], [0.6363636363636364, \"rgb(146, 146, 145)\"], [0.7272727272727273, \"rgb(171, 171, 170)\"], [0.8181818181818182, \"rgb(197, 197, 195)\"], [0.9090909090909091, \"rgb(224, 224, 223)\"], [1.0, \"rgb(254, 254, 253)\"]], \"opacity\": 0.7, \"size\": 3}, \"mode\": \"markers\", \"name\": \"data\", \"type\": \"scatter3d\", \"x\": [0.22288368717719617, 0.1401125639749264, -0.9359120376545804, 1.298908288806703, 1.3402938504078379, 0.42981149518287054, -0.06681524403074797, -0.3565141752386921, -1.5980810232727385, -0.6875986680477711, 1.4230649736101075, 0.6367393031885449, -0.397899736839827, -1.060068722457985, 0.5125826183851403, -0.9772975992557152, -0.9359120376545804, 1.629992781615782, -1.8877799544806826, -0.8945264760534455, 0.7608959879919496, 1.2161371656044333, 1.671378343216917, -1.1428398456602546, -0.5220564216432316, 0.5539681799862752, 1.0919804808010285, 1.0919804808010285, 0.7195104263908146, -0.31512861363755723, -0.728984229648906, -0.23235749043528747, 0.1814981255760613, 0.8022815495930844, -1.1842254072613896, 0.6781248647896798, 1.8783061512225911, 1.0505949191998938, 1.7127639048180516, 0.5539681799862752, -1.1428398456602546, -0.397899736839827, 1.629992781615782, -0.8531409144523107, 1.2161371656044333, -0.025429682429613094, -0.43928529844096187, 2.002462836025996, 1.3816794120089728, 1.588607220014647, 0.4711970567840054, 0.7608959879919496, -0.6875986680477711, -1.8463943928795477, -0.728984229648906, -0.6875986680477711, 0.09872700237379153, -1.060068722457985, 0.5125826183851403, 2.002462836025996, 1.3402938504078379, 1.4230649736101075, 1.8783061512225911, 0.9678237959976239, 0.1814981255760613, 0.1814981255760613, -0.27374305203642235, 0.8022815495930844, -0.14958636723301771, 0.05734144077265666, -0.6875986680477711, -1.3083820920647942, -0.8117553528511757, -0.9359120376545804, 1.588607220014647, -0.9359120376545804, -0.27374305203642235, -0.397899736839827, -0.5220564216432316, -0.397899736839827, -0.5634419832443665, -0.5634419832443665, 1.8369205896214564, 0.015955879171521786, -1.1842254072613896, -1.5980810232727385, -0.1909719288341526, -0.48067086004209675, -0.8945264760534455, -0.6875986680477711, 1.1747516040032984, -0.6462131064466362, -1.3083820920647942, 0.5125826183851403, 0.6367393031885449, -0.6462131064466362, 1.1333660424021634, -0.48067086004209675, -0.8117553528511757, -0.14958636723301771, 1.1747516040032984, -0.7703697912500409, -0.728984229648906, -1.2669965304636595, -0.8531409144523107, 0.8850526727953542, 0.4711970567840054, -1.6394665848738732, -0.8117553528511757, 1.1747516040032984, 1.257522727205568, -0.31512861363755723, 0.6781248647896798, -1.5566954616716036, -0.06681524403074797, 1.298908288806703, 0.5953537415874101, -0.1909719288341526, -0.3565141752386921, -0.5220564216432316, 0.05734144077265666, 0.5953537415874101, -0.23235749043528747, -0.10820080563188285, -1.8877799544806826, -0.6048275448455014, -0.397899736839827, 1.3402938504078379, 1.2161371656044333, -1.060068722457985, 1.3402938504078379, 0.09872700237379153, -0.025429682429613094, -1.6808521464750081, -1.6808521464750081, 0.3470403719806008, -0.728984229648906, -0.06681524403074797, -0.025429682429613094, -1.6808521464750081, -0.06681524403074797, -0.5634419832443665, -0.6875986680477711, -0.10820080563188285, -1.349767653665929, -0.48067086004209675, -0.3565141752386921, 0.5539681799862752, -0.025429682429613094, -0.6048275448455014, 1.257522727205568, -1.5153099000704686, -0.8117553528511757, -1.3083820920647942, 1.7127639048180516, 2.250776205632805, 0.3056548103794659, -0.10820080563188285, -0.7703697912500409, 0.5953537415874101, -0.10820080563188285, 1.4230649736101075, -1.8050088312784127, -0.6875986680477711, -0.10820080563188285, 1.7955350280203215], \"y\": [0.6144459395542, 0.2864780104030837, 0.333330571710386, 2.3479907079243865, 0.8018561847834094, 0.5207408169395953, 0.09906776517387432, 0.42703569432499067, -0.27575272528454436, 1.457792043085642, 1.0829715526272234, 0.9892664300126187, 0.2864780104030837, -0.650573215742963, 1.598349727007549, -0.9785411448940794, -0.8379834609721724, 1.6920548496221537, -1.212803951430591, -0.36945784789914904, 1.036118991319921, 0.473888255632293, 1.7857599722367583, -1.7281821258109167, -0.3226052865918467, 1.0829715526272234, 0.2864780104030837, 1.5514971657002468, 0.473888255632293, 0.05221520386657199, -0.650573215742963, 0.7081510621688046, 0.6612985008615023, -0.3226052865918467, -0.9785411448940794, 0.38018313301768836, 1.036118991319921, 0.9892664300126187, 2.3479907079243865, 0.23962544909578132, -1.0722462675086841, 0.23962544909578132, 0.755003623476107, -1.0253937062013818, 1.598349727007549, -0.41631040920645135, -0.22890016397724203, 2.1605804626951772, 0.895561307398014, 2.02002277877327, 0.005362642559269652, 1.317234359163735, -0.6974257770502653, -1.5407718805817074, -0.3226052865918467, -0.3226052865918467, 0.14592032648117664, -1.353361635352498, 0.9892664300126187, 1.6452022883148514, -0.41631040920645135, 0.5207408169395953, 1.5514971657002468, 1.4109394817783396, -0.5568680931283584, -0.041489918748032685, -1.353361635352498, 1.317234359163735, 0.755003623476107, 0.2864780104030837, -1.212803951430591, -0.3226052865918467, -0.7442783383575677, -0.9316885835867771, 1.7857599722367583, -0.79113089966487, 0.23962544909578132, -0.79113089966487, -0.8848360222794747, -0.27575272528454436, -0.41631040920645135, -0.650573215742963, 1.2703817978564327, -0.1820476026699397, -0.5568680931283584, -1.353361635352498, -0.4631629705137537, -0.9316885835867771, -1.0253937062013818, -0.8848360222794747, 1.036118991319921, -0.041489918748032685, -0.08834248005533502, 0.05221520386657199, 0.6144459395542, -0.7442783383575677, 1.457792043085642, -0.4631629705137537, -1.212803951430591, -0.4631629705137537, 0.5207408169395953, -1.4002141966598003, -1.1659513901232887, -0.3226052865918467, -1.3065090740451957, -0.9785411448940794, 1.317234359163735, -1.1190988288159864, -1.1659513901232887, 0.23962544909578132, 1.598349727007549, 0.9424138687053163, 0.005362642559269652, -1.5876244418890098, -0.22890016397724203, 1.317234359163735, 0.6144459395542, 0.333330571710386, -0.9785411448940794, -0.08834248005533502, -0.27575272528454436, 0.5207408169395953, 0.755003623476107, -1.0253937062013818, -1.4002141966598003, -1.0253937062013818, -0.041489918748032685, 1.457792043085642, 0.38018313301768836, -0.8848360222794747, 0.19277288778847898, 0.09906776517387432, 0.6612985008615023, -1.8218872484255213, -1.1190988288159864, 1.036118991319921, -0.9316885835867771, -0.7442783383575677, 0.19277288778847898, -0.8379834609721724, 0.38018313301768836, -0.36945784789914904, -0.13519504136263735, -1.0253937062013818, -1.4470667579671028, -1.4470667579671028, -1.4470667579671028, 0.19277288778847898, -0.08834248005533502, -1.2596565127378934, 0.5675933782468977, -1.0253937062013818, -0.9316885835867771, -1.4939193192744051, 0.9892664300126187, 1.5514971657002468, -0.27575272528454436, 0.09906776517387432, -1.3065090740451957, 0.895561307398014, 0.005362642559269652, 1.7857599722367583, -1.9155923710401261, -1.212803951430591, -0.8379834609721724, 1.4109394817783396], \"z\": [-1.0257848996009633, -0.6123717245257437, -1.0717196968315434, 1.959976920386734, 0.811606989622235, 0.6738025979304951, -1.0717196968315434, 0.16851982839411558, -0.336762941142264, 0.719737395161075, -0.10708895498936419, 0.811606989622235, -0.29082814391168404, -1.3473284802150232, 1.1331505702362947, -1.7148068580596627, -0.7042413189869037, 0.12258503116353561, -2.403828816518362, -0.7961109134480636, 0.3522590173164354, 0.811606989622235, 1.3628245563891945, -0.38269773837284393, 0.07665023393295566, 1.2709549619280347, -0.29082814391168404, -0.1989585494505241, -0.06115415775878423, -0.7042413189869037, -0.9798501023703834, -0.7961109134480636, -0.10708895498936419, -0.8879805079092236, -1.1635892912927033, -0.7501761162174836, 1.1331505702362947, 0.39819381454701536, 1.4546941508503544, 1.1790853674668746, -2.0822852359043025, 0.21445462562469553, 0.3522590173164354, -1.6229372635985029, 1.3628245563891945, -0.7042413189869037, -0.5664369272951638, 0.9034765840833949, 0.9953461785445549, 1.5924985425420943, 0.6278678006999152, 1.7303029342338343, -0.4286325356034239, -1.3013936829844432, -0.5205021300645838, -0.4745673328340039, -0.8879805079092236, -1.0717196968315434, 1.4087593536197744, 0.9494113813139748, 0.6278678006999152, 0.857541786852815, 0.44412861177759533, -0.24489334668110407, 0.03071543670237569, 0.39819381454701536, -1.439198074676183, 0.9953461785445549, 0.9034765840833949, -0.10708895498936419, -2.1741548303654623, -0.9339153051398035, -1.3473284802150232, -0.8420457106786435, 0.811606989622235, -1.9904156414431426, 0.39819381454701536, -0.8420457106786435, -0.6583065217563238, 0.9034765840833949, -0.9339153051398035, -0.015219360528204271, 2.005911717617314, 0.2603894228552755, -0.7961109134480636, -0.5664369272951638, -0.1989585494505241, -0.29082814391168404, -0.9339153051398035, -0.10708895498936419, 1.0872157730057148, 0.5359982062387553, 0.44412861177759533, 1.0872157730057148, 1.3168897591586146, 0.7656721923916551, 1.6843681370032542, -1.1635892912927033, -0.6123717245257437, 0.44412861177759533, 0.9494113813139748, -0.15302375221994416, -0.7961109134480636, -0.7501761162174836, -1.6688720608290828, 0.3522590173164354, 0.9953461785445549, -1.393263277445603, -0.24489334668110407, -0.4286325356034239, 1.4546941508503544, 0.5819330034693352, -0.15302375221994416, -0.9798501023703834, 1.4087593536197744, 1.5924985425420943, 0.719737395161075, 0.719737395161075, -1.1176544940621234, -0.4745673328340039, -0.4745673328340039, 0.811606989622235, 0.2603894228552755, 0.21445462562469553, -2.0363504386737223, -0.38269773837284393, 0.5819330034693352, 1.3168897591586146, 0.21445462562469553, 0.5359982062387553, 1.5465637453115144, -0.8420457106786435, 1.4546941508503544, -2.2200896275960424, -1.3473284802150232, 0.6278678006999152, 0.03071543670237569, 0.811606989622235, 1.1790853674668746, -0.6123717245257437, 0.9953461785445549, -0.8879805079092236, -0.4286325356034239, 0.07665023393295566, -1.2095240885232832, 0.2603894228552755, -1.0717196968315434, 0.9494113813139748, 0.30632422008585547, 0.2603894228552755, 0.811606989622235, -1.531067669137343, -1.0717196968315434, -0.9339153051398035, 1.1331505702362947, 1.7762377314644142, -0.10708895498936419, 0.4900634090081753, -0.4745673328340039, 0.719737395161075, 0.811606989622235, 1.3628245563891945, -2.403828816518362, -0.336762941142264, 0.9494113813139748, 0.3522590173164354]}, {\"line\": {\"color\": \"red\"}, \"mode\": \"lines\", \"name\": \"component 1\", \"type\": \"scatter3d\", \"x\": [1.7581291203929377, -1.7581291203929377], \"y\": [2.1239474844876183, -2.1239474844876183], \"z\": [1.1822982192175842, -1.1822982192175842]}, {\"line\": {\"color\": \"blue\"}, \"mode\": \"lines\", \"name\": \"component 2\", \"type\": \"scatter3d\", \"x\": [0.8788731903538649, -0.8788731903538649], \"y\": [-1.05934072899724, 1.05934072899724], \"z\": [0.5961368426500877, -0.5961368426500877]}, {\"line\": {\"color\": \"green\"}, \"mode\": \"lines\", \"name\": \"component 3\", \"type\": \"scatter3d\", \"x\": [0.5596933343989201, -0.5596933343989201], \"y\": [-0.0019989633175046687, 0.0019989633175046687], \"z\": [-0.8286973968675624, 0.8286973968675624]}, {\"marker\": {\"color\": \"purple\", \"size\": 5}, \"mode\": \"markers\", \"name\": \"g\", \"type\": \"scatter3d\", \"x\": [0], \"y\": [0], \"z\": [0]}],                        {\"template\": {\"data\": {\"bar\": [{\"error_x\": {\"color\": \"#2a3f5f\"}, \"error_y\": {\"color\": \"#2a3f5f\"}, \"marker\": {\"line\": {\"color\": \"#E5ECF6\", \"width\": 0.5}}, \"type\": \"bar\"}], \"barpolar\": [{\"marker\": {\"line\": {\"color\": \"#E5ECF6\", \"width\": 0.5}}, \"type\": \"barpolar\"}], \"carpet\": [{\"aaxis\": {\"endlinecolor\": \"#2a3f5f\", \"gridcolor\": \"white\", \"linecolor\": \"white\", \"minorgridcolor\": \"white\", \"startlinecolor\": \"#2a3f5f\"}, \"baxis\": {\"endlinecolor\": \"#2a3f5f\", \"gridcolor\": \"white\", \"linecolor\": \"white\", \"minorgridcolor\": \"white\", \"startlinecolor\": \"#2a3f5f\"}, \"type\": \"carpet\"}], \"choropleth\": [{\"colorbar\": {\"outlinewidth\": 0, \"ticks\": \"\"}, \"type\": \"choropleth\"}], \"contour\": [{\"colorbar\": {\"outlinewidth\": 0, \"ticks\": \"\"}, \"colorscale\": [[0.0, \"#0d0887\"], [0.1111111111111111, \"#46039f\"], [0.2222222222222222, \"#7201a8\"], [0.3333333333333333, \"#9c179e\"], [0.4444444444444444, \"#bd3786\"], [0.5555555555555556, \"#d8576b\"], [0.6666666666666666, \"#ed7953\"], [0.7777777777777778, \"#fb9f3a\"], [0.8888888888888888, \"#fdca26\"], [1.0, \"#f0f921\"]], \"type\": \"contour\"}], \"contourcarpet\": [{\"colorbar\": {\"outlinewidth\": 0, \"ticks\": \"\"}, \"type\": \"contourcarpet\"}], \"heatmap\": [{\"colorbar\": {\"outlinewidth\": 0, \"ticks\": \"\"}, \"colorscale\": [[0.0, \"#0d0887\"], [0.1111111111111111, \"#46039f\"], [0.2222222222222222, \"#7201a8\"], [0.3333333333333333, \"#9c179e\"], [0.4444444444444444, \"#bd3786\"], [0.5555555555555556, \"#d8576b\"], [0.6666666666666666, \"#ed7953\"], [0.7777777777777778, \"#fb9f3a\"], [0.8888888888888888, \"#fdca26\"], [1.0, \"#f0f921\"]], \"type\": \"heatmap\"}], \"heatmapgl\": [{\"colorbar\": {\"outlinewidth\": 0, \"ticks\": \"\"}, \"colorscale\": [[0.0, \"#0d0887\"], [0.1111111111111111, \"#46039f\"], [0.2222222222222222, \"#7201a8\"], [0.3333333333333333, \"#9c179e\"], [0.4444444444444444, \"#bd3786\"], [0.5555555555555556, \"#d8576b\"], [0.6666666666666666, \"#ed7953\"], [0.7777777777777778, \"#fb9f3a\"], [0.8888888888888888, \"#fdca26\"], [1.0, \"#f0f921\"]], \"type\": \"heatmapgl\"}], \"histogram\": [{\"marker\": {\"colorbar\": {\"outlinewidth\": 0, \"ticks\": \"\"}}, \"type\": \"histogram\"}], \"histogram2d\": [{\"colorbar\": {\"outlinewidth\": 0, \"ticks\": \"\"}, \"colorscale\": [[0.0, \"#0d0887\"], [0.1111111111111111, \"#46039f\"], [0.2222222222222222, \"#7201a8\"], [0.3333333333333333, \"#9c179e\"], [0.4444444444444444, \"#bd3786\"], [0.5555555555555556, \"#d8576b\"], [0.6666666666666666, \"#ed7953\"], [0.7777777777777778, \"#fb9f3a\"], [0.8888888888888888, \"#fdca26\"], [1.0, \"#f0f921\"]], \"type\": \"histogram2d\"}], \"histogram2dcontour\": [{\"colorbar\": {\"outlinewidth\": 0, \"ticks\": \"\"}, \"colorscale\": [[0.0, \"#0d0887\"], [0.1111111111111111, \"#46039f\"], [0.2222222222222222, \"#7201a8\"], [0.3333333333333333, \"#9c179e\"], [0.4444444444444444, \"#bd3786\"], [0.5555555555555556, \"#d8576b\"], [0.6666666666666666, \"#ed7953\"], [0.7777777777777778, \"#fb9f3a\"], [0.8888888888888888, \"#fdca26\"], [1.0, \"#f0f921\"]], \"type\": \"histogram2dcontour\"}], \"mesh3d\": [{\"colorbar\": {\"outlinewidth\": 0, \"ticks\": \"\"}, \"type\": \"mesh3d\"}], \"parcoords\": [{\"line\": {\"colorbar\": {\"outlinewidth\": 0, \"ticks\": \"\"}}, \"type\": \"parcoords\"}], \"pie\": [{\"automargin\": true, \"type\": \"pie\"}], \"scatter\": [{\"marker\": {\"colorbar\": {\"outlinewidth\": 0, \"ticks\": \"\"}}, \"type\": \"scatter\"}], \"scatter3d\": [{\"line\": {\"colorbar\": {\"outlinewidth\": 0, \"ticks\": \"\"}}, \"marker\": {\"colorbar\": {\"outlinewidth\": 0, \"ticks\": \"\"}}, \"type\": \"scatter3d\"}], \"scattercarpet\": [{\"marker\": {\"colorbar\": {\"outlinewidth\": 0, \"ticks\": \"\"}}, \"type\": \"scattercarpet\"}], \"scattergeo\": [{\"marker\": {\"colorbar\": {\"outlinewidth\": 0, \"ticks\": \"\"}}, \"type\": \"scattergeo\"}], \"scattergl\": [{\"marker\": {\"colorbar\": {\"outlinewidth\": 0, \"ticks\": \"\"}}, \"type\": \"scattergl\"}], \"scattermapbox\": [{\"marker\": {\"colorbar\": {\"outlinewidth\": 0, \"ticks\": \"\"}}, \"type\": \"scattermapbox\"}], \"scatterpolar\": [{\"marker\": {\"colorbar\": {\"outlinewidth\": 0, \"ticks\": \"\"}}, \"type\": \"scatterpolar\"}], \"scatterpolargl\": [{\"marker\": {\"colorbar\": {\"outlinewidth\": 0, \"ticks\": \"\"}}, \"type\": \"scatterpolargl\"}], \"scatterternary\": [{\"marker\": {\"colorbar\": {\"outlinewidth\": 0, \"ticks\": \"\"}}, \"type\": \"scatterternary\"}], \"surface\": [{\"colorbar\": {\"outlinewidth\": 0, \"ticks\": \"\"}, \"colorscale\": [[0.0, \"#0d0887\"], [0.1111111111111111, \"#46039f\"], [0.2222222222222222, \"#7201a8\"], [0.3333333333333333, \"#9c179e\"], [0.4444444444444444, \"#bd3786\"], [0.5555555555555556, \"#d8576b\"], [0.6666666666666666, \"#ed7953\"], [0.7777777777777778, \"#fb9f3a\"], [0.8888888888888888, \"#fdca26\"], [1.0, \"#f0f921\"]], \"type\": \"surface\"}], \"table\": [{\"cells\": {\"fill\": {\"color\": \"#EBF0F8\"}, \"line\": {\"color\": \"white\"}}, \"header\": {\"fill\": {\"color\": \"#C8D4E3\"}, \"line\": {\"color\": \"white\"}}, \"type\": \"table\"}]}, \"layout\": {\"annotationdefaults\": {\"arrowcolor\": \"#2a3f5f\", \"arrowhead\": 0, \"arrowwidth\": 1}, \"autotypenumbers\": \"strict\", \"coloraxis\": {\"colorbar\": {\"outlinewidth\": 0, \"ticks\": \"\"}}, \"colorscale\": {\"diverging\": [[0, \"#8e0152\"], [0.1, \"#c51b7d\"], [0.2, \"#de77ae\"], [0.3, \"#f1b6da\"], [0.4, \"#fde0ef\"], [0.5, \"#f7f7f7\"], [0.6, \"#e6f5d0\"], [0.7, \"#b8e186\"], [0.8, \"#7fbc41\"], [0.9, \"#4d9221\"], [1, \"#276419\"]], \"sequential\": [[0.0, \"#0d0887\"], [0.1111111111111111, \"#46039f\"], [0.2222222222222222, \"#7201a8\"], [0.3333333333333333, \"#9c179e\"], [0.4444444444444444, \"#bd3786\"], [0.5555555555555556, \"#d8576b\"], [0.6666666666666666, \"#ed7953\"], [0.7777777777777778, \"#fb9f3a\"], [0.8888888888888888, \"#fdca26\"], [1.0, \"#f0f921\"]], \"sequentialminus\": [[0.0, \"#0d0887\"], [0.1111111111111111, \"#46039f\"], [0.2222222222222222, \"#7201a8\"], [0.3333333333333333, \"#9c179e\"], [0.4444444444444444, \"#bd3786\"], [0.5555555555555556, \"#d8576b\"], [0.6666666666666666, \"#ed7953\"], [0.7777777777777778, \"#fb9f3a\"], [0.8888888888888888, \"#fdca26\"], [1.0, \"#f0f921\"]]}, \"colorway\": [\"#636efa\", \"#EF553B\", \"#00cc96\", \"#ab63fa\", \"#FFA15A\", \"#19d3f3\", \"#FF6692\", \"#B6E880\", \"#FF97FF\", \"#FECB52\"], \"font\": {\"color\": \"#2a3f5f\"}, \"geo\": {\"bgcolor\": \"white\", \"lakecolor\": \"white\", \"landcolor\": \"#E5ECF6\", \"showlakes\": true, \"showland\": true, \"subunitcolor\": \"white\"}, \"hoverlabel\": {\"align\": \"left\"}, \"hovermode\": \"closest\", \"mapbox\": {\"style\": \"light\"}, \"paper_bgcolor\": \"white\", \"plot_bgcolor\": \"#E5ECF6\", \"polar\": {\"angularaxis\": {\"gridcolor\": \"white\", \"linecolor\": \"white\", \"ticks\": \"\"}, \"bgcolor\": \"#E5ECF6\", \"radialaxis\": {\"gridcolor\": \"white\", \"linecolor\": \"white\", \"ticks\": \"\"}}, \"scene\": {\"xaxis\": {\"backgroundcolor\": \"#E5ECF6\", \"gridcolor\": \"white\", \"gridwidth\": 2, \"linecolor\": \"white\", \"showbackground\": true, \"ticks\": \"\", \"zerolinecolor\": \"white\"}, \"yaxis\": {\"backgroundcolor\": \"#E5ECF6\", \"gridcolor\": \"white\", \"gridwidth\": 2, \"linecolor\": \"white\", \"showbackground\": true, \"ticks\": \"\", \"zerolinecolor\": \"white\"}, \"zaxis\": {\"backgroundcolor\": \"#E5ECF6\", \"gridcolor\": \"white\", \"gridwidth\": 2, \"linecolor\": \"white\", \"showbackground\": true, \"ticks\": \"\", \"zerolinecolor\": \"white\"}}, \"shapedefaults\": {\"line\": {\"color\": \"#2a3f5f\"}}, \"ternary\": {\"aaxis\": {\"gridcolor\": \"white\", \"linecolor\": \"white\", \"ticks\": \"\"}, \"baxis\": {\"gridcolor\": \"white\", \"linecolor\": \"white\", \"ticks\": \"\"}, \"bgcolor\": \"#E5ECF6\", \"caxis\": {\"gridcolor\": \"white\", \"linecolor\": \"white\", \"ticks\": \"\"}}, \"title\": {\"x\": 0.05}, \"xaxis\": {\"automargin\": true, \"gridcolor\": \"white\", \"linecolor\": \"white\", \"ticks\": \"\", \"title\": {\"standoff\": 15}, \"zerolinecolor\": \"white\", \"zerolinewidth\": 2}, \"yaxis\": {\"automargin\": true, \"gridcolor\": \"white\", \"linecolor\": \"white\", \"ticks\": \"\", \"title\": {\"standoff\": 15}, \"zerolinecolor\": \"white\", \"zerolinewidth\": 2}}}},                        {\"responsive\": true}                    ).then(function(){\n",
       "                            \n",
       "var gd = document.getElementById('8e1a2007-4b51-4ea3-89b7-e1e2ec2d22c4');\n",
       "var x = new MutationObserver(function (mutations, observer) {{\n",
       "        var display = window.getComputedStyle(gd).display;\n",
       "        if (!display || display === 'none') {{\n",
       "            console.log([gd, 'removed!']);\n",
       "            Plotly.purge(gd);\n",
       "            observer.disconnect();\n",
       "        }}\n",
       "}});\n",
       "\n",
       "// Listen for the removal of the full notebook cells\n",
       "var notebookContainer = gd.closest('#notebook-container');\n",
       "if (notebookContainer) {{\n",
       "    x.observe(notebookContainer, {childList: true});\n",
       "}}\n",
       "\n",
       "// Listen for the clearing of the current output cell\n",
       "var outputEl = gd.closest('.output');\n",
       "if (outputEl) {{\n",
       "    x.observe(outputEl, {childList: true});\n",
       "}}\n",
       "\n",
       "                        })                };                });            </script>        </div>"
      ]
     },
     "metadata": {},
     "output_type": "display_data"
    }
   ],
   "source": [
    "x,y,z=normalized[\"math\"],normalized[\"science\"],normalized[\"literature\"]\n",
    "fig = go.Figure(\n",
    "    data=[\n",
    "        go.Scatter3d(\n",
    "            name = \"data\",\n",
    "        x=x, y=y, z=z,\n",
    "        mode='markers',\n",
    "        marker=dict(\n",
    "            size=3,\n",
    "            color=z,\n",
    "            colorscale='gray',  \n",
    "            opacity=0.7\n",
    "            )\n",
    "        )\n",
    "    ]\n",
    ")\n",
    "colors=[\"red\",\"blue\",\"green\"]\n",
    "for i in range(3):\n",
    "  fig.add_trace(go.Scatter3d(name=f\"component {i+1}\",x=[-3/(i+1)*eigen_vec[i][0],3/(i+1)*eigen_vec[i][0]],y=[-3/(i+1)*eigen_vec[i][1],3/(i+1)*eigen_vec[i][1]],z=[-3/(i+1)*eigen_vec[i][2],3/(i+1)*eigen_vec[i][2]],mode='lines',line=dict(color=colors[i])))\n",
    "\n",
    "fig.add_trace(go.Scatter3d(name=\"g\",x=[0],y=[0],z=[0],mode='markers',marker=dict(size=5,color=\"purple\")))\n",
    "fig.show()"
   ]
  },
  {
   "cell_type": "markdown",
   "id": "93a47d18",
   "metadata": {},
   "source": [
    "第一主成分から順に寄与率を描画する."
   ]
  },
  {
   "cell_type": "code",
   "execution_count": 131,
   "id": "aa2ca959",
   "metadata": {},
   "outputs": [
    {
     "data": {
      "text/plain": [
       "[<matplotlib.lines.Line2D at 0x7fe05a7aedf0>]"
      ]
     },
     "execution_count": 131,
     "metadata": {},
     "output_type": "execute_result"
    },
    {
     "data": {
      "image/png": "[encoded data removed]",
      "text/plain": [
       "<Figure size 432x288 with 1 Axes>"
      ]
     },
     "metadata": {
      "needs_background": "light"
     },
     "output_type": "display_data"
    }
   ],
   "source": [
    "from functools import reduce\n",
    "sum = np.sum(eigen_val)\n",
    "contributions = eigen_val/sum\n",
    "c = [0 if i==0 else  c[i-1]+contributions[i-1]  for i in range(len(contributions)+1)]\n",
    "plt.plot(c)"
   ]
  },
  {
   "cell_type": "markdown",
   "id": "d2faf5ef",
   "metadata": {},
   "source": [
    "３次元から2次元に射影する. 射影した z 軸が0になっていることがわかる."
   ]
  },
  {
   "cell_type": "code",
   "execution_count": 167,
   "id": "0f600b70",
   "metadata": {},
   "outputs": [],
   "source": [
    "mapci = lambda i: (lambda xyz: eigen_vec[i][0]*xyz[0] + eigen_vec[i][1]*xyz[1] + eigen_vec[i][2]*xyz[2])\n",
    "\n",
    "\n",
    "mapped = pd.DataFrame({\n",
    "    \"c1\": normalized.apply(mapci(0),axis=1),\n",
    "    \"c2\":normalized.apply(mapci(1),axis=1),\n",
    "    \"c3\":normalized.apply(mapci(2),axis=1),\n",
    "})"
   ]
  },
  {
   "cell_type": "code",
   "execution_count": 191,
   "id": "53057195",
   "metadata": {},
   "outputs": [
    {
     "data": {
      "application/vnd.plotly.v1+json": {
       "config": {
        "plotlyServerURL": "https://plot.ly"
       },
       "data": [
        {
         "marker": {
          "color": [
           -0.9735835352109443,
           -0.5853182631180249,
           -0.36364127829156145,
           0.9019310078993515,
           -0.07597405353036912,
           0.3188567717967055,
           -0.8505372433872166,
           0.3400441792988172,
           0.6148095042865531,
           0.9842029698648146,
           -0.8830594979715031,
           0.3181753631398572,
           -0.0177340362930343,
           -0.524514678308827,
           0.6553448954477347,
           -0.8760250952305074,
           -0.06145431695120496,
           -0.8073278431929563,
           -0.9378931760394995,
           -0.15981306818711355,
           -0.1318811181205009,
           -0.00713998048452702,
           0.19747951298806643,
           0.3190446516493927,
           0.3550664725694687,
           0.7453495910858576,
           -0.8516100631594336,
           -0.7729492424908118,
           -0.45243619578419125,
           -0.407123187002567,
           -0.4052920869319481,
           -0.5282705350014489,
           -0.18900571787863035,
           -1.1855436471259255,
           -0.303416417700501,
           -1.000450989277763,
           -0.1101653411297443,
           -0.25605128856084197,
           0.2515722624174104,
           0.6675316793796958,
           -1.0880878915841994,
           0.40089882295241147,
           -0.6188707397675404,
           -0.8694763269061834,
           0.4519003394361506,
           -0.570202313295989,
           -0.22399731673347756,
           -0.367737487255156,
           0.05331422416637244,
           0.43460447613511555,
           0.2565972798723448,
           1.0106622279064337,
           0.02824359623560746,
           -0.04812686949279965,
           -0.023976022166047828,
           -0.009073198243937985,
           -0.7908322911473927,
           -0.29752324523586793,
           0.8825236416234625,
           -0.33070166242976407,
           -0.23067331142884806,
           -0.08479639188507682,
           -0.6801258224238295,
           -0.7418065901300529,
           -0.07724264754276292,
           0.22831594964743332,
           -1.042152856762546,
           0.37844225468798776,
           0.8339404105658876,
           -0.12026530138417257,
           -1.4192964076732166,
           -0.04228532262248097,
           -0.6636813292226624,
           -0.17583977072583656,
           -0.21298660376236245,
           -1.1272099733372065,
           0.48367334160936193,
           -0.4766806996623274,
           -0.2551141562970794,
           0.9708593042464966,
           -0.4594106491584494,
           0.3014420058970469,
           0.636721055517486,
           0.20648973119546157,
           0.001954866386926324,
           0.4223251691516066,
           -0.05891656217649885,
           0.02615733930799255,
           -0.2753224005783584,
           0.2943312982644162,
           0.24554340244432304,
           0.8057785496895179,
           1.100164366853069,
           0.6141881823614275,
           0.736152626525612,
           0.9947039358718559,
           0.764408143953366,
           -0.6961609860999607,
           -0.055561144486571845,
           0.450844871323683,
           0.13031503970723146,
           0.30156147524558863,
           -0.2540581214346933,
           0.08681564197149172,
           -0.9081043131051109,
           -0.2053980187355649,
           0.5637480384360765,
           -0.23923216915413703,
           0.24906088718978,
           -1.0122283063197028,
           0.5048692102488814,
           0.6605056004111232,
           -0.5063416321107664,
           0.05609924141058498,
           1.2043736928466224,
           0.5953421886439265,
           0.2644572399160509,
           0.703996537009455,
           -0.7286148301801019,
           -0.10125780736106021,
           -0.42591755512575324,
           0.3404020205945239,
           0.34734220003421684,
           0.23622753528545407,
           -0.6337394271200698,
           0.019327601329515165,
           0.7048652587690722,
           0.34406365398584327,
           -0.5021859031653679,
           1.0357249614497088,
           0.531865161551568,
           -0.7528599008081562,
           1.2210559912450365,
           -0.902662638487569,
           -0.178002899295005,
           0.3281473929083356,
           0.43159900535340556,
           0.7084848612033215,
           0.9917231443874667,
           0.4316157902632365,
           0.8629968059990318,
           -0.4212509457164441,
           0.029367474852220687,
           0.12202939461359129,
           -0.24976613823092186,
           0.48191967993021484,
           -0.6914853488033254,
           0.4771077883752068,
           0.2679063141573625,
           0.551783975041286,
           -0.03011589035026907,
           -0.4227326656287642,
           -0.43565967408447454,
           -0.044626736407091916,
           -0.01760610580708455,
           0.2153205306875774,
           -0.26036851781185233,
           0.46687157386240613,
           0.03528646011401099,
           0.2650191792243575,
           0.7331465889939837,
           0.33645885079913307,
           -0.9856244702472885,
           0.10334546795162047,
           0.8456589117409267,
           -0.7102124399222025
          ],
          "colorscale": [
           [
            0,
            "rgb(0, 0, 0)"
           ],
           [
            0.09090909090909091,
            "rgb(16, 16, 16)"
           ],
           [
            0.18181818181818182,
            "rgb(38, 38, 38)"
           ],
           [
            0.2727272727272727,
            "rgb(59, 59, 59)"
           ],
           [
            0.36363636363636365,
            "rgb(81, 80, 80)"
           ],
           [
            0.45454545454545453,
            "rgb(102, 101, 101)"
           ],
           [
            0.5454545454545454,
            "rgb(124, 123, 122)"
           ],
           [
            0.6363636363636364,
            "rgb(146, 146, 145)"
           ],
           [
            0.7272727272727273,
            "rgb(171, 171, 170)"
           ],
           [
            0.8181818181818182,
            "rgb(197, 197, 195)"
           ],
           [
            0.9090909090909091,
            "rgb(224, 224, 223)"
           ],
           [
            1,
            "rgb(254, 254, 253)"
           ]
          ],
          "opacity": 0.7,
          "size": 3
         },
         "mode": "markers",
         "name": "data",
         "type": "scatter3d",
         "x": [
          -0.16137518281934854,
          -0.04359807633596538,
          0.7348566224346861,
          -3.195978222549309,
          -1.673023857804023,
          -0.8861086219356402,
          0.3913824615487003,
          -0.1598147094803959,
          1.2644904388609444,
          -0.9127769139942911,
          -1.558498531502527,
          -1.393393785027583,
          0.14498015380775947,
          1.6128216994942548,
          -1.8785730704316972,
          1.941332822097678,
          1.4193034429461804,
          -2.201501826968807,
          2.9123117805859207,
          1.0995475428169916,
          -1.3182969760663847,
          -1.3680671440848764,
          -2.7808747944865475,
          2.0440969820100117,
          0.5041386164122382,
          -1.5922566940574852,
          -0.7281537783694924,
          -1.659970948587403,
          -0.7330678499088341,
          0.42525256624616314,
          1.2739689262126377,
          -0.05144022719521174,
          -0.5323497821634771,
          0.10817996834886281,
          1.845366907925621,
          -0.3709293982544353,
          -2.2808963226723913,
          -1.4730051015126464,
          -3.239383786390482,
          -0.9589766630309147,
          2.249512300513232,
          -0.02098069249015512,
          -1.6286003437088883,
          1.865536701682499,
          -2.381400697791792,
          0.5871844563131865,
          0.6427298577559921,
          -3.05924213992101,
          -1.8360306699170252,
          -2.988735701637171,
          -0.5273807402736475,
          -2.060408025185633,
          1.065651483254521,
          2.6857845812253553,
          0.8607446102888103,
          0.8183880136286081,
          0.18878528166440944,
          2.0017663402148176,
          -1.5559700161980992,
          -2.7124662905646506,
          -0.7381717281857043,
          -1.5406094153415886,
          -2.374231903521518,
          -1.46959453152024,
          0.2757822132012256,
          -0.23391952305264035,
          1.685768664363496,
          -1.7950157243727674,
          -0.8029248850271793,
          -0.19422227520084823,
          2.118439509166742,
          1.3632225819219146,
          1.5336409639516777,
          1.5399536583989808,
          -2.515132837946692,
          1.893013186717163,
          -0.1661533587927068,
          1.1251429142711928,
          1.1918341564851478,
          0.07235488835897197,
          0.9929972023202532,
          0.7967936420987611,
          -2.7664512186685037,
          0.016916366996669846,
          1.4020067581587194,
          2.117933065070762,
          0.5182384913682999,
          1.0559282188148116,
          1.6182472771915783,
          1.0716145219748336,
          -1.8504802006000771,
          0.19684625474666403,
          0.6542823260461486,
          -0.7658340170748383,
          -1.327159078621122,
          0.6038937717891718,
          -2.3601010116384473,
          1.0681749364969475,
          1.575702875235377,
          0.24054450252281057,
          -1.431292845955937,
          1.5031035646515973,
          1.5664361466031615,
          1.2665573562958772,
          2.0826643374653373,
          0.03528597238858064,
          -1.6009859616667115,
          2.3021845929866203,
          1.3977090714163336,
          -0.6891817968366887,
          -2.441860170773939,
          -0.7118730423944639,
          -0.3409004444918645,
          2.422459197847422,
          -0.35397730713196307,
          -2.3213977606171388,
          -1.0675679660975779,
          -0.40772252020980143,
          1.3421896248385359,
          0.555519166058169,
          0.3486502542965,
          -1.0374321322545037,
          -0.5009771758434329,
          0.7048546827160663,
          2.900171942984288,
          1.2312367189604374,
          0.03322105639517697,
          -2.3365466027541713,
          -1.0663881654126248,
          1.0364577365119143,
          -1.5314495667898766,
          0.20385319858594642,
          -1.0265789754183277,
          3.1498519857721243,
          2.3083354370029325,
          -1.1843770306154855,
          1.0747304065907373,
          0.24623881073162868,
          -0.5862537850518343,
          1.819664656390916,
          -0.6222717323997257,
          0.9417235327548259,
          0.6676019643327341,
          0.7591633116819019,
          2.2921925980354168,
          1.2035724286297742,
          1.6557946809514132,
          -0.8352914881777065,
          -0.043274375473982815,
          1.143650416670616,
          -1.4586624509100978,
          2.2173904744507205,
          1.5577068789939355,
          2.1924924130089707,
          -2.150710648075881,
          -3.1174987999022417,
          0.058304921691396686,
          -0.1998616130591784,
          1.563482112418249,
          -1.2665927255584712,
          -0.2602401608258301,
          -2.635352472457006,
          3.36136623856164,
          1.3943244562889352,
          0.2825254885910146,
          -2.1900063304706676
         ],
         "y": [
          0.7110195223971605,
          0.3635959964398294,
          1.2097001636879199,
          0.11822137564289947,
          -0.5415588301642276,
          -0.15185759779095792,
          0.5350401610267069,
          0.4434974506064545,
          0.8754341805305882,
          1.1463656949536074,
          -0.026412071922734023,
          0.003018860039273097,
          0.5510364046698402,
          0.6971196144517939,
          0.37812602711521315,
          0.5630478102103732,
          0.23644145623650814,
          0.1912188054904147,
          1.2049049934612328,
          0.5795897588533745,
          0.14591825648049797,
          -0.7004333658160485,
          -0.2597541827465939,
          -0.3987881268897825,
          0.04758562994170415,
          -0.06486332387327137,
          -0.3219074487455793,
          0.5349721940479872,
          -0.06259536481931616,
          0.5013973190218468,
          0.3570871581969366,
          0.952651385134504,
          0.40324418055278893,
          -0.34499651213977417,
          0.4652226121631464,
          0.16931022350721298,
          -0.8191351167875792,
          -0.07516499375437274,
          0.0765487551676669,
          -0.6239460079628445,
          0.7399094030404074,
          0.317136070451457,
          -0.5618302971478254,
          0.420702704806898,
          -0.12537554251587923,
          0.0007727267421894779,
          0.3208444843595164,
          -0.006477131398848812,
          -0.5726526352394838,
          -0.137092630461774,
          -0.5218244821426158,
          -0.2032189374930385,
          0.08068276694669632,
          0.5109018964978506,
          0.4061508483746429,
          0.36364679134278577,
          0.39811248386638864,
          0.09125764998989883,
          -0.16155883541246135,
          -0.38870680869626967,
          -1.3288386886722705,
          -0.8068426333713974,
          -0.1813268062612658,
          0.5267074789238143,
          -0.5118249945697003,
          -0.29389586720513927,
          -0.22341778381680844,
          0.06462248868161691,
          0.26178523896566847,
          0.2112810939338577,
          0.4104221393583339,
          0.9099295635246101,
          0.4854518702816699,
          0.22503120427990725,
          0.007810097909186797,
          0.7806872736614038,
          0.17136828269667886,
          0.009067132336781303,
          -0.057387115116314225,
          -0.3206722400748563,
          0.40728053488267957,
          -0.12327455313700458,
          -0.9763006381043025,
          -0.2414009086382483,
          0.6169746375934868,
          0.2056755915830831,
          -0.13613384598559158,
          -0.26076903972972815,
          0.1711168952914492,
          -0.1794607535361915,
          -0.38865601379331344,
          0.13630609027025165,
          0.5277038185839633,
          -0.6955405381402222,
          -0.4625013309488826,
          -0.45130025753243685,
          -0.30393363128635553,
          0.4169731864663012,
          -0.1375235059367396,
          -0.41596091958713477,
          -0.6978632244539074,
          -0.4766823167698977,
          -0.07990936907810386,
          0.812658656515133,
          0.2404270156634425,
          -1.349634756223199,
          0.25861001166282127,
          0.7239678866570045,
          -0.25047988824328227,
          -0.348726030480371,
          -0.18613521620694284,
          0.6189225209391582,
          -0.3327212007993559,
          0.18028494630774033,
          -0.6823829953402231,
          -0.4636818123598756,
          -0.200929874006546,
          0.06125918727115215,
          -0.038001811949070985,
          0.43209578468773535,
          -0.039736584397813635,
          -0.30361820925918,
          0.5658607529398622,
          -0.7459938882690766,
          0.9265058563191383,
          -0.21768958722758405,
          -0.027440168624858124,
          -0.2791308998759554,
          -0.5292874511805832,
          -0.21680342341122938,
          -1.263799859283968,
          0.34676831624007165,
          -0.0962045839969834,
          0.580489162388719,
          0.7299607103704484,
          0.27886896025176366,
          -0.24306771410827124,
          -0.809034039408751,
          -0.3175563937128473,
          0.6364021496258047,
          -0.08793128283492885,
          0.4221134691905833,
          0.4777453785520206,
          -0.6912270382914568,
          0.24958648064185152,
          -0.8438105002784216,
          -0.3871429382793813,
          -0.5657564756339218,
          -0.16923098299058367,
          -0.6387109752920285,
          -0.6585047042544782,
          0.7721665174508934,
          0.24356396645798872,
          0.08271578934685092,
          -0.7552299062640873,
          -0.9289756527321127,
          -0.33127215990736986,
          -0.06140236501366761,
          -0.2827158982212307,
          -0.0023985682038837886,
          -0.2553687835623347,
          -0.11426354051069054,
          0.6600798482092761,
          -0.31980252700993084,
          -0.905729550947941,
          -0.1955843450988827
         ],
         "z": [
          0,
          0,
          0,
          0,
          0,
          0,
          0,
          0,
          0,
          0,
          0,
          0,
          0,
          0,
          0,
          0,
          0,
          0,
          0,
          0,
          0,
          0,
          0,
          0,
          0,
          0,
          0,
          0,
          0,
          0,
          0,
          0,
          0,
          0,
          0,
          0,
          0,
          0,
          0,
          0,
          0,
          0,
          0,
          0,
          0,
          0,
          0,
          0,
          0,
          0,
          0,
          0,
          0,
          0,
          0,
          0,
          0,
          0,
          0,
          0,
          0,
          0,
          0,
          0,
          0,
          0,
          0,
          0,
          0,
          0,
          0,
          0,
          0,
          0,
          0,
          0,
          0,
          0,
          0,
          0,
          0,
          0,
          0,
          0,
          0,
          0,
          0,
          0,
          0,
          0,
          0,
          0,
          0,
          0,
          0,
          0,
          0,
          0,
          0,
          0,
          0,
          0,
          0,
          0,
          0,
          0,
          0,
          0,
          0,
          0,
          0,
          0,
          0,
          0,
          0,
          0,
          0,
          0,
          0,
          0,
          0,
          0,
          0,
          0,
          0,
          0,
          0,
          0,
          0,
          0,
          0,
          0,
          0,
          0,
          0,
          0,
          0,
          0,
          0,
          0,
          0,
          0,
          0,
          0,
          0,
          0,
          0,
          0,
          0,
          0,
          0,
          0,
          0,
          0,
          0,
          0,
          0,
          0,
          0,
          0,
          0,
          0,
          0,
          0,
          0,
          0
         ]
        },
        {
         "line": {
          "color": "red"
         },
         "mode": "lines+text",
         "name": "w1",
         "text": [
          "w1"
         ],
         "type": "scatter3d",
         "x": [
          0,
          0
         ],
         "y": [
          -1,
          1
         ],
         "z": [
          0,
          0
         ]
        },
        {
         "line": {
          "color": "blue"
         },
         "mode": "lines+text",
         "name": "w2",
         "text": [
          "w2"
         ],
         "type": "scatter3d",
         "x": [
          -1,
          1
         ],
         "y": [
          0,
          0
         ],
         "z": [
          0,
          0
         ]
        }
       ],
       "layout": {
        "autosize": true,
        "scene": {
         "aspectmode": "auto",
         "aspectratio": {
          "x": 1,
          "y": 1,
          "z": 1
         },
         "camera": {
          "center": {
           "x": 0,
           "y": 0,
           "z": 0
          },
          "eye": {
           "x": -0.8783899343740929,
           "y": 0.4835308578737746,
           "z": 0.3044911228762684
          },
          "projection": {
           "type": "perspective"
          },
          "up": {
           "x": 0,
           "y": 0,
           "z": 1
          }
         }
        },
        "template": {
         "data": {
          "bar": [
           {
            "error_x": {
             "color": "#2a3f5f"
            },
            "error_y": {
             "color": "#2a3f5f"
            },
            "marker": {
             "line": {
              "color": "#E5ECF6",
              "width": 0.5
             }
            },
            "type": "bar"
           }
          ],
          "barpolar": [
           {
            "marker": {
             "line": {
              "color": "#E5ECF6",
              "width": 0.5
             }
            },
            "type": "barpolar"
           }
          ],
          "carpet": [
           {
            "aaxis": {
             "endlinecolor": "#2a3f5f",
             "gridcolor": "white",
             "linecolor": "white",
             "minorgridcolor": "white",
             "startlinecolor": "#2a3f5f"
            },
            "baxis": {
             "endlinecolor": "#2a3f5f",
             "gridcolor": "white",
             "linecolor": "white",
             "minorgridcolor": "white",
             "startlinecolor": "#2a3f5f"
            },
            "type": "carpet"
           }
          ],
          "choropleth": [
           {
            "colorbar": {
             "outlinewidth": 0,
             "ticks": ""
            },
            "type": "choropleth"
           }
          ],
          "contour": [
           {
            "colorbar": {
             "outlinewidth": 0,
             "ticks": ""
            },
            "colorscale": [
             [
              0,
              "#0d0887"
             ],
             [
              0.1111111111111111,
              "#46039f"
             ],
             [
              0.2222222222222222,
              "#7201a8"
             ],
             [
              0.3333333333333333,
              "#9c179e"
             ],
             [
              0.4444444444444444,
              "#bd3786"
             ],
             [
              0.5555555555555556,
              "#d8576b"
             ],
             [
              0.6666666666666666,
              "#ed7953"
             ],
             [
              0.7777777777777778,
              "#fb9f3a"
             ],
             [
              0.8888888888888888,
              "#fdca26"
             ],
             [
              1,
              "#f0f921"
             ]
            ],
            "type": "contour"
           }
          ],
          "contourcarpet": [
           {
            "colorbar": {
             "outlinewidth": 0,
             "ticks": ""
            },
            "type": "contourcarpet"
           }
          ],
          "heatmap": [
           {
            "colorbar": {
             "outlinewidth": 0,
             "ticks": ""
            },
            "colorscale": [
             [
              0,
              "#0d0887"
             ],
             [
              0.1111111111111111,
              "#46039f"
             ],
             [
              0.2222222222222222,
              "#7201a8"
             ],
             [
              0.3333333333333333,
              "#9c179e"
             ],
             [
              0.4444444444444444,
              "#bd3786"
             ],
             [
              0.5555555555555556,
              "#d8576b"
             ],
             [
              0.6666666666666666,
              "#ed7953"
             ],
             [
              0.7777777777777778,
              "#fb9f3a"
             ],
             [
              0.8888888888888888,
              "#fdca26"
             ],
             [
              1,
              "#f0f921"
             ]
            ],
            "type": "heatmap"
           }
          ],
          "heatmapgl": [
           {
            "colorbar": {
             "outlinewidth": 0,
             "ticks": ""
            },
            "colorscale": [
             [
              0,
              "#0d0887"
             ],
             [
              0.1111111111111111,
              "#46039f"
             ],
             [
              0.2222222222222222,
              "#7201a8"
             ],
             [
              0.3333333333333333,
              "#9c179e"
             ],
             [
              0.4444444444444444,
              "#bd3786"
             ],
             [
              0.5555555555555556,
              "#d8576b"
             ],
             [
              0.6666666666666666,
              "#ed7953"
             ],
             [
              0.7777777777777778,
              "#fb9f3a"
             ],
             [
              0.8888888888888888,
              "#fdca26"
             ],
             [
              1,
              "#f0f921"
             ]
            ],
            "type": "heatmapgl"
           }
          ],
          "histogram": [
           {
            "marker": {
             "colorbar": {
              "outlinewidth": 0,
              "ticks": ""
             }
            },
            "type": "histogram"
           }
          ],
          "histogram2d": [
           {
            "colorbar": {
             "outlinewidth": 0,
             "ticks": ""
            },
            "colorscale": [
             [
              0,
              "#0d0887"
             ],
             [
              0.1111111111111111,
              "#46039f"
             ],
             [
              0.2222222222222222,
              "#7201a8"
             ],
             [
              0.3333333333333333,
              "#9c179e"
             ],
             [
              0.4444444444444444,
              "#bd3786"
             ],
             [
              0.5555555555555556,
              "#d8576b"
             ],
             [
              0.6666666666666666,
              "#ed7953"
             ],
             [
              0.7777777777777778,
              "#fb9f3a"
             ],
             [
              0.8888888888888888,
              "#fdca26"
             ],
             [
              1,
              "#f0f921"
             ]
            ],
            "type": "histogram2d"
           }
          ],
          "histogram2dcontour": [
           {
            "colorbar": {
             "outlinewidth": 0,
             "ticks": ""
            },
            "colorscale": [
             [
              0,
              "#0d0887"
             ],
             [
              0.1111111111111111,
              "#46039f"
             ],
             [
              0.2222222222222222,
              "#7201a8"
             ],
             [
              0.3333333333333333,
              "#9c179e"
             ],
             [
              0.4444444444444444,
              "#bd3786"
             ],
             [
              0.5555555555555556,
              "#d8576b"
             ],
             [
              0.6666666666666666,
              "#ed7953"
             ],
             [
              0.7777777777777778,
              "#fb9f3a"
             ],
             [
              0.8888888888888888,
              "#fdca26"
             ],
             [
              1,
              "#f0f921"
             ]
            ],
            "type": "histogram2dcontour"
           }
          ],
          "mesh3d": [
           {
            "colorbar": {
             "outlinewidth": 0,
             "ticks": ""
            },
            "type": "mesh3d"
           }
          ],
          "parcoords": [
           {
            "line": {
             "colorbar": {
              "outlinewidth": 0,
              "ticks": ""
             }
            },
            "type": "parcoords"
           }
          ],
          "pie": [
           {
            "automargin": true,
            "type": "pie"
           }
          ],
          "scatter": [
           {
            "marker": {
             "colorbar": {
              "outlinewidth": 0,
              "ticks": ""
             }
            },
            "type": "scatter"
           }
          ],
          "scatter3d": [
           {
            "line": {
             "colorbar": {
              "outlinewidth": 0,
              "ticks": ""
             }
            },
            "marker": {
             "colorbar": {
              "outlinewidth": 0,
              "ticks": ""
             }
            },
            "type": "scatter3d"
           }
          ],
          "scattercarpet": [
           {
            "marker": {
             "colorbar": {
              "outlinewidth": 0,
              "ticks": ""
             }
            },
            "type": "scattercarpet"
           }
          ],
          "scattergeo": [
           {
            "marker": {
             "colorbar": {
              "outlinewidth": 0,
              "ticks": ""
             }
            },
            "type": "scattergeo"
           }
          ],
          "scattergl": [
           {
            "marker": {
             "colorbar": {
              "outlinewidth": 0,
              "ticks": ""
             }
            },
            "type": "scattergl"
           }
          ],
          "scattermapbox": [
           {
            "marker": {
             "colorbar": {
              "outlinewidth": 0,
              "ticks": ""
             }
            },
            "type": "scattermapbox"
           }
          ],
          "scatterpolar": [
           {
            "marker": {
             "colorbar": {
              "outlinewidth": 0,
              "ticks": ""
             }
            },
            "type": "scatterpolar"
           }
          ],
          "scatterpolargl": [
           {
            "marker": {
             "colorbar": {
              "outlinewidth": 0,
              "ticks": ""
             }
            },
            "type": "scatterpolargl"
           }
          ],
          "scatterternary": [
           {
            "marker": {
             "colorbar": {
              "outlinewidth": 0,
              "ticks": ""
             }
            },
            "type": "scatterternary"
           }
          ],
          "surface": [
           {
            "colorbar": {
             "outlinewidth": 0,
             "ticks": ""
            },
            "colorscale": [
             [
              0,
              "#0d0887"
             ],
             [
              0.1111111111111111,
              "#46039f"
             ],
             [
              0.2222222222222222,
              "#7201a8"
             ],
             [
              0.3333333333333333,
              "#9c179e"
             ],
             [
              0.4444444444444444,
              "#bd3786"
             ],
             [
              0.5555555555555556,
              "#d8576b"
             ],
             [
              0.6666666666666666,
              "#ed7953"
             ],
             [
              0.7777777777777778,
              "#fb9f3a"
             ],
             [
              0.8888888888888888,
              "#fdca26"
             ],
             [
              1,
              "#f0f921"
             ]
            ],
            "type": "surface"
           }
          ],
          "table": [
           {
            "cells": {
             "fill": {
              "color": "#EBF0F8"
             },
             "line": {
              "color": "white"
             }
            },
            "header": {
             "fill": {
              "color": "#C8D4E3"
             },
             "line": {
              "color": "white"
             }
            },
            "type": "table"
           }
          ]
         },
         "layout": {
          "annotationdefaults": {
           "arrowcolor": "#2a3f5f",
           "arrowhead": 0,
           "arrowwidth": 1
          },
          "autotypenumbers": "strict",
          "coloraxis": {
           "colorbar": {
            "outlinewidth": 0,
            "ticks": ""
           }
          },
          "colorscale": {
           "diverging": [
            [
             0,
             "#8e0152"
            ],
            [
             0.1,
             "#c51b7d"
            ],
            [
             0.2,
             "#de77ae"
            ],
            [
             0.3,
             "#f1b6da"
            ],
            [
             0.4,
             "#fde0ef"
            ],
            [
             0.5,
             "#f7f7f7"
            ],
            [
             0.6,
             "#e6f5d0"
            ],
            [
             0.7,
             "#b8e186"
            ],
            [
             0.8,
             "#7fbc41"
            ],
            [
             0.9,
             "#4d9221"
            ],
            [
             1,
             "#276419"
            ]
           ],
           "sequential": [
            [
             0,
             "#0d0887"
            ],
            [
             0.1111111111111111,
             "#46039f"
            ],
            [
             0.2222222222222222,
             "#7201a8"
            ],
            [
             0.3333333333333333,
             "#9c179e"
            ],
            [
             0.4444444444444444,
             "#bd3786"
            ],
            [
             0.5555555555555556,
             "#d8576b"
            ],
            [
             0.6666666666666666,
             "#ed7953"
            ],
            [
             0.7777777777777778,
             "#fb9f3a"
            ],
            [
             0.8888888888888888,
             "#fdca26"
            ],
            [
             1,
             "#f0f921"
            ]
           ],
           "sequentialminus": [
            [
             0,
             "#0d0887"
            ],
            [
             0.1111111111111111,
             "#46039f"
            ],
            [
             0.2222222222222222,
             "#7201a8"
            ],
            [
             0.3333333333333333,
             "#9c179e"
            ],
            [
             0.4444444444444444,
             "#bd3786"
            ],
            [
             0.5555555555555556,
             "#d8576b"
            ],
            [
             0.6666666666666666,
             "#ed7953"
            ],
            [
             0.7777777777777778,
             "#fb9f3a"
            ],
            [
             0.8888888888888888,
             "#fdca26"
            ],
            [
             1,
             "#f0f921"
            ]
           ]
          },
          "colorway": [
           "#636efa",
           "#EF553B",
           "#00cc96",
           "#ab63fa",
           "#FFA15A",
           "#19d3f3",
           "#FF6692",
           "#B6E880",
           "#FF97FF",
           "#FECB52"
          ],
          "font": {
           "color": "#2a3f5f"
          },
          "geo": {
           "bgcolor": "white",
           "lakecolor": "white",
           "landcolor": "#E5ECF6",
           "showlakes": true,
           "showland": true,
           "subunitcolor": "white"
          },
          "hoverlabel": {
           "align": "left"
          },
          "hovermode": "closest",
          "mapbox": {
           "style": "light"
          },
          "paper_bgcolor": "white",
          "plot_bgcolor": "#E5ECF6",
          "polar": {
           "angularaxis": {
            "gridcolor": "white",
            "linecolor": "white",
            "ticks": ""
           },
           "bgcolor": "#E5ECF6",
           "radialaxis": {
            "gridcolor": "white",
            "linecolor": "white",
            "ticks": ""
           }
          },
          "scene": {
           "xaxis": {
            "backgroundcolor": "#E5ECF6",
            "gridcolor": "white",
            "gridwidth": 2,
            "linecolor": "white",
            "showbackground": true,
            "ticks": "",
            "zerolinecolor": "white"
           },
           "yaxis": {
            "backgroundcolor": "#E5ECF6",
            "gridcolor": "white",
            "gridwidth": 2,
            "linecolor": "white",
            "showbackground": true,
            "ticks": "",
            "zerolinecolor": "white"
           },
           "zaxis": {
            "backgroundcolor": "#E5ECF6",
            "gridcolor": "white",
            "gridwidth": 2,
            "linecolor": "white",
            "showbackground": true,
            "ticks": "",
            "zerolinecolor": "white"
           }
          },
          "shapedefaults": {
           "line": {
            "color": "#2a3f5f"
           }
          },
          "ternary": {
           "aaxis": {
            "gridcolor": "white",
            "linecolor": "white",
            "ticks": ""
           },
           "baxis": {
            "gridcolor": "white",
            "linecolor": "white",
            "ticks": ""
           },
           "bgcolor": "#E5ECF6",
           "caxis": {
            "gridcolor": "white",
            "linecolor": "white",
            "ticks": ""
           }
          },
          "title": {
           "x": 0.05
          },
          "xaxis": {
           "automargin": true,
           "gridcolor": "white",
           "linecolor": "white",
           "ticks": "",
           "title": {
            "standoff": 15
           },
           "zerolinecolor": "white",
           "zerolinewidth": 2
          },
          "yaxis": {
           "automargin": true,
           "gridcolor": "white",
           "linecolor": "white",
           "ticks": "",
           "title": {
            "standoff": 15
           },
           "zerolinecolor": "white",
           "zerolinewidth": 2
          }
         }
        }
       }
      },
      "image/png": "[encoded data removed]",
      "text/html": [
       "<div>                            <div id=\"3d0d25d0-77e9-4c1f-ba41-f545dda8dbbf\" class=\"plotly-graph-div\" style=\"height:525px; width:100%;\"></div>            <script type=\"text/javascript\">                require([\"plotly\"], function(Plotly) {                    window.PLOTLYENV=window.PLOTLYENV || {};                                    if (document.getElementById(\"3d0d25d0-77e9-4c1f-ba41-f545dda8dbbf\")) {                    Plotly.newPlot(                        \"3d0d25d0-77e9-4c1f-ba41-f545dda8dbbf\",                        [{\"marker\": {\"color\": [-0.9735835352109443, -0.5853182631180249, -0.36364127829156145, 0.9019310078993515, -0.07597405353036912, 0.3188567717967055, -0.8505372433872166, 0.3400441792988172, 0.6148095042865531, 0.9842029698648146, -0.8830594979715031, 0.3181753631398572, -0.0177340362930343, -0.524514678308827, 0.6553448954477347, -0.8760250952305074, -0.06145431695120496, -0.8073278431929563, -0.9378931760394995, -0.15981306818711355, -0.1318811181205009, -0.00713998048452702, 0.19747951298806643, 0.3190446516493927, 0.3550664725694687, 0.7453495910858576, -0.8516100631594336, -0.7729492424908118, -0.45243619578419125, -0.407123187002567, -0.4052920869319481, -0.5282705350014489, -0.18900571787863035, -1.1855436471259255, -0.303416417700501, -1.000450989277763, -0.1101653411297443, -0.25605128856084197, 0.2515722624174104, 0.6675316793796958, -1.0880878915841994, 0.40089882295241147, -0.6188707397675404, -0.8694763269061834, 0.4519003394361506, -0.570202313295989, -0.22399731673347756, -0.367737487255156, 0.05331422416637244, 0.43460447613511555, 0.2565972798723448, 1.0106622279064337, 0.02824359623560746, -0.04812686949279965, -0.023976022166047828, -0.009073198243937985, -0.7908322911473927, -0.29752324523586793, 0.8825236416234625, -0.33070166242976407, -0.23067331142884806, -0.08479639188507682, -0.6801258224238295, -0.7418065901300529, -0.07724264754276292, 0.22831594964743332, -1.042152856762546, 0.37844225468798776, 0.8339404105658876, -0.12026530138417257, -1.4192964076732166, -0.04228532262248097, -0.6636813292226624, -0.17583977072583656, -0.21298660376236245, -1.1272099733372065, 0.48367334160936193, -0.4766806996623274, -0.2551141562970794, 0.9708593042464966, -0.4594106491584494, 0.3014420058970469, 0.636721055517486, 0.20648973119546157, 0.001954866386926324, 0.4223251691516066, -0.05891656217649885, 0.02615733930799255, -0.2753224005783584, 0.2943312982644162, 0.24554340244432304, 0.8057785496895179, 1.100164366853069, 0.6141881823614275, 0.736152626525612, 0.9947039358718559, 0.764408143953366, -0.6961609860999607, -0.055561144486571845, 0.450844871323683, 0.13031503970723146, 0.30156147524558863, -0.2540581214346933, 0.08681564197149172, -0.9081043131051109, -0.2053980187355649, 0.5637480384360765, -0.23923216915413703, 0.24906088718978, -1.0122283063197028, 0.5048692102488814, 0.6605056004111232, -0.5063416321107664, 0.05609924141058498, 1.2043736928466224, 0.5953421886439265, 0.2644572399160509, 0.703996537009455, -0.7286148301801019, -0.10125780736106021, -0.42591755512575324, 0.3404020205945239, 0.34734220003421684, 0.23622753528545407, -0.6337394271200698, 0.019327601329515165, 0.7048652587690722, 0.34406365398584327, -0.5021859031653679, 1.0357249614497088, 0.531865161551568, -0.7528599008081562, 1.2210559912450365, -0.902662638487569, -0.178002899295005, 0.3281473929083356, 0.43159900535340556, 0.7084848612033215, 0.9917231443874667, 0.4316157902632365, 0.8629968059990318, -0.4212509457164441, 0.029367474852220687, 0.12202939461359129, -0.24976613823092186, 0.48191967993021484, -0.6914853488033254, 0.4771077883752068, 0.2679063141573625, 0.551783975041286, -0.03011589035026907, -0.4227326656287642, -0.43565967408447454, -0.044626736407091916, -0.01760610580708455, 0.2153205306875774, -0.26036851781185233, 0.46687157386240613, 0.03528646011401099, 0.2650191792243575, 0.7331465889939837, 0.33645885079913307, -0.9856244702472885, 0.10334546795162047, 0.8456589117409267, -0.7102124399222025], \"colorscale\": [[0.0, \"rgb(0, 0, 0)\"], [0.09090909090909091, \"rgb(16, 16, 16)\"], [0.18181818181818182, \"rgb(38, 38, 38)\"], [0.2727272727272727, \"rgb(59, 59, 59)\"], [0.36363636363636365, \"rgb(81, 80, 80)\"], [0.45454545454545453, \"rgb(102, 101, 101)\"], [0.5454545454545454, \"rgb(124, 123, 122)\"], [0.6363636363636364, \"rgb(146, 146, 145)\"], [0.7272727272727273, \"rgb(171, 171, 170)\"], [0.8181818181818182, \"rgb(197, 197, 195)\"], [0.9090909090909091, \"rgb(224, 224, 223)\"], [1.0, \"rgb(254, 254, 253)\"]], \"opacity\": 0.7, \"size\": 3}, \"mode\": \"markers\", \"name\": \"data\", \"type\": \"scatter3d\", \"x\": [-0.16137518281934854, -0.04359807633596538, 0.7348566224346861, -3.195978222549309, -1.673023857804023, -0.8861086219356402, 0.3913824615487003, -0.1598147094803959, 1.2644904388609444, -0.9127769139942911, -1.558498531502527, -1.393393785027583, 0.14498015380775947, 1.6128216994942548, -1.8785730704316972, 1.941332822097678, 1.4193034429461804, -2.201501826968807, 2.9123117805859207, 1.0995475428169916, -1.3182969760663847, -1.3680671440848764, -2.7808747944865475, 2.0440969820100117, 0.5041386164122382, -1.5922566940574852, -0.7281537783694924, -1.659970948587403, -0.7330678499088341, 0.42525256624616314, 1.2739689262126377, -0.05144022719521174, -0.5323497821634771, 0.10817996834886281, 1.845366907925621, -0.3709293982544353, -2.2808963226723913, -1.4730051015126464, -3.239383786390482, -0.9589766630309147, 2.249512300513232, -0.02098069249015512, -1.6286003437088883, 1.865536701682499, -2.381400697791792, 0.5871844563131865, 0.6427298577559921, -3.05924213992101, -1.8360306699170252, -2.988735701637171, -0.5273807402736475, -2.060408025185633, 1.065651483254521, 2.6857845812253553, 0.8607446102888103, 0.8183880136286081, 0.18878528166440944, 2.0017663402148176, -1.5559700161980992, -2.7124662905646506, -0.7381717281857043, -1.5406094153415886, -2.374231903521518, -1.46959453152024, 0.2757822132012256, -0.23391952305264035, 1.685768664363496, -1.7950157243727674, -0.8029248850271793, -0.19422227520084823, 2.118439509166742, 1.3632225819219146, 1.5336409639516777, 1.5399536583989808, -2.515132837946692, 1.893013186717163, -0.1661533587927068, 1.1251429142711928, 1.1918341564851478, 0.07235488835897197, 0.9929972023202532, 0.7967936420987611, -2.7664512186685037, 0.016916366996669846, 1.4020067581587194, 2.117933065070762, 0.5182384913682999, 1.0559282188148116, 1.6182472771915783, 1.0716145219748336, -1.8504802006000771, 0.19684625474666403, 0.6542823260461486, -0.7658340170748383, -1.327159078621122, 0.6038937717891718, -2.3601010116384473, 1.0681749364969475, 1.575702875235377, 0.24054450252281057, -1.431292845955937, 1.5031035646515973, 1.5664361466031615, 1.2665573562958772, 2.0826643374653373, 0.03528597238858064, -1.6009859616667115, 2.3021845929866203, 1.3977090714163336, -0.6891817968366887, -2.441860170773939, -0.7118730423944639, -0.3409004444918645, 2.422459197847422, -0.35397730713196307, -2.3213977606171388, -1.0675679660975779, -0.40772252020980143, 1.3421896248385359, 0.555519166058169, 0.3486502542965, -1.0374321322545037, -0.5009771758434329, 0.7048546827160663, 2.900171942984288, 1.2312367189604374, 0.03322105639517697, -2.3365466027541713, -1.0663881654126248, 1.0364577365119143, -1.5314495667898766, 0.20385319858594642, -1.0265789754183277, 3.1498519857721243, 2.3083354370029325, -1.1843770306154855, 1.0747304065907373, 0.24623881073162868, -0.5862537850518343, 1.819664656390916, -0.6222717323997257, 0.9417235327548259, 0.6676019643327341, 0.7591633116819019, 2.2921925980354168, 1.2035724286297742, 1.6557946809514132, -0.8352914881777065, -0.043274375473982815, 1.143650416670616, -1.4586624509100978, 2.2173904744507205, 1.5577068789939355, 2.1924924130089707, -2.150710648075881, -3.1174987999022417, 0.058304921691396686, -0.1998616130591784, 1.563482112418249, -1.2665927255584712, -0.2602401608258301, -2.635352472457006, 3.36136623856164, 1.3943244562889352, 0.2825254885910146, -2.1900063304706676], \"y\": [0.7110195223971605, 0.3635959964398294, 1.2097001636879199, 0.11822137564289947, -0.5415588301642276, -0.15185759779095792, 0.5350401610267069, 0.4434974506064545, 0.8754341805305882, 1.1463656949536074, -0.026412071922734023, 0.003018860039273097, 0.5510364046698402, 0.6971196144517939, 0.37812602711521315, 0.5630478102103732, 0.23644145623650814, 0.1912188054904147, 1.2049049934612328, 0.5795897588533745, 0.14591825648049797, -0.7004333658160485, -0.2597541827465939, -0.3987881268897825, 0.04758562994170415, -0.06486332387327137, -0.3219074487455793, 0.5349721940479872, -0.06259536481931616, 0.5013973190218468, 0.3570871581969366, 0.952651385134504, 0.40324418055278893, -0.34499651213977417, 0.4652226121631464, 0.16931022350721298, -0.8191351167875792, -0.07516499375437274, 0.0765487551676669, -0.6239460079628445, 0.7399094030404074, 0.317136070451457, -0.5618302971478254, 0.420702704806898, -0.12537554251587923, 0.0007727267421894779, 0.3208444843595164, -0.006477131398848812, -0.5726526352394838, -0.137092630461774, -0.5218244821426158, -0.2032189374930385, 0.08068276694669632, 0.5109018964978506, 0.4061508483746429, 0.36364679134278577, 0.39811248386638864, 0.09125764998989883, -0.16155883541246135, -0.38870680869626967, -1.3288386886722705, -0.8068426333713974, -0.1813268062612658, 0.5267074789238143, -0.5118249945697003, -0.29389586720513927, -0.22341778381680844, 0.06462248868161691, 0.26178523896566847, 0.2112810939338577, 0.4104221393583339, 0.9099295635246101, 0.4854518702816699, 0.22503120427990725, 0.007810097909186797, 0.7806872736614038, 0.17136828269667886, 0.009067132336781303, -0.057387115116314225, -0.3206722400748563, 0.40728053488267957, -0.12327455313700458, -0.9763006381043025, -0.2414009086382483, 0.6169746375934868, 0.2056755915830831, -0.13613384598559158, -0.26076903972972815, 0.1711168952914492, -0.1794607535361915, -0.38865601379331344, 0.13630609027025165, 0.5277038185839633, -0.6955405381402222, -0.4625013309488826, -0.45130025753243685, -0.30393363128635553, 0.4169731864663012, -0.1375235059367396, -0.41596091958713477, -0.6978632244539074, -0.4766823167698977, -0.07990936907810386, 0.812658656515133, 0.2404270156634425, -1.349634756223199, 0.25861001166282127, 0.7239678866570045, -0.25047988824328227, -0.348726030480371, -0.18613521620694284, 0.6189225209391582, -0.3327212007993559, 0.18028494630774033, -0.6823829953402231, -0.4636818123598756, -0.200929874006546, 0.06125918727115215, -0.038001811949070985, 0.43209578468773535, -0.039736584397813635, -0.30361820925918, 0.5658607529398622, -0.7459938882690766, 0.9265058563191383, -0.21768958722758405, -0.027440168624858124, -0.2791308998759554, -0.5292874511805832, -0.21680342341122938, -1.263799859283968, 0.34676831624007165, -0.0962045839969834, 0.580489162388719, 0.7299607103704484, 0.27886896025176366, -0.24306771410827124, -0.809034039408751, -0.3175563937128473, 0.6364021496258047, -0.08793128283492885, 0.4221134691905833, 0.4777453785520206, -0.6912270382914568, 0.24958648064185152, -0.8438105002784216, -0.3871429382793813, -0.5657564756339218, -0.16923098299058367, -0.6387109752920285, -0.6585047042544782, 0.7721665174508934, 0.24356396645798872, 0.08271578934685092, -0.7552299062640873, -0.9289756527321127, -0.33127215990736986, -0.06140236501366761, -0.2827158982212307, -0.0023985682038837886, -0.2553687835623347, -0.11426354051069054, 0.6600798482092761, -0.31980252700993084, -0.905729550947941, -0.1955843450988827], \"z\": [0.0, 0.0, 0.0, 0.0, 0.0, 0.0, 0.0, 0.0, 0.0, 0.0, 0.0, 0.0, 0.0, 0.0, 0.0, 0.0, 0.0, 0.0, 0.0, 0.0, 0.0, 0.0, 0.0, 0.0, 0.0, 0.0, 0.0, 0.0, 0.0, 0.0, 0.0, 0.0, 0.0, 0.0, 0.0, 0.0, 0.0, 0.0, 0.0, 0.0, 0.0, 0.0, 0.0, 0.0, 0.0, 0.0, 0.0, 0.0, 0.0, 0.0, 0.0, 0.0, 0.0, 0.0, 0.0, 0.0, 0.0, 0.0, 0.0, 0.0, 0.0, 0.0, 0.0, 0.0, 0.0, 0.0, 0.0, 0.0, 0.0, 0.0, 0.0, 0.0, 0.0, 0.0, 0.0, 0.0, 0.0, 0.0, 0.0, 0.0, 0.0, 0.0, 0.0, 0.0, 0.0, 0.0, 0.0, 0.0, 0.0, 0.0, 0.0, 0.0, 0.0, 0.0, 0.0, 0.0, 0.0, 0.0, 0.0, 0.0, 0.0, 0.0, 0.0, 0.0, 0.0, 0.0, 0.0, 0.0, 0.0, 0.0, 0.0, 0.0, 0.0, 0.0, 0.0, 0.0, 0.0, 0.0, 0.0, 0.0, 0.0, 0.0, 0.0, 0.0, 0.0, 0.0, 0.0, 0.0, 0.0, 0.0, 0.0, 0.0, 0.0, 0.0, 0.0, 0.0, 0.0, 0.0, 0.0, 0.0, 0.0, 0.0, 0.0, 0.0, 0.0, 0.0, 0.0, 0.0, 0.0, 0.0, 0.0, 0.0, 0.0, 0.0, 0.0, 0.0, 0.0, 0.0, 0.0, 0.0, 0.0, 0.0, 0.0, 0.0, 0.0, 0.0]}, {\"line\": {\"color\": \"red\"}, \"mode\": \"lines+text\", \"name\": \"w1\", \"text\": [\"w1\"], \"type\": \"scatter3d\", \"x\": [0, 0], \"y\": [-1, 1], \"z\": [0, 0]}, {\"line\": {\"color\": \"blue\"}, \"mode\": \"lines+text\", \"name\": \"w2\", \"text\": [\"w2\"], \"type\": \"scatter3d\", \"x\": [-1, 1], \"y\": [0, 0], \"z\": [0, 0]}],                        {\"template\": {\"data\": {\"bar\": [{\"error_x\": {\"color\": \"#2a3f5f\"}, \"error_y\": {\"color\": \"#2a3f5f\"}, \"marker\": {\"line\": {\"color\": \"#E5ECF6\", \"width\": 0.5}}, \"type\": \"bar\"}], \"barpolar\": [{\"marker\": {\"line\": {\"color\": \"#E5ECF6\", \"width\": 0.5}}, \"type\": \"barpolar\"}], \"carpet\": [{\"aaxis\": {\"endlinecolor\": \"#2a3f5f\", \"gridcolor\": \"white\", \"linecolor\": \"white\", \"minorgridcolor\": \"white\", \"startlinecolor\": \"#2a3f5f\"}, \"baxis\": {\"endlinecolor\": \"#2a3f5f\", \"gridcolor\": \"white\", \"linecolor\": \"white\", \"minorgridcolor\": \"white\", \"startlinecolor\": \"#2a3f5f\"}, \"type\": \"carpet\"}], \"choropleth\": [{\"colorbar\": {\"outlinewidth\": 0, \"ticks\": \"\"}, \"type\": \"choropleth\"}], \"contour\": [{\"colorbar\": {\"outlinewidth\": 0, \"ticks\": \"\"}, \"colorscale\": [[0.0, \"#0d0887\"], [0.1111111111111111, \"#46039f\"], [0.2222222222222222, \"#7201a8\"], [0.3333333333333333, \"#9c179e\"], [0.4444444444444444, \"#bd3786\"], [0.5555555555555556, \"#d8576b\"], [0.6666666666666666, \"#ed7953\"], [0.7777777777777778, \"#fb9f3a\"], [0.8888888888888888, \"#fdca26\"], [1.0, \"#f0f921\"]], \"type\": \"contour\"}], \"contourcarpet\": [{\"colorbar\": {\"outlinewidth\": 0, \"ticks\": \"\"}, \"type\": \"contourcarpet\"}], \"heatmap\": [{\"colorbar\": {\"outlinewidth\": 0, \"ticks\": \"\"}, \"colorscale\": [[0.0, \"#0d0887\"], [0.1111111111111111, \"#46039f\"], [0.2222222222222222, \"#7201a8\"], [0.3333333333333333, \"#9c179e\"], [0.4444444444444444, \"#bd3786\"], [0.5555555555555556, \"#d8576b\"], [0.6666666666666666, \"#ed7953\"], [0.7777777777777778, \"#fb9f3a\"], [0.8888888888888888, \"#fdca26\"], [1.0, \"#f0f921\"]], \"type\": \"heatmap\"}], \"heatmapgl\": [{\"colorbar\": {\"outlinewidth\": 0, \"ticks\": \"\"}, \"colorscale\": [[0.0, \"#0d0887\"], [0.1111111111111111, \"#46039f\"], [0.2222222222222222, \"#7201a8\"], [0.3333333333333333, \"#9c179e\"], [0.4444444444444444, \"#bd3786\"], [0.5555555555555556, \"#d8576b\"], [0.6666666666666666, \"#ed7953\"], [0.7777777777777778, \"#fb9f3a\"], [0.8888888888888888, \"#fdca26\"], [1.0, \"#f0f921\"]], \"type\": \"heatmapgl\"}], \"histogram\": [{\"marker\": {\"colorbar\": {\"outlinewidth\": 0, \"ticks\": \"\"}}, \"type\": \"histogram\"}], \"histogram2d\": [{\"colorbar\": {\"outlinewidth\": 0, \"ticks\": \"\"}, \"colorscale\": [[0.0, \"#0d0887\"], [0.1111111111111111, \"#46039f\"], [0.2222222222222222, \"#7201a8\"], [0.3333333333333333, \"#9c179e\"], [0.4444444444444444, \"#bd3786\"], [0.5555555555555556, \"#d8576b\"], [0.6666666666666666, \"#ed7953\"], [0.7777777777777778, \"#fb9f3a\"], [0.8888888888888888, \"#fdca26\"], [1.0, \"#f0f921\"]], \"type\": \"histogram2d\"}], \"histogram2dcontour\": [{\"colorbar\": {\"outlinewidth\": 0, \"ticks\": \"\"}, \"colorscale\": [[0.0, \"#0d0887\"], [0.1111111111111111, \"#46039f\"], [0.2222222222222222, \"#7201a8\"], [0.3333333333333333, \"#9c179e\"], [0.4444444444444444, \"#bd3786\"], [0.5555555555555556, \"#d8576b\"], [0.6666666666666666, \"#ed7953\"], [0.7777777777777778, \"#fb9f3a\"], [0.8888888888888888, \"#fdca26\"], [1.0, \"#f0f921\"]], \"type\": \"histogram2dcontour\"}], \"mesh3d\": [{\"colorbar\": {\"outlinewidth\": 0, \"ticks\": \"\"}, \"type\": \"mesh3d\"}], \"parcoords\": [{\"line\": {\"colorbar\": {\"outlinewidth\": 0, \"ticks\": \"\"}}, \"type\": \"parcoords\"}], \"pie\": [{\"automargin\": true, \"type\": \"pie\"}], \"scatter\": [{\"marker\": {\"colorbar\": {\"outlinewidth\": 0, \"ticks\": \"\"}}, \"type\": \"scatter\"}], \"scatter3d\": [{\"line\": {\"colorbar\": {\"outlinewidth\": 0, \"ticks\": \"\"}}, \"marker\": {\"colorbar\": {\"outlinewidth\": 0, \"ticks\": \"\"}}, \"type\": \"scatter3d\"}], \"scattercarpet\": [{\"marker\": {\"colorbar\": {\"outlinewidth\": 0, \"ticks\": \"\"}}, \"type\": \"scattercarpet\"}], \"scattergeo\": [{\"marker\": {\"colorbar\": {\"outlinewidth\": 0, \"ticks\": \"\"}}, \"type\": \"scattergeo\"}], \"scattergl\": [{\"marker\": {\"colorbar\": {\"outlinewidth\": 0, \"ticks\": \"\"}}, \"type\": \"scattergl\"}], \"scattermapbox\": [{\"marker\": {\"colorbar\": {\"outlinewidth\": 0, \"ticks\": \"\"}}, \"type\": \"scattermapbox\"}], \"scatterpolar\": [{\"marker\": {\"colorbar\": {\"outlinewidth\": 0, \"ticks\": \"\"}}, \"type\": \"scatterpolar\"}], \"scatterpolargl\": [{\"marker\": {\"colorbar\": {\"outlinewidth\": 0, \"ticks\": \"\"}}, \"type\": \"scatterpolargl\"}], \"scatterternary\": [{\"marker\": {\"colorbar\": {\"outlinewidth\": 0, \"ticks\": \"\"}}, \"type\": \"scatterternary\"}], \"surface\": [{\"colorbar\": {\"outlinewidth\": 0, \"ticks\": \"\"}, \"colorscale\": [[0.0, \"#0d0887\"], [0.1111111111111111, \"#46039f\"], [0.2222222222222222, \"#7201a8\"], [0.3333333333333333, \"#9c179e\"], [0.4444444444444444, \"#bd3786\"], [0.5555555555555556, \"#d8576b\"], [0.6666666666666666, \"#ed7953\"], [0.7777777777777778, \"#fb9f3a\"], [0.8888888888888888, \"#fdca26\"], [1.0, \"#f0f921\"]], \"type\": \"surface\"}], \"table\": [{\"cells\": {\"fill\": {\"color\": \"#EBF0F8\"}, \"line\": {\"color\": \"white\"}}, \"header\": {\"fill\": {\"color\": \"#C8D4E3\"}, \"line\": {\"color\": \"white\"}}, \"type\": \"table\"}]}, \"layout\": {\"annotationdefaults\": {\"arrowcolor\": \"#2a3f5f\", \"arrowhead\": 0, \"arrowwidth\": 1}, \"autotypenumbers\": \"strict\", \"coloraxis\": {\"colorbar\": {\"outlinewidth\": 0, \"ticks\": \"\"}}, \"colorscale\": {\"diverging\": [[0, \"#8e0152\"], [0.1, \"#c51b7d\"], [0.2, \"#de77ae\"], [0.3, \"#f1b6da\"], [0.4, \"#fde0ef\"], [0.5, \"#f7f7f7\"], [0.6, \"#e6f5d0\"], [0.7, \"#b8e186\"], [0.8, \"#7fbc41\"], [0.9, \"#4d9221\"], [1, \"#276419\"]], \"sequential\": [[0.0, \"#0d0887\"], [0.1111111111111111, \"#46039f\"], [0.2222222222222222, \"#7201a8\"], [0.3333333333333333, \"#9c179e\"], [0.4444444444444444, \"#bd3786\"], [0.5555555555555556, \"#d8576b\"], [0.6666666666666666, \"#ed7953\"], [0.7777777777777778, \"#fb9f3a\"], [0.8888888888888888, \"#fdca26\"], [1.0, \"#f0f921\"]], \"sequentialminus\": [[0.0, \"#0d0887\"], [0.1111111111111111, \"#46039f\"], [0.2222222222222222, \"#7201a8\"], [0.3333333333333333, \"#9c179e\"], [0.4444444444444444, \"#bd3786\"], [0.5555555555555556, \"#d8576b\"], [0.6666666666666666, \"#ed7953\"], [0.7777777777777778, \"#fb9f3a\"], [0.8888888888888888, \"#fdca26\"], [1.0, \"#f0f921\"]]}, \"colorway\": [\"#636efa\", \"#EF553B\", \"#00cc96\", \"#ab63fa\", \"#FFA15A\", \"#19d3f3\", \"#FF6692\", \"#B6E880\", \"#FF97FF\", \"#FECB52\"], \"font\": {\"color\": \"#2a3f5f\"}, \"geo\": {\"bgcolor\": \"white\", \"lakecolor\": \"white\", \"landcolor\": \"#E5ECF6\", \"showlakes\": true, \"showland\": true, \"subunitcolor\": \"white\"}, \"hoverlabel\": {\"align\": \"left\"}, \"hovermode\": \"closest\", \"mapbox\": {\"style\": \"light\"}, \"paper_bgcolor\": \"white\", \"plot_bgcolor\": \"#E5ECF6\", \"polar\": {\"angularaxis\": {\"gridcolor\": \"white\", \"linecolor\": \"white\", \"ticks\": \"\"}, \"bgcolor\": \"#E5ECF6\", \"radialaxis\": {\"gridcolor\": \"white\", \"linecolor\": \"white\", \"ticks\": \"\"}}, \"scene\": {\"xaxis\": {\"backgroundcolor\": \"#E5ECF6\", \"gridcolor\": \"white\", \"gridwidth\": 2, \"linecolor\": \"white\", \"showbackground\": true, \"ticks\": \"\", \"zerolinecolor\": \"white\"}, \"yaxis\": {\"backgroundcolor\": \"#E5ECF6\", \"gridcolor\": \"white\", \"gridwidth\": 2, \"linecolor\": \"white\", \"showbackground\": true, \"ticks\": \"\", \"zerolinecolor\": \"white\"}, \"zaxis\": {\"backgroundcolor\": \"#E5ECF6\", \"gridcolor\": \"white\", \"gridwidth\": 2, \"linecolor\": \"white\", \"showbackground\": true, \"ticks\": \"\", \"zerolinecolor\": \"white\"}}, \"shapedefaults\": {\"line\": {\"color\": \"#2a3f5f\"}}, \"ternary\": {\"aaxis\": {\"gridcolor\": \"white\", \"linecolor\": \"white\", \"ticks\": \"\"}, \"baxis\": {\"gridcolor\": \"white\", \"linecolor\": \"white\", \"ticks\": \"\"}, \"bgcolor\": \"#E5ECF6\", \"caxis\": {\"gridcolor\": \"white\", \"linecolor\": \"white\", \"ticks\": \"\"}}, \"title\": {\"x\": 0.05}, \"xaxis\": {\"automargin\": true, \"gridcolor\": \"white\", \"linecolor\": \"white\", \"ticks\": \"\", \"title\": {\"standoff\": 15}, \"zerolinecolor\": \"white\", \"zerolinewidth\": 2}, \"yaxis\": {\"automargin\": true, \"gridcolor\": \"white\", \"linecolor\": \"white\", \"ticks\": \"\", \"title\": {\"standoff\": 15}, \"zerolinecolor\": \"white\", \"zerolinewidth\": 2}}}},                        {\"responsive\": true}                    ).then(function(){\n",
       "                            \n",
       "var gd = document.getElementById('3d0d25d0-77e9-4c1f-ba41-f545dda8dbbf');\n",
       "var x = new MutationObserver(function (mutations, observer) {{\n",
       "        var display = window.getComputedStyle(gd).display;\n",
       "        if (!display || display === 'none') {{\n",
       "            console.log([gd, 'removed!']);\n",
       "            Plotly.purge(gd);\n",
       "            observer.disconnect();\n",
       "        }}\n",
       "}});\n",
       "\n",
       "// Listen for the removal of the full notebook cells\n",
       "var notebookContainer = gd.closest('#notebook-container');\n",
       "if (notebookContainer) {{\n",
       "    x.observe(notebookContainer, {childList: true});\n",
       "}}\n",
       "\n",
       "// Listen for the clearing of the current output cell\n",
       "var outputEl = gd.closest('.output');\n",
       "if (outputEl) {{\n",
       "    x.observe(outputEl, {childList: true});\n",
       "}}\n",
       "\n",
       "                        })                };                });            </script>        </div>"
      ]
     },
     "metadata": {},
     "output_type": "display_data"
    }
   ],
   "source": [
    "x,y,z=mapped[\"c1\"],mapped[\"c2\"],mapped[\"c3\"]\n",
    "fig = go.Figure(\n",
    "    data=[\n",
    "        go.Scatter3d(\n",
    "            name = \"data\",\n",
    "        x=x, y=y, z=np.zeros(len(x)),\n",
    "        mode='markers',\n",
    "        marker=dict(\n",
    "            size=3,\n",
    "            color=z,\n",
    "            colorscale='gray',  \n",
    "            opacity=0.7\n",
    "            )\n",
    "        )\n",
    "    ]\n",
    ")\n",
    "\n",
    "fig.add_trace(go.Scatter3d(text=[\"w1\"],name=f\"w1\", mode=\"lines+text\",x=[0,0],y=[-1,1],z=[0,0],line=dict(color='red')))\n",
    "fig.add_trace(go.Scatter3d(text=[\"w2\"], mode=\"lines+text\",name=f\"w2\",x=[-1,1],y=[0,0],z=[0,0],line=dict(color='blue')))\n",
    "\n",
    "fig.show()"
   ]
  },
  {
   "cell_type": "markdown",
   "id": "7d2de0b6",
   "metadata": {},
   "source": [
    "### 主成分分析の活用\n",
    "#### clustering countries ..."
   ]
  },
  {
   "cell_type": "markdown",
   "id": "756ec076",
   "metadata": {},
   "source": [
    "### 低ランク行列近似"
   ]
  },
  {
   "cell_type": "markdown",
   "id": "d4aa41c2",
   "metadata": {},
   "source": [
    "### 画像を使った行列の情報量の圧縮の可視化"
   ]
  },
  {
   "cell_type": "markdown",
   "id": "01b451d5",
   "metadata": {},
   "source": [
    "### 行列と推薦"
   ]
  },
  {
   "cell_type": "markdown",
   "id": "13038fc3",
   "metadata": {},
   "source": [
    "### グラフ構造の隣接行列表現"
   ]
  },
  {
   "cell_type": "code",
   "execution_count": null,
   "id": "973f27fc",
   "metadata": {},
   "outputs": [],
   "source": []
  }
 ],
 "metadata": {
  "kernelspec": {
   "display_name": "Python 3",
   "language": "python",
   "name": "python3"
  },
  "language_info": {
   "codemirror_mode": {
    "name": "ipython",
    "version": 3
   },
   "file_extension": ".py",
   "mimetype": "text/x-python",
   "name": "python",
   "nbconvert_exporter": "python",
   "pygments_lexer": "ipython3",
   "version": "3.9.2"
  }
 },
 "nbformat": 4,
 "nbformat_minor": 5
}
