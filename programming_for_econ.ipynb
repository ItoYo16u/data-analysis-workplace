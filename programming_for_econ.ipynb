{
 "cells": [
  {
   "cell_type": "markdown",
   "id": "b0b98158",
   "metadata": {},
   "source": [
    "# 計量経済学のためのプログラミング"
   ]
  },
  {
   "cell_type": "markdown",
   "id": "90dc15e7",
   "metadata": {},
   "source": [
    "\n",
    "## 行列\n",
    "\n",
    "### 演習\n",
    "1. 以下の行列の固有値を求めよ\n",
    "2. 以下の行列をQR分解せよ \n",
    "3. 以下の行列の特異値を求めよ\n",
    "4. グラムシュミットの直交化法のアルゴリズムを実装せよ\n",
    "5. QR分解のアルゴリズムを実装せよ\n",
    "6. 特異値分解のアルゴリズムを実装せよ\n"
   ]
  },
  {
   "cell_type": "markdown",
   "id": "6f57fc00",
   "metadata": {},
   "source": [
    "## データ処理\n",
    "\n",
    "### データベース\n",
    "#### DBMS\n",
    "\n",
    "#### SQL\n",
    "\n",
    "#### ORM\n",
    "\n",
    "### NoSQL\n",
    "\n",
    "### BIツール\n",
    "## データ収集\n",
    "### オープンソースのデータベース\n",
    "\n",
    "### テキストマイニング\n",
    "\n",
    "### スクレイピング"
   ]
  },
  {
   "cell_type": "markdown",
   "id": "b99fd9af",
   "metadata": {},
   "source": [
    "## 確率・統計"
   ]
  },
  {
   "cell_type": "markdown",
   "id": "7d372219",
   "metadata": {},
   "source": [
    "## 動的計画法"
   ]
  },
  {
   "cell_type": "markdown",
   "id": "bf52b7b6",
   "metadata": {},
   "source": [
    "## データの可視化"
   ]
  },
  {
   "cell_type": "code",
   "execution_count": null,
   "id": "86651eb8",
   "metadata": {},
   "outputs": [],
   "source": []
  }
 ],
 "metadata": {
  "kernelspec": {
   "display_name": "Python 3",
   "language": "python",
   "name": "python3"
  },
  "language_info": {
   "codemirror_mode": {
    "name": "ipython",
    "version": 3
   },
   "file_extension": ".py",
   "mimetype": "text/x-python",
   "name": "python",
   "nbconvert_exporter": "python",
   "pygments_lexer": "ipython3",
   "version": "3.9.2"
  }
 },
 "nbformat": 4,
 "nbformat_minor": 5
}
