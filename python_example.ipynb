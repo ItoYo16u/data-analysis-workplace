{
 "cells": [
  {
   "cell_type": "code",
   "execution_count": 2,
   "id": "48bd7d8e",
   "metadata": {},
   "outputs": [],
   "source": [
    "class Person:\n",
    "    name: str\n",
    "    age: int\n",
    "\n",
    "    def __init__(self, name: str, age: int) -> None:\n",
    "        self.name = name\n",
    "        self.age = age\n",
    "\n",
    "    def greet(self) -> None:\n",
    "        print(\"hello! This is {}({}).\".format(self.name, self.age))"
   ]
  },
  {
   "cell_type": "code",
   "execution_count": 3,
   "id": "06fd4429",
   "metadata": {},
   "outputs": [
    {
     "name": "stdout",
     "output_type": "stream",
     "text": [
      "hello! This is taro(11).\n"
     ]
    }
   ],
   "source": [
    "taro = Person(\"taro\", 11)\n",
    "taro.greet()"
   ]
  },
  {
   "cell_type": "code",
   "execution_count": 4,
   "id": "cb43db73",
   "metadata": {},
   "outputs": [],
   "source": [
    "from typing import Callable\n",
    "f : Callable[int,int] = lambda n: n*2\n",
    "l :list[int] = list(map( f,[1,2,3,4,5]))"
   ]
  },
  {
   "cell_type": "code",
   "execution_count": 5,
   "id": "4fde47b0",
   "metadata": {},
   "outputs": [],
   "source": [
    "people: list[Person] = [taro]"
   ]
  },
  {
   "cell_type": "code",
   "execution_count": 6,
   "id": "307b2c27",
   "metadata": {},
   "outputs": [
    {
     "name": "stdout",
     "output_type": "stream",
     "text": [
      "hello! This is taro(11).\n"
     ]
    }
   ],
   "source": [
    "g: Callable[Person,None] = lambda psn:psn.greet()\n",
    "for person in people:\n",
    "    g(person)\n",
    "# これは日本語出力のテストです."
   ]
  },
  {
   "cell_type": "markdown",
   "id": "708a5f67",
   "metadata": {},
   "source": []
  }
 ],
 "metadata": {
  "kernelspec": {
   "display_name": "Python 3",
   "language": "python",
   "name": "python3"
  },
  "language_info": {
   "codemirror_mode": {
    "name": "ipython",
    "version": 3
   },
   "file_extension": ".py",
   "mimetype": "text/x-python",
   "name": "python",
   "nbconvert_exporter": "python",
   "pygments_lexer": "ipython3",
   "version": "3.9.2"
  }
 },
 "nbformat": 4,
 "nbformat_minor": 5
}
