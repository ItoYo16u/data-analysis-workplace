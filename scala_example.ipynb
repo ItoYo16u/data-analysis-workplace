{
 "cells": [
  {
   "cell_type": "code",
   "execution_count": 1,
   "id": "b9cabc17",
   "metadata": {},
   "outputs": [
    {
     "name": "stdout",
     "output_type": "stream",
     "text": [
      "1\n"
     ]
    },
    {
     "data": {
      "text/plain": [
       "\u001b[36mx\u001b[39m: \u001b[32mInt\u001b[39m = \u001b[32m1\u001b[39m"
      ]
     },
     "execution_count": 1,
     "metadata": {},
     "output_type": "execute_result"
    }
   ],
   "source": [
    "val x = 1\n",
    "println(x)"
   ]
  },
  {
   "cell_type": "code",
   "execution_count": 2,
   "id": "92ea3d2b",
   "metadata": {},
   "outputs": [
    {
     "data": {
      "text/plain": [
       "defined \u001b[32mclass\u001b[39m \u001b[36mPerson\u001b[39m"
      ]
     },
     "execution_count": 2,
     "metadata": {},
     "output_type": "execute_result"
    }
   ],
   "source": [
    "case class Person(name:String,age:Int){\n",
    "    \n",
    "  def greet():Unit = println(s\"Hi! This is $name\")\n",
    "}\n"
   ]
  },
  {
   "cell_type": "code",
   "execution_count": 3,
   "id": "4766286a",
   "metadata": {},
   "outputs": [
    {
     "data": {
      "text/plain": [
       "\u001b[36mp\u001b[39m: \u001b[32mPerson\u001b[39m = \u001b[33mPerson\u001b[39m(name = \u001b[32m\"taro\"\u001b[39m, age = \u001b[32m11\u001b[39m)"
      ]
     },
     "execution_count": 3,
     "metadata": {},
     "output_type": "execute_result"
    }
   ],
   "source": [
    "val p = Person(\"taro\",11)"
   ]
  },
  {
   "cell_type": "code",
   "execution_count": 4,
   "id": "a99fb200",
   "metadata": {},
   "outputs": [
    {
     "name": "stdout",
     "output_type": "stream",
     "text": [
      "Hi! This is taro\n"
     ]
    }
   ],
   "source": [
    "p.greet()"
   ]
  },
  {
   "cell_type": "code",
   "execution_count": 5,
   "id": "a1acc607",
   "metadata": {},
   "outputs": [
    {
     "data": {
      "text/plain": [
       "\u001b[36mres4\u001b[39m: \u001b[32mString\u001b[39m = \u001b[32m\"taro\"\u001b[39m"
      ]
     },
     "execution_count": 5,
     "metadata": {},
     "output_type": "execute_result"
    }
   ],
   "source": [
    "p.name"
   ]
  },
  {
   "cell_type": "code",
   "execution_count": 6,
   "id": "5f47fdaa",
   "metadata": {},
   "outputs": [
    {
     "data": {
      "text/plain": [
       "\u001b[32mimport \u001b[39m\u001b[36m$ivy.$                               \n",
       "\u001b[39m\n",
       "\u001b[32mimport \u001b[39m\u001b[36m$ivy.$                              \u001b[39m"
      ]
     },
     "execution_count": 6,
     "metadata": {},
     "output_type": "execute_result"
    }
   ],
   "source": [
    "import $ivy.`org.typelevel::cats-core:2.4.2`\n",
    "import $ivy.`io.circe::circe-parser:0.12.3`"
   ]
  },
  {
   "cell_type": "code",
   "execution_count": 7,
   "id": "6ec64f06",
   "metadata": {},
   "outputs": [
    {
     "data": {
      "text/plain": [
       "\u001b[32mimport \u001b[39m\u001b[36mcats.implicits._\n",
       "\u001b[39m\n",
       "\u001b[36mres6_1\u001b[39m: \u001b[32mOption\u001b[39m[\u001b[32mString\u001b[39m] = \u001b[33mSome\u001b[39m(value = \u001b[32m\"apple pineapple\"\u001b[39m)"
      ]
     },
     "execution_count": 7,
     "metadata": {},
     "output_type": "execute_result"
    }
   ],
   "source": [
    "import cats.implicits._\n",
    "\"apple\".some |+| \" pineapple\".some"
   ]
  },
  {
   "cell_type": "code",
   "execution_count": null,
   "id": "dd245176",
   "metadata": {},
   "outputs": [
    {
     "name": "stderr",
     "output_type": "stream",
     "text": [
      "Downloading https://repo1.maven.org/maven2/org/apache/spark/spark-sql_2.13/2.4.0/spark-sql_2.13-2.4.0.pom\n",
      "Downloading https://repo1.maven.org/maven2/sh/almond/almond-spark_2.13/0.11.1/almond-spark_2.13-0.11.1.pom\n",
      "Downloaded https://repo1.maven.org/maven2/org/apache/spark/spark-sql_2.13/2.4.0/spark-sql_2.13-2.4.0.pom\n",
      "Downloaded https://repo1.maven.org/maven2/sh/almond/almond-spark_2.13/0.11.1/almond-spark_2.13-0.11.1.pom\n",
      "Downloading https://repo1.maven.org/maven2/org/apache/spark/spark-sql_2.13/2.4.0/spark-sql_2.13-2.4.0.pom.sha1\n",
      "Downloading https://repo1.maven.org/maven2/sh/almond/almond-spark_2.13/0.11.1/almond-spark_2.13-0.11.1.pom.sha1\n",
      "Downloaded https://repo1.maven.org/maven2/org/apache/spark/spark-sql_2.13/2.4.0/spark-sql_2.13-2.4.0.pom.sha1\n",
      "Downloaded https://repo1.maven.org/maven2/sh/almond/almond-spark_2.13/0.11.1/almond-spark_2.13-0.11.1.pom.sha1\n",
      "Failed to resolve ivy dependencies:Error downloading sh.almond:almond-spark_2.13:0.11.1\n",
      "  not found: /home/yoichiro/.ivy2/local/sh.almond/almond-spark_2.13/0.11.1/ivys/ivy.xml\n",
      "  not found: https://repo1.maven.org/maven2/sh/almond/almond-spark_2.13/0.11.1/almond-spark_2.13-0.11.1.pom\n",
      "Error downloading org.apache.spark:spark-sql_2.13:2.4.0\n",
      "  not found: /home/yoichiro/.ivy2/local/org.apache.spark/spark-sql_2.13/2.4.0/ivys/ivy.xml\n",
      "  not found: https://repo1.maven.org/maven2/org/apache/spark/spark-sql_2.13/2.4.0/spark-sql_2.13-2.4.0.pom\n"
     ]
    },
    {
     "ename": "",
     "evalue": "",
     "output_type": "error",
     "traceback": [
      "Failed to resolve ivy dependencies:Error downloading sh.almond:almond-spark_2.13:0.11.1\n  not found: /home/yoichiro/.ivy2/local/sh.almond/almond-spark_2.13/0.11.1/ivys/ivy.xml\n  not found: https://repo1.maven.org/maven2/sh/almond/almond-spark_2.13/0.11.1/almond-spark_2.13-0.11.1.pom\nError downloading org.apache.spark:spark-sql_2.13:2.4.0\n  not found: /home/yoichiro/.ivy2/local/org.apache.spark/spark-sql_2.13/2.4.0/ivys/ivy.xml\n  not found: https://repo1.maven.org/maven2/org/apache/spark/spark-sql_2.13/2.4.0/spark-sql_2.13-2.4.0.pom\n"
     ]
    }
   ],
   "source": []
  },
  {
   "cell_type": "code",
   "execution_count": null,
   "id": "dd1e93fa",
   "metadata": {},
   "outputs": [],
   "source": []
  }
 ],
 "metadata": {
  "kernelspec": {
   "display_name": "Scala (2.13)",
   "language": "scala",
   "name": "scala"
  },
  "language_info": {
   "codemirror_mode": "text/x-scala",
   "file_extension": ".sc",
   "mimetype": "text/x-scala",
   "name": "scala",
   "nbconvert_exporter": "script",
   "version": "2.13.4"
  }
 },
 "nbformat": 4,
 "nbformat_minor": 5
}
