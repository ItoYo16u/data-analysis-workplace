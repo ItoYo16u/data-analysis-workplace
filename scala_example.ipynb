{
 "cells": [
  {
   "cell_type": "code",
   "execution_count": 9,
   "id": "baf8e5ca",
   "metadata": {},
   "outputs": [
    {
     "data": {
      "text/plain": [
       "\u001b[32mimport \u001b[39m\u001b[36m$ivy.$                               \n",
       "\u001b[39m\n",
       "\u001b[32mimport \u001b[39m\u001b[36m$ivy.$                              \u001b[39m"
      ]
     },
     "execution_count": 9,
     "metadata": {},
     "output_type": "execute_result"
    }
   ],
   "source": [
    "import $ivy.`org.typelevel::cats-core:2.4.2`\n",
    "import $ivy.`io.circe::circe-parser:0.12.3`"
   ]
  },
  {
   "cell_type": "code",
   "execution_count": 10,
   "id": "7966afec",
   "metadata": {},
   "outputs": [
    {
     "data": {
      "text/plain": [
       "\u001b[32mimport \u001b[39m\u001b[36mcats.implicits._\n",
       "\u001b[39m\n",
       "\u001b[36mres9_1\u001b[39m: \u001b[32mOption\u001b[39m[\u001b[32mString\u001b[39m] = \u001b[33mSome\u001b[39m(value = \u001b[32m\"apple pineapple\"\u001b[39m)"
      ]
     },
     "execution_count": 10,
     "metadata": {},
     "output_type": "execute_result"
    }
   ],
   "source": [
    "import cats.implicits._\n",
    "\"apple\".some |+| \" pineapple\".some"
   ]
  },
  {
   "cell_type": "code",
   "execution_count": 1,
   "id": "558df608",
   "metadata": {},
   "outputs": [
    {
     "name": "stdout",
     "output_type": "stream",
     "text": [
      "Compiling /home/yoichiro/develop/analysis/Amm/Module.sc"
     ]
    },
    {
     "data": {
      "text/plain": [
       "\u001b[32mimport \u001b[39m\u001b[36m$file.$         \u001b[39m"
      ]
     },
     "execution_count": 1,
     "metadata": {},
     "output_type": "execute_result"
    }
   ],
   "source": [
    "import $file.Amm.Module"
   ]
  },
  {
   "cell_type": "code",
   "execution_count": 2,
   "id": "2a741a55",
   "metadata": {},
   "outputs": [
    {
     "data": {
      "text/plain": [
       "\u001b[36mdog\u001b[39m: \u001b[32mAmm\u001b[39m.\u001b[32mModule\u001b[39m.\u001b[32minstance\u001b[39m.\u001b[32mAnimal\u001b[39m = \u001b[33mAnimal\u001b[39m(weight = \u001b[32m12.1\u001b[39m)"
      ]
     },
     "execution_count": 2,
     "metadata": {},
     "output_type": "execute_result"
    }
   ],
   "source": [
    "val dog = Module.Animal(12.1)"
   ]
  },
  {
   "cell_type": "code",
   "execution_count": 5,
   "id": "41687b58",
   "metadata": {},
   "outputs": [
    {
     "data": {
      "application/vnd.plotly.v1+json": {
       "config": {},
       "data": [
        {
         "type": "bar",
         "x": [
          "Banana",
          "Apple",
          "Grapefruit"
         ],
         "y": [
          10,
          8,
          5
         ]
        }
       ],
       "layout": {
        "autosize": true,
        "xaxis": {
         "autorange": true,
         "range": [
          -0.5,
          2.5
         ],
         "type": "category"
        },
        "yaxis": {
         "autorange": true,
         "range": [
          0,
          10.526315789473685
         ],
         "type": "linear"
        }
       }
      },
      "image/png": "[encoded data removed]",
      "text/html": [
       "<div class=\"chart\" id=\"plot-75f2ab4a-f707-4992-aafc-98a64ae306cd\"></div>\n",
       "<script>require(['plotly'], function(Plotly) {\n",
       "  (function () {\n",
       "  var data0 = {\"x\":[\"Banana\",\"Apple\",\"Grapefruit\"],\"y\":[10.0,8.0,5.0],\"type\":\"bar\"};\n",
       "\n",
       "  var data = [data0];\n",
       "  var layout = {};\n",
       " var config = {};\n",
       "\n",
       "  Plotly.plot('plot-75f2ab4a-f707-4992-aafc-98a64ae306cd', data, layout, config);\n",
       "})();\n",
       "});\n",
       "      </script>\n",
       "           "
      ]
     },
     "metadata": {},
     "output_type": "display_data"
    },
    {
     "data": {
      "text/plain": [
       "\u001b[32mimport \u001b[39m\u001b[36m$ivy.$                                      \n",
       "\n",
       "\u001b[39m\n",
       "\u001b[32mimport \u001b[39m\u001b[36mplotly._\n",
       "\u001b[39m\n",
       "\u001b[32mimport \u001b[39m\u001b[36mplotly.element._\n",
       "\u001b[39m\n",
       "\u001b[32mimport \u001b[39m\u001b[36mplotly.layout._\n",
       "\u001b[39m\n",
       "\u001b[32mimport \u001b[39m\u001b[36mplotly.Almond._\n",
       "\n",
       "\u001b[39m\n",
       "\u001b[36mx\u001b[39m: \u001b[32mSeq\u001b[39m[\u001b[32mString\u001b[39m] = \u001b[33mList\u001b[39m(\u001b[32m\"Banana\"\u001b[39m, \u001b[32m\"Apple\"\u001b[39m, \u001b[32m\"Grapefruit\"\u001b[39m)\n",
       "\u001b[36my\u001b[39m: \u001b[32mSeq\u001b[39m[\u001b[32mInt\u001b[39m] = \u001b[33mList\u001b[39m(\u001b[32m10\u001b[39m, \u001b[32m8\u001b[39m, \u001b[32m5\u001b[39m)\n",
       "\u001b[36mres4_6\u001b[39m: \u001b[32mString\u001b[39m = \u001b[32m\"plot-75f2ab4a-f707-4992-aafc-98a64ae306cd\"\u001b[39m"
      ]
     },
     "execution_count": 5,
     "metadata": {},
     "output_type": "execute_result"
    }
   ],
   "source": [
    "import $ivy.`org.plotly-scala::plotly-almond:0.8.1`\n",
    "\n",
    "import plotly._\n",
    "import plotly.element._\n",
    "import plotly.layout._\n",
    "import plotly.Almond._\n",
    "\n",
    "val (x, y) = Seq(\n",
    "  \"Banana\" -> 10,\n",
    "  \"Apple\" -> 8,\n",
    "  \"Grapefruit\" -> 5\n",
    ").unzip\n",
    "\n",
    "Bar(x, y).plot()"
   ]
  },
  {
   "cell_type": "code",
   "execution_count": null,
   "id": "819e3309",
   "metadata": {},
   "outputs": [],
   "source": []
  }
 ],
 "metadata": {
  "kernelspec": {
   "display_name": "Scala (2.13)",
   "language": "scala",
   "name": "scala"
  },
  "language_info": {
   "codemirror_mode": "text/x-scala",
   "file_extension": ".sc",
   "mimetype": "text/x-scala",
   "name": "scala",
   "nbconvert_exporter": "script",
   "version": "2.13.4"
  }
 },
 "nbformat": 4,
 "nbformat_minor": 5
}
