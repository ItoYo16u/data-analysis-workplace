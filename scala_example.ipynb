{
 "cells": [
  {
   "cell_type": "code",
   "execution_count": 9,
   "id": "5f47fdaa",
   "metadata": {},
   "outputs": [
    {
     "output_type": "execute_result",
     "data": {
      "text/plain": [
       "\u001b[32mimport \u001b[39m\u001b[36m$ivy.$                               \n",
       "\u001b[39m\n",
       "\u001b[32mimport \u001b[39m\u001b[36m$ivy.$                              \u001b[39m"
      ]
     },
     "metadata": {},
     "execution_count": 9
    }
   ],
   "source": [
    "import $ivy.`org.typelevel::cats-core:2.4.2`\n",
    "import $ivy.`io.circe::circe-parser:0.12.3`"
   ]
  },
  {
   "cell_type": "code",
   "execution_count": 10,
   "id": "6ec64f06",
   "metadata": {},
   "outputs": [
    {
     "output_type": "execute_result",
     "data": {
      "text/plain": [
       "\u001b[32mimport \u001b[39m\u001b[36mcats.implicits._\n",
       "\u001b[39m\n",
       "\u001b[36mres9_1\u001b[39m: \u001b[32mOption\u001b[39m[\u001b[32mString\u001b[39m] = \u001b[33mSome\u001b[39m(value = \u001b[32m\"apple pineapple\"\u001b[39m)"
      ]
     },
     "metadata": {},
     "execution_count": 10
    }
   ],
   "source": [
    "import cats.implicits._\n",
    "\"apple\".some |+| \" pineapple\".some"
   ]
  },
  {
   "cell_type": "code",
   "execution_count": 1,
   "metadata": {},
   "outputs": [
    {
     "output_type": "stream",
     "name": "stdout",
     "text": [
      "Compiling /home/yoichiro/develop/analysis/Amm/Module.sc"
     ]
    },
    {
     "output_type": "execute_result",
     "data": {
      "text/plain": [
       "\u001b[32mimport \u001b[39m\u001b[36m$file.$         \u001b[39m"
      ]
     },
     "metadata": {},
     "execution_count": 1
    }
   ],
   "source": [
    "import $file.Amm.Module"
   ]
  },
  {
   "cell_type": "code",
   "execution_count": 2,
   "metadata": {},
   "outputs": [
    {
     "output_type": "execute_result",
     "data": {
      "text/plain": [
       "\u001b[36mdog\u001b[39m: \u001b[32mAmm\u001b[39m.\u001b[32mModule\u001b[39m.\u001b[32minstance\u001b[39m.\u001b[32mAnimal\u001b[39m = \u001b[33mAnimal\u001b[39m(weight = \u001b[32m12.1\u001b[39m)"
      ]
     },
     "metadata": {},
     "execution_count": 2
    }
   ],
   "source": [
    "val dog = Module.Animal(12.1)"
   ]
  },
  {
   "cell_type": "code",
   "execution_count": null,
   "metadata": {},
   "outputs": [],
   "source": []
  }
 ],
 "metadata": {
  "kernelspec": {
   "display_name": "Scala (2.13)",
   "language": "scala",
   "name": "scala"
  },
  "language_info": {
   "codemirror_mode": "text/x-scala",
   "file_extension": ".sc",
   "mimetype": "text/x-scala",
   "name": "scala",
   "nbconvert_exporter": "script",
   "version": "2.13.4"
  }
 },
 "nbformat": 4,
 "nbformat_minor": 5
}