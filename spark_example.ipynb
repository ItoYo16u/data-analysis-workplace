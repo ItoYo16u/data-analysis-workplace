{
 "cells": [
  {
   "cell_type": "code",
   "execution_count": 1,
   "id": "e964c3b1",
   "metadata": {},
   "outputs": [
    {
     "data": {
      "text/plain": [
       "\u001b[32mimport \u001b[39m\u001b[36m$ivy.$                                   \n",
       "\u001b[39m\n",
       "\u001b[32mimport \u001b[39m\u001b[36m$ivy.$                              \u001b[39m"
      ]
     },
     "execution_count": 1,
     "metadata": {},
     "output_type": "execute_result"
    }
   ],
   "source": [
    "import $ivy.`org.apache.spark::spark-sql:2.4.0` \n",
    "import $ivy.`sh.almond::almond-spark:0.3.0`"
   ]
  },
  {
   "cell_type": "code",
   "execution_count": 27,
   "id": "2427bd2d",
   "metadata": {},
   "outputs": [
    {
     "data": {
      "text/plain": [
       "\u001b[32mimport \u001b[39m\u001b[36morg.apache.spark.sql._\n",
       "\u001b[39m\n",
       "defined \u001b[32mclass\u001b[39m \u001b[36mData\u001b[39m\n",
       "\u001b[36mcolumns\u001b[39m: \u001b[32mSeq\u001b[39m[\u001b[32mString\u001b[39m] = \u001b[33mList\u001b[39m(\u001b[32m\"language\"\u001b[39m, \u001b[32m\"users_count\"\u001b[39m, \u001b[32m\"extremely_long_string\"\u001b[39m)\n",
       "\u001b[36mdata\u001b[39m: \u001b[32mSeq\u001b[39m[(\u001b[32mData\u001b[39m, \u001b[32mData\u001b[39m, \u001b[32mData\u001b[39m)] = \u001b[33mList\u001b[39m(\n",
       "  (\u001b[33mData\u001b[39m(\u001b[32m\"java\"\u001b[39m), \u001b[33mData\u001b[39m(\u001b[32m\"20000\"\u001b[39m), \u001b[33mData\u001b[39m(\u001b[32m\"short text\"\u001b[39m)),\n",
       "  (\u001b[33mData\u001b[39m(\u001b[32m\"python\"\u001b[39m), \u001b[33mData\u001b[39m(\u001b[32m\"1000000\"\u001b[39m), \u001b[33mData\u001b[39m(\u001b[32m\"medium text\"\u001b[39m))\n",
       ")"
      ]
     },
     "execution_count": 27,
     "metadata": {},
     "output_type": "execute_result"
    }
   ],
   "source": [
    "import org.apache.spark.sql._\n",
    "case class Data(value: String)\n",
    "val columns = Seq(\"language\",\"users_count\",\"extremely_long_string\")\n",
    "val data = Seq(\n",
    "    (Data(\"java\"),Data(\"20000\"),Data(\"short text\")),\n",
    "    (Data(\"python\"),Data(\"1000000\"),Data(\"medium text\"))\n",
    ")\n"
   ]
  },
  {
   "cell_type": "code",
   "execution_count": 28,
   "id": "dbc9cb8e",
   "metadata": {},
   "outputs": [
    {
     "name": "stdout",
     "output_type": "stream",
     "text": [
      "Getting spark JARs\n"
     ]
    },
    {
     "name": "stderr",
     "output_type": "stream",
     "text": [
      "21/04/03 03:32:40 INFO Server: jetty-9.4.36.v20210114; built: 2021-01-14T16:44:28.689Z; git: 238ec6997c7806b055319a6d11f8ae7564adc0de; jvm 11.0.10+9-Ubuntu-0ubuntu1.18.04\n",
      "21/04/03 03:32:40 INFO AbstractConnector: Started ServerConnector@2551bf12{HTTP/1.1, (http/1.1)}{127.0.1.1:44219}\n",
      "21/04/03 03:32:40 INFO Server: Started @844340ms\n"
     ]
    },
    {
     "name": "stdout",
     "output_type": "stream",
     "text": [
      "Creating SparkSession\n"
     ]
    },
    {
     "name": "stderr",
     "output_type": "stream",
     "text": [
      "21/04/03 03:32:40 WARN NotebookSparkSessionBuilder: Using an existing SparkSession; some configuration may not take effect.\n"
     ]
    },
    {
     "data": {
      "text/html": [
       "<a target=\"_blank\" href=\"http://172.23.191.244:4040\">Spark UI</a>"
      ]
     },
     "metadata": {},
     "output_type": "display_data"
    },
    {
     "data": {
      "text/plain": [
       "\u001b[36mspark\u001b[39m: \u001b[32mSparkSession\u001b[39m = org.apache.spark.sql.SparkSession@15fb0c10"
      ]
     },
     "execution_count": 28,
     "metadata": {},
     "output_type": "execute_result"
    }
   ],
   "source": [
    "val spark = NotebookSparkSession.builder().master(\"local[*]\").getOrCreate()"
   ]
  },
  {
   "cell_type": "code",
   "execution_count": 29,
   "id": "2b149d65",
   "metadata": {},
   "outputs": [
    {
     "data": {
      "text/plain": [
       "\u001b[36mrdd\u001b[39m: \u001b[32morg\u001b[39m.\u001b[32mapache\u001b[39m.\u001b[32mspark\u001b[39m.\u001b[32mrdd\u001b[39m.\u001b[32mRDD\u001b[39m[(\u001b[32mData\u001b[39m, \u001b[32mData\u001b[39m, \u001b[32mData\u001b[39m)] = ParallelCollectionRDD[6] at parallelize at cmd28.sc:1"
      ]
     },
     "execution_count": 29,
     "metadata": {},
     "output_type": "execute_result"
    }
   ],
   "source": [
    "val rdd= spark.sparkContext.parallelize(data)"
   ]
  },
  {
   "cell_type": "code",
   "execution_count": 30,
   "id": "f1511e87",
   "metadata": {},
   "outputs": [
    {
     "data": {
      "text/plain": [
       "\u001b[32mimport \u001b[39m\u001b[36mspark.implicits._\n",
       "\u001b[39m"
      ]
     },
     "execution_count": 30,
     "metadata": {},
     "output_type": "execute_result"
    }
   ],
   "source": [
    "import spark.implicits._\n"
   ]
  },
  {
   "cell_type": "code",
   "execution_count": 31,
   "id": "6ea5372f",
   "metadata": {},
   "outputs": [
    {
     "name": "stderr",
     "output_type": "stream",
     "text": [
      "21/04/03 03:32:50 INFO CodeGenerator: Code generated in 475.6251 ms\n",
      "21/04/03 03:32:50 INFO CodeGenerator: Code generated in 130.8659 ms\n",
      "21/04/03 03:32:50 INFO SparkContext: Starting job: show at cmd30.sc:2\n",
      "21/04/03 03:32:50 INFO DAGScheduler: Got job 0 (show at cmd30.sc:2) with 1 output partitions\n",
      "21/04/03 03:32:50 INFO DAGScheduler: Final stage: ResultStage 0 (show at cmd30.sc:2)\n",
      "21/04/03 03:32:50 INFO DAGScheduler: Parents of final stage: List()\n",
      "21/04/03 03:32:50 INFO DAGScheduler: Missing parents: List()\n",
      "21/04/03 03:32:50 INFO DAGScheduler: Submitting ResultStage 0 (MapPartitionsRDD[10] at show at cmd30.sc:2), which has no missing parents\n"
     ]
    },
    {
     "data": {
      "text/html": [
       "<script>\n",
       "var comm = Jupyter.notebook.kernel.comm_manager.new_comm('cancel-stage-5c3ce9a4-79d1-470a-97ba-d7082472020f', {});\n",
       "\n",
       "function cancelStage(stageId) {\n",
       "  console.log('Cancelling stage ' + stageId);\n",
       "  comm.send({ 'stageId': stageId });\n",
       "}\n",
       "</script>\n",
       "          "
      ]
     },
     "metadata": {},
     "output_type": "display_data"
    },
    {
     "data": {
      "text/html": [
       "<div>\n",
       "  <span style=\"float: left;\">show at cmd30.sc:2</span>\n",
       "</div>\n"
      ]
     },
     "metadata": {},
     "output_type": "display_data"
    },
    {
     "data": {
      "text/html": [
       "<div class=\"progress\">\n",
       "  <div class=\"progress-bar\" role=\"progressbar\" style=\"background-color: blue; width: 100%; word-wrap: normal; white-space: nowrap; text-align: center; color: white\" aria-valuenow=\"100\" aria-valuemin=\"0\" aria-valuemax=\"100\">\n",
       "    1 / 1\n",
       "  </div>\n",
       "  <div class=\"progress-bar\" role=\"progressbar\" style=\"background-color: red; width: 0%\" aria-valuenow=\"0\" aria-valuemin=\"0\" aria-valuemax=\"100\"></div>\n",
       "</div>\n"
      ]
     },
     "metadata": {},
     "output_type": "display_data"
    },
    {
     "data": {
      "text/html": [
       "<script>\n",
       "var comm = Jupyter.notebook.kernel.comm_manager.new_comm('cancel-stage-c6a1ddd4-217c-4d75-9032-e90f9340d6a8', {});\n",
       "\n",
       "function cancelStage(stageId) {\n",
       "  console.log('Cancelling stage ' + stageId);\n",
       "  comm.send({ 'stageId': stageId });\n",
       "}\n",
       "</script>\n",
       "          "
      ]
     },
     "metadata": {},
     "output_type": "display_data"
    },
    {
     "data": {
      "text/html": [
       "<div>\n",
       "  <span style=\"float: left;\">show at cmd30.sc:2</span>\n",
       "</div>\n"
      ]
     },
     "metadata": {},
     "output_type": "display_data"
    },
    {
     "data": {
      "text/html": [
       "<div class=\"progress\">\n",
       "  <div class=\"progress-bar\" role=\"progressbar\" style=\"background-color: blue; width: 100%; word-wrap: normal; white-space: nowrap; text-align: center; color: white\" aria-valuenow=\"100\" aria-valuemin=\"0\" aria-valuemax=\"100\">\n",
       "    1 / 1\n",
       "  </div>\n",
       "  <div class=\"progress-bar\" role=\"progressbar\" style=\"background-color: red; width: 0%\" aria-valuenow=\"0\" aria-valuemin=\"0\" aria-valuemax=\"100\"></div>\n",
       "</div>\n"
      ]
     },
     "metadata": {},
     "output_type": "display_data"
    },
    {
     "data": {
      "text/html": [
       "<script>\n",
       "var comm = Jupyter.notebook.kernel.comm_manager.new_comm('cancel-stage-1aab1fbd-bc84-4643-92bc-2148c5b5cef8', {});\n",
       "\n",
       "function cancelStage(stageId) {\n",
       "  console.log('Cancelling stage ' + stageId);\n",
       "  comm.send({ 'stageId': stageId });\n",
       "}\n",
       "</script>\n",
       "          "
      ]
     },
     "metadata": {},
     "output_type": "display_data"
    },
    {
     "data": {
      "text/html": [
       "<div>\n",
       "  <span style=\"float: left;\">show at cmd30.sc:2</span>\n",
       "</div>\n"
      ]
     },
     "metadata": {},
     "output_type": "display_data"
    },
    {
     "data": {
      "text/html": [
       "<div class=\"progress\">\n",
       "  <div class=\"progress-bar\" role=\"progressbar\" style=\"background-color: blue; width: 100%; word-wrap: normal; white-space: nowrap; text-align: center; color: white\" aria-valuenow=\"100\" aria-valuemin=\"0\" aria-valuemax=\"100\">\n",
       "    1 / 1\n",
       "  </div>\n",
       "  <div class=\"progress-bar\" role=\"progressbar\" style=\"background-color: red; width: 0%\" aria-valuenow=\"0\" aria-valuemin=\"0\" aria-valuemax=\"100\"></div>\n",
       "</div>\n"
      ]
     },
     "metadata": {},
     "output_type": "display_data"
    },
    {
     "data": {
      "text/html": [
       "<script>\n",
       "var comm = Jupyter.notebook.kernel.comm_manager.new_comm('cancel-stage-a2ccaa6f-969b-4ba2-803e-e0770e0aaf8e', {});\n",
       "\n",
       "function cancelStage(stageId) {\n",
       "  console.log('Cancelling stage ' + stageId);\n",
       "  comm.send({ 'stageId': stageId });\n",
       "}\n",
       "</script>\n",
       "          "
      ]
     },
     "metadata": {},
     "output_type": "display_data"
    },
    {
     "data": {
      "text/html": [
       "<div>\n",
       "  <span style=\"float: left;\">show at cmd30.sc:2</span>\n",
       "</div>\n"
      ]
     },
     "metadata": {},
     "output_type": "display_data"
    },
    {
     "data": {
      "text/html": [
       "<div class=\"progress\">\n",
       "  <div class=\"progress-bar\" role=\"progressbar\" style=\"background-color: blue; width: 100%; word-wrap: normal; white-space: nowrap; text-align: center; color: white\" aria-valuenow=\"100\" aria-valuemin=\"0\" aria-valuemax=\"100\">\n",
       "    1 / 1\n",
       "  </div>\n",
       "  <div class=\"progress-bar\" role=\"progressbar\" style=\"background-color: red; width: 0%\" aria-valuenow=\"0\" aria-valuemin=\"0\" aria-valuemax=\"100\"></div>\n",
       "</div>\n"
      ]
     },
     "metadata": {},
     "output_type": "display_data"
    },
    {
     "name": "stderr",
     "output_type": "stream",
     "text": [
      "21/04/03 03:32:50 INFO MemoryStore: Block broadcast_0 stored as values in memory (estimated size 21.6 KB, free 1719.6 MB)\n",
      "21/04/03 03:32:50 INFO MemoryStore: Block broadcast_0_piece0 stored as bytes in memory (estimated size 6.8 KB, free 1719.6 MB)\n",
      "21/04/03 03:32:50 INFO BlockManagerInfo: Added broadcast_0_piece0 in memory on 172.23.191.244:37033 (size: 6.8 KB, free: 1719.6 MB)\n",
      "21/04/03 03:32:51 INFO SparkContext: Created broadcast 0 from broadcast at DAGScheduler.scala:1161\n",
      "21/04/03 03:32:51 INFO DAGScheduler: Submitting 1 missing tasks from ResultStage 0 (MapPartitionsRDD[10] at show at cmd30.sc:2) (first 15 tasks are for partitions Vector(0))\n",
      "21/04/03 03:32:51 INFO TaskSchedulerImpl: Adding task set 0.0 with 1 tasks\n",
      "21/04/03 03:32:51 INFO TaskSetManager: Starting task 0.0 in stage 0.0 (TID 0, localhost, executor driver, partition 0, PROCESS_LOCAL, 7315 bytes)\n",
      "21/04/03 03:32:51 INFO Executor: Running task 0.0 in stage 0.0 (TID 0)\n",
      "21/04/03 03:32:51 INFO Executor: Fetching spark://172.23.191.244:35459/jars/ammonite-repl-api_2.12.12-2.3.8-36-1cce53f3.jar with timestamp 1617387609755\n",
      "21/04/03 03:32:51 INFO TransportClientFactory: Successfully created connection to /172.23.191.244:35459 after 92 ms (0 ms spent in bootstraps)\n",
      "21/04/03 03:32:51 INFO Utils: Fetching spark://172.23.191.244:35459/jars/ammonite-repl-api_2.12.12-2.3.8-36-1cce53f3.jar to /tmp/spark-3b36f2b5-0161-4093-a4b1-a5a84b889935/userFiles-cf106a32-aa21-4539-9d94-7dd159511573/fetchFileTemp8681802780683659832.tmp\n",
      "21/04/03 03:32:51 INFO Executor: Adding file:/tmp/spark-3b36f2b5-0161-4093-a4b1-a5a84b889935/userFiles-cf106a32-aa21-4539-9d94-7dd159511573/ammonite-repl-api_2.12.12-2.3.8-36-1cce53f3.jar to class loader\n",
      "21/04/03 03:32:51 INFO Executor: Fetching spark://172.23.191.244:35459/jars/interpreter-api_2.12-0.11.1-sources.jar with timestamp 1617387609792\n",
      "21/04/03 03:32:51 INFO Utils: Fetching spark://172.23.191.244:35459/jars/interpreter-api_2.12-0.11.1-sources.jar to /tmp/spark-3b36f2b5-0161-4093-a4b1-a5a84b889935/userFiles-cf106a32-aa21-4539-9d94-7dd159511573/fetchFileTemp14770049719014648211.tmp\n",
      "21/04/03 03:32:51 INFO Executor: Adding file:/tmp/spark-3b36f2b5-0161-4093-a4b1-a5a84b889935/userFiles-cf106a32-aa21-4539-9d94-7dd159511573/interpreter-api_2.12-0.11.1-sources.jar to class loader\n",
      "21/04/03 03:32:51 INFO Executor: Fetching spark://172.23.191.244:35459/jars/geny_2.12-0.6.5.jar with timestamp 1617387609766\n",
      "21/04/03 03:32:51 INFO Utils: Fetching spark://172.23.191.244:35459/jars/geny_2.12-0.6.5.jar to /tmp/spark-3b36f2b5-0161-4093-a4b1-a5a84b889935/userFiles-cf106a32-aa21-4539-9d94-7dd159511573/fetchFileTemp17928816408171453860.tmp\n",
      "21/04/03 03:32:51 INFO Executor: Adding file:/tmp/spark-3b36f2b5-0161-4093-a4b1-a5a84b889935/userFiles-cf106a32-aa21-4539-9d94-7dd159511573/geny_2.12-0.6.5.jar to class loader\n",
      "21/04/03 03:32:51 INFO Executor: Fetching spark://172.23.191.244:35459/jars/scala-xml_2.12-2.0.0-M3.jar with timestamp 1617387609787\n",
      "21/04/03 03:32:51 INFO Utils: Fetching spark://172.23.191.244:35459/jars/scala-xml_2.12-2.0.0-M3.jar to /tmp/spark-3b36f2b5-0161-4093-a4b1-a5a84b889935/userFiles-cf106a32-aa21-4539-9d94-7dd159511573/fetchFileTemp13949880029575547667.tmp\n",
      "21/04/03 03:32:51 INFO Executor: Adding file:/tmp/spark-3b36f2b5-0161-4093-a4b1-a5a84b889935/userFiles-cf106a32-aa21-4539-9d94-7dd159511573/scala-xml_2.12-2.0.0-M3.jar to class loader\n",
      "21/04/03 03:32:51 INFO Executor: Fetching spark://172.23.191.244:35459/jars/fansi_2.12-0.2.9.jar with timestamp 1617387609763\n",
      "21/04/03 03:32:51 INFO Utils: Fetching spark://172.23.191.244:35459/jars/fansi_2.12-0.2.9.jar to /tmp/spark-3b36f2b5-0161-4093-a4b1-a5a84b889935/userFiles-cf106a32-aa21-4539-9d94-7dd159511573/fetchFileTemp14475930052100338425.tmp\n",
      "21/04/03 03:32:51 INFO Executor: Adding file:/tmp/spark-3b36f2b5-0161-4093-a4b1-a5a84b889935/userFiles-cf106a32-aa21-4539-9d94-7dd159511573/fansi_2.12-0.2.9.jar to class loader\n",
      "21/04/03 03:32:51 INFO Executor: Fetching spark://172.23.191.244:35459/jars/javaparser-core-3.2.5.jar with timestamp 1617387609750\n",
      "21/04/03 03:32:51 INFO Utils: Fetching spark://172.23.191.244:35459/jars/javaparser-core-3.2.5.jar to /tmp/spark-3b36f2b5-0161-4093-a4b1-a5a84b889935/userFiles-cf106a32-aa21-4539-9d94-7dd159511573/fetchFileTemp15265757487271479985.tmp\n",
      "21/04/03 03:32:51 INFO Executor: Adding file:/tmp/spark-3b36f2b5-0161-4093-a4b1-a5a84b889935/userFiles-cf106a32-aa21-4539-9d94-7dd159511573/javaparser-core-3.2.5.jar to class loader\n",
      "21/04/03 03:32:51 INFO Executor: Fetching spark://172.23.191.244:35459/jars/fastparse_2.12-2.3.0-sources.jar with timestamp 1617387609764\n",
      "21/04/03 03:32:51 INFO Utils: Fetching spark://172.23.191.244:35459/jars/fastparse_2.12-2.3.0-sources.jar to /tmp/spark-3b36f2b5-0161-4093-a4b1-a5a84b889935/userFiles-cf106a32-aa21-4539-9d94-7dd159511573/fetchFileTemp11805635331723696444.tmp\n",
      "21/04/03 03:32:51 INFO Executor: Adding file:/tmp/spark-3b36f2b5-0161-4093-a4b1-a5a84b889935/userFiles-cf106a32-aa21-4539-9d94-7dd159511573/fastparse_2.12-2.3.0-sources.jar to class loader\n",
      "21/04/03 03:32:51 INFO Executor: Fetching spark://172.23.191.244:35459/jars/jvm-repr-0.4.0-sources.jar with timestamp 1617387609747\n",
      "21/04/03 03:32:51 INFO Utils: Fetching spark://172.23.191.244:35459/jars/jvm-repr-0.4.0-sources.jar to /tmp/spark-3b36f2b5-0161-4093-a4b1-a5a84b889935/userFiles-cf106a32-aa21-4539-9d94-7dd159511573/fetchFileTemp11716759475032645212.tmp\n",
      "21/04/03 03:32:52 INFO Executor: Adding file:/tmp/spark-3b36f2b5-0161-4093-a4b1-a5a84b889935/userFiles-cf106a32-aa21-4539-9d94-7dd159511573/jvm-repr-0.4.0-sources.jar to class loader\n",
      "21/04/03 03:32:52 INFO Executor: Fetching spark://172.23.191.244:35459/jars/os-lib_2.12-0.7.1.jar with timestamp 1617387609768\n",
      "21/04/03 03:32:52 INFO Utils: Fetching spark://172.23.191.244:35459/jars/os-lib_2.12-0.7.1.jar to /tmp/spark-3b36f2b5-0161-4093-a4b1-a5a84b889935/userFiles-cf106a32-aa21-4539-9d94-7dd159511573/fetchFileTemp9232658685469105085.tmp\n",
      "21/04/03 03:32:52 INFO Executor: Adding file:/tmp/spark-3b36f2b5-0161-4093-a4b1-a5a84b889935/userFiles-cf106a32-aa21-4539-9d94-7dd159511573/os-lib_2.12-0.7.1.jar to class loader\n",
      "21/04/03 03:32:52 INFO Executor: Fetching spark://172.23.191.244:35459/jars/interface-1.0.3.jar with timestamp 1617387609783\n",
      "21/04/03 03:32:52 INFO Utils: Fetching spark://172.23.191.244:35459/jars/interface-1.0.3.jar to /tmp/spark-3b36f2b5-0161-4093-a4b1-a5a84b889935/userFiles-cf106a32-aa21-4539-9d94-7dd159511573/fetchFileTemp10724753611019735250.tmp\n",
      "21/04/03 03:32:52 INFO Executor: Adding file:/tmp/spark-3b36f2b5-0161-4093-a4b1-a5a84b889935/userFiles-cf106a32-aa21-4539-9d94-7dd159511573/interface-1.0.3.jar to class loader\n",
      "21/04/03 03:32:52 INFO Executor: Fetching spark://172.23.191.244:35459/jars/jetty-http-8.2.0.v20160908.jar with timestamp 1617387609812\n",
      "21/04/03 03:32:52 INFO Utils: Fetching spark://172.23.191.244:35459/jars/jetty-http-8.2.0.v20160908.jar to /tmp/spark-3b36f2b5-0161-4093-a4b1-a5a84b889935/userFiles-cf106a32-aa21-4539-9d94-7dd159511573/fetchFileTemp17278011116981585957.tmp\n",
      "21/04/03 03:32:52 INFO Executor: Adding file:/tmp/spark-3b36f2b5-0161-4093-a4b1-a5a84b889935/userFiles-cf106a32-aa21-4539-9d94-7dd159511573/jetty-http-8.2.0.v20160908.jar to class loader\n",
      "21/04/03 03:32:52 INFO Executor: Fetching spark://172.23.191.244:35459/jars/sourcecode_2.12-0.2.3-sources.jar with timestamp 1617387609771\n",
      "21/04/03 03:32:52 INFO Utils: Fetching spark://172.23.191.244:35459/jars/sourcecode_2.12-0.2.3-sources.jar to /tmp/spark-3b36f2b5-0161-4093-a4b1-a5a84b889935/userFiles-cf106a32-aa21-4539-9d94-7dd159511573/fetchFileTemp2853105579990495815.tmp\n",
      "21/04/03 03:32:52 INFO Executor: Adding file:/tmp/spark-3b36f2b5-0161-4093-a4b1-a5a84b889935/userFiles-cf106a32-aa21-4539-9d94-7dd159511573/sourcecode_2.12-0.2.3-sources.jar to class loader\n",
      "21/04/03 03:32:52 INFO Executor: Fetching spark://172.23.191.244:35459/jars/os-lib_2.12-0.7.1-sources.jar with timestamp 1617387609768\n",
      "21/04/03 03:32:52 INFO Utils: Fetching spark://172.23.191.244:35459/jars/os-lib_2.12-0.7.1-sources.jar to /tmp/spark-3b36f2b5-0161-4093-a4b1-a5a84b889935/userFiles-cf106a32-aa21-4539-9d94-7dd159511573/fetchFileTemp17076323846018925582.tmp\n",
      "21/04/03 03:32:52 INFO Executor: Adding file:/tmp/spark-3b36f2b5-0161-4093-a4b1-a5a84b889935/userFiles-cf106a32-aa21-4539-9d94-7dd159511573/os-lib_2.12-0.7.1-sources.jar to class loader\n",
      "21/04/03 03:32:52 INFO Executor: Fetching spark://172.23.191.244:35459/jars/fastparse_2.12-2.3.0.jar with timestamp 1617387609765\n",
      "21/04/03 03:32:52 INFO Utils: Fetching spark://172.23.191.244:35459/jars/fastparse_2.12-2.3.0.jar to /tmp/spark-3b36f2b5-0161-4093-a4b1-a5a84b889935/userFiles-cf106a32-aa21-4539-9d94-7dd159511573/fetchFileTemp17966715994450907659.tmp\n",
      "21/04/03 03:32:52 INFO Executor: Adding file:/tmp/spark-3b36f2b5-0161-4093-a4b1-a5a84b889935/userFiles-cf106a32-aa21-4539-9d94-7dd159511573/fastparse_2.12-2.3.0.jar to class loader\n",
      "21/04/03 03:32:52 INFO Executor: Fetching spark://172.23.191.244:35459/jars/jupyter-api_2.12-0.11.1.jar with timestamp 1617387609799\n",
      "21/04/03 03:32:52 INFO Utils: Fetching spark://172.23.191.244:35459/jars/jupyter-api_2.12-0.11.1.jar to /tmp/spark-3b36f2b5-0161-4093-a4b1-a5a84b889935/userFiles-cf106a32-aa21-4539-9d94-7dd159511573/fetchFileTemp4864437472818302957.tmp\n",
      "21/04/03 03:32:52 INFO Executor: Adding file:/tmp/spark-3b36f2b5-0161-4093-a4b1-a5a84b889935/userFiles-cf106a32-aa21-4539-9d94-7dd159511573/jupyter-api_2.12-0.11.1.jar to class loader\n",
      "21/04/03 03:32:52 INFO Executor: Fetching spark://172.23.191.244:35459/jars/ammonite-ops_2.12-2.3.8-36-1cce53f3.jar with timestamp 1617387609754\n",
      "21/04/03 03:32:52 INFO Utils: Fetching spark://172.23.191.244:35459/jars/ammonite-ops_2.12-2.3.8-36-1cce53f3.jar to /tmp/spark-3b36f2b5-0161-4093-a4b1-a5a84b889935/userFiles-cf106a32-aa21-4539-9d94-7dd159511573/fetchFileTemp18112760281780284053.tmp\n",
      "21/04/03 03:32:52 INFO Executor: Adding file:/tmp/spark-3b36f2b5-0161-4093-a4b1-a5a84b889935/userFiles-cf106a32-aa21-4539-9d94-7dd159511573/ammonite-ops_2.12-2.3.8-36-1cce53f3.jar to class loader\n",
      "21/04/03 03:32:52 INFO Executor: Fetching spark://172.23.191.244:35459/jars/geny_2.12-0.6.5-sources.jar with timestamp 1617387609765\n",
      "21/04/03 03:32:52 INFO Utils: Fetching spark://172.23.191.244:35459/jars/geny_2.12-0.6.5-sources.jar to /tmp/spark-3b36f2b5-0161-4093-a4b1-a5a84b889935/userFiles-cf106a32-aa21-4539-9d94-7dd159511573/fetchFileTemp17417135691751935761.tmp\n",
      "21/04/03 03:32:52 INFO Executor: Adding file:/tmp/spark-3b36f2b5-0161-4093-a4b1-a5a84b889935/userFiles-cf106a32-aa21-4539-9d94-7dd159511573/geny_2.12-0.6.5-sources.jar to class loader\n",
      "21/04/03 03:32:52 INFO Executor: Fetching spark://172.23.191.244:35459/jars/almond-spark_2.12-0.3.0.jar with timestamp 1617387609802\n",
      "21/04/03 03:32:52 INFO Utils: Fetching spark://172.23.191.244:35459/jars/almond-spark_2.12-0.3.0.jar to /tmp/spark-3b36f2b5-0161-4093-a4b1-a5a84b889935/userFiles-cf106a32-aa21-4539-9d94-7dd159511573/fetchFileTemp4474024956311085093.tmp\n",
      "21/04/03 03:32:52 INFO Executor: Adding file:/tmp/spark-3b36f2b5-0161-4093-a4b1-a5a84b889935/userFiles-cf106a32-aa21-4539-9d94-7dd159511573/almond-spark_2.12-0.3.0.jar to class loader\n",
      "21/04/03 03:32:52 INFO Executor: Fetching spark://172.23.191.244:35459/jars/javaparser-core-3.2.5-sources.jar with timestamp 1617387609750\n",
      "21/04/03 03:32:52 INFO Utils: Fetching spark://172.23.191.244:35459/jars/javaparser-core-3.2.5-sources.jar to /tmp/spark-3b36f2b5-0161-4093-a4b1-a5a84b889935/userFiles-cf106a32-aa21-4539-9d94-7dd159511573/fetchFileTemp14935863088325984823.tmp\n",
      "21/04/03 03:32:52 INFO Executor: Adding file:/tmp/spark-3b36f2b5-0161-4093-a4b1-a5a84b889935/userFiles-cf106a32-aa21-4539-9d94-7dd159511573/javaparser-core-3.2.5-sources.jar to class loader\n",
      "21/04/03 03:32:52 INFO Executor: Fetching spark://172.23.191.244:35459/jars/ammonite-util_2.12-2.3.8-36-1cce53f3-sources.jar with timestamp 1617387609756\n",
      "21/04/03 03:32:52 INFO Utils: Fetching spark://172.23.191.244:35459/jars/ammonite-util_2.12-2.3.8-36-1cce53f3-sources.jar to /tmp/spark-3b36f2b5-0161-4093-a4b1-a5a84b889935/userFiles-cf106a32-aa21-4539-9d94-7dd159511573/fetchFileTemp9244978725013077786.tmp\n",
      "21/04/03 03:32:52 INFO Executor: Adding file:/tmp/spark-3b36f2b5-0161-4093-a4b1-a5a84b889935/userFiles-cf106a32-aa21-4539-9d94-7dd159511573/ammonite-util_2.12-2.3.8-36-1cce53f3-sources.jar to class loader\n",
      "21/04/03 03:32:52 INFO Executor: Fetching spark://172.23.191.244:35459/jars/scala-kernel-api_2.12.12-0.11.1.jar with timestamp 1617387609800\n",
      "21/04/03 03:32:52 INFO Utils: Fetching spark://172.23.191.244:35459/jars/scala-kernel-api_2.12.12-0.11.1.jar to /tmp/spark-3b36f2b5-0161-4093-a4b1-a5a84b889935/userFiles-cf106a32-aa21-4539-9d94-7dd159511573/fetchFileTemp2274346015610829819.tmp\n",
      "21/04/03 03:32:52 INFO Executor: Adding file:/tmp/spark-3b36f2b5-0161-4093-a4b1-a5a84b889935/userFiles-cf106a32-aa21-4539-9d94-7dd159511573/scala-kernel-api_2.12.12-0.11.1.jar to class loader\n",
      "21/04/03 03:32:52 INFO Executor: Fetching spark://172.23.191.244:35459/jars/pprint_2.12-0.6.0-sources.jar with timestamp 1617387609768\n",
      "21/04/03 03:32:52 INFO Utils: Fetching spark://172.23.191.244:35459/jars/pprint_2.12-0.6.0-sources.jar to /tmp/spark-3b36f2b5-0161-4093-a4b1-a5a84b889935/userFiles-cf106a32-aa21-4539-9d94-7dd159511573/fetchFileTemp2289501417955563906.tmp\n",
      "21/04/03 03:32:52 INFO Executor: Adding file:/tmp/spark-3b36f2b5-0161-4093-a4b1-a5a84b889935/userFiles-cf106a32-aa21-4539-9d94-7dd159511573/pprint_2.12-0.6.0-sources.jar to class loader\n",
      "21/04/03 03:32:52 INFO Executor: Fetching spark://172.23.191.244:35459/jars/scala-collection-compat_2.12-2.4.2.jar with timestamp 1617387609785\n",
      "21/04/03 03:32:52 INFO Utils: Fetching spark://172.23.191.244:35459/jars/scala-collection-compat_2.12-2.4.2.jar to /tmp/spark-3b36f2b5-0161-4093-a4b1-a5a84b889935/userFiles-cf106a32-aa21-4539-9d94-7dd159511573/fetchFileTemp16448790442316394556.tmp\n",
      "21/04/03 03:32:52 INFO Executor: Adding file:/tmp/spark-3b36f2b5-0161-4093-a4b1-a5a84b889935/userFiles-cf106a32-aa21-4539-9d94-7dd159511573/scala-collection-compat_2.12-2.4.2.jar to class loader\n",
      "21/04/03 03:32:52 INFO Executor: Fetching spark://172.23.191.244:35459/jars/interpreter-api_2.12-0.11.1.jar with timestamp 1617387609793\n",
      "21/04/03 03:32:52 INFO Utils: Fetching spark://172.23.191.244:35459/jars/interpreter-api_2.12-0.11.1.jar to /tmp/spark-3b36f2b5-0161-4093-a4b1-a5a84b889935/userFiles-cf106a32-aa21-4539-9d94-7dd159511573/fetchFileTemp14427965456054692410.tmp\n",
      "21/04/03 03:32:52 INFO Executor: Adding file:/tmp/spark-3b36f2b5-0161-4093-a4b1-a5a84b889935/userFiles-cf106a32-aa21-4539-9d94-7dd159511573/interpreter-api_2.12-0.11.1.jar to class loader\n",
      "21/04/03 03:32:52 INFO Executor: Fetching spark://172.23.191.244:35459/jars/ammonite-ops_2.12-2.3.8-36-1cce53f3-sources.jar with timestamp 1617387609753\n",
      "21/04/03 03:32:52 INFO Utils: Fetching spark://172.23.191.244:35459/jars/ammonite-ops_2.12-2.3.8-36-1cce53f3-sources.jar to /tmp/spark-3b36f2b5-0161-4093-a4b1-a5a84b889935/userFiles-cf106a32-aa21-4539-9d94-7dd159511573/fetchFileTemp16773057895109058935.tmp\n",
      "21/04/03 03:32:52 INFO Executor: Adding file:/tmp/spark-3b36f2b5-0161-4093-a4b1-a5a84b889935/userFiles-cf106a32-aa21-4539-9d94-7dd159511573/ammonite-ops_2.12-2.3.8-36-1cce53f3-sources.jar to class loader\n",
      "21/04/03 03:32:52 INFO Executor: Fetching spark://172.23.191.244:35459/jars/jvm-repr-0.4.0.jar with timestamp 1617387609749\n",
      "21/04/03 03:32:52 INFO Utils: Fetching spark://172.23.191.244:35459/jars/jvm-repr-0.4.0.jar to /tmp/spark-3b36f2b5-0161-4093-a4b1-a5a84b889935/userFiles-cf106a32-aa21-4539-9d94-7dd159511573/fetchFileTemp12888350954199542105.tmp\n",
      "21/04/03 03:32:52 INFO Executor: Adding file:/tmp/spark-3b36f2b5-0161-4093-a4b1-a5a84b889935/userFiles-cf106a32-aa21-4539-9d94-7dd159511573/jvm-repr-0.4.0.jar to class loader\n",
      "21/04/03 03:32:52 INFO Executor: Fetching spark://172.23.191.244:35459/jars/mainargs_2.12-0.1.4.jar with timestamp 1617387609767\n",
      "21/04/03 03:32:52 INFO Utils: Fetching spark://172.23.191.244:35459/jars/mainargs_2.12-0.1.4.jar to /tmp/spark-3b36f2b5-0161-4093-a4b1-a5a84b889935/userFiles-cf106a32-aa21-4539-9d94-7dd159511573/fetchFileTemp16547200263471051435.tmp\n",
      "21/04/03 03:32:52 INFO Executor: Adding file:/tmp/spark-3b36f2b5-0161-4093-a4b1-a5a84b889935/userFiles-cf106a32-aa21-4539-9d94-7dd159511573/mainargs_2.12-0.1.4.jar to class loader\n",
      "21/04/03 03:32:52 INFO Executor: Fetching spark://172.23.191.244:35459/jars/ammonite-spark_2.12-0.3.0.jar with timestamp 1617387609802\n",
      "21/04/03 03:32:52 INFO Utils: Fetching spark://172.23.191.244:35459/jars/ammonite-spark_2.12-0.3.0.jar to /tmp/spark-3b36f2b5-0161-4093-a4b1-a5a84b889935/userFiles-cf106a32-aa21-4539-9d94-7dd159511573/fetchFileTemp9151453462141537197.tmp\n",
      "21/04/03 03:32:52 INFO Executor: Adding file:/tmp/spark-3b36f2b5-0161-4093-a4b1-a5a84b889935/userFiles-cf106a32-aa21-4539-9d94-7dd159511573/ammonite-spark_2.12-0.3.0.jar to class loader\n",
      "21/04/03 03:32:52 INFO Executor: Fetching spark://172.23.191.244:35459/jars/scala-xml_2.12-2.0.0-M3-sources.jar with timestamp 1617387609786\n",
      "21/04/03 03:32:52 INFO Utils: Fetching spark://172.23.191.244:35459/jars/scala-xml_2.12-2.0.0-M3-sources.jar to /tmp/spark-3b36f2b5-0161-4093-a4b1-a5a84b889935/userFiles-cf106a32-aa21-4539-9d94-7dd159511573/fetchFileTemp7966691448027010358.tmp\n",
      "21/04/03 03:32:52 INFO Executor: Adding file:/tmp/spark-3b36f2b5-0161-4093-a4b1-a5a84b889935/userFiles-cf106a32-aa21-4539-9d94-7dd159511573/scala-xml_2.12-2.0.0-M3-sources.jar to class loader\n",
      "21/04/03 03:32:52 INFO Executor: Fetching spark://172.23.191.244:35459/jars/scala-collection-compat_2.12-2.4.2-sources.jar with timestamp 1617387609784\n",
      "21/04/03 03:32:52 INFO Utils: Fetching spark://172.23.191.244:35459/jars/scala-collection-compat_2.12-2.4.2-sources.jar to /tmp/spark-3b36f2b5-0161-4093-a4b1-a5a84b889935/userFiles-cf106a32-aa21-4539-9d94-7dd159511573/fetchFileTemp9952713083924211823.tmp\n",
      "21/04/03 03:32:52 INFO Executor: Adding file:/tmp/spark-3b36f2b5-0161-4093-a4b1-a5a84b889935/userFiles-cf106a32-aa21-4539-9d94-7dd159511573/scala-collection-compat_2.12-2.4.2-sources.jar to class loader\n",
      "21/04/03 03:32:52 INFO Executor: Fetching spark://172.23.191.244:35459/jars/scala-library-2.12.13.jar with timestamp 1617387609801\n",
      "21/04/03 03:32:52 INFO Utils: Fetching spark://172.23.191.244:35459/jars/scala-library-2.12.13.jar to /tmp/spark-3b36f2b5-0161-4093-a4b1-a5a84b889935/userFiles-cf106a32-aa21-4539-9d94-7dd159511573/fetchFileTemp6416506334895942404.tmp\n",
      "21/04/03 03:32:52 INFO Executor: Adding file:/tmp/spark-3b36f2b5-0161-4093-a4b1-a5a84b889935/userFiles-cf106a32-aa21-4539-9d94-7dd159511573/scala-library-2.12.13.jar to class loader\n",
      "21/04/03 03:32:52 INFO Executor: Fetching spark://172.23.191.244:35459/jars/scala-compiler-2.12.12-sources.jar with timestamp 1617387609787\n",
      "21/04/03 03:32:52 INFO Utils: Fetching spark://172.23.191.244:35459/jars/scala-compiler-2.12.12-sources.jar to /tmp/spark-3b36f2b5-0161-4093-a4b1-a5a84b889935/userFiles-cf106a32-aa21-4539-9d94-7dd159511573/fetchFileTemp15047839771627821985.tmp\n",
      "21/04/03 03:32:52 INFO Executor: Adding file:/tmp/spark-3b36f2b5-0161-4093-a4b1-a5a84b889935/userFiles-cf106a32-aa21-4539-9d94-7dd159511573/scala-compiler-2.12.12-sources.jar to class loader\n",
      "21/04/03 03:32:52 INFO Executor: Fetching spark://172.23.191.244:35459/jars/jetty-continuation-8.2.0.v20160908.jar with timestamp 1617387609806\n",
      "21/04/03 03:32:52 INFO Utils: Fetching spark://172.23.191.244:35459/jars/jetty-continuation-8.2.0.v20160908.jar to /tmp/spark-3b36f2b5-0161-4093-a4b1-a5a84b889935/userFiles-cf106a32-aa21-4539-9d94-7dd159511573/fetchFileTemp9252520528742512762.tmp\n",
      "21/04/03 03:32:52 INFO Executor: Adding file:/tmp/spark-3b36f2b5-0161-4093-a4b1-a5a84b889935/userFiles-cf106a32-aa21-4539-9d94-7dd159511573/jetty-continuation-8.2.0.v20160908.jar to class loader\n",
      "21/04/03 03:32:52 INFO Executor: Fetching spark://172.23.191.244:35459/jars/javassist-3.21.0-GA.jar with timestamp 1617387609784\n",
      "21/04/03 03:32:52 INFO Utils: Fetching spark://172.23.191.244:35459/jars/javassist-3.21.0-GA.jar to /tmp/spark-3b36f2b5-0161-4093-a4b1-a5a84b889935/userFiles-cf106a32-aa21-4539-9d94-7dd159511573/fetchFileTemp117271646111444388.tmp\n",
      "21/04/03 03:32:52 INFO Executor: Adding file:/tmp/spark-3b36f2b5-0161-4093-a4b1-a5a84b889935/userFiles-cf106a32-aa21-4539-9d94-7dd159511573/javassist-3.21.0-GA.jar to class loader\n",
      "21/04/03 03:32:52 INFO Executor: Fetching spark://172.23.191.244:35459/jars/sourcecode_2.12-0.2.3.jar with timestamp 1617387609778\n",
      "21/04/03 03:32:52 INFO Utils: Fetching spark://172.23.191.244:35459/jars/sourcecode_2.12-0.2.3.jar to /tmp/spark-3b36f2b5-0161-4093-a4b1-a5a84b889935/userFiles-cf106a32-aa21-4539-9d94-7dd159511573/fetchFileTemp12416556752810587678.tmp\n",
      "21/04/03 03:32:52 INFO Executor: Adding file:/tmp/spark-3b36f2b5-0161-4093-a4b1-a5a84b889935/userFiles-cf106a32-aa21-4539-9d94-7dd159511573/sourcecode_2.12-0.2.3.jar to class loader\n",
      "21/04/03 03:32:52 INFO Executor: Fetching spark://172.23.191.244:35459/jars/scalaparse_2.12-2.3.0-sources.jar with timestamp 1617387609769\n",
      "21/04/03 03:32:52 INFO Utils: Fetching spark://172.23.191.244:35459/jars/scalaparse_2.12-2.3.0-sources.jar to /tmp/spark-3b36f2b5-0161-4093-a4b1-a5a84b889935/userFiles-cf106a32-aa21-4539-9d94-7dd159511573/fetchFileTemp10099270027445798851.tmp\n",
      "21/04/03 03:32:52 INFO Executor: Adding file:/tmp/spark-3b36f2b5-0161-4093-a4b1-a5a84b889935/userFiles-cf106a32-aa21-4539-9d94-7dd159511573/scalaparse_2.12-2.3.0-sources.jar to class loader\n",
      "21/04/03 03:32:52 INFO Executor: Fetching spark://172.23.191.244:35459/jars/fansi_2.12-0.2.9-sources.jar with timestamp 1617387609762\n",
      "21/04/03 03:32:52 INFO Utils: Fetching spark://172.23.191.244:35459/jars/fansi_2.12-0.2.9-sources.jar to /tmp/spark-3b36f2b5-0161-4093-a4b1-a5a84b889935/userFiles-cf106a32-aa21-4539-9d94-7dd159511573/fetchFileTemp4987685052964795357.tmp\n",
      "21/04/03 03:32:52 INFO Executor: Adding file:/tmp/spark-3b36f2b5-0161-4093-a4b1-a5a84b889935/userFiles-cf106a32-aa21-4539-9d94-7dd159511573/fansi_2.12-0.2.9-sources.jar to class loader\n",
      "21/04/03 03:32:52 INFO Executor: Fetching spark://172.23.191.244:35459/jars/argonaut-shapeless_6.2_2.12-1.2.0-M9.jar with timestamp 1617387609803\n",
      "21/04/03 03:32:52 INFO Utils: Fetching spark://172.23.191.244:35459/jars/argonaut-shapeless_6.2_2.12-1.2.0-M9.jar to /tmp/spark-3b36f2b5-0161-4093-a4b1-a5a84b889935/userFiles-cf106a32-aa21-4539-9d94-7dd159511573/fetchFileTemp6741644752771742109.tmp\n",
      "21/04/03 03:32:52 INFO Executor: Adding file:/tmp/spark-3b36f2b5-0161-4093-a4b1-a5a84b889935/userFiles-cf106a32-aa21-4539-9d94-7dd159511573/argonaut-shapeless_6.2_2.12-1.2.0-M9.jar to class loader\n",
      "21/04/03 03:32:52 INFO Executor: Fetching spark://172.23.191.244:35459/jars/jupyter-api_2.12-0.11.1-sources.jar with timestamp 1617387609797\n",
      "21/04/03 03:32:52 INFO Utils: Fetching spark://172.23.191.244:35459/jars/jupyter-api_2.12-0.11.1-sources.jar to /tmp/spark-3b36f2b5-0161-4093-a4b1-a5a84b889935/userFiles-cf106a32-aa21-4539-9d94-7dd159511573/fetchFileTemp7016418419617518341.tmp\n",
      "21/04/03 03:32:52 INFO Executor: Adding file:/tmp/spark-3b36f2b5-0161-4093-a4b1-a5a84b889935/userFiles-cf106a32-aa21-4539-9d94-7dd159511573/jupyter-api_2.12-0.11.1-sources.jar to class loader\n",
      "21/04/03 03:32:52 INFO Executor: Fetching spark://172.23.191.244:35459/jars/interface-1.0.3-sources.jar with timestamp 1617387609782\n",
      "21/04/03 03:32:52 INFO Utils: Fetching spark://172.23.191.244:35459/jars/interface-1.0.3-sources.jar to /tmp/spark-3b36f2b5-0161-4093-a4b1-a5a84b889935/userFiles-cf106a32-aa21-4539-9d94-7dd159511573/fetchFileTemp8217720885668166196.tmp\n",
      "21/04/03 03:32:53 INFO Executor: Adding file:/tmp/spark-3b36f2b5-0161-4093-a4b1-a5a84b889935/userFiles-cf106a32-aa21-4539-9d94-7dd159511573/interface-1.0.3-sources.jar to class loader\n",
      "21/04/03 03:32:53 INFO Executor: Fetching spark://172.23.191.244:35459/jars/scalaparse_2.12-2.3.0.jar with timestamp 1617387609770\n",
      "21/04/03 03:32:53 INFO Utils: Fetching spark://172.23.191.244:35459/jars/scalaparse_2.12-2.3.0.jar to /tmp/spark-3b36f2b5-0161-4093-a4b1-a5a84b889935/userFiles-cf106a32-aa21-4539-9d94-7dd159511573/fetchFileTemp4584799080735667516.tmp\n",
      "21/04/03 03:32:53 INFO Executor: Adding file:/tmp/spark-3b36f2b5-0161-4093-a4b1-a5a84b889935/userFiles-cf106a32-aa21-4539-9d94-7dd159511573/scalaparse_2.12-2.3.0.jar to class loader\n",
      "21/04/03 03:32:53 INFO Executor: Fetching spark://172.23.191.244:35459/jars/scala-library-2.12.12-sources.jar with timestamp 1617387609788\n",
      "21/04/03 03:32:53 INFO Utils: Fetching spark://172.23.191.244:35459/jars/scala-library-2.12.12-sources.jar to /tmp/spark-3b36f2b5-0161-4093-a4b1-a5a84b889935/userFiles-cf106a32-aa21-4539-9d94-7dd159511573/fetchFileTemp10120469589294765777.tmp\n",
      "21/04/03 03:32:53 INFO Executor: Adding file:/tmp/spark-3b36f2b5-0161-4093-a4b1-a5a84b889935/userFiles-cf106a32-aa21-4539-9d94-7dd159511573/scala-library-2.12.12-sources.jar to class loader\n",
      "21/04/03 03:32:53 INFO Executor: Fetching spark://172.23.191.244:35459/jars/jetty-util-8.2.0.v20160908.jar with timestamp 1617387609816\n",
      "21/04/03 03:32:53 INFO Utils: Fetching spark://172.23.191.244:35459/jars/jetty-util-8.2.0.v20160908.jar to /tmp/spark-3b36f2b5-0161-4093-a4b1-a5a84b889935/userFiles-cf106a32-aa21-4539-9d94-7dd159511573/fetchFileTemp9456324380457947470.tmp\n",
      "21/04/03 03:32:53 INFO Executor: Adding file:/tmp/spark-3b36f2b5-0161-4093-a4b1-a5a84b889935/userFiles-cf106a32-aa21-4539-9d94-7dd159511573/jetty-util-8.2.0.v20160908.jar to class loader\n",
      "21/04/03 03:32:53 INFO Executor: Fetching spark://172.23.191.244:35459/jars/ammonite-interp-api_2.12.12-2.3.8-36-1cce53f3-sources.jar with timestamp 1617387609752\n",
      "21/04/03 03:32:53 INFO Utils: Fetching spark://172.23.191.244:35459/jars/ammonite-interp-api_2.12.12-2.3.8-36-1cce53f3-sources.jar to /tmp/spark-3b36f2b5-0161-4093-a4b1-a5a84b889935/userFiles-cf106a32-aa21-4539-9d94-7dd159511573/fetchFileTemp2590463219051370431.tmp\n",
      "21/04/03 03:32:53 INFO Executor: Adding file:/tmp/spark-3b36f2b5-0161-4093-a4b1-a5a84b889935/userFiles-cf106a32-aa21-4539-9d94-7dd159511573/ammonite-interp-api_2.12.12-2.3.8-36-1cce53f3-sources.jar to class loader\n",
      "21/04/03 03:32:53 INFO Executor: Fetching spark://172.23.191.244:35459/jars/ammonite-compiler-interface_2.12-2.3.8-36-1cce53f3.jar with timestamp 1617387609751\n",
      "21/04/03 03:32:53 INFO Utils: Fetching spark://172.23.191.244:35459/jars/ammonite-compiler-interface_2.12-2.3.8-36-1cce53f3.jar to /tmp/spark-3b36f2b5-0161-4093-a4b1-a5a84b889935/userFiles-cf106a32-aa21-4539-9d94-7dd159511573/fetchFileTemp7762859669158556566.tmp\n",
      "21/04/03 03:32:53 INFO Executor: Adding file:/tmp/spark-3b36f2b5-0161-4093-a4b1-a5a84b889935/userFiles-cf106a32-aa21-4539-9d94-7dd159511573/ammonite-compiler-interface_2.12-2.3.8-36-1cce53f3.jar to class loader\n",
      "21/04/03 03:32:53 INFO Executor: Fetching spark://172.23.191.244:35459/jars/javax.servlet-3.0.0.v201112011016.jar with timestamp 1617387609806\n",
      "21/04/03 03:32:53 INFO Utils: Fetching spark://172.23.191.244:35459/jars/javax.servlet-3.0.0.v201112011016.jar to /tmp/spark-3b36f2b5-0161-4093-a4b1-a5a84b889935/userFiles-cf106a32-aa21-4539-9d94-7dd159511573/fetchFileTemp10913526209154515171.tmp\n",
      "21/04/03 03:32:53 INFO Executor: Adding file:/tmp/spark-3b36f2b5-0161-4093-a4b1-a5a84b889935/userFiles-cf106a32-aa21-4539-9d94-7dd159511573/javax.servlet-3.0.0.v201112011016.jar to class loader\n",
      "21/04/03 03:32:53 INFO Executor: Fetching spark://172.23.191.244:35459/jars/macro-compat_2.12-1.1.1.jar with timestamp 1617387609813\n",
      "21/04/03 03:32:53 INFO Utils: Fetching spark://172.23.191.244:35459/jars/macro-compat_2.12-1.1.1.jar to /tmp/spark-3b36f2b5-0161-4093-a4b1-a5a84b889935/userFiles-cf106a32-aa21-4539-9d94-7dd159511573/fetchFileTemp7088711417739917134.tmp\n",
      "21/04/03 03:32:53 INFO Executor: Adding file:/tmp/spark-3b36f2b5-0161-4093-a4b1-a5a84b889935/userFiles-cf106a32-aa21-4539-9d94-7dd159511573/macro-compat_2.12-1.1.1.jar to class loader\n",
      "21/04/03 03:32:53 INFO Executor: Fetching spark://172.23.191.244:35459/jars/ammonite-compiler_2.12.12-2.3.8-36-1cce53f3-sources.jar with timestamp 1617387609751\n",
      "21/04/03 03:32:53 INFO Utils: Fetching spark://172.23.191.244:35459/jars/ammonite-compiler_2.12.12-2.3.8-36-1cce53f3-sources.jar to /tmp/spark-3b36f2b5-0161-4093-a4b1-a5a84b889935/userFiles-cf106a32-aa21-4539-9d94-7dd159511573/fetchFileTemp10977386387050910161.tmp\n",
      "21/04/03 03:32:53 INFO Executor: Adding file:/tmp/spark-3b36f2b5-0161-4093-a4b1-a5a84b889935/userFiles-cf106a32-aa21-4539-9d94-7dd159511573/ammonite-compiler_2.12.12-2.3.8-36-1cce53f3-sources.jar to class loader\n",
      "21/04/03 03:32:53 INFO Executor: Fetching spark://172.23.191.244:35459/jars/ammonite-compiler_2.12.12-2.3.8-36-1cce53f3.jar with timestamp 1617387609752\n",
      "21/04/03 03:32:53 INFO Utils: Fetching spark://172.23.191.244:35459/jars/ammonite-compiler_2.12.12-2.3.8-36-1cce53f3.jar to /tmp/spark-3b36f2b5-0161-4093-a4b1-a5a84b889935/userFiles-cf106a32-aa21-4539-9d94-7dd159511573/fetchFileTemp487531410749444094.tmp\n",
      "21/04/03 03:32:53 INFO Executor: Adding file:/tmp/spark-3b36f2b5-0161-4093-a4b1-a5a84b889935/userFiles-cf106a32-aa21-4539-9d94-7dd159511573/ammonite-compiler_2.12.12-2.3.8-36-1cce53f3.jar to class loader\n",
      "21/04/03 03:32:53 INFO Executor: Fetching spark://172.23.191.244:35459/jars/ammonite-interp-api_2.12.12-2.3.8-36-1cce53f3.jar with timestamp 1617387609753\n",
      "21/04/03 03:32:53 INFO Utils: Fetching spark://172.23.191.244:35459/jars/ammonite-interp-api_2.12.12-2.3.8-36-1cce53f3.jar to /tmp/spark-3b36f2b5-0161-4093-a4b1-a5a84b889935/userFiles-cf106a32-aa21-4539-9d94-7dd159511573/fetchFileTemp433632119774443457.tmp\n",
      "21/04/03 03:32:53 INFO Executor: Adding file:/tmp/spark-3b36f2b5-0161-4093-a4b1-a5a84b889935/userFiles-cf106a32-aa21-4539-9d94-7dd159511573/ammonite-interp-api_2.12.12-2.3.8-36-1cce53f3.jar to class loader\n",
      "21/04/03 03:32:53 INFO Executor: Fetching spark://172.23.191.244:35459/jars/jetty-server-8.2.0.v20160908.jar with timestamp 1617387609804\n",
      "21/04/03 03:32:53 INFO Utils: Fetching spark://172.23.191.244:35459/jars/jetty-server-8.2.0.v20160908.jar to /tmp/spark-3b36f2b5-0161-4093-a4b1-a5a84b889935/userFiles-cf106a32-aa21-4539-9d94-7dd159511573/fetchFileTemp12549622803058008912.tmp\n",
      "21/04/03 03:32:53 INFO Executor: Adding file:/tmp/spark-3b36f2b5-0161-4093-a4b1-a5a84b889935/userFiles-cf106a32-aa21-4539-9d94-7dd159511573/jetty-server-8.2.0.v20160908.jar to class loader\n",
      "21/04/03 03:32:53 INFO Executor: Fetching spark://172.23.191.244:35459/jars/mainargs_2.12-0.1.4-sources.jar with timestamp 1617387609766\n",
      "21/04/03 03:32:53 INFO Utils: Fetching spark://172.23.191.244:35459/jars/mainargs_2.12-0.1.4-sources.jar to /tmp/spark-3b36f2b5-0161-4093-a4b1-a5a84b889935/userFiles-cf106a32-aa21-4539-9d94-7dd159511573/fetchFileTemp6926739892588649463.tmp\n",
      "21/04/03 03:32:53 INFO Executor: Adding file:/tmp/spark-3b36f2b5-0161-4093-a4b1-a5a84b889935/userFiles-cf106a32-aa21-4539-9d94-7dd159511573/mainargs_2.12-0.1.4-sources.jar to class loader\n",
      "21/04/03 03:32:53 INFO Executor: Fetching spark://172.23.191.244:35459/jars/scala-reflect-2.12.12-sources.jar with timestamp 1617387609789\n",
      "21/04/03 03:32:53 INFO Utils: Fetching spark://172.23.191.244:35459/jars/scala-reflect-2.12.12-sources.jar to /tmp/spark-3b36f2b5-0161-4093-a4b1-a5a84b889935/userFiles-cf106a32-aa21-4539-9d94-7dd159511573/fetchFileTemp14832195104093149087.tmp\n",
      "21/04/03 03:32:53 INFO Executor: Adding file:/tmp/spark-3b36f2b5-0161-4093-a4b1-a5a84b889935/userFiles-cf106a32-aa21-4539-9d94-7dd159511573/scala-reflect-2.12.12-sources.jar to class loader\n",
      "21/04/03 03:32:53 INFO Executor: Fetching spark://172.23.191.244:35459/jars/ammonite-compiler-interface_2.12-2.3.8-36-1cce53f3-sources.jar with timestamp 1617387609750\n",
      "21/04/03 03:32:53 INFO Utils: Fetching spark://172.23.191.244:35459/jars/ammonite-compiler-interface_2.12-2.3.8-36-1cce53f3-sources.jar to /tmp/spark-3b36f2b5-0161-4093-a4b1-a5a84b889935/userFiles-cf106a32-aa21-4539-9d94-7dd159511573/fetchFileTemp16010440248067953471.tmp\n",
      "21/04/03 03:32:53 INFO Executor: Adding file:/tmp/spark-3b36f2b5-0161-4093-a4b1-a5a84b889935/userFiles-cf106a32-aa21-4539-9d94-7dd159511573/ammonite-compiler-interface_2.12-2.3.8-36-1cce53f3-sources.jar to class loader\n",
      "21/04/03 03:32:53 INFO Executor: Fetching spark://172.23.191.244:35459/jars/shapeless_2.12-2.3.3.jar with timestamp 1617387609805\n",
      "21/04/03 03:32:53 INFO Utils: Fetching spark://172.23.191.244:35459/jars/shapeless_2.12-2.3.3.jar to /tmp/spark-3b36f2b5-0161-4093-a4b1-a5a84b889935/userFiles-cf106a32-aa21-4539-9d94-7dd159511573/fetchFileTemp3326963897230378529.tmp\n",
      "21/04/03 03:32:53 INFO Executor: Adding file:/tmp/spark-3b36f2b5-0161-4093-a4b1-a5a84b889935/userFiles-cf106a32-aa21-4539-9d94-7dd159511573/shapeless_2.12-2.3.3.jar to class loader\n",
      "21/04/03 03:32:53 INFO Executor: Fetching spark://172.23.191.244:35459/jars/scala-kernel-api_2.12.12-0.11.1-sources.jar with timestamp 1617387609799\n",
      "21/04/03 03:32:53 INFO Utils: Fetching spark://172.23.191.244:35459/jars/scala-kernel-api_2.12.12-0.11.1-sources.jar to /tmp/spark-3b36f2b5-0161-4093-a4b1-a5a84b889935/userFiles-cf106a32-aa21-4539-9d94-7dd159511573/fetchFileTemp13760902941070049532.tmp\n",
      "21/04/03 03:32:53 INFO Executor: Adding file:/tmp/spark-3b36f2b5-0161-4093-a4b1-a5a84b889935/userFiles-cf106a32-aa21-4539-9d94-7dd159511573/scala-kernel-api_2.12.12-0.11.1-sources.jar to class loader\n",
      "21/04/03 03:32:53 INFO Executor: Fetching spark://172.23.191.244:35459/jars/pprint_2.12-0.6.0.jar with timestamp 1617387609769\n",
      "21/04/03 03:32:53 INFO Utils: Fetching spark://172.23.191.244:35459/jars/pprint_2.12-0.6.0.jar to /tmp/spark-3b36f2b5-0161-4093-a4b1-a5a84b889935/userFiles-cf106a32-aa21-4539-9d94-7dd159511573/fetchFileTemp9998863476126330687.tmp\n",
      "21/04/03 03:32:53 INFO Executor: Adding file:/tmp/spark-3b36f2b5-0161-4093-a4b1-a5a84b889935/userFiles-cf106a32-aa21-4539-9d94-7dd159511573/pprint_2.12-0.6.0.jar to class loader\n",
      "21/04/03 03:32:53 INFO Executor: Fetching spark://172.23.191.244:35459/jars/argonaut_2.12-6.2.2.jar with timestamp 1617387609804\n",
      "21/04/03 03:32:53 INFO Utils: Fetching spark://172.23.191.244:35459/jars/argonaut_2.12-6.2.2.jar to /tmp/spark-3b36f2b5-0161-4093-a4b1-a5a84b889935/userFiles-cf106a32-aa21-4539-9d94-7dd159511573/fetchFileTemp6228208948654336041.tmp\n",
      "21/04/03 03:32:53 INFO Executor: Adding file:/tmp/spark-3b36f2b5-0161-4093-a4b1-a5a84b889935/userFiles-cf106a32-aa21-4539-9d94-7dd159511573/argonaut_2.12-6.2.2.jar to class loader\n",
      "21/04/03 03:32:53 INFO Executor: Fetching spark://172.23.191.244:35459/jars/javassist-3.21.0-GA-sources.jar with timestamp 1617387609783\n",
      "21/04/03 03:32:53 INFO Utils: Fetching spark://172.23.191.244:35459/jars/javassist-3.21.0-GA-sources.jar to /tmp/spark-3b36f2b5-0161-4093-a4b1-a5a84b889935/userFiles-cf106a32-aa21-4539-9d94-7dd159511573/fetchFileTemp10506983753195988257.tmp\n",
      "21/04/03 03:32:53 INFO Executor: Adding file:/tmp/spark-3b36f2b5-0161-4093-a4b1-a5a84b889935/userFiles-cf106a32-aa21-4539-9d94-7dd159511573/javassist-3.21.0-GA-sources.jar to class loader\n",
      "21/04/03 03:32:53 INFO Executor: Fetching spark://172.23.191.244:35459/jars/ammonite-repl-api_2.12.12-2.3.8-36-1cce53f3-sources.jar with timestamp 1617387609754\n",
      "21/04/03 03:32:53 INFO Utils: Fetching spark://172.23.191.244:35459/jars/ammonite-repl-api_2.12.12-2.3.8-36-1cce53f3-sources.jar to /tmp/spark-3b36f2b5-0161-4093-a4b1-a5a84b889935/userFiles-cf106a32-aa21-4539-9d94-7dd159511573/fetchFileTemp2385103844254457623.tmp\n",
      "21/04/03 03:32:53 INFO Executor: Adding file:/tmp/spark-3b36f2b5-0161-4093-a4b1-a5a84b889935/userFiles-cf106a32-aa21-4539-9d94-7dd159511573/ammonite-repl-api_2.12.12-2.3.8-36-1cce53f3-sources.jar to class loader\n",
      "21/04/03 03:32:53 INFO Executor: Fetching spark://172.23.191.244:35459/jars/ammonite-util_2.12-2.3.8-36-1cce53f3.jar with timestamp 1617387609757\n",
      "21/04/03 03:32:53 INFO Utils: Fetching spark://172.23.191.244:35459/jars/ammonite-util_2.12-2.3.8-36-1cce53f3.jar to /tmp/spark-3b36f2b5-0161-4093-a4b1-a5a84b889935/userFiles-cf106a32-aa21-4539-9d94-7dd159511573/fetchFileTemp16381293775770114775.tmp\n",
      "21/04/03 03:32:53 INFO Executor: Adding file:/tmp/spark-3b36f2b5-0161-4093-a4b1-a5a84b889935/userFiles-cf106a32-aa21-4539-9d94-7dd159511573/ammonite-util_2.12-2.3.8-36-1cce53f3.jar to class loader\n",
      "21/04/03 03:32:53 INFO Executor: Fetching spark://172.23.191.244:35459/jars/jetty-io-8.2.0.v20160908.jar with timestamp 1617387609815\n",
      "21/04/03 03:32:53 INFO Utils: Fetching spark://172.23.191.244:35459/jars/jetty-io-8.2.0.v20160908.jar to /tmp/spark-3b36f2b5-0161-4093-a4b1-a5a84b889935/userFiles-cf106a32-aa21-4539-9d94-7dd159511573/fetchFileTemp12908998135381262785.tmp\n",
      "21/04/03 03:32:53 INFO Executor: Adding file:/tmp/spark-3b36f2b5-0161-4093-a4b1-a5a84b889935/userFiles-cf106a32-aa21-4539-9d94-7dd159511573/jetty-io-8.2.0.v20160908.jar to class loader\n",
      "21/04/03 03:32:53 INFO Executor: Finished task 0.0 in stage 0.0 (TID 0). 1060 bytes result sent to driver\n",
      "21/04/03 03:32:53 INFO TaskSetManager: Finished task 0.0 in stage 0.0 (TID 0) in 2613 ms on localhost (executor driver) (1/1)\n",
      "21/04/03 03:32:53 INFO TaskSchedulerImpl: Removed TaskSet 0.0, whose tasks have all completed, from pool \n",
      "21/04/03 03:32:53 INFO DAGScheduler: ResultStage 0 (show at cmd30.sc:2) finished in 3.129 s\n",
      "21/04/03 03:32:53 INFO DAGScheduler: Job 0 finished: show at cmd30.sc:2, took 3.241336 s\n",
      "21/04/03 03:32:53 INFO SparkContext: Starting job: show at cmd30.sc:2\n",
      "21/04/03 03:32:53 INFO DAGScheduler: Got job 1 (show at cmd30.sc:2) with 4 output partitions\n",
      "21/04/03 03:32:53 INFO DAGScheduler: Final stage: ResultStage 1 (show at cmd30.sc:2)\n",
      "21/04/03 03:32:53 INFO DAGScheduler: Parents of final stage: List()\n",
      "21/04/03 03:32:53 INFO DAGScheduler: Missing parents: List()\n",
      "21/04/03 03:32:53 INFO DAGScheduler: Submitting ResultStage 1 (MapPartitionsRDD[10] at show at cmd30.sc:2), which has no missing parents\n"
     ]
    },
    {
     "data": {
      "text/html": [
       "<div>\n",
       "  <span style=\"float: left;\">show at cmd30.sc:2</span>\n",
       "</div>\n"
      ]
     },
     "metadata": {},
     "output_type": "display_data"
    },
    {
     "data": {
      "text/html": [
       "<div class=\"progress\">\n",
       "  <div class=\"progress-bar\" role=\"progressbar\" style=\"background-color: blue; width: 100%; word-wrap: normal; white-space: nowrap; text-align: center; color: white\" aria-valuenow=\"100\" aria-valuemin=\"0\" aria-valuemax=\"100\">\n",
       "    4 / 4\n",
       "  </div>\n",
       "  <div class=\"progress-bar\" role=\"progressbar\" style=\"background-color: red; width: 0%\" aria-valuenow=\"0\" aria-valuemin=\"0\" aria-valuemax=\"100\"></div>\n",
       "</div>\n"
      ]
     },
     "metadata": {},
     "output_type": "display_data"
    },
    {
     "data": {
      "text/html": [
       "<div>\n",
       "  <span style=\"float: left;\">show at cmd30.sc:2</span>\n",
       "</div>\n"
      ]
     },
     "metadata": {},
     "output_type": "display_data"
    },
    {
     "data": {
      "text/html": [
       "<div class=\"progress\">\n",
       "  <div class=\"progress-bar\" role=\"progressbar\" style=\"background-color: blue; width: 100%; word-wrap: normal; white-space: nowrap; text-align: center; color: white\" aria-valuenow=\"100\" aria-valuemin=\"0\" aria-valuemax=\"100\">\n",
       "    4 / 4\n",
       "  </div>\n",
       "  <div class=\"progress-bar\" role=\"progressbar\" style=\"background-color: red; width: 0%\" aria-valuenow=\"0\" aria-valuemin=\"0\" aria-valuemax=\"100\"></div>\n",
       "</div>\n"
      ]
     },
     "metadata": {},
     "output_type": "display_data"
    },
    {
     "data": {
      "text/html": [
       "<div>\n",
       "  <span style=\"float: left;\">show at cmd30.sc:2</span>\n",
       "</div>\n"
      ]
     },
     "metadata": {},
     "output_type": "display_data"
    },
    {
     "data": {
      "text/html": [
       "<div class=\"progress\">\n",
       "  <div class=\"progress-bar\" role=\"progressbar\" style=\"background-color: blue; width: 100%; word-wrap: normal; white-space: nowrap; text-align: center; color: white\" aria-valuenow=\"100\" aria-valuemin=\"0\" aria-valuemax=\"100\">\n",
       "    4 / 4\n",
       "  </div>\n",
       "  <div class=\"progress-bar\" role=\"progressbar\" style=\"background-color: red; width: 0%\" aria-valuenow=\"0\" aria-valuemin=\"0\" aria-valuemax=\"100\"></div>\n",
       "</div>\n"
      ]
     },
     "metadata": {},
     "output_type": "display_data"
    },
    {
     "data": {
      "text/html": [
       "<div>\n",
       "  <span style=\"float: left;\">show at cmd30.sc:2</span>\n",
       "</div>\n"
      ]
     },
     "metadata": {},
     "output_type": "display_data"
    },
    {
     "data": {
      "text/html": [
       "<div class=\"progress\">\n",
       "  <div class=\"progress-bar\" role=\"progressbar\" style=\"background-color: blue; width: 100%; word-wrap: normal; white-space: nowrap; text-align: center; color: white\" aria-valuenow=\"100\" aria-valuemin=\"0\" aria-valuemax=\"100\">\n",
       "    4 / 4\n",
       "  </div>\n",
       "  <div class=\"progress-bar\" role=\"progressbar\" style=\"background-color: red; width: 0%\" aria-valuenow=\"0\" aria-valuemin=\"0\" aria-valuemax=\"100\"></div>\n",
       "</div>\n"
      ]
     },
     "metadata": {},
     "output_type": "display_data"
    },
    {
     "name": "stderr",
     "output_type": "stream",
     "text": [
      "21/04/03 03:32:53 INFO MemoryStore: Block broadcast_1 stored as values in memory (estimated size 21.6 KB, free 1719.6 MB)\n",
      "21/04/03 03:32:53 INFO MemoryStore: Block broadcast_1_piece0 stored as bytes in memory (estimated size 6.8 KB, free 1719.5 MB)\n",
      "21/04/03 03:32:53 INFO BlockManagerInfo: Added broadcast_1_piece0 in memory on 172.23.191.244:37033 (size: 6.8 KB, free: 1719.6 MB)\n",
      "21/04/03 03:32:53 INFO SparkContext: Created broadcast 1 from broadcast at DAGScheduler.scala:1161\n",
      "21/04/03 03:32:53 INFO DAGScheduler: Submitting 4 missing tasks from ResultStage 1 (MapPartitionsRDD[10] at show at cmd30.sc:2) (first 15 tasks are for partitions Vector(1, 2, 3, 4))\n",
      "21/04/03 03:32:53 INFO TaskSchedulerImpl: Adding task set 1.0 with 4 tasks\n",
      "21/04/03 03:32:53 INFO TaskSetManager: Starting task 0.0 in stage 1.0 (TID 1, localhost, executor driver, partition 1, PROCESS_LOCAL, 7315 bytes)\n",
      "21/04/03 03:32:53 INFO TaskSetManager: Starting task 1.0 in stage 1.0 (TID 2, localhost, executor driver, partition 2, PROCESS_LOCAL, 7315 bytes)\n",
      "21/04/03 03:32:53 INFO TaskSetManager: Starting task 2.0 in stage 1.0 (TID 3, localhost, executor driver, partition 3, PROCESS_LOCAL, 7918 bytes)\n",
      "21/04/03 03:32:53 INFO TaskSetManager: Starting task 3.0 in stage 1.0 (TID 4, localhost, executor driver, partition 4, PROCESS_LOCAL, 7315 bytes)\n",
      "21/04/03 03:32:53 INFO Executor: Running task 0.0 in stage 1.0 (TID 1)\n",
      "21/04/03 03:32:53 INFO Executor: Running task 2.0 in stage 1.0 (TID 3)\n",
      "21/04/03 03:32:53 INFO Executor: Running task 3.0 in stage 1.0 (TID 4)\n",
      "21/04/03 03:32:53 INFO Executor: Running task 1.0 in stage 1.0 (TID 2)\n",
      "21/04/03 03:32:53 INFO Executor: Finished task 0.0 in stage 1.0 (TID 1). 1103 bytes result sent to driver\n",
      "21/04/03 03:32:53 INFO Executor: Finished task 1.0 in stage 1.0 (TID 2). 1060 bytes result sent to driver\n",
      "21/04/03 03:32:53 INFO Executor: Finished task 3.0 in stage 1.0 (TID 4). 1060 bytes result sent to driver\n",
      "21/04/03 03:32:53 INFO Executor: Finished task 2.0 in stage 1.0 (TID 3). 1126 bytes result sent to driver\n",
      "21/04/03 03:32:53 INFO TaskSetManager: Finished task 2.0 in stage 1.0 (TID 3) in 79 ms on localhost (executor driver) (1/4)\n",
      "21/04/03 03:32:53 INFO TaskSetManager: Finished task 0.0 in stage 1.0 (TID 1) in 84 ms on localhost (executor driver) (2/4)\n",
      "21/04/03 03:32:53 INFO TaskSetManager: Finished task 3.0 in stage 1.0 (TID 4) in 69 ms on localhost (executor driver) (3/4)\n",
      "21/04/03 03:32:53 INFO TaskSetManager: Finished task 1.0 in stage 1.0 (TID 2) in 86 ms on localhost (executor driver) (4/4)\n",
      "21/04/03 03:32:53 INFO TaskSchedulerImpl: Removed TaskSet 1.0, whose tasks have all completed, from pool \n",
      "21/04/03 03:32:53 INFO DAGScheduler: ResultStage 1 (show at cmd30.sc:2) finished in 0.118 s\n",
      "21/04/03 03:32:53 INFO DAGScheduler: Job 1 finished: show at cmd30.sc:2, took 0.127259 s\n",
      "21/04/03 03:32:53 INFO SparkContext: Starting job: show at cmd30.sc:2\n",
      "21/04/03 03:32:54 INFO DAGScheduler: Got job 2 (show at cmd30.sc:2) with 3 output partitions\n",
      "21/04/03 03:32:54 INFO DAGScheduler: Final stage: ResultStage 2 (show at cmd30.sc:2)\n",
      "21/04/03 03:32:54 INFO DAGScheduler: Parents of final stage: List()\n",
      "21/04/03 03:32:54 INFO DAGScheduler: Missing parents: List()\n",
      "21/04/03 03:32:54 INFO DAGScheduler: Submitting ResultStage 2 (MapPartitionsRDD[10] at show at cmd30.sc:2), which has no missing parents\n"
     ]
    },
    {
     "data": {
      "text/html": [
       "<div>\n",
       "  <span style=\"float: left;\">show at cmd30.sc:2</span>\n",
       "</div>\n"
      ]
     },
     "metadata": {},
     "output_type": "display_data"
    },
    {
     "data": {
      "text/html": [
       "<div class=\"progress\">\n",
       "  <div class=\"progress-bar\" role=\"progressbar\" style=\"background-color: blue; width: 100%; word-wrap: normal; white-space: nowrap; text-align: center; color: white\" aria-valuenow=\"100\" aria-valuemin=\"0\" aria-valuemax=\"100\">\n",
       "    3 / 3\n",
       "  </div>\n",
       "  <div class=\"progress-bar\" role=\"progressbar\" style=\"background-color: red; width: 0%\" aria-valuenow=\"0\" aria-valuemin=\"0\" aria-valuemax=\"100\"></div>\n",
       "</div>\n"
      ]
     },
     "metadata": {},
     "output_type": "display_data"
    },
    {
     "data": {
      "text/html": [
       "<div>\n",
       "  <span style=\"float: left;\">show at cmd30.sc:2</span>\n",
       "</div>\n"
      ]
     },
     "metadata": {},
     "output_type": "display_data"
    },
    {
     "data": {
      "text/html": [
       "<div class=\"progress\">\n",
       "  <div class=\"progress-bar\" role=\"progressbar\" style=\"background-color: blue; width: 100%; word-wrap: normal; white-space: nowrap; text-align: center; color: white\" aria-valuenow=\"100\" aria-valuemin=\"0\" aria-valuemax=\"100\">\n",
       "    3 / 3\n",
       "  </div>\n",
       "  <div class=\"progress-bar\" role=\"progressbar\" style=\"background-color: red; width: 0%\" aria-valuenow=\"0\" aria-valuemin=\"0\" aria-valuemax=\"100\"></div>\n",
       "</div>\n"
      ]
     },
     "metadata": {},
     "output_type": "display_data"
    },
    {
     "data": {
      "text/html": [
       "<div>\n",
       "  <span style=\"float: left;\">show at cmd30.sc:2</span>\n",
       "</div>\n"
      ]
     },
     "metadata": {},
     "output_type": "display_data"
    },
    {
     "data": {
      "text/html": [
       "<div class=\"progress\">\n",
       "  <div class=\"progress-bar\" role=\"progressbar\" style=\"background-color: blue; width: 100%; word-wrap: normal; white-space: nowrap; text-align: center; color: white\" aria-valuenow=\"100\" aria-valuemin=\"0\" aria-valuemax=\"100\">\n",
       "    3 / 3\n",
       "  </div>\n",
       "  <div class=\"progress-bar\" role=\"progressbar\" style=\"background-color: red; width: 0%\" aria-valuenow=\"0\" aria-valuemin=\"0\" aria-valuemax=\"100\"></div>\n",
       "</div>\n"
      ]
     },
     "metadata": {},
     "output_type": "display_data"
    },
    {
     "data": {
      "text/html": [
       "<div>\n",
       "  <span style=\"float: left;\">show at cmd30.sc:2</span>\n",
       "</div>\n"
      ]
     },
     "metadata": {},
     "output_type": "display_data"
    },
    {
     "data": {
      "text/html": [
       "<div class=\"progress\">\n",
       "  <div class=\"progress-bar\" role=\"progressbar\" style=\"background-color: blue; width: 100%; word-wrap: normal; white-space: nowrap; text-align: center; color: white\" aria-valuenow=\"100\" aria-valuemin=\"0\" aria-valuemax=\"100\">\n",
       "    3 / 3\n",
       "  </div>\n",
       "  <div class=\"progress-bar\" role=\"progressbar\" style=\"background-color: red; width: 0%\" aria-valuenow=\"0\" aria-valuemin=\"0\" aria-valuemax=\"100\"></div>\n",
       "</div>\n"
      ]
     },
     "metadata": {},
     "output_type": "display_data"
    },
    {
     "name": "stderr",
     "output_type": "stream",
     "text": [
      "21/04/03 03:32:54 INFO MemoryStore: Block broadcast_2 stored as values in memory (estimated size 21.6 KB, free 1719.5 MB)\n",
      "21/04/03 03:32:54 INFO MemoryStore: Block broadcast_2_piece0 stored as bytes in memory (estimated size 6.8 KB, free 1719.5 MB)\n",
      "21/04/03 03:32:54 INFO BlockManagerInfo: Added broadcast_2_piece0 in memory on 172.23.191.244:37033 (size: 6.8 KB, free: 1719.6 MB)\n",
      "21/04/03 03:32:54 INFO SparkContext: Created broadcast 2 from broadcast at DAGScheduler.scala:1161\n",
      "21/04/03 03:32:54 INFO DAGScheduler: Submitting 3 missing tasks from ResultStage 2 (MapPartitionsRDD[10] at show at cmd30.sc:2) (first 15 tasks are for partitions Vector(5, 6, 7))\n",
      "21/04/03 03:32:54 INFO TaskSchedulerImpl: Adding task set 2.0 with 3 tasks\n",
      "21/04/03 03:32:54 INFO TaskSetManager: Starting task 0.0 in stage 2.0 (TID 5, localhost, executor driver, partition 5, PROCESS_LOCAL, 7315 bytes)\n",
      "21/04/03 03:32:54 INFO TaskSetManager: Starting task 1.0 in stage 2.0 (TID 6, localhost, executor driver, partition 6, PROCESS_LOCAL, 7315 bytes)\n",
      "21/04/03 03:32:54 INFO TaskSetManager: Starting task 2.0 in stage 2.0 (TID 7, localhost, executor driver, partition 7, PROCESS_LOCAL, 7918 bytes)\n",
      "21/04/03 03:32:54 INFO Executor: Running task 0.0 in stage 2.0 (TID 5)\n",
      "21/04/03 03:32:54 INFO Executor: Running task 1.0 in stage 2.0 (TID 6)\n",
      "21/04/03 03:32:54 INFO Executor: Running task 2.0 in stage 2.0 (TID 7)\n",
      "21/04/03 03:32:54 INFO Executor: Finished task 2.0 in stage 2.0 (TID 7). 1172 bytes result sent to driver\n",
      "21/04/03 03:32:54 INFO Executor: Finished task 1.0 in stage 2.0 (TID 6). 1060 bytes result sent to driver\n",
      "21/04/03 03:32:54 INFO TaskSetManager: Finished task 2.0 in stage 2.0 (TID 7) in 33 ms on localhost (executor driver) (1/3)\n",
      "21/04/03 03:32:54 INFO TaskSetManager: Finished task 1.0 in stage 2.0 (TID 6) in 38 ms on localhost (executor driver) (2/3)\n",
      "21/04/03 03:32:54 INFO Executor: Finished task 0.0 in stage 2.0 (TID 5). 1060 bytes result sent to driver\n",
      "21/04/03 03:32:54 INFO TaskSetManager: Finished task 0.0 in stage 2.0 (TID 5) in 48 ms on localhost (executor driver) (3/3)\n",
      "21/04/03 03:32:54 INFO TaskSchedulerImpl: Removed TaskSet 2.0, whose tasks have all completed, from pool \n",
      "21/04/03 03:32:54 INFO DAGScheduler: ResultStage 2 (show at cmd30.sc:2) finished in 0.108 s\n",
      "21/04/03 03:32:54 INFO DAGScheduler: Job 2 finished: show at cmd30.sc:2, took 0.119272 s\n"
     ]
    },
    {
     "name": "stdout",
     "output_type": "stream",
     "text": [
      "+--------+-----------+---------------------+\n",
      "|language|users_count|extremely_long_string|\n",
      "+--------+-----------+---------------------+\n",
      "|[java]  |[20000]    |[short text]         |\n",
      "|[python]|[1000000]  |[medium text]        |\n",
      "+--------+-----------+---------------------+\n",
      "\n"
     ]
    },
    {
     "data": {
      "text/plain": [
       "\u001b[36mdf\u001b[39m: \u001b[32mDataFrame\u001b[39m = [language: struct<value: string>, users_count: struct<value: string> ... 1 more field]"
      ]
     },
     "execution_count": 31,
     "metadata": {},
     "output_type": "execute_result"
    }
   ],
   "source": [
    "val df = spark.createDataFrame(rdd).toDF(columns:_*)\n",
    "df.show(false)"
   ]
  },
  {
   "cell_type": "code",
   "execution_count": null,
   "id": "e989ca98",
   "metadata": {},
   "outputs": [],
   "source": []
  }
 ],
 "metadata": {
  "kernelspec": {
   "display_name": "Scala (2.12)",
   "language": "scala",
   "name": "scala212"
  },
  "language_info": {
   "codemirror_mode": "text/x-scala",
   "file_extension": ".sc",
   "mimetype": "text/x-scala",
   "name": "scala",
   "nbconvert_exporter": "script",
   "version": "2.12.12"
  }
 },
 "nbformat": 4,
 "nbformat_minor": 5
}
